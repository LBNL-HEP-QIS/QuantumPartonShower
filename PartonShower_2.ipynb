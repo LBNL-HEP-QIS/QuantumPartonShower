{
 "cells": [
  {
   "cell_type": "code",
   "execution_count": 1,
   "metadata": {},
   "outputs": [],
   "source": [
    "import numpy as np\n",
    "import math\n",
    "from qiskit import QuantumCircuit, QuantumRegister, execute, Aer, ClassicalRegister\n",
    "from qiskit.providers.aer import QasmSimulator\n",
    "import qiskit_create_circ as qcc\n",
    "from qiskit.providers.ibmq.job import job_monitor\n",
    "\n",
    "import cirq\n",
    "import create_circuit as cc\n",
    "from cirq import GridQubit, X, CNOT, TOFFOLI, ry\n",
    "from cirq import Simulator\n",
    "early = cirq.InsertStrategy.EARLIEST\n",
    "new = cirq.InsertStrategy.NEW_THEN_INLINE"
   ]
  },
  {
   "cell_type": "markdown",
   "metadata": {},
   "source": [
    "# Parton Shower"
   ]
  },
  {
   "cell_type": "markdown",
   "metadata": {},
   "source": [
    "link to paper: https://arxiv.org/pdf/1904.03196.pdf"
   ]
  },
  {
   "cell_type": "markdown",
   "metadata": {},
   "source": [
    "# Indexing"
   ]
  },
  {
   "cell_type": "markdown",
   "metadata": {},
   "source": [
    "Documentation for Cirq grid qubits - https://quantumai.google/reference/python/cirq/devices/GridQubit"
   ]
  },
  {
   "cell_type": "markdown",
   "metadata": {},
   "source": [
    "**Explaination of my register indexing**\n",
    "\n",
    "*Note: If there are any bugs in the code I would recommend checking indexing first*\n",
    "\n",
    "When comparing the parton shower algorithm in Qiskit v.s. Cirq, we see that the quantum registers in Cirq use Grid qubits. Grid Qubits represent a 2 dimensional square lattice and are 2D arrays with the elements being qubits. For example the $|p \\rangle $ register in Cirq for 1 step and 1 particle is in the following form <br>\n",
    "[[cirq.GridQubit(0, 0), cirq.GridQubit(0, 1), cirq.GridQubit(0, 2)], <br>\n",
    "[cirq.GridQubit(1, 0), cirq.GridQubit(1, 1), cirq.GridQubit(1, 2)], <br>\n",
    "[cirq.GridQubit(2, 0), cirq.GridQubit(2, 1), cirq.GridQubit(2, 2)]]\n",
    "\n",
    "However, Qiskit does not have a grid qubit register equivalent. The registers are their QuantumRegister objects and can be thought of linearly. So we need to create a mapping between the two. <br>\n",
    "Let $gr$ be the grid qubit register and $lr$ be the linear qubit register\n",
    "\n",
    "$gr = \\begin{bmatrix} q_1 & q_2 & ... & q_m \\\\ \\\\ & \\ddots & \\\\ \\\\ q_{m^2 - m} & q_{m^2 - m + 1} & ... & q_n \\end{bmatrix}$ <br> \n",
    "\n",
    "and \n",
    "\n",
    "$lr = \\begin{bmatrix} q_1 \\\\ q_2 \\\\ .\\\\.\\\\. \\\\ q_n  \\end{bmatrix}$ <br>\n",
    "\n",
    "Here the length of each sub array is m and the total number of qubits is n. \n",
    "\n",
    "Then we need $gr \\mapsto lr$\n",
    " \n",
    "Now say the Cirq code is using qubit $gr[i][j] = q_k$. Then to get qubit $q_k$ in the qiskit code we need to do $gr[i*m + j]$, which then gives us the desired qubit in the Qiskit code $q_k$\n"
   ]
  },
  {
   "cell_type": "markdown",
   "metadata": {},
   "source": [
    "# Resetting and Remeasuring using Qiskit"
   ]
  },
  {
   "cell_type": "markdown",
   "metadata": {},
   "source": [
    "Documentation (from IBM):<br>\n",
    "https://quantum-computing.ibm.com/lab/docs/iql/manage/systems/reset/backend_reset <br>\n",
    "https://qiskit.org/documentation/stubs/qiskit.circuit.Reset.html"
   ]
  },
  {
   "cell_type": "code",
   "execution_count": 2,
   "metadata": {},
   "outputs": [
    {
     "name": "stdout",
     "output_type": "stream",
     "text": [
      "\r",
      "Job Status: job has successfully run\n",
      "{'000010': 541, '000011': 483}\n"
     ]
    },
    {
     "data": {
      "text/html": [
       "<pre style=\"word-wrap: normal;white-space: pre;background: #fff0;line-height: 1.1;font-family: &quot;Courier New&quot;,Courier,monospace\">     ┌───┐               ┌─┐          ┌─┐   \n",
       "q_0: ┤ H ├──■────────────┤M├─|0>──────┤M├───\n",
       "     ├───┤  │       ┌───┐└╥┘ ┌─┐      └╥┘┌─┐\n",
       "q_1: ┤ H ├──┼───|0>─┤ X ├─╫──┤M├──|0>──╫─┤M├\n",
       "     ├───┤┌─┴─┐     └───┘ ║  └╥┘       ║ └╥┘\n",
       "q_2: ┤ H ├┤ X ├───────────╫───╫────────╫──╫─\n",
       "     └───┘└───┘           ║   ║        ║  ║ \n",
       "c: 6/═════════════════════╩═══╩════════╩══╩═\n",
       "                          0   1        2  3 </pre>"
      ],
      "text/plain": [
       "     ┌───┐               ┌─┐          ┌─┐   \n",
       "q_0: ┤ H ├──■────────────┤M├─|0>──────┤M├───\n",
       "     ├───┤  │       ┌───┐└╥┘ ┌─┐      └╥┘┌─┐\n",
       "q_1: ┤ H ├──┼───|0>─┤ X ├─╫──┤M├──|0>──╫─┤M├\n",
       "     ├───┤┌─┴─┐     └───┘ ║  └╥┘       ║ └╥┘\n",
       "q_2: ┤ H ├┤ X ├───────────╫───╫────────╫──╫─\n",
       "     └───┘└───┘           ║   ║        ║  ║ \n",
       "c: 6/═════════════════════╩═══╩════════╩══╩═\n",
       "                          0   1        2  3 "
      ]
     },
     "execution_count": 2,
     "metadata": {},
     "output_type": "execute_result"
    }
   ],
   "source": [
    "#toy example\n",
    "backend = Aer.get_backend('qasm_simulator')\n",
    "\n",
    "qc = QuantumCircuit(3, 6)\n",
    "qc.h(0)\n",
    "qc.h(1)\n",
    "qc.h(2)\n",
    "qc.cx(0, 2)\n",
    "qc.reset([1])\n",
    "qc.x(1)\n",
    "qc.measure(range(2), range(2))\n",
    "qc.reset([0])\n",
    "qc.reset([1])\n",
    "qc.measure(range(2), range(2,4))\n",
    "\n",
    "\n",
    "\n",
    "circs0 = [qc]\n",
    "job = execute(circs0, backend)\n",
    "result = job.result()\n",
    "job_monitor(job)\n",
    "\n",
    "counts = result.get_counts(qc)\n",
    "print(counts)\n",
    "\n",
    "qc.draw()"
   ]
  },
  {
   "cell_type": "markdown",
   "metadata": {},
   "source": [
    "# Using class - QuantumPartonShower"
   ]
  },
  {
   "cell_type": "markdown",
   "metadata": {},
   "source": [
    "Note: I created QuantumPartonShower.py, which does the same thing as qiskit_create_circ.py except the former is a class and the latter just a script."
   ]
  },
  {
   "cell_type": "code",
   "execution_count": 3,
   "metadata": {},
   "outputs": [],
   "source": [
    "from QuantumPartonShower import QuantumPartonShower as qpc"
   ]
  },
  {
   "cell_type": "code",
   "execution_count": 4,
   "metadata": {},
   "outputs": [],
   "source": [
    "g_1, g_2, g_12 = 2, 1, 0\n",
    "eps = .001\n",
    "reps = 1000"
   ]
  },
  {
   "cell_type": "code",
   "execution_count": 5,
   "metadata": {},
   "outputs": [],
   "source": [
    "oneN_oneF = qpc(1, 1, 0)"
   ]
  },
  {
   "cell_type": "code",
   "execution_count": 6,
   "metadata": {},
   "outputs": [
    {
     "name": "stdout",
     "output_type": "stream",
     "text": [
      "k:  0\n",
      "generated circuit on 11 qubits\n"
     ]
    },
    {
     "data": {
      "text/plain": [
       "(<qiskit.circuit.quantumcircuit.QuantumCircuit at 0x1a27a32850>,\n",
       " {'pReg': QuantumRegister(6, 'q5'),\n",
       "  'hReg': QuantumRegister(1, 'q6'),\n",
       "  'w_hReg': QuantumRegister(1, 'q7'),\n",
       "  'eReg': QuantumRegister(1, 'q8'),\n",
       "  'wReg': QuantumRegister(5, 'q9'),\n",
       "  'n_aReg': QuantumRegister(2, 'q10'),\n",
       "  'w_aReg': QuantumRegister(2, 'q11'),\n",
       "  'n_bReg': QuantumRegister(2, 'q12'),\n",
       "  'w_bReg': QuantumRegister(2, 'q13'),\n",
       "  'n_phiReg': QuantumRegister(2, 'q14'),\n",
       "  'w_phiReg': QuantumRegister(2, 'q15')})"
      ]
     },
     "execution_count": 6,
     "metadata": {},
     "output_type": "execute_result"
    }
   ],
   "source": [
    "oneN_oneF.createCircuit(eps, g_1, g_2, g_12, [[0, 0, 1]])"
   ]
  },
  {
   "cell_type": "code",
   "execution_count": 7,
   "metadata": {},
   "outputs": [],
   "source": [
    "circuit = oneN_oneF._circuit"
   ]
  },
  {
   "cell_type": "code",
   "execution_count": 8,
   "metadata": {},
   "outputs": [
    {
     "data": {
      "text/plain": [
       "{'00000000000000000000000100': 110, '00000000000000000001001100': 890}"
      ]
     },
     "execution_count": 8,
     "metadata": {},
     "output_type": "execute_result"
    }
   ],
   "source": [
    "oneN_oneF.simulate('qasm', shots=1000)"
   ]
  },
  {
   "cell_type": "code",
   "execution_count": 9,
   "metadata": {},
   "outputs": [
    {
     "name": "stdout",
     "output_type": "stream",
     "text": [
      "position of non zero element:  76 \n",
      "value:  (1+2.7757447698399526e-16j) \n",
      "absolute value:  1.0\n"
     ]
    },
    {
     "data": {
      "text/plain": [
       "array([0.+0.j, 0.+0.j, 0.+0.j, ..., 0.+0.j, 0.+0.j, 0.+0.j])"
      ]
     },
     "execution_count": 9,
     "metadata": {},
     "output_type": "execute_result"
    }
   ],
   "source": [
    "oneN_oneF.simulate('statevector', position=True)"
   ]
  },
  {
   "cell_type": "markdown",
   "metadata": {},
   "source": [
    "# Defining initial variables and circuit"
   ]
  },
  {
   "cell_type": "markdown",
   "metadata": {},
   "source": [
    "Note: everything from this point and on was using the script qiskit_create_circ becuase I wrote it before I created the class version (QuantumPartonShower), but they do the same thing."
   ]
  },
  {
   "cell_type": "code",
   "execution_count": null,
   "metadata": {},
   "outputs": [],
   "source": [
    "N = 1\n",
    "m = 0\n",
    "n_i = 2\n",
    "L = int(math.floor(math.log(N + n_i, 2)) + 1)\n",
    "l = int(math.floor(math.log(m + n_i, 2)) + 1)\n",
    "\n",
    "g_1, g_2, g_12 = 2, 1, 0\n",
    "gp = math.sqrt(abs((g_1 - g_2) ** 2 + 4 * g_12 ** 2))\n",
    "if g_1 > g_2:\n",
    "    gp = -gp\n",
    "g_a, g_b = (g_1 + g_2 - gp) / 2, (g_1 + g_2 + gp) / 2\n",
    "u = math.sqrt(abs((gp + g_1 - g_2)/ (2 * gp)))\n",
    "eps = .001\n",
    "\n",
    "#qiskit\n",
    "pReg, hReg, w_hReg, eReg, wReg, n_aReg, w_aReg, n_bReg, w_bReg, n_phiReg, w_phiReg = qcc.allocateQubits(N, n_i, L)\n",
    "timeStepList, P_aList, P_bList, P_phiList, Delta_aList, Delta_bList, Delta_phiList = [], [], [], [], [], [], []\n",
    "qcc.populateParameterLists(N, timeStepList, P_aList, P_bList, P_phiList, Delta_aList, Delta_bList, \n",
    "                       Delta_phiList, g_a, g_b, eps)\n",
    "circuit = QuantumCircuit(pReg, hReg, w_hReg, eReg, wReg, n_aReg, w_aReg, n_bReg, w_bReg, n_phiReg, w_phiReg)\n",
    "# circuit = QuantumCircuit(pReg, hReg, eReg, wReg, n_aReg, n_bReg, n_phiReg)\n",
    "\n",
    "simulator = Aer.get_backend('statevector_simulator')\n",
    "\n",
    "#cirq\n",
    "pRegC, hRegC, w_hRegC, eRegC, wRegC, n_aRegC, w_aRegC, n_bRegC, w_bRegC, n_phiRegC, w_phiRegC = [], [], [], [], [], [], [], [], [], [], []\n",
    "cc.allocateQubs(N, n_i, L, pRegC, hRegC, w_hRegC, eRegC, wRegC, n_aRegC, w_aRegC, n_bRegC, w_bRegC, n_phiRegC, w_phiRegC)\n",
    "qubits = {'pRegC': pRegC, 'hRegC': hRegC, 'w_hRegC': w_hRegC, 'eRegC': eRegC, 'wRegC': wRegC, 'n_aRegC': n_aRegC,\n",
    "               'w_aRegC': w_aRegC, 'n_bRegC': n_bRegC, 'w_bRegC': w_bRegC, 'n_phiRegC': n_phiRegC, 'w_phiRegC': w_phiRegC}\n",
    "timeStepListC, P_aListC, P_bListC, P_phiListC, Delta_aListC, Delta_bListC, Delta_phiListC = [], [], [], [], [], [], []\n",
    "cc.populateParameterLists(N, timeStepListC, P_aListC, P_bListC, P_phiListC, Delta_aListC, Delta_bListC,\n",
    "                       Delta_phiListC, g_a, g_b, eps)\n",
    "circuitC = cirq.Circuit()\n",
    "simulatorC = Simulator()\n"
   ]
  },
  {
   "cell_type": "markdown",
   "metadata": {},
   "source": [
    "#### uncomment to add x gates on all qubits"
   ]
  },
  {
   "cell_type": "code",
   "execution_count": null,
   "metadata": {},
   "outputs": [],
   "source": [
    "# #qiskit\n",
    "# [[circuit.h(qubit) for qubit in Reg] for Reg in circuit.qregs]\n",
    "# [[print(qubit) for qubit in Reg] for Reg in circuit.qregs]\n",
    "\n",
    "circuit.x(eReg[0])\n",
    "# circuit.x(n_aReg[0])\n",
    "circuit.x(n_bReg[0])\n",
    "circuit.x(n_bReg[1])\n",
    "# circuit.x(n_phiReg[0])\n",
    "circuit.x(pReg[1])\n",
    "\n",
    "# #cirq\n",
    "# circuitC.append(X(eRegC[0]))\n",
    "# circuitC.append(X(n_bReg[0]))\n",
    "# circuitC.append(X(n_bReg[1]))\n",
    "# circuitC.append(X(pReg[1]))\n",
    "# circuitC.append([[X((qubit)) for qubit in pRegC[i]] for i in range(N+n_i)])\n",
    "# circuitC.append([[X((qubit)) for qubit in hRegC[i]] for i in range(N)])\n",
    "# circuitC.append(X(w_hRegC[0]))\n",
    "# circuitC.append([X(eRegC[j]) for j in range(len(eRegC))])\n",
    "# circuitC.append([X(wRegC[j]) for j in range(len(wRegC))])\n",
    "# circuitC.append([X(n_phiRegC[j]) for j in range(len(n_phiRegC))])\n",
    "# circuitC.append([X(w_phiRegC[j]) for j in range(len(w_phiRegC))])\n",
    "# circuitC.append([X(n_aRegC[j]) for j in range(len(n_aRegC))])\n",
    "# circuitC.append([X(w_aRegC[j]) for j in range(len(w_aRegC))])\n",
    "# circuitC.append([X(n_bRegC[j]) for j in range(len(n_bRegC))])\n",
    "# circuitC.append([X(w_bRegC[j]) for j in range(len(w_bRegC))])"
   ]
  },
  {
   "cell_type": "markdown",
   "metadata": {},
   "source": [
    "### qiskit registers"
   ]
  },
  {
   "cell_type": "code",
   "execution_count": null,
   "metadata": {},
   "outputs": [],
   "source": [
    "print(\"pReg: \", pReg)\n",
    "print(\"hReg: \", hReg)\n",
    "print(\"w_hReg: \", w_hReg)\n",
    "print(\"eReg: \", eReg)\n",
    "print(\"wReg: \", wReg)\n",
    "print(\"n_aReg: \", n_aReg)\n",
    "print(\"w_aReg: \", w_aReg)\n",
    "print(\"n_bReg: \", n_bReg)\n",
    "print(\"w_bReg: \", w_bReg)\n",
    "print(\"n_phiReg: \", n_phiReg)\n",
    "print(\"w_phiReg: \", w_phiReg)"
   ]
  },
  {
   "cell_type": "markdown",
   "metadata": {},
   "source": [
    "### cirq registers"
   ]
  },
  {
   "cell_type": "code",
   "execution_count": null,
   "metadata": {},
   "outputs": [],
   "source": [
    "print(\"pReg: \", pRegC)\n",
    "print(\"hReg: \", hRegC)\n",
    "print(\"w_hReg: \", w_hRegC)\n",
    "print(\"eReg: \", eRegC)\n",
    "print(\"wReg: \", wRegC)\n",
    "print(\"n_aReg: \", n_aRegC)\n",
    "print(\"w_aReg: \", w_aRegC)\n",
    "print(\"n_bReg: \", n_bRegC)\n",
    "print(\"w_bReg: \", w_bRegC)\n",
    "print(\"n_phiReg: \", n_phiRegC)\n",
    "print(\"w_phiReg: \", w_phiRegC)"
   ]
  },
  {
   "cell_type": "markdown",
   "metadata": {},
   "source": [
    "# Test uCount"
   ]
  },
  {
   "cell_type": "markdown",
   "metadata": {},
   "source": [
    "### Qiskit"
   ]
  },
  {
   "cell_type": "code",
   "execution_count": null,
   "metadata": {},
   "outputs": [],
   "source": [
    "qcc.uCount(circuit, m, n_i, l, pReg, wReg, n_aReg, w_aReg, n_bReg, w_bReg, n_phiReg, w_phiReg)\n",
    "# print(circuit)"
   ]
  },
  {
   "cell_type": "code",
   "execution_count": null,
   "metadata": {},
   "outputs": [],
   "source": [
    "result = execute(circuit, simulator).result()\n",
    "statevector = result.get_statevector(circuit)\n",
    "print(statevector)"
   ]
  },
  {
   "cell_type": "markdown",
   "metadata": {},
   "source": [
    "### Cirq"
   ]
  },
  {
   "cell_type": "code",
   "execution_count": null,
   "metadata": {},
   "outputs": [],
   "source": [
    "cc.uCount(circuitC, m, n_i, l, pRegC, wRegC, n_aRegC, w_aRegC, n_bRegC, w_bRegC, n_phiRegC, w_phiRegC)\n"
   ]
  },
  {
   "cell_type": "code",
   "execution_count": null,
   "metadata": {},
   "outputs": [],
   "source": [
    "resultC = simulatorC.simulate(circuitC)\n",
    "statevectorC = resultC.final_state_vector\n",
    "print(statevectorC)"
   ]
  },
  {
   "cell_type": "markdown",
   "metadata": {},
   "source": [
    "# Test uE"
   ]
  },
  {
   "cell_type": "markdown",
   "metadata": {},
   "source": [
    "### Qiskit"
   ]
  },
  {
   "cell_type": "code",
   "execution_count": null,
   "metadata": {},
   "outputs": [],
   "source": [
    "qcc.uE(circuit, l, n_i, m, n_phiReg, w_phiReg, n_aReg, w_aReg, n_bReg, w_bReg, wReg, eReg,\n",
    "           Delta_phiList[0], Delta_aList[0], Delta_bList[0])"
   ]
  },
  {
   "cell_type": "code",
   "execution_count": null,
   "metadata": {},
   "outputs": [],
   "source": [
    "result = execute(circuit, simulator).result()\n",
    "statevector = result.get_statevector(circuit)\n",
    "\n",
    "print(statevector)"
   ]
  },
  {
   "cell_type": "markdown",
   "metadata": {},
   "source": [
    "### Cirq"
   ]
  },
  {
   "cell_type": "code",
   "execution_count": null,
   "metadata": {},
   "outputs": [],
   "source": [
    "cc.uE(circuitC, l, n_i, m, n_phiRegC, w_phiRegC, n_aRegC, w_aRegC, n_bRegC, w_bRegC, wRegC, eRegC,\n",
    "           Delta_phiListC[0], Delta_aListC[0], Delta_bListC[0])"
   ]
  },
  {
   "cell_type": "code",
   "execution_count": null,
   "metadata": {},
   "outputs": [],
   "source": [
    "resultC = simulatorC.simulate(circuitC)\n",
    "statevectorC = resultC.final_state_vector\n",
    "print(statevectorC)"
   ]
  },
  {
   "cell_type": "markdown",
   "metadata": {},
   "source": [
    "# Test U_h"
   ]
  },
  {
   "cell_type": "markdown",
   "metadata": {},
   "source": [
    "### Qiskit"
   ]
  },
  {
   "cell_type": "code",
   "execution_count": null,
   "metadata": {},
   "outputs": [],
   "source": [
    "qcc.U_h(circuit, l, n_i, m, n_phiReg, w_phiReg, n_aReg, w_aReg, n_bReg, w_bReg, wReg, eReg, pReg, hReg, w_hReg,\n",
    "            P_phiList[0], P_aList[0], P_bList[0])"
   ]
  },
  {
   "cell_type": "code",
   "execution_count": null,
   "metadata": {},
   "outputs": [],
   "source": [
    "result = execute(circuit, simulator).result()\n"
   ]
  },
  {
   "cell_type": "code",
   "execution_count": null,
   "metadata": {},
   "outputs": [],
   "source": [
    "print(result)"
   ]
  },
  {
   "cell_type": "code",
   "execution_count": null,
   "metadata": {},
   "outputs": [],
   "source": [
    "statevector = result.get_statevector(circuit)\n",
    "\n",
    "print(statevector)"
   ]
  },
  {
   "cell_type": "code",
   "execution_count": null,
   "metadata": {},
   "outputs": [],
   "source": [
    "circuit.draw()"
   ]
  },
  {
   "cell_type": "code",
   "execution_count": null,
   "metadata": {},
   "outputs": [],
   "source": [
    "print(len(statevector))"
   ]
  },
  {
   "cell_type": "code",
   "execution_count": null,
   "metadata": {},
   "outputs": [],
   "source": [
    "[print(\"position of non zero element: \", list(statevector).index(i), \"\\nvalue: \", \n",
    "       i, \"\\nabsolute value: \", abs(i)) for i in statevector if abs(i) > 10**(-5)]\n"
   ]
  },
  {
   "cell_type": "code",
   "execution_count": null,
   "metadata": {},
   "outputs": [],
   "source": [
    "# cr = ClassicalRegister(2,'cr')\n",
    "circuit.measure_all()"
   ]
  },
  {
   "cell_type": "code",
   "execution_count": null,
   "metadata": {},
   "outputs": [],
   "source": [
    "circuit.draw()"
   ]
  },
  {
   "cell_type": "code",
   "execution_count": null,
   "metadata": {},
   "outputs": [],
   "source": [
    "print(result)"
   ]
  },
  {
   "cell_type": "code",
   "execution_count": null,
   "metadata": {},
   "outputs": [],
   "source": [
    "job = execute(circuit, simulator, shots=100)\n",
    "result = job.result()\n",
    "counts = result.get_counts(circuit)"
   ]
  },
  {
   "cell_type": "code",
   "execution_count": null,
   "metadata": {},
   "outputs": [],
   "source": [
    "print(counts)"
   ]
  },
  {
   "cell_type": "markdown",
   "metadata": {},
   "source": [
    "### Cirq"
   ]
  },
  {
   "cell_type": "code",
   "execution_count": null,
   "metadata": {},
   "outputs": [],
   "source": [
    "cc.U_h(circuitC, l, n_i, m, n_phiRegC, w_phiRegC, n_aRegC, w_aRegC, n_bRegC, w_bRegC, wRegC, eRegC, pRegC, hRegC, w_hRegC,\n",
    "            P_phiListC[0], P_aListC[0], P_bListC[0])\n"
   ]
  },
  {
   "cell_type": "code",
   "execution_count": null,
   "metadata": {},
   "outputs": [],
   "source": [
    "resultC = simulatorC.simulate(circuitC)\n",
    "statevectorC = resultC.final_state_vector\n",
    "print(statevectorC)"
   ]
  },
  {
   "cell_type": "code",
   "execution_count": null,
   "metadata": {},
   "outputs": [],
   "source": [
    "print(len(statevectorC))"
   ]
  },
  {
   "cell_type": "markdown",
   "metadata": {},
   "source": [
    "# Test U_p"
   ]
  },
  {
   "cell_type": "markdown",
   "metadata": {},
   "source": [
    "### Qiskit"
   ]
  },
  {
   "cell_type": "code",
   "execution_count": null,
   "metadata": {},
   "outputs": [],
   "source": [
    "qcc.U_p(circuit, l, n_i, m, pReg, hReg, w_hReg, wReg, g_a, g_b)"
   ]
  },
  {
   "cell_type": "code",
   "execution_count": null,
   "metadata": {},
   "outputs": [],
   "source": [
    "result = execute(circuit, simulator).result()\n",
    "statevector = result.get_statevector(circuit)\n",
    "\n",
    "print(statevector)"
   ]
  },
  {
   "cell_type": "markdown",
   "metadata": {},
   "source": [
    "### Cirq"
   ]
  },
  {
   "cell_type": "code",
   "execution_count": null,
   "metadata": {},
   "outputs": [],
   "source": [
    "cc.U_p(circuitC, l, n_i, m, pRegC, hRegC, w_hRegC, wRegC, g_a, g_b)"
   ]
  },
  {
   "cell_type": "code",
   "execution_count": null,
   "metadata": {},
   "outputs": [],
   "source": [
    "resultC = simulatorC.simulate(circuitC)\n",
    "statevectorC = resultC.final_state_vector\n",
    "print(statevectorC)"
   ]
  },
  {
   "cell_type": "markdown",
   "metadata": {},
   "source": [
    "# Consolodated Testing (aka CreatCircuit())"
   ]
  },
  {
   "cell_type": "markdown",
   "metadata": {},
   "source": [
    "## n_i fermion(s), N step(s)"
   ]
  },
  {
   "cell_type": "code",
   "execution_count": null,
   "metadata": {},
   "outputs": [],
   "source": [
    "n_i, N = 2, 1\n",
    "g_1, g_2, g_12 = 2, 1, 0\n",
    "eps = .001\n",
    "reps = 1000"
   ]
  },
  {
   "cell_type": "markdown",
   "metadata": {},
   "source": [
    "### Qiskit"
   ]
  },
  {
   "cell_type": "code",
   "execution_count": null,
   "metadata": {},
   "outputs": [],
   "source": [
    "circ, qubits = qcc.createCircuit(n_i, N, eps, g_1, g_2, g_12, [[0, 0, 1],[0, 0, 1]])"
   ]
  },
  {
   "cell_type": "markdown",
   "metadata": {},
   "source": [
    "#### statevector simulator"
   ]
  },
  {
   "cell_type": "code",
   "execution_count": null,
   "metadata": {},
   "outputs": [],
   "source": [
    "simulator_sv = Aer.get_backend('statevector_simulator')"
   ]
  },
  {
   "cell_type": "code",
   "execution_count": null,
   "metadata": {},
   "outputs": [],
   "source": [
    "print(qubits)"
   ]
  },
  {
   "cell_type": "code",
   "execution_count": null,
   "metadata": {},
   "outputs": [],
   "source": [
    "result = execute(circ, simulator_sv).result()\n",
    "statevector = result.get_statevector(circ)\n",
    "\n",
    "print(statevector)"
   ]
  },
  {
   "cell_type": "code",
   "execution_count": null,
   "metadata": {},
   "outputs": [],
   "source": [
    "# print(abs(complex(-2, 3)))\n",
    "[print(\"position of non zero element: \", list(statevector).index(i), \"\\nvalue: \", \n",
    "       i, \"\\nabsolute value: \", abs(i)) for i in statevector if abs(i) > 10**(-5)]"
   ]
  },
  {
   "cell_type": "markdown",
   "metadata": {},
   "source": [
    "#### qasm simulator"
   ]
  },
  {
   "cell_type": "code",
   "execution_count": null,
   "metadata": {},
   "outputs": [],
   "source": [
    "simulator_qasm = Aer.get_backend('qasm_simulator')"
   ]
  },
  {
   "cell_type": "code",
   "execution_count": null,
   "metadata": {},
   "outputs": [],
   "source": [
    "circ.measure_all()\n",
    "#measure out individual registers"
   ]
  },
  {
   "cell_type": "code",
   "execution_count": null,
   "metadata": {},
   "outputs": [],
   "source": [
    "job = execute(circ, simulator_qasm, shots=8000)\n",
    "result = job.result()\n",
    "counts = result.get_counts(circ)"
   ]
  },
  {
   "cell_type": "code",
   "execution_count": null,
   "metadata": {},
   "outputs": [],
   "source": [
    "print(counts)"
   ]
  },
  {
   "cell_type": "markdown",
   "metadata": {},
   "source": [
    "### Cirq"
   ]
  },
  {
   "cell_type": "code",
   "execution_count": null,
   "metadata": {},
   "outputs": [],
   "source": [
    "circC, qubitsC = cc.createCircuit(n_i, N, eps, g_1, g_2, g_12, [[0, 0, 1],[0, 0, 1]])"
   ]
  },
  {
   "cell_type": "markdown",
   "metadata": {},
   "source": [
    "#### statevector simulator equv"
   ]
  },
  {
   "cell_type": "code",
   "execution_count": null,
   "metadata": {},
   "outputs": [],
   "source": [
    "resultC = simulatorC.simulate(circC)\n",
    "statevectorC = resultC.final_state_vector\n",
    "print(statevectorC)"
   ]
  },
  {
   "cell_type": "code",
   "execution_count": null,
   "metadata": {},
   "outputs": [],
   "source": [
    "print(len(statevectorC))"
   ]
  },
  {
   "cell_type": "code",
   "execution_count": null,
   "metadata": {},
   "outputs": [],
   "source": [
    "[print(\"position of non zero element: \", list(statevectorC).index(i), \"\\nvalue: \", \n",
    "       i, \"\\nabsolute value: \", abs(i)) for i in statevectorC if abs(i) > 10**(-5)]\n"
   ]
  },
  {
   "cell_type": "code",
   "execution_count": null,
   "metadata": {},
   "outputs": [],
   "source": [
    "print(len(statevectorC))"
   ]
  },
  {
   "cell_type": "markdown",
   "metadata": {},
   "source": [
    "#### qasm simulator equiv"
   ]
  },
  {
   "cell_type": "code",
   "execution_count": null,
   "metadata": {},
   "outputs": [],
   "source": [
    "def reverse(lst):\n",
    "    \"\"\"reverse a list in place\"\"\"\n",
    "    lst.reverse()\n",
    "    return lst"
   ]
  },
  {
   "cell_type": "code",
   "execution_count": null,
   "metadata": {},
   "outputs": [],
   "source": [
    "circC.append(cirq.measure(*reverse(qubitsC['pReg'][0]), key='p0'))\n",
    "circC.append(cirq.measure(*reverse(qubitsC['pReg'][1]), key='p1'))\n",
    "circC.append(cirq.measure(*reverse(qubitsC['hReg'][0]), key='h0'))\n",
    "circC.append(cirq.measure(*reverse(qubitsC['w_hReg']), key='w_h'))\n",
    "circC.append(cirq.measure(*reverse(qubitsC['eReg']), key='e'))\n",
    "circC.append(cirq.measure(*reverse(qubitsC['wReg']), key='w'))\n",
    "circC.append(cirq.measure(*reverse(qubitsC['n_aReg']), key='n_a'))\n",
    "circC.append(cirq.measure(*reverse(qubitsC['n_bReg']), key='n_b'))\n",
    "circC.append(cirq.measure(*reverse(qubitsC['n_phiReg']), key='n_phi'))\n",
    "circC.append(cirq.measure(*reverse(qubitsC['w_aReg']), key='w_a'))\n",
    "circC.append(cirq.measure(*reverse(qubitsC['w_bReg']), key='w_b'))\n",
    "circC.append(cirq.measure(*reverse(qubitsC['w_phiReg']), key='w_phi'))\n",
    "\n"
   ]
  },
  {
   "cell_type": "code",
   "execution_count": null,
   "metadata": {},
   "outputs": [],
   "source": [
    "simulator_c = cirq.Simulator()\n",
    "result = simulator_c.run(circC, repetitions=8000)"
   ]
  },
  {
   "cell_type": "code",
   "execution_count": null,
   "metadata": {},
   "outputs": [],
   "source": [
    "# [result.measurements['p0'], result.measurements['p1']]\n",
    "# result.measurements['p1'] == [0,0,0]\n",
    "count = 0\n",
    "for i in result.measurements['p1']:\n",
    "#     print(i[2])\n",
    "    if i[0] == 1 and i[1]== 0 and i[2]== 0:\n",
    "        count += 1\n",
    "print(count)\n"
   ]
  },
  {
   "cell_type": "code",
   "execution_count": null,
   "metadata": {},
   "outputs": [],
   "source": [
    "print(result.measurements)"
   ]
  }
 ],
 "metadata": {
  "kernelspec": {
   "display_name": "Python 3",
   "language": "python",
   "name": "python3"
  },
  "language_info": {
   "codemirror_mode": {
    "name": "ipython",
    "version": 3
   },
   "file_extension": ".py",
   "mimetype": "text/x-python",
   "name": "python",
   "nbconvert_exporter": "python",
   "pygments_lexer": "ipython3",
   "version": "3.7.6"
  }
 },
 "nbformat": 4,
 "nbformat_minor": 4
}
