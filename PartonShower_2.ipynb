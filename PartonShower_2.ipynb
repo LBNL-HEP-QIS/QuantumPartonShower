{
 "cells": [
  {
   "cell_type": "code",
   "execution_count": 1,
   "metadata": {},
   "outputs": [],
   "source": [
    "import numpy as np\n",
    "import math\n",
    "from qiskit import QuantumCircuit, QuantumRegister, execute, Aer, ClassicalRegister\n",
    "from qiskit.providers.aer import QasmSimulator\n",
    "import qiskit_create_circ as qcc\n",
    "import cirq\n",
    "import create_circuit as cc\n",
    "from cirq import GridQubit, X, CNOT, TOFFOLI, ry\n",
    "from cirq import Simulator\n",
    "early = cirq.InsertStrategy.EARLIEST\n",
    "new = cirq.InsertStrategy.NEW_THEN_INLINE"
   ]
  },
  {
   "cell_type": "markdown",
   "metadata": {},
   "source": [
    "# Indexing"
   ]
  },
  {
   "cell_type": "markdown",
   "metadata": {},
   "source": [
    "**Explaination of my register indexing**\n",
    "\n",
    "*Note: If there are any bugs in the code, it is likely a problem with indexing - I would recommend checking this first*\n",
    "\n",
    "When comparing the parton shower algorithm in Qiskit v.s. Cirq, we see that the quantum registers in Cirq use Grid qubits. Grid Qubits represent a 2 dimensional square lattice and are 2D arrays with the elements being qubits. For example the $|p \\rangle $ register in Cirq for 1 step and 1 particle is in the following form <br>\n",
    "[[cirq.GridQubit(0, 0), cirq.GridQubit(0, 1), cirq.GridQubit(0, 2)], <br>\n",
    "[cirq.GridQubit(1, 0), cirq.GridQubit(1, 1), cirq.GridQubit(1, 2)], <br>\n",
    "[cirq.GridQubit(2, 0), cirq.GridQubit(2, 1), cirq.GridQubit(2, 2)]]\n",
    "\n",
    "However, Qiskit does not have a grid qubit register equivalent. The registers are their QuantumRegister objects and can be thought of linearly. So we need to create a mapping between the two. <br>\n",
    "Let $gr$ be the grid qubit register and $lr$ be the linear qubit register\n",
    "\n",
    "$gr = \\begin{bmatrix} q_1 & q_2 & ... & q_m \\\\ \\\\ & \\ddots & \\\\ \\\\ q_{m^2 - m} & q_{m^2 - m + 1} & ... & q_n \\end{bmatrix}$ <br> \n",
    "\n",
    "and \n",
    "\n",
    "$lr = \\begin{bmatrix} q_1 \\\\ q_2 \\\\ .\\\\.\\\\. \\\\ q_n  \\end{bmatrix}$ <br>\n",
    "\n",
    "Then we need $gr \\mapsto lr$\n",
    "\n",
    "Here the length of each sub array is m and the total number of qubits is n. \n",
    " \n",
    "Now say the Cirq code is using qubit $gr[i][j] = q_k$. Then to get qubit $q_k$ in the qiskit code we need to do $gr[i*m + j]$, which then gives us the desired qubit in the Qiskit code $q_k$"
   ]
  },
  {
   "cell_type": "markdown",
   "metadata": {},
   "source": [
    "# Defining initial variables and circuit"
   ]
  },
  {
   "cell_type": "code",
   "execution_count": 2,
   "metadata": {},
   "outputs": [
    {
     "name": "stdout",
     "output_type": "stream",
     "text": [
      "num qubits pReg:  9\n",
      "nqubits_a_b_phi:  2\n"
     ]
    }
   ],
   "source": [
    "N = 1\n",
    "m = 0\n",
    "n_i = 2\n",
    "L = int(math.floor(math.log(N + n_i, 2)) + 1)\n",
    "l = int(math.floor(math.log(m + n_i, 2)) + 1)\n",
    "\n",
    "g_1, g_2, g_12 = 2, 1, 0\n",
    "gp = math.sqrt(abs((g_1 - g_2) ** 2 + 4 * g_12 ** 2))\n",
    "if g_1 > g_2:\n",
    "    gp = -gp\n",
    "g_a, g_b = (g_1 + g_2 - gp) / 2, (g_1 + g_2 + gp) / 2\n",
    "u = math.sqrt(abs((gp + g_1 - g_2)/ (2 * gp)))\n",
    "eps = .001\n",
    "\n",
    "#qiskit\n",
    "pReg, hReg, w_hReg, eReg, wReg, n_aReg, w_aReg, n_bReg, w_bReg, n_phiReg, w_phiReg = qcc.allocateQubits(N, n_i, L)\n",
    "timeStepList, P_aList, P_bList, P_phiList, Delta_aList, Delta_bList, Delta_phiList = [], [], [], [], [], [], []\n",
    "qcc.populateParameterLists(N, timeStepList, P_aList, P_bList, P_phiList, Delta_aList, Delta_bList, \n",
    "                       Delta_phiList, g_a, g_b, eps)\n",
    "circuit = QuantumCircuit(pReg, hReg, w_hReg, eReg, wReg, n_aReg, w_aReg, n_bReg, w_bReg, n_phiReg, w_phiReg)\n",
    "# circuit = QuantumCircuit(pReg, hReg, eReg, wReg, n_aReg, n_bReg, n_phiReg)\n",
    "\n",
    "simulator = Aer.get_backend('statevector_simulator')\n",
    "\n",
    "#cirq\n",
    "pRegC, hRegC, w_hRegC, eRegC, wRegC, n_aRegC, w_aRegC, n_bRegC, w_bRegC, n_phiRegC, w_phiRegC = [], [], [], [], [], [], [], [], [], [], []\n",
    "cc.allocateQubs(N, n_i, L, pRegC, hRegC, w_hRegC, eRegC, wRegC, n_aRegC, w_aRegC, n_bRegC, w_bRegC, n_phiRegC, w_phiRegC)\n",
    "qubits = {'pRegC': pRegC, 'hRegC': hRegC, 'w_hRegC': w_hRegC, 'eRegC': eRegC, 'wRegC': wRegC, 'n_aRegC': n_aRegC,\n",
    "               'w_aRegC': w_aRegC, 'n_bRegC': n_bRegC, 'w_bRegC': w_bRegC, 'n_phiRegC': n_phiRegC, 'w_phiRegC': w_phiRegC}\n",
    "timeStepListC, P_aListC, P_bListC, P_phiListC, Delta_aListC, Delta_bListC, Delta_phiListC = [], [], [], [], [], [], []\n",
    "cc.populateParameterLists(N, timeStepListC, P_aListC, P_bListC, P_phiListC, Delta_aListC, Delta_bListC,\n",
    "                       Delta_phiListC, g_a, g_b, eps)\n",
    "circuitC = cirq.Circuit()\n",
    "simulatorC = Simulator()\n"
   ]
  },
  {
   "cell_type": "markdown",
   "metadata": {},
   "source": [
    "#### uncomment to add x gates on all qubits"
   ]
  },
  {
   "cell_type": "code",
   "execution_count": null,
   "metadata": {},
   "outputs": [],
   "source": [
    "# #qiskit\n",
    "# [[circuit.h(qubit) for qubit in Reg] for Reg in circuit.qregs]\n",
    "# [[print(qubit) for qubit in Reg] for Reg in circuit.qregs]\n",
    "\n",
    "circuit.x(eReg[0])\n",
    "# circuit.x(n_aReg[0])\n",
    "circuit.x(n_bReg[0])\n",
    "circuit.x(n_bReg[1])\n",
    "# circuit.x(n_phiReg[0])\n",
    "circuit.x(pReg[1])\n",
    "\n",
    "# #cirq\n",
    "# circuitC.append(X(eRegC[0]))\n",
    "# circuitC.append(X(n_bReg[0]))\n",
    "# circuitC.append(X(n_bReg[1]))\n",
    "# circuitC.append(X(pReg[1]))\n",
    "# circuitC.append([[X((qubit)) for qubit in pRegC[i]] for i in range(N+n_i)])\n",
    "# circuitC.append([[X((qubit)) for qubit in hRegC[i]] for i in range(N)])\n",
    "# circuitC.append(X(w_hRegC[0]))\n",
    "# circuitC.append([X(eRegC[j]) for j in range(len(eRegC))])\n",
    "# circuitC.append([X(wRegC[j]) for j in range(len(wRegC))])\n",
    "# circuitC.append([X(n_phiRegC[j]) for j in range(len(n_phiRegC))])\n",
    "# circuitC.append([X(w_phiRegC[j]) for j in range(len(w_phiRegC))])\n",
    "# circuitC.append([X(n_aRegC[j]) for j in range(len(n_aRegC))])\n",
    "# circuitC.append([X(w_aRegC[j]) for j in range(len(w_aRegC))])\n",
    "# circuitC.append([X(n_bRegC[j]) for j in range(len(n_bRegC))])\n",
    "# circuitC.append([X(w_bRegC[j]) for j in range(len(w_bRegC))])"
   ]
  },
  {
   "cell_type": "markdown",
   "metadata": {},
   "source": [
    "### qiskit registers"
   ]
  },
  {
   "cell_type": "code",
   "execution_count": 10,
   "metadata": {},
   "outputs": [
    {
     "name": "stdout",
     "output_type": "stream",
     "text": [
      "pReg:  QuantumRegister(9, 'q0')\n",
      "hReg:  QuantumRegister(2, 'q1')\n",
      "w_hReg:  QuantumRegister(2, 'q2')\n",
      "eReg:  QuantumRegister(1, 'q3')\n",
      "wReg:  QuantumRegister(5, 'q4')\n",
      "n_aReg:  QuantumRegister(2, 'q5')\n",
      "w_aReg:  QuantumRegister(2, 'q6')\n",
      "n_bReg:  QuantumRegister(2, 'q7')\n",
      "w_bReg:  QuantumRegister(2, 'q8')\n",
      "n_phiReg:  QuantumRegister(2, 'q9')\n",
      "w_phiReg:  QuantumRegister(2, 'q10')\n",
      "<class 'qiskit.circuit.quantumregister.QuantumRegister'>\n"
     ]
    }
   ],
   "source": [
    "print(\"pReg: \", pReg)\n",
    "print(\"hReg: \", hReg)\n",
    "print(\"w_hReg: \", w_hReg)\n",
    "print(\"eReg: \", eReg)\n",
    "print(\"wReg: \", wReg)\n",
    "print(\"n_aReg: \", n_aReg)\n",
    "print(\"w_aReg: \", w_aReg)\n",
    "print(\"n_bReg: \", n_bReg)\n",
    "print(\"w_bReg: \", w_bReg)\n",
    "print(\"n_phiReg: \", n_phiReg)\n",
    "print(\"w_phiReg: \", w_phiReg)"
   ]
  },
  {
   "cell_type": "markdown",
   "metadata": {},
   "source": [
    "### cirq registers"
   ]
  },
  {
   "cell_type": "code",
   "execution_count": 8,
   "metadata": {},
   "outputs": [
    {
     "name": "stdout",
     "output_type": "stream",
     "text": [
      "pReg:  [[cirq.GridQubit(0, 0), cirq.GridQubit(0, 1), cirq.GridQubit(0, 2)], [cirq.GridQubit(1, 0), cirq.GridQubit(1, 1), cirq.GridQubit(1, 2)], [cirq.GridQubit(2, 0), cirq.GridQubit(2, 1), cirq.GridQubit(2, 2)]]\n",
      "hReg:  [[cirq.GridQubit(0, 4), cirq.GridQubit(0, 5)]]\n",
      "w_hReg:  [cirq.GridQubit(3, 0)]\n",
      "eReg:  [cirq.GridQubit(3, 1)]\n",
      "wReg:  [cirq.GridQubit(3, 2), cirq.GridQubit(3, 3), cirq.GridQubit(3, 4), cirq.GridQubit(3, 5), cirq.GridQubit(3, 6)]\n",
      "n_aReg:  [cirq.GridQubit(5, 0), cirq.GridQubit(5, 1)]\n",
      "w_aReg:  [cirq.GridQubit(5, 2)]\n",
      "n_bReg:  [cirq.GridQubit(6, 0), cirq.GridQubit(6, 1)]\n",
      "w_bReg:  [cirq.GridQubit(6, 2)]\n",
      "n_phiReg:  [cirq.GridQubit(4, 0), cirq.GridQubit(4, 1)]\n",
      "w_phiReg:  [cirq.GridQubit(4, 2)]\n"
     ]
    }
   ],
   "source": [
    "print(\"pReg: \", pRegC)\n",
    "print(\"hReg: \", hRegC)\n",
    "print(\"w_hReg: \", w_hRegC)\n",
    "print(\"eReg: \", eRegC)\n",
    "print(\"wReg: \", wRegC)\n",
    "print(\"n_aReg: \", n_aRegC)\n",
    "print(\"w_aReg: \", w_aRegC)\n",
    "print(\"n_bReg: \", n_bRegC)\n",
    "print(\"w_bReg: \", w_bRegC)\n",
    "print(\"n_phiReg: \", n_phiRegC)\n",
    "print(\"w_phiReg: \", w_phiRegC)"
   ]
  },
  {
   "cell_type": "markdown",
   "metadata": {},
   "source": [
    "# Test uCount"
   ]
  },
  {
   "cell_type": "markdown",
   "metadata": {},
   "source": [
    "### Qiskit"
   ]
  },
  {
   "cell_type": "code",
   "execution_count": null,
   "metadata": {},
   "outputs": [],
   "source": [
    "qcc.uCount(circuit, m, n_i, l, pReg, wReg, n_aReg, w_aReg, n_bReg, w_bReg, n_phiReg, w_phiReg)\n",
    "# print(circuit)"
   ]
  },
  {
   "cell_type": "code",
   "execution_count": null,
   "metadata": {},
   "outputs": [],
   "source": [
    "result = execute(circuit, simulator).result()\n",
    "statevector = result.get_statevector(circuit)\n",
    "print(statevector)"
   ]
  },
  {
   "cell_type": "markdown",
   "metadata": {},
   "source": [
    "### Cirq"
   ]
  },
  {
   "cell_type": "code",
   "execution_count": null,
   "metadata": {},
   "outputs": [],
   "source": [
    "cc.uCount(circuitC, m, n_i, l, pRegC, wRegC, n_aRegC, w_aRegC, n_bRegC, w_bRegC, n_phiRegC, w_phiRegC)\n"
   ]
  },
  {
   "cell_type": "code",
   "execution_count": null,
   "metadata": {},
   "outputs": [],
   "source": [
    "resultC = simulatorC.simulate(circuitC)\n",
    "statevectorC = resultC.final_state_vector\n",
    "print(statevectorC)"
   ]
  },
  {
   "cell_type": "markdown",
   "metadata": {},
   "source": [
    "# Test uE"
   ]
  },
  {
   "cell_type": "markdown",
   "metadata": {},
   "source": [
    "### Qiskit"
   ]
  },
  {
   "cell_type": "code",
   "execution_count": null,
   "metadata": {},
   "outputs": [],
   "source": [
    "qcc.uE(circuit, l, n_i, m, n_phiReg, w_phiReg, n_aReg, w_aReg, n_bReg, w_bReg, wReg, eReg,\n",
    "           Delta_phiList[0], Delta_aList[0], Delta_bList[0])"
   ]
  },
  {
   "cell_type": "code",
   "execution_count": null,
   "metadata": {},
   "outputs": [],
   "source": [
    "result = execute(circuit, simulator).result()\n",
    "statevector = result.get_statevector(circuit)\n",
    "\n",
    "print(statevector)"
   ]
  },
  {
   "cell_type": "markdown",
   "metadata": {},
   "source": [
    "### Cirq"
   ]
  },
  {
   "cell_type": "code",
   "execution_count": null,
   "metadata": {},
   "outputs": [],
   "source": [
    "cc.uE(circuitC, l, n_i, m, n_phiRegC, w_phiRegC, n_aRegC, w_aRegC, n_bRegC, w_bRegC, wRegC, eRegC,\n",
    "           Delta_phiListC[0], Delta_aListC[0], Delta_bListC[0])"
   ]
  },
  {
   "cell_type": "code",
   "execution_count": null,
   "metadata": {},
   "outputs": [],
   "source": [
    "resultC = simulatorC.simulate(circuitC)\n",
    "statevectorC = resultC.final_state_vector\n",
    "print(statevectorC)"
   ]
  },
  {
   "cell_type": "markdown",
   "metadata": {},
   "source": [
    "# Test U_h"
   ]
  },
  {
   "cell_type": "markdown",
   "metadata": {},
   "source": [
    "### Qiskit"
   ]
  },
  {
   "cell_type": "code",
   "execution_count": null,
   "metadata": {},
   "outputs": [],
   "source": [
    "qcc.U_h(circuit, l, n_i, m, n_phiReg, w_phiReg, n_aReg, w_aReg, n_bReg, w_bReg, wReg, eReg, pReg, hReg, w_hReg,\n",
    "            P_phiList[0], P_aList[0], P_bList[0])"
   ]
  },
  {
   "cell_type": "code",
   "execution_count": null,
   "metadata": {},
   "outputs": [],
   "source": [
    "result = execute(circuit, simulator).result()\n"
   ]
  },
  {
   "cell_type": "code",
   "execution_count": null,
   "metadata": {},
   "outputs": [],
   "source": [
    "print(result)"
   ]
  },
  {
   "cell_type": "code",
   "execution_count": null,
   "metadata": {},
   "outputs": [],
   "source": [
    "statevector = result.get_statevector(circuit)\n",
    "\n",
    "print(statevector)"
   ]
  },
  {
   "cell_type": "code",
   "execution_count": null,
   "metadata": {},
   "outputs": [],
   "source": [
    "circuit.draw()"
   ]
  },
  {
   "cell_type": "code",
   "execution_count": null,
   "metadata": {},
   "outputs": [],
   "source": [
    "print(len(statevector))"
   ]
  },
  {
   "cell_type": "code",
   "execution_count": null,
   "metadata": {},
   "outputs": [],
   "source": [
    "[print(\"position of non zero element: \", list(statevector).index(i), \"\\nvalue: \", \n",
    "       i, \"\\nabsolute value: \", abs(i)) for i in statevector if abs(i) > 10**(-5)]\n"
   ]
  },
  {
   "cell_type": "code",
   "execution_count": null,
   "metadata": {},
   "outputs": [],
   "source": [
    "# cr = ClassicalRegister(2,'cr')\n",
    "circuit.measure_all()"
   ]
  },
  {
   "cell_type": "code",
   "execution_count": null,
   "metadata": {},
   "outputs": [],
   "source": [
    "circuit.draw()"
   ]
  },
  {
   "cell_type": "code",
   "execution_count": null,
   "metadata": {},
   "outputs": [],
   "source": [
    "print(result)"
   ]
  },
  {
   "cell_type": "code",
   "execution_count": null,
   "metadata": {},
   "outputs": [],
   "source": [
    "job = execute(circuit, simulator, shots=100)\n",
    "result = job.result()\n",
    "counts = result.get_counts(circuit)"
   ]
  },
  {
   "cell_type": "code",
   "execution_count": null,
   "metadata": {},
   "outputs": [],
   "source": [
    "print(counts)"
   ]
  },
  {
   "cell_type": "markdown",
   "metadata": {},
   "source": [
    "### Cirq"
   ]
  },
  {
   "cell_type": "code",
   "execution_count": null,
   "metadata": {},
   "outputs": [],
   "source": [
    "cc.U_h(circuitC, l, n_i, m, n_phiRegC, w_phiRegC, n_aRegC, w_aRegC, n_bRegC, w_bRegC, wRegC, eRegC, pRegC, hRegC, w_hRegC,\n",
    "            P_phiListC[0], P_aListC[0], P_bListC[0])\n"
   ]
  },
  {
   "cell_type": "code",
   "execution_count": null,
   "metadata": {},
   "outputs": [],
   "source": [
    "resultC = simulatorC.simulate(circuitC)\n",
    "statevectorC = resultC.final_state_vector\n",
    "print(statevectorC)"
   ]
  },
  {
   "cell_type": "code",
   "execution_count": null,
   "metadata": {},
   "outputs": [],
   "source": [
    "print(len(statevectorC))"
   ]
  },
  {
   "cell_type": "markdown",
   "metadata": {},
   "source": [
    "# Test U_p"
   ]
  },
  {
   "cell_type": "markdown",
   "metadata": {},
   "source": [
    "### Qiskit"
   ]
  },
  {
   "cell_type": "code",
   "execution_count": null,
   "metadata": {},
   "outputs": [],
   "source": [
    "qcc.U_p(circuit, l, n_i, m, pReg, hReg, w_hReg, wReg, g_a, g_b)"
   ]
  },
  {
   "cell_type": "code",
   "execution_count": null,
   "metadata": {},
   "outputs": [],
   "source": [
    "result = execute(circuit, simulator).result()\n",
    "statevector = result.get_statevector(circuit)\n",
    "\n",
    "print(statevector)"
   ]
  },
  {
   "cell_type": "markdown",
   "metadata": {},
   "source": [
    "### Cirq"
   ]
  },
  {
   "cell_type": "code",
   "execution_count": null,
   "metadata": {},
   "outputs": [],
   "source": [
    "cc.U_p(circuitC, l, n_i, m, pRegC, hRegC, w_hRegC, wRegC, g_a, g_b)"
   ]
  },
  {
   "cell_type": "code",
   "execution_count": null,
   "metadata": {},
   "outputs": [],
   "source": [
    "resultC = simulatorC.simulate(circuitC)\n",
    "statevectorC = resultC.final_state_vector\n",
    "print(statevectorC)"
   ]
  },
  {
   "cell_type": "markdown",
   "metadata": {},
   "source": [
    "# Consolodated Testing (aka CreatCircuit())"
   ]
  },
  {
   "cell_type": "markdown",
   "metadata": {},
   "source": [
    "## 1 fermion, 1 step"
   ]
  },
  {
   "cell_type": "code",
   "execution_count": 11,
   "metadata": {},
   "outputs": [],
   "source": [
    "n_i, N = 2, 1\n",
    "g_1, g_2, g_12 = 2, 1, 0\n",
    "eps = .001\n",
    "reps = 1000"
   ]
  },
  {
   "cell_type": "markdown",
   "metadata": {},
   "source": [
    "### Qiskit"
   ]
  },
  {
   "cell_type": "code",
   "execution_count": 12,
   "metadata": {},
   "outputs": [
    {
     "name": "stdout",
     "output_type": "stream",
     "text": [
      "num qubits pReg:  9\n",
      "nqubits_a_b_phi:  2\n",
      "number binary:  [0, 0]\n",
      "adding x gates in numberControl\n",
      "adding Toffolis numberControl\n",
      "number binary:  [0, 0]\n",
      "adding x gates in numberControl\n",
      "adding Toffolis numberControl\n",
      "number binary:  [0, 1]\n",
      "adding x gates in numberControl\n",
      "adding Toffolis numberControl\n",
      "number binary:  [0, 0]\n",
      "adding x gates in numberControl\n",
      "adding Toffolis numberControl\n",
      "number binary:  [1, 0]\n",
      "adding x gates in numberControl\n",
      "adding Toffolis numberControl\n",
      "number binary:  [1, 0]\n",
      "adding x gates in numberControl\n",
      "adding Toffolis numberControl\n",
      "number binary:  [0, 0]\n",
      "adding x gates in numberControl\n",
      "adding Toffolis numberControl\n",
      "number binary:  [0, 1]\n",
      "adding x gates in numberControl\n",
      "adding Toffolis numberControl\n",
      "number binary:  [0, 0]\n",
      "adding x gates in numberControl\n",
      "adding Toffolis numberControl\n",
      "number binary:  [1, 0]\n",
      "adding x gates in numberControl\n",
      "adding Toffolis numberControl\n",
      "number binary:  [0, 0]\n",
      "adding x gates in numberControl\n",
      "adding Toffolis numberControl\n",
      "number binary:  [1, 0]\n",
      "adding x gates in numberControl\n",
      "adding Toffolis numberControl\n",
      "number binary:  [1, 0]\n",
      "adding x gates in numberControl\n",
      "adding Toffolis numberControl\n",
      "number binary:  [1, 0]\n",
      "adding x gates in numberControl\n",
      "adding Toffolis numberControl\n",
      "number binary:  [0, 0]\n",
      "adding x gates in numberControl\n",
      "adding Toffolis numberControl\n",
      "number binary:  [0, 1]\n",
      "adding x gates in numberControl\n",
      "adding Toffolis numberControl\n",
      "number binary:  [0, 0]\n",
      "adding x gates in numberControl\n",
      "adding Toffolis numberControl\n",
      "number binary:  [0, 0]\n",
      "adding x gates in numberControl\n",
      "adding Toffolis numberControl\n",
      "k:  0\n",
      "counts:  [0, 0, 2]\n",
      "after if :  0 0 2\n",
      "denom:  -0.5497016991595708\n",
      "n vals:  0 2 0\n",
      "numerator:  {'phi': -1.374254247898927, 'a': -1.0994033983191416, 'b': -0.2748508495797854}\n",
      "flavor:  phi\n",
      "angle:  3.141592653589793\n",
      "number binary:  [0, 0]\n",
      "adding x gates in numberControl\n",
      "adding Toffolis numberControl\n",
      "qiskit phiControl:  Qubit(QuantumRegister(2, 'q39'), 0)\n",
      "number binary:  [0, 0]\n",
      "adding x gates in numberControl\n",
      "adding Toffolis numberControl\n",
      "qiskit aControl:  Qubit(QuantumRegister(2, 'q35'), 0)\n",
      "number binary:  [0, 1]\n",
      "adding x gates in numberControl\n",
      "adding Toffolis numberControl\n",
      "qiskit bControl:  Qubit(QuantumRegister(2, 'q37'), 0)\n",
      "number binary:  [0]\n",
      "adding x gates in numberControl\n",
      "denom:  -0.5497016991595708\n",
      "n vals:  0 2 0\n",
      "numerator:  {'phi': -1.374254247898927, 'a': -1.0994033983191416, 'b': -0.2748508495797854}\n",
      "flavor:  a\n",
      "angle:  3.141592653589793\n",
      "number binary:  [0, 0]\n",
      "adding x gates in numberControl\n",
      "adding Toffolis numberControl\n",
      "qiskit phiControl:  Qubit(QuantumRegister(2, 'q39'), 0)\n",
      "number binary:  [0, 0]\n",
      "adding x gates in numberControl\n",
      "adding Toffolis numberControl\n",
      "qiskit aControl:  Qubit(QuantumRegister(2, 'q35'), 0)\n",
      "number binary:  [0, 1]\n",
      "adding x gates in numberControl\n",
      "adding Toffolis numberControl\n",
      "qiskit bControl:  Qubit(QuantumRegister(2, 'q37'), 0)\n",
      "number binary:  [0]\n",
      "adding x gates in numberControl\n",
      "denom:  -0.5497016991595708\n",
      "n vals:  0 2 0\n",
      "numerator:  {'phi': -1.374254247898927, 'a': -1.0994033983191416, 'b': -0.2748508495797854}\n",
      "flavor:  b\n",
      "angle:  1.5707963267948968\n",
      "number binary:  [0, 0]\n",
      "adding x gates in numberControl\n",
      "adding Toffolis numberControl\n",
      "qiskit phiControl:  Qubit(QuantumRegister(2, 'q39'), 0)\n",
      "number binary:  [0, 0]\n",
      "adding x gates in numberControl\n",
      "adding Toffolis numberControl\n",
      "qiskit aControl:  Qubit(QuantumRegister(2, 'q35'), 0)\n",
      "number binary:  [0, 1]\n",
      "adding x gates in numberControl\n",
      "adding Toffolis numberControl\n",
      "qiskit bControl:  Qubit(QuantumRegister(2, 'q37'), 0)\n",
      "number binary:  [0]\n",
      "adding x gates in numberControl\n",
      "counts:  [0, 1, 1]\n",
      "after if :  0 1 1\n",
      "denom:  -1.374254247898927\n",
      "n vals:  1 1 0\n",
      "numerator:  {'phi': -1.374254247898927, 'a': -1.0994033983191416, 'b': -0.2748508495797854}\n",
      "flavor:  phi\n",
      "angle:  3.141592653589793\n",
      "number binary:  [0, 0]\n",
      "adding x gates in numberControl\n",
      "adding Toffolis numberControl\n",
      "qiskit phiControl:  Qubit(QuantumRegister(2, 'q39'), 0)\n",
      "number binary:  [1, 0]\n",
      "adding x gates in numberControl\n",
      "adding Toffolis numberControl\n",
      "qiskit aControl:  Qubit(QuantumRegister(2, 'q35'), 0)\n",
      "number binary:  [1, 0]\n",
      "adding x gates in numberControl\n",
      "adding Toffolis numberControl\n",
      "qiskit bControl:  Qubit(QuantumRegister(2, 'q37'), 0)\n",
      "number binary:  [0]\n",
      "adding x gates in numberControl\n",
      "denom:  -1.374254247898927\n",
      "n vals:  1 1 0\n",
      "numerator:  {'phi': -1.374254247898927, 'a': -1.0994033983191416, 'b': -0.2748508495797854}\n",
      "flavor:  a\n",
      "angle:  2.214297435588181\n",
      "number binary:  [0, 0]\n",
      "adding x gates in numberControl\n",
      "adding Toffolis numberControl\n",
      "qiskit phiControl:  Qubit(QuantumRegister(2, 'q39'), 0)\n",
      "number binary:  [1, 0]\n",
      "adding x gates in numberControl\n",
      "adding Toffolis numberControl\n",
      "qiskit aControl:  Qubit(QuantumRegister(2, 'q35'), 0)\n",
      "number binary:  [1, 0]\n",
      "adding x gates in numberControl\n",
      "adding Toffolis numberControl\n",
      "qiskit bControl:  Qubit(QuantumRegister(2, 'q37'), 0)\n",
      "number binary:  [0]\n",
      "adding x gates in numberControl\n",
      "denom:  -1.374254247898927\n",
      "n vals:  1 1 0\n",
      "numerator:  {'phi': -1.374254247898927, 'a': -1.0994033983191416, 'b': -0.2748508495797854}\n",
      "flavor:  b\n",
      "angle:  0.9272952180016122\n",
      "number binary:  [0, 0]\n",
      "adding x gates in numberControl\n",
      "adding Toffolis numberControl\n",
      "qiskit phiControl:  Qubit(QuantumRegister(2, 'q39'), 0)\n",
      "number binary:  [1, 0]\n",
      "adding x gates in numberControl\n",
      "adding Toffolis numberControl\n",
      "qiskit aControl:  Qubit(QuantumRegister(2, 'q35'), 0)\n",
      "number binary:  [1, 0]\n",
      "adding x gates in numberControl\n",
      "adding Toffolis numberControl\n",
      "qiskit bControl:  Qubit(QuantumRegister(2, 'q37'), 0)\n",
      "number binary:  [0]\n",
      "adding x gates in numberControl\n",
      "counts:  [0, 2, 0]\n",
      "after if :  0 2 0\n",
      "denom:  -2.198806796638283\n",
      "n vals:  2 0 0\n",
      "numerator:  {'phi': -1.374254247898927, 'a': -1.0994033983191416, 'b': -0.2748508495797854}\n",
      "flavor:  phi\n",
      "angle:  1.8234765819369754\n",
      "number binary:  [0, 0]\n",
      "adding x gates in numberControl\n",
      "adding Toffolis numberControl\n",
      "qiskit phiControl:  Qubit(QuantumRegister(2, 'q39'), 0)\n",
      "number binary:  [0, 1]\n",
      "adding x gates in numberControl\n",
      "adding Toffolis numberControl\n",
      "qiskit aControl:  Qubit(QuantumRegister(2, 'q35'), 0)\n",
      "number binary:  [0, 0]\n",
      "adding x gates in numberControl\n",
      "adding Toffolis numberControl\n",
      "qiskit bControl:  Qubit(QuantumRegister(2, 'q37'), 0)\n",
      "number binary:  [0]\n",
      "adding x gates in numberControl\n",
      "denom:  -2.198806796638283\n",
      "n vals:  2 0 0\n",
      "numerator:  {'phi': -1.374254247898927, 'a': -1.0994033983191416, 'b': -0.2748508495797854}\n",
      "flavor:  a\n",
      "angle:  1.5707963267948968\n",
      "number binary:  [0, 0]\n",
      "adding x gates in numberControl\n",
      "adding Toffolis numberControl\n",
      "qiskit phiControl:  Qubit(QuantumRegister(2, 'q39'), 0)\n",
      "number binary:  [0, 1]\n",
      "adding x gates in numberControl\n",
      "adding Toffolis numberControl\n",
      "qiskit aControl:  Qubit(QuantumRegister(2, 'q35'), 0)\n",
      "number binary:  [0, 0]\n",
      "adding x gates in numberControl\n",
      "adding Toffolis numberControl\n",
      "qiskit bControl:  Qubit(QuantumRegister(2, 'q37'), 0)\n",
      "number binary:  [0]\n",
      "adding x gates in numberControl\n",
      "denom:  -2.198806796638283\n",
      "n vals:  2 0 0\n",
      "numerator:  {'phi': -1.374254247898927, 'a': -1.0994033983191416, 'b': -0.2748508495797854}\n",
      "flavor:  b\n",
      "angle:  0.7227342478134157\n",
      "number binary:  [0, 0]\n",
      "adding x gates in numberControl\n",
      "adding Toffolis numberControl\n",
      "qiskit phiControl:  Qubit(QuantumRegister(2, 'q39'), 0)\n",
      "number binary:  [0, 1]\n",
      "adding x gates in numberControl\n",
      "adding Toffolis numberControl\n",
      "qiskit aControl:  Qubit(QuantumRegister(2, 'q35'), 0)\n",
      "number binary:  [0, 0]\n",
      "adding x gates in numberControl\n",
      "adding Toffolis numberControl\n",
      "qiskit bControl:  Qubit(QuantumRegister(2, 'q37'), 0)\n",
      "number binary:  [0]\n",
      "adding x gates in numberControl\n",
      "counts:  [1, 0, 1]\n",
      "after if :  1 0 1\n",
      "denom:  -1.6491050974787125\n",
      "n vals:  0 1 1\n",
      "numerator:  {'phi': -1.374254247898927, 'a': -1.0994033983191416, 'b': -0.2748508495797854}\n",
      "flavor:  phi\n",
      "angle:  2.3005239830218627\n",
      "number binary:  [1, 0]\n",
      "adding x gates in numberControl\n",
      "adding Toffolis numberControl\n",
      "qiskit phiControl:  Qubit(QuantumRegister(2, 'q39'), 0)\n",
      "number binary:  [0, 0]\n",
      "adding x gates in numberControl\n",
      "adding Toffolis numberControl\n",
      "qiskit aControl:  Qubit(QuantumRegister(2, 'q35'), 0)\n",
      "number binary:  [1, 0]\n",
      "adding x gates in numberControl\n",
      "adding Toffolis numberControl\n",
      "qiskit bControl:  Qubit(QuantumRegister(2, 'q37'), 0)\n",
      "number binary:  [0]\n",
      "adding x gates in numberControl\n",
      "denom:  -1.6491050974787125\n",
      "n vals:  0 1 1\n",
      "numerator:  {'phi': -1.374254247898927, 'a': -1.0994033983191416, 'b': -0.2748508495797854}\n",
      "flavor:  a\n",
      "angle:  1.9106332362490186\n",
      "number binary:  [1, 0]\n",
      "adding x gates in numberControl\n",
      "adding Toffolis numberControl\n",
      "qiskit phiControl:  Qubit(QuantumRegister(2, 'q39'), 0)\n",
      "number binary:  [0, 0]\n",
      "adding x gates in numberControl\n",
      "adding Toffolis numberControl\n",
      "qiskit aControl:  Qubit(QuantumRegister(2, 'q35'), 0)\n",
      "number binary:  [1, 0]\n",
      "adding x gates in numberControl\n",
      "adding Toffolis numberControl\n",
      "qiskit bControl:  Qubit(QuantumRegister(2, 'q37'), 0)\n",
      "number binary:  [0]\n",
      "adding x gates in numberControl\n",
      "denom:  -1.6491050974787125\n",
      "n vals:  0 1 1\n",
      "numerator:  {'phi': -1.374254247898927, 'a': -1.0994033983191416, 'b': -0.2748508495797854}\n",
      "flavor:  b\n",
      "angle:  0.8410686705679302\n",
      "number binary:  [1, 0]\n",
      "adding x gates in numberControl\n",
      "adding Toffolis numberControl\n",
      "qiskit phiControl:  Qubit(QuantumRegister(2, 'q39'), 0)\n",
      "number binary:  [0, 0]\n",
      "adding x gates in numberControl\n",
      "adding Toffolis numberControl\n",
      "qiskit aControl:  Qubit(QuantumRegister(2, 'q35'), 0)\n",
      "number binary:  [1, 0]\n",
      "adding x gates in numberControl\n",
      "adding Toffolis numberControl\n",
      "qiskit bControl:  Qubit(QuantumRegister(2, 'q37'), 0)\n",
      "number binary:  [0]\n",
      "adding x gates in numberControl\n",
      "counts:  [1, 1, 0]\n",
      "after if :  1 1 0\n",
      "denom:  -2.4736576462180686\n",
      "n vals:  1 0 1\n",
      "numerator:  {'phi': -1.374254247898927, 'a': -1.0994033983191416, 'b': -0.2748508495797854}\n",
      "flavor:  phi\n",
      "angle:  1.6821373411358604\n",
      "number binary:  [1, 0]\n",
      "adding x gates in numberControl\n",
      "adding Toffolis numberControl\n",
      "qiskit phiControl:  Qubit(QuantumRegister(2, 'q39'), 0)\n",
      "number binary:  [1, 0]\n",
      "adding x gates in numberControl\n",
      "adding Toffolis numberControl\n",
      "qiskit aControl:  Qubit(QuantumRegister(2, 'q35'), 0)\n",
      "number binary:  [0, 0]\n",
      "adding x gates in numberControl\n",
      "adding Toffolis numberControl\n",
      "qiskit bControl:  Qubit(QuantumRegister(2, 'q37'), 0)\n",
      "number binary:  [0]\n",
      "adding x gates in numberControl\n",
      "denom:  -2.4736576462180686\n",
      "n vals:  1 0 1\n",
      "numerator:  {'phi': -1.374254247898927, 'a': -1.0994033983191416, 'b': -0.2748508495797854}\n",
      "flavor:  a\n",
      "angle:  1.4594553124539327\n",
      "number binary:  [1, 0]\n",
      "adding x gates in numberControl\n",
      "adding Toffolis numberControl\n",
      "qiskit phiControl:  Qubit(QuantumRegister(2, 'q39'), 0)\n",
      "number binary:  [1, 0]\n",
      "adding x gates in numberControl\n",
      "adding Toffolis numberControl\n",
      "qiskit aControl:  Qubit(QuantumRegister(2, 'q35'), 0)\n",
      "number binary:  [0, 0]\n",
      "adding x gates in numberControl\n",
      "adding Toffolis numberControl\n",
      "qiskit bControl:  Qubit(QuantumRegister(2, 'q37'), 0)\n",
      "number binary:  [0]\n",
      "adding x gates in numberControl\n"
     ]
    },
    {
     "name": "stdout",
     "output_type": "stream",
     "text": [
      "denom:  -2.4736576462180686\n",
      "n vals:  1 0 1\n",
      "numerator:  {'phi': -1.374254247898927, 'a': -1.0994033983191416, 'b': -0.2748508495797854}\n",
      "flavor:  b\n",
      "angle:  0.6796738189082439\n",
      "number binary:  [1, 0]\n",
      "adding x gates in numberControl\n",
      "adding Toffolis numberControl\n",
      "qiskit phiControl:  Qubit(QuantumRegister(2, 'q39'), 0)\n",
      "number binary:  [1, 0]\n",
      "adding x gates in numberControl\n",
      "adding Toffolis numberControl\n",
      "qiskit aControl:  Qubit(QuantumRegister(2, 'q35'), 0)\n",
      "number binary:  [0, 0]\n",
      "adding x gates in numberControl\n",
      "adding Toffolis numberControl\n",
      "qiskit bControl:  Qubit(QuantumRegister(2, 'q37'), 0)\n",
      "number binary:  [0]\n",
      "adding x gates in numberControl\n",
      "counts:  [2, 0, 0]\n",
      "after if :  2 0 0\n",
      "denom:  -2.748508495797854\n",
      "n vals:  0 0 2\n",
      "numerator:  {'phi': -1.374254247898927, 'a': -1.0994033983191416, 'b': -0.2748508495797854}\n",
      "flavor:  phi\n",
      "angle:  1.5707963267948968\n",
      "number binary:  [0, 1]\n",
      "adding x gates in numberControl\n",
      "adding Toffolis numberControl\n",
      "qiskit phiControl:  Qubit(QuantumRegister(2, 'q39'), 0)\n",
      "number binary:  [0, 0]\n",
      "adding x gates in numberControl\n",
      "adding Toffolis numberControl\n",
      "qiskit aControl:  Qubit(QuantumRegister(2, 'q35'), 0)\n",
      "number binary:  [0, 0]\n",
      "adding x gates in numberControl\n",
      "adding Toffolis numberControl\n",
      "qiskit bControl:  Qubit(QuantumRegister(2, 'q37'), 0)\n",
      "number binary:  [0]\n",
      "adding x gates in numberControl\n",
      "denom:  -2.748508495797854\n",
      "n vals:  0 0 2\n",
      "numerator:  {'phi': -1.374254247898927, 'a': -1.0994033983191416, 'b': -0.2748508495797854}\n",
      "flavor:  a\n",
      "angle:  1.369438406004566\n",
      "number binary:  [0, 1]\n",
      "adding x gates in numberControl\n",
      "adding Toffolis numberControl\n",
      "qiskit phiControl:  Qubit(QuantumRegister(2, 'q39'), 0)\n",
      "number binary:  [0, 0]\n",
      "adding x gates in numberControl\n",
      "adding Toffolis numberControl\n",
      "qiskit aControl:  Qubit(QuantumRegister(2, 'q35'), 0)\n",
      "number binary:  [0, 0]\n",
      "adding x gates in numberControl\n",
      "adding Toffolis numberControl\n",
      "qiskit bControl:  Qubit(QuantumRegister(2, 'q37'), 0)\n",
      "number binary:  [0]\n",
      "adding x gates in numberControl\n",
      "denom:  -2.748508495797854\n",
      "n vals:  0 0 2\n",
      "numerator:  {'phi': -1.374254247898927, 'a': -1.0994033983191416, 'b': -0.2748508495797854}\n",
      "flavor:  b\n",
      "angle:  0.6435011087932844\n",
      "number binary:  [0, 1]\n",
      "adding x gates in numberControl\n",
      "adding Toffolis numberControl\n",
      "qiskit phiControl:  Qubit(QuantumRegister(2, 'q39'), 0)\n",
      "number binary:  [0, 0]\n",
      "adding x gates in numberControl\n",
      "adding Toffolis numberControl\n",
      "qiskit aControl:  Qubit(QuantumRegister(2, 'q35'), 0)\n",
      "number binary:  [0, 0]\n",
      "adding x gates in numberControl\n",
      "adding Toffolis numberControl\n",
      "qiskit bControl:  Qubit(QuantumRegister(2, 'q37'), 0)\n",
      "number binary:  [0]\n",
      "adding x gates in numberControl\n",
      "k:  1\n",
      "counts:  [0, 0, 1]\n",
      "after if :  0 0 1\n",
      "denom:  -0.2748508495797854\n",
      "n vals:  0 1 0\n",
      "numerator:  {'phi': -1.374254247898927, 'a': -1.0994033983191416, 'b': -0.2748508495797854}\n",
      "flavor:  phi\n",
      "angle:  3.141592653589793\n",
      "number binary:  [0, 0]\n",
      "adding x gates in numberControl\n",
      "adding Toffolis numberControl\n",
      "qiskit phiControl:  Qubit(QuantumRegister(2, 'q39'), 0)\n",
      "number binary:  [0, 0]\n",
      "adding x gates in numberControl\n",
      "adding Toffolis numberControl\n",
      "qiskit aControl:  Qubit(QuantumRegister(2, 'q35'), 0)\n",
      "number binary:  [1, 0]\n",
      "adding x gates in numberControl\n",
      "adding Toffolis numberControl\n",
      "qiskit bControl:  Qubit(QuantumRegister(2, 'q37'), 0)\n",
      "number binary:  [0]\n",
      "adding x gates in numberControl\n",
      "denom:  -0.2748508495797854\n",
      "n vals:  0 1 0\n",
      "numerator:  {'phi': -1.374254247898927, 'a': -1.0994033983191416, 'b': -0.2748508495797854}\n",
      "flavor:  a\n",
      "angle:  3.141592653589793\n",
      "number binary:  [0, 0]\n",
      "adding x gates in numberControl\n",
      "adding Toffolis numberControl\n",
      "qiskit phiControl:  Qubit(QuantumRegister(2, 'q39'), 0)\n",
      "number binary:  [0, 0]\n",
      "adding x gates in numberControl\n",
      "adding Toffolis numberControl\n",
      "qiskit aControl:  Qubit(QuantumRegister(2, 'q35'), 0)\n",
      "number binary:  [1, 0]\n",
      "adding x gates in numberControl\n",
      "adding Toffolis numberControl\n",
      "qiskit bControl:  Qubit(QuantumRegister(2, 'q37'), 0)\n",
      "number binary:  [0]\n",
      "adding x gates in numberControl\n",
      "denom:  -0.2748508495797854\n",
      "n vals:  0 1 0\n",
      "numerator:  {'phi': -1.374254247898927, 'a': -1.0994033983191416, 'b': -0.2748508495797854}\n",
      "flavor:  b\n",
      "angle:  3.141592653589793\n",
      "number binary:  [0, 0]\n",
      "adding x gates in numberControl\n",
      "adding Toffolis numberControl\n",
      "qiskit phiControl:  Qubit(QuantumRegister(2, 'q39'), 0)\n",
      "number binary:  [0, 0]\n",
      "adding x gates in numberControl\n",
      "adding Toffolis numberControl\n",
      "qiskit aControl:  Qubit(QuantumRegister(2, 'q35'), 0)\n",
      "number binary:  [1, 0]\n",
      "adding x gates in numberControl\n",
      "adding Toffolis numberControl\n",
      "qiskit bControl:  Qubit(QuantumRegister(2, 'q37'), 0)\n",
      "number binary:  [0]\n",
      "adding x gates in numberControl\n",
      "counts:  [0, 1, 0]\n",
      "after if :  0 1 0\n",
      "denom:  -1.0994033983191416\n",
      "n vals:  1 0 0\n",
      "numerator:  {'phi': -1.374254247898927, 'a': -1.0994033983191416, 'b': -0.2748508495797854}\n",
      "flavor:  phi\n",
      "angle:  3.141592653589793\n",
      "number binary:  [0, 0]\n",
      "adding x gates in numberControl\n",
      "adding Toffolis numberControl\n",
      "qiskit phiControl:  Qubit(QuantumRegister(2, 'q39'), 0)\n",
      "number binary:  [1, 0]\n",
      "adding x gates in numberControl\n",
      "adding Toffolis numberControl\n",
      "qiskit aControl:  Qubit(QuantumRegister(2, 'q35'), 0)\n",
      "number binary:  [0, 0]\n",
      "adding x gates in numberControl\n",
      "adding Toffolis numberControl\n",
      "qiskit bControl:  Qubit(QuantumRegister(2, 'q37'), 0)\n",
      "number binary:  [0]\n",
      "adding x gates in numberControl\n",
      "denom:  -1.0994033983191416\n",
      "n vals:  1 0 0\n",
      "numerator:  {'phi': -1.374254247898927, 'a': -1.0994033983191416, 'b': -0.2748508495797854}\n",
      "flavor:  a\n",
      "angle:  3.141592653589793\n",
      "number binary:  [0, 0]\n",
      "adding x gates in numberControl\n",
      "adding Toffolis numberControl\n",
      "qiskit phiControl:  Qubit(QuantumRegister(2, 'q39'), 0)\n",
      "number binary:  [1, 0]\n",
      "adding x gates in numberControl\n",
      "adding Toffolis numberControl\n",
      "qiskit aControl:  Qubit(QuantumRegister(2, 'q35'), 0)\n",
      "number binary:  [0, 0]\n",
      "adding x gates in numberControl\n",
      "adding Toffolis numberControl\n",
      "qiskit bControl:  Qubit(QuantumRegister(2, 'q37'), 0)\n",
      "number binary:  [0]\n",
      "adding x gates in numberControl\n",
      "denom:  -1.0994033983191416\n",
      "n vals:  1 0 0\n",
      "numerator:  {'phi': -1.374254247898927, 'a': -1.0994033983191416, 'b': -0.2748508495797854}\n",
      "flavor:  b\n",
      "angle:  1.0471975511965976\n",
      "number binary:  [0, 0]\n",
      "adding x gates in numberControl\n",
      "adding Toffolis numberControl\n",
      "qiskit phiControl:  Qubit(QuantumRegister(2, 'q39'), 0)\n",
      "number binary:  [1, 0]\n",
      "adding x gates in numberControl\n",
      "adding Toffolis numberControl\n",
      "qiskit aControl:  Qubit(QuantumRegister(2, 'q35'), 0)\n",
      "number binary:  [0, 0]\n",
      "adding x gates in numberControl\n",
      "adding Toffolis numberControl\n",
      "qiskit bControl:  Qubit(QuantumRegister(2, 'q37'), 0)\n",
      "number binary:  [0]\n",
      "adding x gates in numberControl\n",
      "counts:  [1, 0, 0]\n",
      "after if :  1 0 0\n",
      "denom:  -1.374254247898927\n",
      "n vals:  0 0 1\n",
      "numerator:  {'phi': -1.374254247898927, 'a': -1.0994033983191416, 'b': -0.2748508495797854}\n",
      "flavor:  phi\n",
      "angle:  3.141592653589793\n",
      "number binary:  [1, 0]\n",
      "adding x gates in numberControl\n",
      "adding Toffolis numberControl\n",
      "qiskit phiControl:  Qubit(QuantumRegister(2, 'q39'), 0)\n",
      "number binary:  [0, 0]\n",
      "adding x gates in numberControl\n",
      "adding Toffolis numberControl\n",
      "qiskit aControl:  Qubit(QuantumRegister(2, 'q35'), 0)\n",
      "number binary:  [0, 0]\n",
      "adding x gates in numberControl\n",
      "adding Toffolis numberControl\n",
      "qiskit bControl:  Qubit(QuantumRegister(2, 'q37'), 0)\n",
      "number binary:  [0]\n",
      "adding x gates in numberControl\n",
      "denom:  -1.374254247898927\n",
      "n vals:  0 0 1\n",
      "numerator:  {'phi': -1.374254247898927, 'a': -1.0994033983191416, 'b': -0.2748508495797854}\n",
      "flavor:  a\n",
      "angle:  2.214297435588181\n",
      "number binary:  [1, 0]\n",
      "adding x gates in numberControl\n",
      "adding Toffolis numberControl\n",
      "qiskit phiControl:  Qubit(QuantumRegister(2, 'q39'), 0)\n",
      "number binary:  [0, 0]\n",
      "adding x gates in numberControl\n",
      "adding Toffolis numberControl\n",
      "qiskit aControl:  Qubit(QuantumRegister(2, 'q35'), 0)\n",
      "number binary:  [0, 0]\n",
      "adding x gates in numberControl\n",
      "adding Toffolis numberControl\n",
      "qiskit bControl:  Qubit(QuantumRegister(2, 'q37'), 0)\n",
      "number binary:  [0]\n",
      "adding x gates in numberControl\n",
      "denom:  -1.374254247898927\n",
      "n vals:  0 0 1\n",
      "numerator:  {'phi': -1.374254247898927, 'a': -1.0994033983191416, 'b': -0.2748508495797854}\n",
      "flavor:  b\n",
      "angle:  0.9272952180016122\n",
      "number binary:  [1, 0]\n",
      "adding x gates in numberControl\n",
      "adding Toffolis numberControl\n",
      "qiskit phiControl:  Qubit(QuantumRegister(2, 'q39'), 0)\n",
      "number binary:  [0, 0]\n",
      "adding x gates in numberControl\n",
      "adding Toffolis numberControl\n",
      "qiskit aControl:  Qubit(QuantumRegister(2, 'q35'), 0)\n",
      "number binary:  [0, 0]\n",
      "adding x gates in numberControl\n",
      "adding Toffolis numberControl\n",
      "qiskit bControl:  Qubit(QuantumRegister(2, 'q37'), 0)\n",
      "number binary:  [0]\n",
      "adding x gates in numberControl\n"
     ]
    },
    {
     "name": "stdout",
     "output_type": "stream",
     "text": [
      "number binary:  [0, 0]\n",
      "adding x gates in numberControl\n",
      "adding Toffolis numberControl\n",
      "number binary:  [1, 0]\n",
      "adding x gates in numberControl\n",
      "adding Toffolis numberControl\n",
      "k:  0\n",
      "m:  0\n",
      "ni:  2\n",
      "pReg:  QuantumRegister(9, 'q29')\n",
      "QuantumRegister(9, 'q29')\n",
      "new particle register:  QuantumRegister(9, 'q29')\n",
      " oldParticleReg[k*p_len + 2]:  Qubit(QuantumRegister(9, 'q29'), 2)\n",
      "newParticleReg[(n_i+m)*p_len+0]:  Qubit(QuantumRegister(9, 'q29'), 6)\n",
      "hReg[m:(m+h_len)]:  [Qubit(QuantumRegister(2, 'q30'), 0), Qubit(QuantumRegister(2, 'q30'), 1)]\n",
      "number binary:  [0, 1]\n",
      "adding x gates in numberControl\n",
      "adding Toffolis numberControl\n",
      "k:  1\n",
      "m:  0\n",
      "ni:  2\n",
      "pReg:  QuantumRegister(9, 'q29')\n",
      "QuantumRegister(9, 'q29')\n",
      "new particle register:  QuantumRegister(9, 'q29')\n",
      " oldParticleReg[k*p_len + 2]:  Qubit(QuantumRegister(9, 'q29'), 5)\n",
      "newParticleReg[(n_i+m)*p_len+0]:  Qubit(QuantumRegister(9, 'q29'), 6)\n",
      "hReg[m:(m+h_len)]:  [Qubit(QuantumRegister(2, 'q30'), 0), Qubit(QuantumRegister(2, 'q30'), 1)]\n",
      "generated circuit on 11 qubits\n"
     ]
    }
   ],
   "source": [
    "circ, qubits = qcc.createCircuit(n_i, N, eps, g_1, g_2, g_12, [[0, 0, 1]])"
   ]
  },
  {
   "cell_type": "code",
   "execution_count": null,
   "metadata": {},
   "outputs": [],
   "source": []
  },
  {
   "cell_type": "markdown",
   "metadata": {},
   "source": [
    "#### statevector simulator"
   ]
  },
  {
   "cell_type": "code",
   "execution_count": null,
   "metadata": {},
   "outputs": [],
   "source": [
    "simulator_sv = Aer.get_backend('statevector_simulator')"
   ]
  },
  {
   "cell_type": "code",
   "execution_count": 13,
   "metadata": {},
   "outputs": [
    {
     "name": "stdout",
     "output_type": "stream",
     "text": [
      "{'pReg': QuantumRegister(9, 'q29'), 'hReg': QuantumRegister(2, 'q30'), 'w_hReg': QuantumRegister(2, 'q31'), 'eReg': QuantumRegister(1, 'q32'), 'wReg': QuantumRegister(5, 'q33'), 'n_aReg': QuantumRegister(2, 'q34'), 'w_aReg': QuantumRegister(2, 'q35'), 'n_bReg': QuantumRegister(2, 'q36'), 'w_bReg': QuantumRegister(2, 'q37'), 'n_phiReg': QuantumRegister(2, 'q38'), 'w_phiReg': QuantumRegister(2, 'q39')}\n"
     ]
    }
   ],
   "source": [
    "print(qubits)"
   ]
  },
  {
   "cell_type": "code",
   "execution_count": null,
   "metadata": {},
   "outputs": [],
   "source": [
    "result = execute(circ, simulator_sv).result()\n",
    "statevector = result.get_statevector(circ)\n",
    "\n",
    "print(statevector)"
   ]
  },
  {
   "cell_type": "code",
   "execution_count": null,
   "metadata": {},
   "outputs": [],
   "source": [
    "# print(abs(complex(-2, 3)))\n",
    "[print(\"position of non zero element: \", list(statevector).index(i), \"\\nvalue: \", \n",
    "       i, \"\\nabsolute value: \", abs(i)) for i in statevector if abs(i) > 10**(-5)]"
   ]
  },
  {
   "cell_type": "markdown",
   "metadata": {},
   "source": [
    "#### qasm simulator"
   ]
  },
  {
   "cell_type": "code",
   "execution_count": 5,
   "metadata": {},
   "outputs": [],
   "source": [
    "simulator_qasm = Aer.get_backend('qasm_simulator')"
   ]
  },
  {
   "cell_type": "code",
   "execution_count": 6,
   "metadata": {},
   "outputs": [],
   "source": [
    "circ.measure_all()\n",
    "#measure out individual registers"
   ]
  },
  {
   "cell_type": "code",
   "execution_count": 7,
   "metadata": {},
   "outputs": [
    {
     "ename": "QiskitError",
     "evalue": "'Data for experiment \"circuit9\" could not be found.'",
     "output_type": "error",
     "traceback": [
      "\u001b[0;31m---------------------------------------------------------------------------\u001b[0m",
      "\u001b[0;31mQiskitError\u001b[0m                               Traceback (most recent call last)",
      "\u001b[0;32m<ipython-input-7-8cc307dca2e0>\u001b[0m in \u001b[0;36m<module>\u001b[0;34m\u001b[0m\n\u001b[1;32m      1\u001b[0m \u001b[0mjob\u001b[0m \u001b[0;34m=\u001b[0m \u001b[0mexecute\u001b[0m\u001b[0;34m(\u001b[0m\u001b[0mcirc\u001b[0m\u001b[0;34m,\u001b[0m \u001b[0msimulator_qasm\u001b[0m\u001b[0;34m,\u001b[0m \u001b[0mshots\u001b[0m\u001b[0;34m=\u001b[0m\u001b[0;36m8000\u001b[0m\u001b[0;34m)\u001b[0m\u001b[0;34m\u001b[0m\u001b[0;34m\u001b[0m\u001b[0m\n\u001b[1;32m      2\u001b[0m \u001b[0mresult\u001b[0m \u001b[0;34m=\u001b[0m \u001b[0mjob\u001b[0m\u001b[0;34m.\u001b[0m\u001b[0mresult\u001b[0m\u001b[0;34m(\u001b[0m\u001b[0;34m)\u001b[0m\u001b[0;34m\u001b[0m\u001b[0;34m\u001b[0m\u001b[0m\n\u001b[0;32m----> 3\u001b[0;31m \u001b[0mcounts\u001b[0m \u001b[0;34m=\u001b[0m \u001b[0mresult\u001b[0m\u001b[0;34m.\u001b[0m\u001b[0mget_counts\u001b[0m\u001b[0;34m(\u001b[0m\u001b[0mcirc\u001b[0m\u001b[0;34m)\u001b[0m\u001b[0;34m\u001b[0m\u001b[0;34m\u001b[0m\u001b[0m\n\u001b[0m",
      "\u001b[0;32m~/opt/anaconda3/lib/python3.7/site-packages/qiskit/result/result.py\u001b[0m in \u001b[0;36mget_counts\u001b[0;34m(self, experiment)\u001b[0m\n\u001b[1;32m    257\u001b[0m         \u001b[0mdict_list\u001b[0m \u001b[0;34m=\u001b[0m \u001b[0;34m[\u001b[0m\u001b[0;34m]\u001b[0m\u001b[0;34m\u001b[0m\u001b[0;34m\u001b[0m\u001b[0m\n\u001b[1;32m    258\u001b[0m         \u001b[0;32mfor\u001b[0m \u001b[0mkey\u001b[0m \u001b[0;32min\u001b[0m \u001b[0mexp_keys\u001b[0m\u001b[0;34m:\u001b[0m\u001b[0;34m\u001b[0m\u001b[0;34m\u001b[0m\u001b[0m\n\u001b[0;32m--> 259\u001b[0;31m             \u001b[0mexp\u001b[0m \u001b[0;34m=\u001b[0m \u001b[0mself\u001b[0m\u001b[0;34m.\u001b[0m\u001b[0m_get_experiment\u001b[0m\u001b[0;34m(\u001b[0m\u001b[0mkey\u001b[0m\u001b[0;34m)\u001b[0m\u001b[0;34m\u001b[0m\u001b[0;34m\u001b[0m\u001b[0m\n\u001b[0m\u001b[1;32m    260\u001b[0m             \u001b[0;32mtry\u001b[0m\u001b[0;34m:\u001b[0m\u001b[0;34m\u001b[0m\u001b[0;34m\u001b[0m\u001b[0m\n\u001b[1;32m    261\u001b[0m                 \u001b[0mheader\u001b[0m \u001b[0;34m=\u001b[0m \u001b[0mexp\u001b[0m\u001b[0;34m.\u001b[0m\u001b[0mheader\u001b[0m\u001b[0;34m.\u001b[0m\u001b[0mto_dict\u001b[0m\u001b[0;34m(\u001b[0m\u001b[0;34m)\u001b[0m\u001b[0;34m\u001b[0m\u001b[0;34m\u001b[0m\u001b[0m\n",
      "\u001b[0;32m~/opt/anaconda3/lib/python3.7/site-packages/qiskit/result/result.py\u001b[0m in \u001b[0;36m_get_experiment\u001b[0;34m(self, key)\u001b[0m\n\u001b[1;32m    362\u001b[0m             \u001b[0;32mif\u001b[0m \u001b[0mlen\u001b[0m\u001b[0;34m(\u001b[0m\u001b[0mexp\u001b[0m\u001b[0;34m)\u001b[0m \u001b[0;34m==\u001b[0m \u001b[0;36m0\u001b[0m\u001b[0;34m:\u001b[0m\u001b[0;34m\u001b[0m\u001b[0;34m\u001b[0m\u001b[0m\n\u001b[1;32m    363\u001b[0m                 raise QiskitError('Data for experiment \"%s\" could not be found.' %\n\u001b[0;32m--> 364\u001b[0;31m                                   key)\n\u001b[0m\u001b[1;32m    365\u001b[0m             \u001b[0;32mif\u001b[0m \u001b[0mlen\u001b[0m\u001b[0;34m(\u001b[0m\u001b[0mexp\u001b[0m\u001b[0;34m)\u001b[0m \u001b[0;34m==\u001b[0m \u001b[0;36m1\u001b[0m\u001b[0;34m:\u001b[0m\u001b[0;34m\u001b[0m\u001b[0;34m\u001b[0m\u001b[0m\n\u001b[1;32m    366\u001b[0m                 \u001b[0mexp\u001b[0m \u001b[0;34m=\u001b[0m \u001b[0mexp\u001b[0m\u001b[0;34m[\u001b[0m\u001b[0;36m0\u001b[0m\u001b[0;34m]\u001b[0m\u001b[0;34m\u001b[0m\u001b[0;34m\u001b[0m\u001b[0m\n",
      "\u001b[0;31mQiskitError\u001b[0m: 'Data for experiment \"circuit9\" could not be found.'"
     ]
    }
   ],
   "source": [
    "job = execute(circ, simulator_qasm, shots=8000)\n",
    "result = job.result()\n",
    "counts = result.get_counts(circ)"
   ]
  },
  {
   "cell_type": "code",
   "execution_count": null,
   "metadata": {},
   "outputs": [],
   "source": [
    "print(result)"
   ]
  },
  {
   "cell_type": "code",
   "execution_count": null,
   "metadata": {},
   "outputs": [],
   "source": [
    "print(counts)"
   ]
  },
  {
   "cell_type": "markdown",
   "metadata": {},
   "source": [
    "### Cirq"
   ]
  },
  {
   "cell_type": "markdown",
   "metadata": {},
   "source": [
    "#### statevector simulator equv"
   ]
  },
  {
   "cell_type": "code",
   "execution_count": 14,
   "metadata": {},
   "outputs": [
    {
     "name": "stdout",
     "output_type": "stream",
     "text": [
      "preg:  [[cirq.GridQubit(0, 0), cirq.GridQubit(0, 1), cirq.GridQubit(0, 2)], [cirq.GridQubit(1, 0), cirq.GridQubit(1, 1), cirq.GridQubit(1, 2)], [cirq.GridQubit(2, 0), cirq.GridQubit(2, 1), cirq.GridQubit(2, 2)]]\n",
      "m:  0\n",
      "ni;  2\n",
      "new particle register:  [cirq.GridQubit(2, 0), cirq.GridQubit(2, 1), cirq.GridQubit(2, 2)]\n",
      "preg:  [[cirq.GridQubit(0, 0), cirq.GridQubit(0, 1), cirq.GridQubit(0, 2)], [cirq.GridQubit(1, 0), cirq.GridQubit(1, 1), cirq.GridQubit(1, 2)], [cirq.GridQubit(2, 0), cirq.GridQubit(2, 1), cirq.GridQubit(2, 2)]]\n",
      "m:  0\n",
      "ni;  2\n",
      "new particle register:  [cirq.GridQubit(2, 0), cirq.GridQubit(2, 1), cirq.GridQubit(2, 2)]\n"
     ]
    }
   ],
   "source": [
    "circC, qubitsC = cc.createCircuit(n_i, N, eps, g_1, g_2, g_12, [[0, 0, 1]])"
   ]
  },
  {
   "cell_type": "code",
   "execution_count": null,
   "metadata": {},
   "outputs": [],
   "source": [
    "print(qubitsC)"
   ]
  },
  {
   "cell_type": "code",
   "execution_count": null,
   "metadata": {},
   "outputs": [],
   "source": [
    "resultC = simulatorC.simulate(circC)\n",
    "statevectorC = resultC.final_state_vector\n",
    "print(statevectorC)"
   ]
  },
  {
   "cell_type": "code",
   "execution_count": null,
   "metadata": {},
   "outputs": [],
   "source": [
    "[print(\"position of non zero element: \", list(statevectorC).index(i), \"\\nvalue: \", \n",
    "       i, \"\\nabsolute value: \", abs(i)) for i in statevectorC if abs(i) > 10**(-5)]\n"
   ]
  },
  {
   "cell_type": "code",
   "execution_count": null,
   "metadata": {},
   "outputs": [],
   "source": [
    "print(len(statevectorC))"
   ]
  },
  {
   "cell_type": "markdown",
   "metadata": {},
   "source": [
    "#### qasm simulator equiv"
   ]
  },
  {
   "cell_type": "code",
   "execution_count": null,
   "metadata": {},
   "outputs": [],
   "source": [
    "def reverse(lst):\n",
    "    \"\"\"reverse a list in place\"\"\"\n",
    "    lst.reverse()\n",
    "    return lst"
   ]
  },
  {
   "cell_type": "code",
   "execution_count": null,
   "metadata": {},
   "outputs": [],
   "source": [
    "circC.append(cirq.measure(*reverse(qubitsC['pReg'][0]), key='p0'))\n",
    "circC.append(cirq.measure(*reverse(qubitsC['pReg'][1]), key='p1'))\n",
    "circC.append(cirq.measure(*reverse(qubitsC['hReg'][0]), key='h0'))\n",
    "circC.append(cirq.measure(*reverse(qubitsC['w_hReg']), key='w_h'))\n",
    "circC.append(cirq.measure(*reverse(qubitsC['eReg']), key='e'))\n",
    "circC.append(cirq.measure(*reverse(qubitsC['wReg']), key='w'))\n",
    "circC.append(cirq.measure(*reverse(qubitsC['n_aReg']), key='n_a'))\n",
    "circC.append(cirq.measure(*reverse(qubitsC['n_bReg']), key='n_b'))\n",
    "circC.append(cirq.measure(*reverse(qubitsC['n_phiReg']), key='n_phi'))\n",
    "circC.append(cirq.measure(*reverse(qubitsC['w_aReg']), key='w_a'))\n",
    "circC.append(cirq.measure(*reverse(qubitsC['w_bReg']), key='w_b'))\n",
    "circC.append(cirq.measure(*reverse(qubitsC['w_phiReg']), key='w_phi'))\n",
    "\n"
   ]
  },
  {
   "cell_type": "code",
   "execution_count": null,
   "metadata": {},
   "outputs": [],
   "source": [
    "simulator_c = cirq.Simulator()\n",
    "result = simulator_c.run(circC, repetitions=8000)"
   ]
  },
  {
   "cell_type": "code",
   "execution_count": null,
   "metadata": {},
   "outputs": [],
   "source": [
    "# [result.measurements['p0'], result.measurements['p1']]\n",
    "# result.measurements['p1'] == [0,0,0]\n",
    "count = 0\n",
    "for i in result.measurements['p1']:\n",
    "    if i[0] == 0 and i[0]==0 and i[2]==0:\n",
    "        count += 1\n",
    "print(count)\n"
   ]
  },
  {
   "cell_type": "code",
   "execution_count": null,
   "metadata": {},
   "outputs": [],
   "source": [
    "result.measurements['p1']\n"
   ]
  }
 ],
 "metadata": {
  "kernelspec": {
   "display_name": "Python 3",
   "language": "python",
   "name": "python3"
  },
  "language_info": {
   "codemirror_mode": {
    "name": "ipython",
    "version": 3
   },
   "file_extension": ".py",
   "mimetype": "text/x-python",
   "name": "python",
   "nbconvert_exporter": "python",
   "pygments_lexer": "ipython3",
   "version": "3.7.6"
  }
 },
 "nbformat": 4,
 "nbformat_minor": 4
}
