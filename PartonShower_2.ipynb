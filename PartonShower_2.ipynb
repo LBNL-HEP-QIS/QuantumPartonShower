{
 "cells": [
  {
   "cell_type": "code",
   "execution_count": 1,
   "metadata": {},
   "outputs": [],
   "source": [
    "import numpy as np\n",
    "import math\n",
    "from qiskit import QuantumCircuit, QuantumRegister, execute, Aer\n",
    "from qiskit.providers.aer import QasmSimulator\n",
    "import qiskit_create_circ as qcc\n",
    "import cirq\n",
    "import create_circuit as cc\n",
    "from cirq import GridQubit, X, CNOT, TOFFOLI, ry\n",
    "from cirq import Simulator\n",
    "early = cirq.InsertStrategy.EARLIEST\n",
    "new = cirq.InsertStrategy.NEW_THEN_INLINE"
   ]
  },
  {
   "cell_type": "markdown",
   "metadata": {},
   "source": [
    "# Defining initial variables and circuit"
   ]
  },
  {
   "cell_type": "code",
   "execution_count": 2,
   "metadata": {},
   "outputs": [
    {
     "name": "stdout",
     "output_type": "stream",
     "text": [
      "nqubits_a_b_phi:  3\n"
     ]
    }
   ],
   "source": [
    "N = 1\n",
    "m = 0\n",
    "n_i = 3\n",
    "L = int(math.floor(math.log(N + n_i, 2)) + 1)\n",
    "l = int(math.floor(math.log(m + n_i, 2)) + 1)\n",
    "\n",
    "g_1, g_2, g_12 = 2, 1, 0\n",
    "gp = math.sqrt(abs((g_1 - g_2) ** 2 + 4 * g_12 ** 2))\n",
    "if g_1 > g_2:\n",
    "    gp = -gp\n",
    "g_a, g_b = (g_1 + g_2 - gp) / 2, (g_1 + g_2 + gp) / 2\n",
    "u = math.sqrt(abs((gp + g_1 - g_2)/ (2 * gp)))\n",
    "eps = .001\n",
    "\n",
    "#qiskit\n",
    "pReg, hReg, w_hReg, eReg, wReg, n_aReg, w_aReg, n_bReg, w_bReg, n_phiReg, w_phiReg = qcc.allocateQubits(N, n_i, L)\n",
    "timeStepList, P_aList, P_bList, P_phiList, Delta_aList, Delta_bList, Delta_phiList = [], [], [], [], [], [], []\n",
    "qcc.populateParameterLists(N, timeStepList, P_aList, P_bList, P_phiList, Delta_aList, Delta_bList, \n",
    "                       Delta_phiList, g_a, g_b, eps)\n",
    "circuit = QuantumCircuit(pReg, hReg, w_hReg, eReg, wReg, n_aReg, w_aReg, n_bReg, w_bReg, n_phiReg, w_phiReg)\n",
    "\n",
    "# circuit = QuantumCircuit(pReg, hReg, eReg, wReg, n_aReg, n_bReg, n_phiReg)\n",
    "\n",
    "simulator = Aer.get_backend('statevector_simulator')\n",
    "\n",
    "#cirq\n",
    "pRegC, hRegC, w_hRegC, eRegC, wRegC, n_aRegC, w_aRegC, n_bRegC, w_bRegC, n_phiRegC, w_phiRegC = [], [], [], [], [], [], [], [], [], [], []\n",
    "cc.allocateQubs(N, n_i, L, pRegC, hRegC, w_hRegC, eRegC, wRegC, n_aRegC, w_aRegC, n_bRegC, w_bRegC, n_phiRegC, w_phiRegC)\n",
    "qubits = {'pRegC': pRegC, 'hRegC': hRegC, 'w_hRegC': w_hRegC, 'eRegC': eRegC, 'wRegC': wRegC, 'n_aRegC': n_aRegC,\n",
    "               'w_aRegC': w_aRegC, 'n_bRegC': n_bRegC, 'w_bRegC': w_bRegC, 'n_phiRegC': n_phiRegC, 'w_phiRegC': w_phiRegC}\n",
    "timeStepListC, P_aListC, P_bListC, P_phiListC, Delta_aListC, Delta_bListC, Delta_phiListC = [], [], [], [], [], [], []\n",
    "cc.populateParameterLists(N, timeStepListC, P_aListC, P_bListC, P_phiListC, Delta_aListC, Delta_bListC,\n",
    "                       Delta_phiListC, g_a, g_b, eps)\n",
    "circuitC = cirq.Circuit()\n",
    "simulatorC = Simulator()\n"
   ]
  },
  {
   "cell_type": "markdown",
   "metadata": {},
   "source": [
    "#### uncomment to add x gates on all qubits"
   ]
  },
  {
   "cell_type": "code",
   "execution_count": 3,
   "metadata": {},
   "outputs": [
    {
     "data": {
      "text/plain": [
       "<qiskit.circuit.instructionset.InstructionSet at 0x1a2131cbd0>"
      ]
     },
     "execution_count": 3,
     "metadata": {},
     "output_type": "execute_result"
    }
   ],
   "source": [
    "# #qiskit\n",
    "# [[circuit.h(qubit) for qubit in Reg] for Reg in circuit.qregs]\n",
    "# [[print(qubit) for qubit in Reg] for Reg in circuit.qregs]\n",
    "\n",
    "circuit.x(eReg[0])\n",
    "circuit.x(n_aReg[0])\n",
    "# circuit.x(n_bReg[0])\n",
    "circuit.x(n_phiReg[0])\n",
    "circuit.x(pReg[0])\n",
    "\n",
    "# #cirq\n",
    "# circuitC.append([[X((qubit)) for qubit in pRegC[i]] for i in range(N+n_i)])\n",
    "# circuitC.append([[X((qubit)) for qubit in hRegC[i]] for i in range(N)])\n",
    "# circuitC.append(X(w_hRegC[0]))\n",
    "# circuitC.append([X(eRegC[j]) for j in range(len(eRegC))])\n",
    "# circuitC.append([X(wRegC[j]) for j in range(len(wRegC))])\n",
    "# circuitC.append([X(n_phiRegC[j]) for j in range(len(n_phiRegC))])\n",
    "# circuitC.append([X(w_phiRegC[j]) for j in range(len(w_phiRegC))])\n",
    "# circuitC.append([X(n_aRegC[j]) for j in range(len(n_aRegC))])\n",
    "# circuitC.append([X(w_aRegC[j]) for j in range(len(w_aRegC))])\n",
    "# circuitC.append([X(n_bRegC[j]) for j in range(len(n_bRegC))])\n",
    "# circuitC.append([X(w_bRegC[j]) for j in range(len(w_bRegC))])"
   ]
  },
  {
   "cell_type": "markdown",
   "metadata": {},
   "source": [
    "### qiskit registers"
   ]
  },
  {
   "cell_type": "code",
   "execution_count": 5,
   "metadata": {},
   "outputs": [
    {
     "name": "stdout",
     "output_type": "stream",
     "text": [
      "pReg:  QuantumRegister(6, 'q0')\n",
      "hReg:  QuantumRegister(2, 'q1')\n",
      "w_hReg:  QuantumRegister(2, 'q2')\n",
      "eReg:  QuantumRegister(1, 'q3')\n",
      "wReg:  QuantumRegister(5, 'q4')\n",
      "n_aReg:  QuantumRegister(3, 'q5')\n",
      "w_aReg:  QuantumRegister(3, 'q6')\n",
      "n_bReg:  QuantumRegister(3, 'q7')\n",
      "w_bReg:  QuantumRegister(3, 'q8')\n",
      "w_phiReg:  QuantumRegister(3, 'q9')\n",
      "w_phiReg:  QuantumRegister(3, 'q10')\n"
     ]
    }
   ],
   "source": [
    "print(\"pReg: \", pReg)\n",
    "print(\"hReg: \", hReg)\n",
    "print(\"w_hReg: \", w_hReg)\n",
    "print(\"eReg: \", eReg)\n",
    "print(\"wReg: \", wReg)\n",
    "print(\"n_aReg: \", n_aReg)\n",
    "print(\"w_aReg: \", w_aReg)\n",
    "print(\"n_bReg: \", n_bReg)\n",
    "print(\"w_bReg: \", w_bReg)\n",
    "print(\"w_phiReg: \", n_phiReg)\n",
    "print(\"w_phiReg: \", w_phiReg)"
   ]
  },
  {
   "cell_type": "markdown",
   "metadata": {},
   "source": [
    "### cirq registers"
   ]
  },
  {
   "cell_type": "code",
   "execution_count": null,
   "metadata": {},
   "outputs": [],
   "source": [
    "print(\"pReg: \", pRegC)\n",
    "print(\"hReg: \", hRegC)\n",
    "print(\"w_hReg: \", w_hRegC)\n",
    "print(\"eReg: \", eRegC)\n",
    "print(\"wReg: \", wRegC)\n",
    "print(\"n_aReg: \", n_aRegC)\n",
    "print(\"w_aReg: \", w_aRegC)\n",
    "print(\"n_bReg: \", n_bRegC)\n",
    "print(\"w_bReg: \", w_bRegC)\n",
    "print(\"n_phiReg: \", n_phiRegC)\n",
    "print(\"w_phiReg: \", w_phiRegC)"
   ]
  },
  {
   "cell_type": "markdown",
   "metadata": {},
   "source": [
    "# Test uCount"
   ]
  },
  {
   "cell_type": "markdown",
   "metadata": {},
   "source": [
    "### Qiskit"
   ]
  },
  {
   "cell_type": "code",
   "execution_count": null,
   "metadata": {},
   "outputs": [],
   "source": [
    "qcc.uCount(circuit, m, n_i, l, pReg, wReg, n_aReg, w_aReg, n_bReg, w_bReg, n_phiReg, w_phiReg)\n",
    "# print(circuit)"
   ]
  },
  {
   "cell_type": "code",
   "execution_count": null,
   "metadata": {},
   "outputs": [],
   "source": [
    "result = execute(circuit, simulator).result()\n",
    "statevector = result.get_statevector(circuit)\n",
    "print(statevector)"
   ]
  },
  {
   "cell_type": "markdown",
   "metadata": {},
   "source": [
    "### Cirq"
   ]
  },
  {
   "cell_type": "code",
   "execution_count": null,
   "metadata": {},
   "outputs": [],
   "source": [
    "cc.uCount(circuitC, m, n_i, l, pRegC, wRegC, n_aRegC, w_aRegC, n_bRegC, w_bRegC, n_phiRegC, w_phiRegC)\n"
   ]
  },
  {
   "cell_type": "code",
   "execution_count": null,
   "metadata": {},
   "outputs": [],
   "source": [
    "resultC = simulatorC.simulate(circuitC)\n",
    "statevectorC = resultC.final_state_vector\n",
    "print(statevectorC)"
   ]
  },
  {
   "cell_type": "markdown",
   "metadata": {},
   "source": [
    "# Test uE"
   ]
  },
  {
   "cell_type": "markdown",
   "metadata": {},
   "source": [
    "### Qiskit"
   ]
  },
  {
   "cell_type": "code",
   "execution_count": null,
   "metadata": {},
   "outputs": [],
   "source": [
    "qcc.uE(circuit, l, n_i, m, n_phiReg, w_phiReg, n_aReg, w_aReg, n_bReg, w_bReg, wReg, eReg,\n",
    "           Delta_phiList[0], Delta_aList[0], Delta_bList[0])"
   ]
  },
  {
   "cell_type": "code",
   "execution_count": null,
   "metadata": {},
   "outputs": [],
   "source": [
    "result = execute(circuit, simulator).result()\n",
    "statevector = result.get_statevector(circuit)\n",
    "\n",
    "print(statevector)"
   ]
  },
  {
   "cell_type": "markdown",
   "metadata": {},
   "source": [
    "### Cirq"
   ]
  },
  {
   "cell_type": "code",
   "execution_count": null,
   "metadata": {},
   "outputs": [],
   "source": [
    "cc.uE(circuitC, l, n_i, m, n_phiRegC, w_phiRegC, n_aRegC, w_aRegC, n_bRegC, w_bRegC, wRegC, eRegC,\n",
    "           Delta_phiListC[0], Delta_aListC[0], Delta_bListC[0])"
   ]
  },
  {
   "cell_type": "code",
   "execution_count": null,
   "metadata": {},
   "outputs": [],
   "source": [
    "resultC = simulatorC.simulate(circuitC)\n",
    "statevectorC = resultC.final_state_vector\n",
    "print(statevectorC)"
   ]
  },
  {
   "cell_type": "markdown",
   "metadata": {},
   "source": [
    "# Test U_h"
   ]
  },
  {
   "cell_type": "markdown",
   "metadata": {},
   "source": [
    "### Qiskit"
   ]
  },
  {
   "cell_type": "code",
   "execution_count": 4,
   "metadata": {},
   "outputs": [
    {
     "name": "stdout",
     "output_type": "stream",
     "text": [
      "after if :  3 0 0\n",
      "denom:  -4.122762743696781\n",
      "n vals:  0 0 3\n",
      "numerator:  {'phi': -1.374254247898927, 'a': -1.0994033983191416, 'b': -0.2748508495797854}\n",
      "flavor:  phi\n",
      "angle:  1.2309594173407745\n",
      "qiskit phiControl:  Qubit(QuantumRegister(3, 'q10'), 0)\n",
      "qiskit aControl:  Qubit(QuantumRegister(3, 'q6'), 0)\n",
      "denom:  -4.122762743696781\n",
      "n vals:  0 0 3\n",
      "numerator:  {'phi': -1.374254247898927, 'a': -1.0994033983191416, 'b': -0.2748508495797854}\n",
      "flavor:  a\n",
      "angle:  1.0852782044993052\n",
      "qiskit phiControl:  Qubit(QuantumRegister(3, 'q10'), 0)\n",
      "qiskit aControl:  Qubit(QuantumRegister(3, 'q6'), 0)\n",
      "denom:  -4.122762743696781\n",
      "n vals:  0 0 3\n",
      "numerator:  {'phi': -1.374254247898927, 'a': -1.0994033983191416, 'b': -0.2748508495797854}\n",
      "flavor:  b\n",
      "angle:  0.5223148218060486\n",
      "qiskit phiControl:  Qubit(QuantumRegister(3, 'q10'), 0)\n",
      "qiskit aControl:  Qubit(QuantumRegister(3, 'q6'), 0)\n"
     ]
    }
   ],
   "source": [
    "qcc.U_h(circuit, l, n_i, m, n_phiReg, w_phiReg, n_aReg, w_aReg, n_bReg, w_bReg, wReg, eReg, pReg, hReg, w_hReg,\n",
    "            P_phiList[0], P_aList[0], P_bList[0])"
   ]
  },
  {
   "cell_type": "code",
   "execution_count": null,
   "metadata": {},
   "outputs": [],
   "source": [
    "result = execute(circuit, simulator).result()\n",
    "statevector = result.get_statevector(circuit)\n",
    "\n",
    "print(statevector)"
   ]
  },
  {
   "cell_type": "code",
   "execution_count": null,
   "metadata": {},
   "outputs": [],
   "source": [
    "circuit.draw()"
   ]
  },
  {
   "cell_type": "code",
   "execution_count": null,
   "metadata": {},
   "outputs": [],
   "source": [
    "print(len(statevector))"
   ]
  },
  {
   "cell_type": "code",
   "execution_count": null,
   "metadata": {},
   "outputs": [],
   "source": [
    "[print(\"position of non zero element: \", list(statevector).index(i), \"\\nvalue: \", \n",
    "       i, \"\\nabsolute value: \", abs(i)) for i in statevector if abs(i) > 10**(-5)]\n"
   ]
  },
  {
   "cell_type": "markdown",
   "metadata": {},
   "source": [
    "### Cirq"
   ]
  },
  {
   "cell_type": "code",
   "execution_count": null,
   "metadata": {},
   "outputs": [],
   "source": [
    "cc.U_h(circuitC, l, n_i, m, n_phiRegC, w_phiRegC, n_aRegC, w_aRegC, n_bRegC, w_bRegC, wRegC, eRegC, pRegC, hRegC, w_hRegC,\n",
    "            P_phiListC[0], P_aListC[0], P_bListC[0])\n"
   ]
  },
  {
   "cell_type": "code",
   "execution_count": null,
   "metadata": {},
   "outputs": [],
   "source": [
    "resultC = simulatorC.simulate(circuitC)\n",
    "statevectorC = resultC.final_state_vector\n",
    "print(statevectorC)"
   ]
  },
  {
   "cell_type": "code",
   "execution_count": null,
   "metadata": {},
   "outputs": [],
   "source": [
    "print(len(statevectorC))"
   ]
  },
  {
   "cell_type": "markdown",
   "metadata": {},
   "source": [
    "# Test U_p"
   ]
  },
  {
   "cell_type": "markdown",
   "metadata": {},
   "source": [
    "### Qiskit"
   ]
  },
  {
   "cell_type": "code",
   "execution_count": null,
   "metadata": {},
   "outputs": [],
   "source": [
    "qcc.U_p(circuit, l, n_i, 0, pReg, hReg, w_hReg, wReg, g_a, g_b)"
   ]
  },
  {
   "cell_type": "code",
   "execution_count": null,
   "metadata": {},
   "outputs": [],
   "source": [
    "result = execute(circuit, simulator).result()\n",
    "statevector = result.get_statevector(circuit)\n",
    "\n",
    "print(statevector)"
   ]
  },
  {
   "cell_type": "markdown",
   "metadata": {},
   "source": [
    "### Cirq"
   ]
  },
  {
   "cell_type": "code",
   "execution_count": null,
   "metadata": {},
   "outputs": [],
   "source": [
    "cc.U_p(circuitC, l, n_i, m, pRegC, hRegC, w_hRegC, wRegC, g_a, g_b)"
   ]
  },
  {
   "cell_type": "code",
   "execution_count": null,
   "metadata": {},
   "outputs": [],
   "source": [
    "resultC = simulatorC.simulate(circuitC)\n",
    "statevectorC = resultC.final_state_vector\n",
    "print(statevectorC)"
   ]
  },
  {
   "cell_type": "markdown",
   "metadata": {},
   "source": [
    "# Consolodated Testing (aka CreatCircuit())"
   ]
  },
  {
   "cell_type": "markdown",
   "metadata": {},
   "source": [
    "## 1 fermion, 1 step"
   ]
  },
  {
   "cell_type": "code",
   "execution_count": 5,
   "metadata": {},
   "outputs": [],
   "source": [
    "n_i, N = 1, 1\n",
    "g_1, g_2, g_12 = 2, 1, 0\n",
    "eps = .001\n",
    "reps = 30\n"
   ]
  },
  {
   "cell_type": "markdown",
   "metadata": {},
   "source": [
    "### Qiskit"
   ]
  },
  {
   "cell_type": "code",
   "execution_count": 9,
   "metadata": {},
   "outputs": [
    {
     "name": "stdout",
     "output_type": "stream",
     "text": [
      "nqubits_a_b_phi:  2\n",
      "k:  0\n",
      "plen:  3\n",
      "QuantumRegister(6, 'q11')\n",
      "generated circuit on 11 qubits\n"
     ]
    }
   ],
   "source": [
    "circ, qubits = qcc.createCircuit(n_i, N, eps, g_1, g_2, g_12, [[0, 0, 1]])"
   ]
  },
  {
   "cell_type": "code",
   "execution_count": 10,
   "metadata": {},
   "outputs": [
    {
     "name": "stdout",
     "output_type": "stream",
     "text": [
      "[0.+0.j 0.+0.j 0.+0.j ... 0.+0.j 0.+0.j 0.+0.j]\n"
     ]
    }
   ],
   "source": [
    "result = execute(circ, simulator).result()\n",
    "statevector = result.get_statevector(circ)\n",
    "\n",
    "print(statevector)"
   ]
  },
  {
   "cell_type": "code",
   "execution_count": 11,
   "metadata": {},
   "outputs": [
    {
     "name": "stdout",
     "output_type": "stream",
     "text": [
      "position of non zero element:  4 \n",
      "value:  (0.3330697343979017-1.1911787958035582e-18j) \n",
      "absolute value:  0.3330697343979017\n",
      "position of non zero element:  260 \n",
      "value:  (0.9429021964276628-7.87733492775026e-17j) \n",
      "absolute value:  0.9429021964276628\n"
     ]
    },
    {
     "data": {
      "text/plain": [
       "[None, None]"
      ]
     },
     "execution_count": 11,
     "metadata": {},
     "output_type": "execute_result"
    }
   ],
   "source": [
    "# print(abs(complex(-2, 3)))\n",
    "[print(\"position of non zero element: \", list(statevector).index(i), \"\\nvalue: \", \n",
    "       i, \"\\nabsolute value: \", abs(i)) for i in statevector if abs(i) > 10**(-5)]"
   ]
  },
  {
   "cell_type": "code",
   "execution_count": 12,
   "metadata": {},
   "outputs": [
    {
     "name": "stdout",
     "output_type": "stream",
     "text": [
      "67108864\n"
     ]
    }
   ],
   "source": [
    "print(len(statevector))"
   ]
  },
  {
   "cell_type": "markdown",
   "metadata": {},
   "source": [
    "### Cirq"
   ]
  },
  {
   "cell_type": "code",
   "execution_count": 6,
   "metadata": {},
   "outputs": [],
   "source": [
    "circC, qubitsC = cc.createCircuit(n_i, N, eps, g_1, g_2, g_12, [[0, 0, 1]])"
   ]
  },
  {
   "cell_type": "code",
   "execution_count": 7,
   "metadata": {},
   "outputs": [
    {
     "name": "stdout",
     "output_type": "stream",
     "text": [
      "[0.+0.j 0.+0.j 0.+0.j ... 0.+0.j 0.+0.j 0.+0.j]\n"
     ]
    }
   ],
   "source": [
    "resultC = simulatorC.simulate(circC)\n",
    "statevectorC = resultC.final_state_vector\n",
    "print(statevectorC)"
   ]
  },
  {
   "cell_type": "code",
   "execution_count": 8,
   "metadata": {},
   "outputs": [
    {
     "name": "stdout",
     "output_type": "stream",
     "text": [
      "position of non zero element:  65536 \n",
      "value:  (0.33306974+0j) \n",
      "absolute value:  0.33306974\n",
      "position of non zero element:  114688 \n",
      "value:  (0.9429022+0j) \n",
      "absolute value:  0.9429022\n"
     ]
    },
    {
     "data": {
      "text/plain": [
       "[None, None]"
      ]
     },
     "execution_count": 8,
     "metadata": {},
     "output_type": "execute_result"
    }
   ],
   "source": [
    "[print(\"position of non zero element: \", list(statevectorC).index(i), \"\\nvalue: \", \n",
    "       i, \"\\nabsolute value: \", abs(i)) for i in statevectorC if abs(i) > 10**(-5)]\n"
   ]
  },
  {
   "cell_type": "code",
   "execution_count": 13,
   "metadata": {},
   "outputs": [
    {
     "name": "stdout",
     "output_type": "stream",
     "text": [
      "524288\n"
     ]
    }
   ],
   "source": [
    "print(len(statevectorC))"
   ]
  },
  {
   "cell_type": "markdown",
   "metadata": {},
   "source": [
    "## 1 fermion, 2 steps"
   ]
  },
  {
   "cell_type": "code",
   "execution_count": null,
   "metadata": {},
   "outputs": [],
   "source": [
    "n_i, N = 2, 1\n",
    "g_1, g_2, g_12 = 2, 1, 0\n",
    "eps = .001\n",
    "reps = 30"
   ]
  },
  {
   "cell_type": "markdown",
   "metadata": {},
   "source": [
    "### Qiskit"
   ]
  },
  {
   "cell_type": "code",
   "execution_count": null,
   "metadata": {},
   "outputs": [],
   "source": []
  }
 ],
 "metadata": {
  "kernelspec": {
   "display_name": "Python 3",
   "language": "python",
   "name": "python3"
  },
  "language_info": {
   "codemirror_mode": {
    "name": "ipython",
    "version": 3
   },
   "file_extension": ".py",
   "mimetype": "text/x-python",
   "name": "python",
   "nbconvert_exporter": "python",
   "pygments_lexer": "ipython3",
   "version": "3.7.6"
  }
 },
 "nbformat": 4,
 "nbformat_minor": 4
}
