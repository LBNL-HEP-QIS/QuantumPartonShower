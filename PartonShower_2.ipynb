{
 "cells": [
  {
   "cell_type": "code",
   "execution_count": 1,
   "metadata": {},
   "outputs": [],
   "source": [
    "import numpy as np\n",
    "import math\n",
    "from qiskit import QuantumCircuit, QuantumRegister, execute, Aer\n",
    "from qiskit.providers.aer import QasmSimulator\n",
    "import qiskit_create_circ as qcc"
   ]
  },
  {
   "cell_type": "code",
   "execution_count": null,
   "metadata": {
    "scrolled": true
   },
   "outputs": [],
   "source": [
    "# dir(qcc)"
   ]
  },
  {
   "cell_type": "code",
   "execution_count": 2,
   "metadata": {},
   "outputs": [
    {
     "name": "stdout",
     "output_type": "stream",
     "text": [
      "2\n",
      "1\n",
      "nqubits_a_b_phi:  2\n"
     ]
    }
   ],
   "source": [
    "N = 1\n",
    "m = 0\n",
    "n_i = 1\n",
    "L = int(math.floor(math.log(N + n_i, 2)) + 1)\n",
    "print(L)\n",
    "# l = int(math.ceil(math.log(m + n_i, 2)) )\n",
    "l = int(math.floor(math.log(m + n_i, 2)) + 1)\n",
    "print(l)\n",
    "\n",
    "\n",
    "\n",
    "pReg, hReg, w_hReg, eReg, wReg, n_aReg, w_aReg, n_bReg, w_bReg, n_phiReg, w_phiReg = qcc.allocateQubits(N, n_i, L)\n",
    "\n",
    "# circuit = QuantumCircuit(pReg, hReg, w_hReg, eReg, wReg, n_aReg, w_aReg, n_bReg, w_bReg, n_phiReg, w_phiReg)\n",
    "circuit = QuantumCircuit(pReg, hReg, w_hReg, eReg, wReg, n_aReg, w_aReg, n_bReg, w_bReg, n_phiReg, w_phiReg)\n",
    "\n",
    "simulator = Aer.get_backend('statevector_simulator')"
   ]
  },
  {
   "cell_type": "code",
   "execution_count": null,
   "metadata": {},
   "outputs": [],
   "source": [
    "print(w_phiReg)"
   ]
  },
  {
   "cell_type": "code",
   "execution_count": 3,
   "metadata": {},
   "outputs": [],
   "source": [
    "g_1, g_2, g_12 = 2, 1, 0\n",
    "gp = math.sqrt(abs((g_1 - g_2) ** 2 + 4 * g_12 ** 2))\n",
    "if g_1 > g_2:\n",
    "    gp = -gp\n",
    "g_a, g_b = (g_1 + g_2 - gp) / 2, (g_1 + g_2 + gp) / 2\n",
    "u = math.sqrt(abs((gp + g_1 - g_2)/ (2 * gp)))\n",
    "eps = .001\n",
    "\n",
    "timeStepList, P_aList, P_bList, P_phiList, Delta_aList, Delta_bList, Delta_phiList = [], [], [], [], [], [], []\n",
    "qcc.populateParameterLists(N, timeStepList, P_aList, P_bList, P_phiList, Delta_aList, Delta_bList, \n",
    "                       Delta_phiList, g_a, g_b, eps)\n"
   ]
  },
  {
   "cell_type": "markdown",
   "metadata": {},
   "source": [
    "Test uCount"
   ]
  },
  {
   "cell_type": "code",
   "execution_count": null,
   "metadata": {},
   "outputs": [],
   "source": [
    "# qcc.uCount(circuit, m, n_i, l, pReg, wReg, n_aReg, w_aReg, n_bReg, w_bReg, n_phiReg, w_phiReg)\n",
    "\n",
    "# result = execute(circuit, simulator).result()\n",
    "# statevector = result.get_statevector(circuit)\n",
    "\n",
    "# print(statevector)"
   ]
  },
  {
   "cell_type": "markdown",
   "metadata": {},
   "source": [
    "Test uE"
   ]
  },
  {
   "cell_type": "code",
   "execution_count": null,
   "metadata": {},
   "outputs": [],
   "source": [
    "qcc.uE(circuit, l, n_i, m, n_phiReg, w_phiReg, n_aReg, w_aReg, n_bReg, w_bReg, wReg, eReg,\n",
    "           Delta_phiList[0], Delta_aList[0], Delta_bList[0])\n",
    "\n",
    "result = execute(circuit, simulator).result()\n",
    "statevector = result.get_statevector(circuit)\n",
    "\n",
    "print(statevector)\n",
    "print(len(statevector))"
   ]
  },
  {
   "cell_type": "code",
   "execution_count": null,
   "metadata": {},
   "outputs": [],
   "source": [
    "print(statevector**2)"
   ]
  },
  {
   "cell_type": "code",
   "execution_count": null,
   "metadata": {},
   "outputs": [],
   "source": [
    "circuit.draw()"
   ]
  },
  {
   "cell_type": "code",
   "execution_count": null,
   "metadata": {},
   "outputs": [],
   "source": [
    "print(l)"
   ]
  },
  {
   "cell_type": "code",
   "execution_count": null,
   "metadata": {},
   "outputs": [],
   "source": [
    "circ = QuantumCircuit(pReg, hReg, w_hReg, eReg, wReg, n_aReg, w_aReg, n_bReg, w_bReg, n_phiReg, w_phiReg)"
   ]
  },
  {
   "cell_type": "code",
   "execution_count": null,
   "metadata": {},
   "outputs": [],
   "source": [
    "qcc.numberControl(circ, l, 0, n_phiReg, w_phiReg)"
   ]
  },
  {
   "cell_type": "code",
   "execution_count": null,
   "metadata": {},
   "outputs": [],
   "source": [
    "circ.draw()"
   ]
  },
  {
   "cell_type": "markdown",
   "metadata": {},
   "source": [
    "Test U_h"
   ]
  },
  {
   "cell_type": "code",
   "execution_count": 4,
   "metadata": {},
   "outputs": [
    {
     "name": "stdout",
     "output_type": "stream",
     "text": [
      "Qubit(QuantumRegister(6, 'q0'), 2)\n",
      "Qubit(QuantumRegister(5, 'q4'), 1)\n",
      "target index:  2\n",
      "l:  1 \n",
      "k:  1\n",
      "Qubit(QuantumRegister(6, 'q0'), 2)\n",
      "Qubit(QuantumRegister(5, 'q4'), 1)\n",
      "target index:  2\n",
      "l:  1 \n",
      "k:  1\n",
      "l:  1 \n",
      "k:  1\n",
      "Qubit(QuantumRegister(6, 'q0'), 2)\n",
      "Qubit(QuantumRegister(5, 'q4'), 1)\n",
      "target index:  2\n",
      "l:  1 \n",
      "k:  1\n",
      "Qubit(QuantumRegister(6, 'q0'), 2)\n",
      "Qubit(QuantumRegister(5, 'q4'), 1)\n",
      "target index:  2\n",
      "l:  1 \n",
      "k:  1\n",
      "l:  1 \n",
      "k:  1\n",
      "Qubit(QuantumRegister(6, 'q0'), 2)\n",
      "Qubit(QuantumRegister(5, 'q4'), 1)\n",
      "target index:  2\n",
      "l:  1 \n",
      "k:  1\n",
      "Qubit(QuantumRegister(6, 'q0'), 2)\n",
      "Qubit(QuantumRegister(5, 'q4'), 1)\n",
      "target index:  2\n",
      "l:  1 \n",
      "k:  1\n",
      "l:  1 \n",
      "k:  1\n",
      "Qubit(QuantumRegister(6, 'q0'), 2)\n",
      "Qubit(QuantumRegister(5, 'q4'), 1)\n",
      "target index:  0\n",
      "Qubit(QuantumRegister(6, 'q0'), 2)\n",
      "Qubit(QuantumRegister(5, 'q4'), 1)\n",
      "target index:  0\n"
     ]
    }
   ],
   "source": [
    "# print(P_bList)\n",
    "qcc.U_h(circuit, l, n_i, m, n_phiReg, w_phiReg, n_aReg, w_aReg, n_bReg, w_bReg, wReg, eReg, pReg, hReg, w_hReg,\n",
    "            P_phiList[0], P_aList[0], P_bList[0])"
   ]
  },
  {
   "cell_type": "code",
   "execution_count": 5,
   "metadata": {},
   "outputs": [
    {
     "name": "stdout",
     "output_type": "stream",
     "text": [
      "[-4.13030347e-16-1.2246468e-15j  0.00000000e+00+0.0000000e+00j\n",
      "  0.00000000e+00+0.0000000e+00j ...  0.00000000e+00+0.0000000e+00j\n",
      "  0.00000000e+00+0.0000000e+00j  0.00000000e+00+0.0000000e+00j]\n"
     ]
    }
   ],
   "source": [
    "result = execute(circuit, simulator).result()\n",
    "statevector = result.get_statevector(circuit)\n",
    "\n",
    "print(statevector)"
   ]
  },
  {
   "cell_type": "code",
   "execution_count": null,
   "metadata": {},
   "outputs": [],
   "source": [
    "circuit.draw()"
   ]
  },
  {
   "cell_type": "markdown",
   "metadata": {},
   "source": [
    "Testing U_p"
   ]
  },
  {
   "cell_type": "code",
   "execution_count": null,
   "metadata": {},
   "outputs": [],
   "source": [
    "qcc.U_p(circuit, l, n_i, 0, pReg, hReg, w_hReg, wReg, g_a, g_b)\n",
    "\n",
    "# result = execute(circuit, simulator).result()\n",
    "# statevector = result.get_statevector(circuit)\n",
    "\n",
    "# print(statevector)"
   ]
  },
  {
   "cell_type": "code",
   "execution_count": null,
   "metadata": {},
   "outputs": [],
   "source": []
  }
 ],
 "metadata": {
  "kernelspec": {
   "display_name": "Python 3",
   "language": "python",
   "name": "python3"
  },
  "language_info": {
   "codemirror_mode": {
    "name": "ipython",
    "version": 3
   },
   "file_extension": ".py",
   "mimetype": "text/x-python",
   "name": "python",
   "nbconvert_exporter": "python",
   "pygments_lexer": "ipython3",
   "version": "3.7.6"
  }
 },
 "nbformat": 4,
 "nbformat_minor": 4
}
