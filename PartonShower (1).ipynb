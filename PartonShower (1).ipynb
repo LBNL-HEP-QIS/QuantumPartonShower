{
  "nbformat": 4,
  "nbformat_minor": 0,
  "metadata": {
    "colab": {
      "name": "PartonShower.ipynb",
      "provenance": [],
      "collapsed_sections": [],
      "machine_shape": "hm"
    },
    "kernelspec": {
      "name": "python3",
      "display_name": "Python 3"
    }
  },
  "cells": [
    {
      "cell_type": "code",
      "metadata": {
        "id": "oZ4uL4CKYwJ_",
        "colab_type": "code",
        "colab": {
          "base_uri": "https://localhost:8080/",
          "height": 887
        },
        "outputId": "c20c6e38-b24c-49d0-c0ce-9cbe12eb5e8d"
      },
      "source": [
        "pip install cirq"
      ],
      "execution_count": 1,
      "outputs": [
        {
          "output_type": "stream",
          "text": [
            "Collecting cirq\n",
            "\u001b[?25l  Downloading https://files.pythonhosted.org/packages/a2/a4/2bcd91b3d99f34482d43ec3fbd1399105c8e61b78606ce907b019bb0135c/cirq-0.8.1-py3-none-any.whl (1.4MB)\n",
            "\u001b[K     |████████████████████████████████| 1.4MB 2.7MB/s \n",
            "\u001b[?25hRequirement already satisfied: dataclasses; python_version < \"3.7\" in /usr/local/lib/python3.6/dist-packages (from cirq) (0.7)\n",
            "Requirement already satisfied: networkx~=2.4 in /usr/local/lib/python3.6/dist-packages (from cirq) (2.4)\n",
            "Requirement already satisfied: numpy~=1.16 in /usr/local/lib/python3.6/dist-packages (from cirq) (1.18.5)\n",
            "Requirement already satisfied: sortedcontainers~=2.0 in /usr/local/lib/python3.6/dist-packages (from cirq) (2.2.2)\n",
            "Requirement already satisfied: google-api-core[grpc]<2.0.0dev,>=1.14.0 in /usr/local/lib/python3.6/dist-packages (from cirq) (1.16.0)\n",
            "Collecting protobuf==3.8.0\n",
            "\u001b[?25l  Downloading https://files.pythonhosted.org/packages/d2/fb/29de8d08967f0cce1bb10b39846d836b0f3bf6776ddc36aed7c73498ca7e/protobuf-3.8.0-cp36-cp36m-manylinux1_x86_64.whl (1.2MB)\n",
            "\u001b[K     |████████████████████████████████| 1.2MB 16.5MB/s \n",
            "\u001b[?25hRequirement already satisfied: typing-extensions in /usr/local/lib/python3.6/dist-packages (from cirq) (3.6.6)\n",
            "Collecting freezegun~=0.3.15\n",
            "  Downloading https://files.pythonhosted.org/packages/17/5d/1b9d6d3c7995fff473f35861d674e0113a5f0bd5a72fe0199c3f254665c7/freezegun-0.3.15-py2.py3-none-any.whl\n",
            "Requirement already satisfied: requests~=2.18 in /usr/local/lib/python3.6/dist-packages (from cirq) (2.23.0)\n",
            "Requirement already satisfied: sympy in /usr/local/lib/python3.6/dist-packages (from cirq) (1.1.1)\n",
            "Requirement already satisfied: matplotlib~=3.0 in /usr/local/lib/python3.6/dist-packages (from cirq) (3.2.1)\n",
            "Requirement already satisfied: scipy in /usr/local/lib/python3.6/dist-packages (from cirq) (1.4.1)\n",
            "Requirement already satisfied: pandas in /usr/local/lib/python3.6/dist-packages (from cirq) (1.0.4)\n",
            "Requirement already satisfied: decorator>=4.3.0 in /usr/local/lib/python3.6/dist-packages (from networkx~=2.4->cirq) (4.4.2)\n",
            "Requirement already satisfied: setuptools>=34.0.0 in /usr/local/lib/python3.6/dist-packages (from google-api-core[grpc]<2.0.0dev,>=1.14.0->cirq) (47.3.1)\n",
            "Requirement already satisfied: google-auth<2.0dev,>=0.4.0 in /usr/local/lib/python3.6/dist-packages (from google-api-core[grpc]<2.0.0dev,>=1.14.0->cirq) (1.17.2)\n",
            "Requirement already satisfied: pytz in /usr/local/lib/python3.6/dist-packages (from google-api-core[grpc]<2.0.0dev,>=1.14.0->cirq) (2018.9)\n",
            "Requirement already satisfied: googleapis-common-protos<2.0dev,>=1.6.0 in /usr/local/lib/python3.6/dist-packages (from google-api-core[grpc]<2.0.0dev,>=1.14.0->cirq) (1.52.0)\n",
            "Requirement already satisfied: six>=1.10.0 in /usr/local/lib/python3.6/dist-packages (from google-api-core[grpc]<2.0.0dev,>=1.14.0->cirq) (1.12.0)\n",
            "Requirement already satisfied: grpcio<2.0dev,>=1.8.2; extra == \"grpc\" in /usr/local/lib/python3.6/dist-packages (from google-api-core[grpc]<2.0.0dev,>=1.14.0->cirq) (1.29.0)\n",
            "Requirement already satisfied: python-dateutil!=2.0,>=1.0 in /usr/local/lib/python3.6/dist-packages (from freezegun~=0.3.15->cirq) (2.8.1)\n",
            "Requirement already satisfied: idna<3,>=2.5 in /usr/local/lib/python3.6/dist-packages (from requests~=2.18->cirq) (2.9)\n",
            "Requirement already satisfied: certifi>=2017.4.17 in /usr/local/lib/python3.6/dist-packages (from requests~=2.18->cirq) (2020.4.5.2)\n",
            "Requirement already satisfied: urllib3!=1.25.0,!=1.25.1,<1.26,>=1.21.1 in /usr/local/lib/python3.6/dist-packages (from requests~=2.18->cirq) (1.24.3)\n",
            "Requirement already satisfied: chardet<4,>=3.0.2 in /usr/local/lib/python3.6/dist-packages (from requests~=2.18->cirq) (3.0.4)\n",
            "Requirement already satisfied: mpmath>=0.19 in /usr/local/lib/python3.6/dist-packages (from sympy->cirq) (1.1.0)\n",
            "Requirement already satisfied: pyparsing!=2.0.4,!=2.1.2,!=2.1.6,>=2.0.1 in /usr/local/lib/python3.6/dist-packages (from matplotlib~=3.0->cirq) (2.4.7)\n",
            "Requirement already satisfied: kiwisolver>=1.0.1 in /usr/local/lib/python3.6/dist-packages (from matplotlib~=3.0->cirq) (1.2.0)\n",
            "Requirement already satisfied: cycler>=0.10 in /usr/local/lib/python3.6/dist-packages (from matplotlib~=3.0->cirq) (0.10.0)\n",
            "Requirement already satisfied: pyasn1-modules>=0.2.1 in /usr/local/lib/python3.6/dist-packages (from google-auth<2.0dev,>=0.4.0->google-api-core[grpc]<2.0.0dev,>=1.14.0->cirq) (0.2.8)\n",
            "Requirement already satisfied: cachetools<5.0,>=2.0.0 in /usr/local/lib/python3.6/dist-packages (from google-auth<2.0dev,>=0.4.0->google-api-core[grpc]<2.0.0dev,>=1.14.0->cirq) (4.1.0)\n",
            "Requirement already satisfied: rsa<5,>=3.1.4; python_version >= \"3\" in /usr/local/lib/python3.6/dist-packages (from google-auth<2.0dev,>=0.4.0->google-api-core[grpc]<2.0.0dev,>=1.14.0->cirq) (4.6)\n",
            "Requirement already satisfied: pyasn1<0.5.0,>=0.4.6 in /usr/local/lib/python3.6/dist-packages (from pyasn1-modules>=0.2.1->google-auth<2.0dev,>=0.4.0->google-api-core[grpc]<2.0.0dev,>=1.14.0->cirq) (0.4.8)\n",
            "Installing collected packages: protobuf, freezegun, cirq\n",
            "  Found existing installation: protobuf 3.10.0\n",
            "    Uninstalling protobuf-3.10.0:\n",
            "      Successfully uninstalled protobuf-3.10.0\n",
            "Successfully installed cirq-0.8.1 freezegun-0.3.15 protobuf-3.8.0\n"
          ],
          "name": "stdout"
        },
        {
          "output_type": "display_data",
          "data": {
            "application/vnd.colab-display-data+json": {
              "pip_warning": {
                "packages": [
                  "google"
                ]
              }
            }
          },
          "metadata": {
            "tags": []
          }
        }
      ]
    },
    {
      "cell_type": "code",
      "metadata": {
        "id": "86Gt5fYc-vYE",
        "colab_type": "code",
        "colab": {}
      },
      "source": [
        "import cirq\n",
        "import math\n",
        "import numpy as np\n",
        "import matplotlib.pyplot as plt\n",
        "from cirq import GridQubit, X, CNOT, TOFFOLI, ry\n",
        "early = cirq.InsertStrategy.EARLIEST\n",
        "new = cirq.InsertStrategy.NEW_THEN_INLINE"
      ],
      "execution_count": 2,
      "outputs": []
    },
    {
      "cell_type": "markdown",
      "metadata": {
        "id": "NUSsEaM3ffeX",
        "colab_type": "text"
      },
      "source": [
        "helper for testing\n"
      ]
    },
    {
      "cell_type": "code",
      "metadata": {
        "id": "fOPkslaffdLD",
        "colab_type": "code",
        "colab": {}
      },
      "source": [
        "def flatten(l):\n",
        "    \"\"\"\n",
        "    :param l: nested list of qubits in order given by fullReg\n",
        "    :return: return list of qubits in order of registers as given in qubit dictionary and from MSB to LSB.\n",
        "    This used to determine the order of qubits to display in the simulations results\n",
        "    For a qubit order [a,b], cirq will output in the form (sum |ab>)\n",
        "    \"\"\"\n",
        "    flatList = []\n",
        "    for i in l:\n",
        "        if isinstance(i, list):\n",
        "            flatList.extend(flatten(i))\n",
        "        else:\n",
        "            flatList.append(i)\n",
        "    return flatList"
      ],
      "execution_count": 3,
      "outputs": []
    },
    {
      "cell_type": "markdown",
      "metadata": {
        "id": "pTCE-D6YZnFi",
        "colab_type": "text"
      },
      "source": [
        "## **Create Circuit**"
      ]
    },
    {
      "cell_type": "code",
      "metadata": {
        "id": "a2zMb3t8X93F",
        "colab_type": "code",
        "colab": {}
      },
      "source": [
        "# Define splitting functions and sudakov factors\n",
        "\n",
        "def P_f(t, g):\n",
        "    alpha = g**2 * Phat_f(t)/ (4 * math.pi)\n",
        "    return alpha\n",
        "\n",
        "def Phat_f(t):\n",
        "    return math.log(t)\n",
        "\n",
        "def Phat_bos(t):\n",
        "    return math.log(t)\n",
        "\n",
        "def Delta_f(t, g):\n",
        "    return math.exp(P_f(t,g))\n",
        "\n",
        "def P_bos(t, g_a, g_b):\n",
        "    alpha = g_a**2 * Phat_bos(t)/ (4 * math.pi) + g_b**2 * Phat_bos(t)/ (4 * math.pi)\n",
        "    return alpha\n",
        "\n",
        "def Delta_bos(t, g_a, g_b):\n",
        "    return math.exp(P_bos(t, g_a, g_b))\n",
        "\n",
        "\n",
        "def populateParameterLists(N, timeStepList, P_aList, P_bList, P_phiList, Delta_aList, Delta_bList, Delta_phiList, g_a,\n",
        "                           g_b, eps):\n",
        "    \"\"\"Populates the 6 lists with correct values for each time step theta\"\"\"\n",
        "    for i in range(N):\n",
        "        # Compute time steps\n",
        "        t_up = eps ** ((i) / N)\n",
        "        t_mid = eps ** ((i + 0.5) / N)\n",
        "        t_low = eps ** ((i + 1) / N)\n",
        "        timeStepList.append(t_mid)\n",
        "        # Compute values for emission matrices   \n",
        "        Delta_a = Delta_f(t_low, g_a)/ Delta_f(t_up, g_a)\n",
        "        Delta_b = Delta_f(t_low, g_b) / Delta_f(t_up, g_b)\n",
        "        Delta_phi = Delta_bos(t_low, g_a, g_b) / Delta_bos(t_up, g_a, g_b)\n",
        "        P_a, P_b, P_phi = P_f(t_mid, g_a), P_f(t_mid, g_b), P_bos(t_mid, g_a, g_b)\n",
        "\n",
        "        # Add them to the list\n",
        "        P_aList.append(P_a)\n",
        "        P_bList.append(P_b)\n",
        "        P_phiList.append(P_phi)\n",
        "        Delta_aList.append(Delta_a)\n",
        "        Delta_bList.append(Delta_b)\n",
        "        Delta_phiList.append(Delta_phi)\n",
        "\n",
        "def allocateQubs(N, n_i, L, pReg, hReg, w_hReg, eReg, wReg, n_aReg, w_aReg, n_bReg, w_bReg, n_phiReg, w_phiReg):\n",
        "    \"\"\"method 1: Pro: keeps qubits geometrically close (in rectangle), Con: Ordering is weird so hard to debug\"\"\"\n",
        "    pReg.extend([[GridQubit(i,j) for j in range(3)] for i in range(N+n_i)])\n",
        "    hReg.extend([[GridQubit(i,j) for j in range(4, 4+L)] for i in range(N)])\n",
        "    w_hReg.extend([GridQubit(N+n_i,j) for j in range(L-1)])\n",
        "    eReg.extend([GridQubit(N+n_i,L-1)])\n",
        "    wReg.extend([GridQubit(N+n_i,j) for j in range(L,L+5)])\n",
        "    n_phiReg.extend([GridQubit(N+n_i+1,j) for j in range(L)])\n",
        "    w_phiReg.extend([GridQubit(N+n_i+1,j) for j in range(L,2*L-1)])\n",
        "    n_aReg.extend([GridQubit(N+n_i+2,j) for j in range(L)])\n",
        "    w_aReg.extend([GridQubit(N+n_i+2,j) for j in range(L,2*L-1)])\n",
        "    n_bReg.extend([GridQubit(N+n_i+3,j) for j in range(L)])\n",
        "    w_bReg.extend([GridQubit(N+n_i+3,j) for j in range(L,2*L-1)])\n",
        "\n",
        "def intializeParticles(circuit, pReg, initialParticles):\n",
        "    \"\"\" Apply appropriate X gates to ensure that the p register contains all of the initial particles.\n",
        "        The p registers contains particles in the form of a list [LSB, middle bit, MSB]\"\"\"\n",
        "    for currentParticleIndex in range(len(initialParticles)):\n",
        "        for particleBit in range(3):\n",
        "            if initialParticles[currentParticleIndex][particleBit] == 1:\n",
        "                circuit.append(X(pReg[currentParticleIndex][particleBit]), strategy=early)\n",
        "\n",
        "\n",
        "def flavorControl(circuit, flavor, control, target, ancilla):\n",
        "    \"\"\"Controlled x onto targetQubit if \"control\" particle is of the correct flavor\"\"\"\n",
        "    if flavor == \"phi\":\n",
        "        circuit.append([X(control[1]), X(control[2])], strategy=new)\n",
        "        circuit.append(TOFFOLI(control[0], control[1], ancilla), strategy=new)\n",
        "        circuit.append(TOFFOLI(control[2], ancilla, target), strategy=new)\n",
        "        # undo work\n",
        "        circuit.append(TOFFOLI(control[0], control[1], ancilla), strategy=new)\n",
        "        circuit.append([X(control[1]), X(control[2])], strategy=new)\n",
        "    if flavor == \"a\":\n",
        "        circuit.append(X(control[0]), strategy=new)\n",
        "        circuit.append(TOFFOLI(control[0], control[2], target), strategy=new)\n",
        "        # undo work\n",
        "        circuit.append(X(control[0]), strategy=new)\n",
        "    if flavor == \"b\":\n",
        "        circuit.append(TOFFOLI(control[0], control[2], target), strategy=new)\n",
        "\n",
        "\n",
        "def plus1(circuit, l, countReg, workReg, control, ancilla, level):\n",
        "    \"\"\"\n",
        "    Recursively add 1 to the LSB of a register and carries to all bits, if control == 1\n",
        "    l: number of qubits in count register\n",
        "    countReg, workReg: count register and associated work register\n",
        "    control: control qubit to determine if plus1 should be executed\n",
        "    ancilla: extra work qubit\n",
        "    level: current qubit we are operating on, recursively travels from qubit 0 to l-1\n",
        "    \"\"\"\n",
        "    # apply X to LSB\n",
        "    if level == 0:\n",
        "        circuit.append(CNOT(control, countReg[0]), strategy=new)\n",
        "    if level < l - 1:\n",
        "        # first level uses CNOT instead of TOFFOLI gate\n",
        "        if level == 0:\n",
        "            # move all X gates to first step to avoid unnecesarry gates\n",
        "            circuit.append([X(qubit) for qubit in countReg], strategy=new)\n",
        "            circuit.append(TOFFOLI(countReg[0], control, workReg[0]), strategy=new)\n",
        "        else:\n",
        "            circuit.append(TOFFOLI(countReg[level], workReg[level - 1], ancilla), strategy=new)\n",
        "            circuit.append(TOFFOLI(ancilla, control, workReg[level]), strategy=new)\n",
        "            circuit.append(TOFFOLI(countReg[level], workReg[level - 1], ancilla), strategy=new)\n",
        "\n",
        "        circuit.append(TOFFOLI(workReg[level], control, countReg[level + 1]), strategy=new)\n",
        "        # recursively call next layer\n",
        "        plus1(circuit, l, countReg, workReg, control, ancilla, level + 1)\n",
        "        # undo work qubits (exact opposite of first 7 lines - undoes calculation)\n",
        "        if level == 0:\n",
        "            circuit.append(TOFFOLI(countReg[0], control, workReg[0]), strategy=new)\n",
        "            circuit.append([X(qubit) for qubit in countReg], strategy=new)\n",
        "        else:\n",
        "            circuit.append(TOFFOLI(countReg[level], workReg[level - 1], ancilla), strategy=new)\n",
        "            circuit.append(TOFFOLI(ancilla, control, workReg[level]), strategy=new)\n",
        "            circuit.append(TOFFOLI(countReg[level], workReg[level - 1], ancilla), strategy=new)\n",
        "\n",
        "def uCount(circuit, m, n_i, l, pReg, wReg, n_aReg, w_aReg, n_bReg, w_bReg, n_phiReg, w_phiReg):\n",
        "    \"\"\"\n",
        "    Populate the count registers using current particle states.\n",
        "    Uses wReg[0] as the control and wReg[1] as ancilla qubit for flavorControl and plus1, respectively\n",
        "    \"\"\"\n",
        "    for k in range(n_i+m):\n",
        "        # bosons\n",
        "        flavorControl(circuit, \"phi\", pReg[k], wReg[0], wReg[1])\n",
        "        plus1(circuit, l, n_phiReg, w_phiReg, wReg[0], wReg[1], 0)\n",
        "        flavorControl(circuit, \"phi\", pReg[k], wReg[0], wReg[1])\n",
        "        # a fermions\n",
        "        flavorControl(circuit, \"a\", pReg[k], wReg[0], wReg[1])\n",
        "        plus1(circuit, l, n_aReg, w_aReg, wReg[0], wReg[1], 0)\n",
        "        flavorControl(circuit, \"a\", pReg[k], wReg[0], wReg[1])\n",
        "        # b fermions\n",
        "        flavorControl(circuit, \"b\", pReg[k], wReg[0], wReg[1])\n",
        "        plus1(circuit, l, n_bReg, w_bReg, wReg[0], wReg[1], 0)\n",
        "        flavorControl(circuit, \"b\", pReg[k], wReg[0], wReg[1])\n",
        "\n",
        "def generateParticleCounts(n_i, m, k):\n",
        "    \"\"\"Fill countsList with all combinations of n_phi, n_a, and n_b where each n lies in range [0, n_i+m-k],\n",
        "    and the sum of all n's lies in range [n_i-k, m+n_i-k], all inclusive\n",
        "    \"\"\"\n",
        "    countsList = []\n",
        "    for numParticles in range(n_i-k, m+n_i-k+1):\n",
        "        for numPhi in range(0, n_i+m-k+1):\n",
        "            for numA in range(0, numParticles-numPhi+1):\n",
        "                numB = numParticles - numPhi - numA\n",
        "                countsList.append([numPhi, numA, numB])\n",
        "    return countsList\n",
        "\n",
        "def reverse(lst):\n",
        "    \"\"\"reverse a list in place\"\"\"\n",
        "    lst.reverse()\n",
        "    return lst\n",
        "\n",
        "def intToBinary(l, number):\n",
        "    \"\"\"Converts integer to binary list of size l with LSB first and MSB last\"\"\"\n",
        "    numberBinary = [int(x) for x in list('{0:0b}'.format(number))]\n",
        "    numberBinary = (l - len(numberBinary)) * [0] + numberBinary\n",
        "    return reverse(numberBinary)\n",
        "\n",
        "\n",
        "def numberControl(circuit, l, number, countReg, workReg):\n",
        "    \"\"\"\n",
        "    Applies an X to the l-2 (0 indexed) qubit of the work register if count register encodes the inputted number in binary\n",
        "    returns this l-2 qubit, unless l=1, in which case return the only count register qubit\n",
        "    DOES NOT CLEAN AFTER ITSELF - USE numberControlT to clean after this operation\n",
        "    \"\"\"\n",
        "    if type(number) == int:\n",
        "        numberBinary = intToBinary(l, number)\n",
        "    else:\n",
        "        numberBinary = number\n",
        "    circuit.append([X(countReg[i]) for i in range(len(numberBinary)) if numberBinary[i] == 0], strategy=new)\n",
        "    # first level does not use work qubits as control\n",
        "    if l > 1:\n",
        "        circuit.append(TOFFOLI(countReg[0], countReg[1], workReg[0]), strategy=new)\n",
        "        # subfunction to recursively handle toffoli gates\n",
        "\n",
        "    def binaryToffolis(level):\n",
        "        circuit.append(TOFFOLI(countReg[level], workReg[level - 2], workReg[level - 1]), strategy=new)\n",
        "        if level < l - 1:\n",
        "            binaryToffolis(level + 1)\n",
        "\n",
        "    if l > 2:\n",
        "        binaryToffolis(2)\n",
        "    # return qubit containing outcome of the operation\n",
        "    if l == 1:\n",
        "        return countReg[0]\n",
        "    else:\n",
        "        return workReg[l - 2]\n",
        "\n",
        "\n",
        "def numberControlT(circuit, l, number, countReg, workReg):\n",
        "    \"\"\"CLEANS AFTER numberControl operation\"\"\"\n",
        "    if type(number) == int:\n",
        "        numberBinary = intToBinary(l, number)\n",
        "    else:\n",
        "        numberBinary = number\n",
        "\n",
        "    # subfunction to recursively handle toffoli gates\n",
        "    def binaryToffolisT(level):\n",
        "        # circuit.append(TOFFOLI(countReg[level], workReg[level-2], workReg[level-1]), strategy=new)\n",
        "        if level < l:\n",
        "            binaryToffolisT(level + 1)\n",
        "            # undo\n",
        "            circuit.append(TOFFOLI(countReg[level], workReg[level - 2], workReg[level - 1]), strategy=new)\n",
        "\n",
        "    if l > 2:\n",
        "        binaryToffolisT(2)\n",
        "        # undo\n",
        "    if l > 1:\n",
        "        circuit.append(TOFFOLI(countReg[0], countReg[1], workReg[0]), strategy=new)\n",
        "        # undo\n",
        "    circuit.append([X(countReg[i]) for i in range(len(numberBinary)) if numberBinary[i] == 0], strategy=new)\n",
        "\n",
        "def uE(circuit, l, n_i, m, n_phiReg, w_phiReg, n_aReg, w_aReg, n_bReg, w_bReg, wReg, eReg, Delta_phi, Delta_a, Delta_b):\n",
        "    \"\"\"Determine if emission occured in current step m\"\"\"\n",
        "    countsList = generateParticleCounts(n_i, m, 0)\n",
        "\n",
        "    for counts in countsList:\n",
        "        n_phi, n_a, n_b = counts[0], counts[1], counts[2]\n",
        "        Delta = Delta_phi**n_phi * Delta_a**n_a * Delta_b**n_b\n",
        "        phiControlQub= numberControl(circuit, l, n_phi, n_phiReg, w_phiReg)\n",
        "        aControlQub = numberControl(circuit, l, n_a, n_aReg, w_aReg)\n",
        "        bControlQub = numberControl(circuit, l, n_b, n_bReg, w_bReg)\n",
        "        circuit.append(TOFFOLI(phiControlQub, aControlQub, wReg[0]), strategy=new)\n",
        "        circuit.append(TOFFOLI(bControlQub, wReg[0], wReg[1]), strategy=new)\n",
        "        circuit.append(ry(2*math.acos(np.sqrt(Delta))).controlled().on(wReg[1], eReg[0]))\n",
        "        #undo\n",
        "        circuit.append(TOFFOLI(bControlQub, wReg[0], wReg[1]), strategy=new)\n",
        "        circuit.append(TOFFOLI(phiControlQub, aControlQub, wReg[0]), strategy=new)\n",
        "        numberControlT(circuit, l, n_b, n_bReg, w_bReg)\n",
        "        numberControlT(circuit, l, n_a, n_aReg, w_aReg)\n",
        "        numberControlT(circuit, l, n_phi, n_phiReg, w_phiReg)\n",
        "\n",
        "\n",
        "def generateGrayList(l, number):\n",
        "    \"\"\"\n",
        "    l is the size of the current count register\n",
        "    Return list of elements in gray code from |0> to |number> where each entry is of type[int, binary list].\n",
        "    int: which bit is the target in the current iteration, binary list: the state of the rest of the qubits (controls)\n",
        "    \"\"\"\n",
        "    grayList = [[0, l * [0]]]\n",
        "    targetBinary = intToBinary(l, number)\n",
        "    for index in range(len(targetBinary)):\n",
        "        if targetBinary[index] == 1:\n",
        "            grayList.append([index, (list(grayList[-1][1]))])\n",
        "            grayList[-1][1][index] = 1\n",
        "    return grayList[1:]\n",
        "\n",
        "\n",
        "def twoLevelControlledRy(circuit, l, angle, k, externalControl, reg, workReg):\n",
        "    \"\"\"\n",
        "    Implements two level Ry rotation from state |0> to |k>, if externalControl qubit is on\n",
        "    for reference: http://www.physics.udel.edu/~msafrono/650/Lecture%206.pdf\n",
        "    \"\"\"\n",
        "    grayList = generateGrayList(l, k)\n",
        "    # handle the case where l=0 or 1\n",
        "    if k==0:\n",
        "        return\n",
        "    if l == 1 and k == 1:\n",
        "        circuit.append(cirq.ry(angle).controlled().on(externalControl, reg[0]))\n",
        "        return\n",
        "\n",
        "    # swap states according to Gray Code until one step before the end\n",
        "    for element in grayList:\n",
        "        targetQub = element[0]\n",
        "        number = element[1]\n",
        "        number = number[0:targetQub] + number[targetQub + 1:]\n",
        "        controlQub = numberControl(circuit, l - 1, number, reg[0:targetQub] + reg[targetQub + 1:], workReg)\n",
        "        if element == grayList[-1]:  # reached end\n",
        "            circuit.append(TOFFOLI(controlQub, externalControl, workReg[l - 2]), strategy=new)\n",
        "            circuit.append(cirq.ry(angle).controlled().on(workReg[l - 2], reg[targetQub]))\n",
        "            circuit.append(TOFFOLI(controlQub, externalControl, workReg[l - 2]), strategy=new)\n",
        "        else:  # swap states\n",
        "            circuit.append(CNOT(controlQub, reg[targetQub]), strategy=new)\n",
        "        numberControlT(circuit, l - 1, number, reg[0:targetQub] + reg[targetQub + 1:], workReg)\n",
        "\n",
        "    # undo\n",
        "    for element in reverse(grayList[:-1]):\n",
        "        targetQub = element[0]\n",
        "        number = element[1]\n",
        "        number = number[0:targetQub] + number[targetQub + 1:]\n",
        "        controlQub = numberControl(circuit, l - 1, number, reg[0:targetQub] + reg[targetQub + 1:], workReg)\n",
        "        circuit.append(CNOT(controlQub, reg[targetQub]), strategy=new)\n",
        "        numberControlT(circuit, l - 1, number, reg[0:targetQub] + reg[targetQub + 1:], workReg)\n",
        "    return\n",
        "\n",
        "def U_hAngle(flavor, n_phi, n_a, n_b, P_phi, P_a, P_b):\n",
        "    \"\"\"Determine angle of rotation used in U_h\"\"\"\n",
        "    denominator = n_phi * P_phi + n_a * P_a + n_b * P_b\n",
        "    if denominator == 0: # occurs if we are trying the case of no particles remaining (n_a = n_b = n_phi = 0)\n",
        "        return 0\n",
        "    flavorStringToP = {'phi': P_phi, 'a': P_a, 'b': P_b}\n",
        "    emissionAmplitude = np.sqrt(flavorStringToP[flavor] / denominator)\n",
        "    # correct for arcsin input greater than 1 errors for various input combinations that are irrelevant anyway\n",
        "    emissionAmplitude = min(1, emissionAmplitude)\n",
        "    return 2 * np.arcsin(emissionAmplitude)\n",
        "\n",
        "\n",
        "def minus1(circuit, l, countReg, workReg, control, ancilla, level):\n",
        "    \"\"\"\n",
        "    Recursively carries an subtraction of 1 to the LSB of a register to all bits if control == 1\n",
        "    Equivalent to plus1 but with an X applied to all count qubits before and after gate\n",
        "    \"\"\"\n",
        "    circuit.append([X(qubit) for qubit in countReg], strategy=new)\n",
        "    plus1(circuit, l, countReg, workReg, control, ancilla, level)\n",
        "    circuit.append([X(qubit) for qubit in countReg], strategy=new)\n",
        "\n",
        "\n",
        "def U_h(circuit, l, n_i, m, n_phiReg, w_phiReg, n_aReg, w_aReg, n_bReg, w_bReg, wReg, eReg, pReg, hReg, w_hReg, P_phi,\n",
        "        P_a, P_b):\n",
        "    \"\"\"Implement U_h from paper\"\"\"\n",
        "    for k in range(n_i + m):\n",
        "        countsList = generateParticleCounts(n_i, m, k)  # reduce the available number of particles\n",
        "        for counts in countsList:\n",
        "            n_phi, n_a, n_b = counts[0], counts[1], counts[2]\n",
        "            # controlled R-y from |0> to |k> on all qubits with all possible angles depending on n_phi, n_a, n_b, and flavor\n",
        "            for flavor in ['phi', 'a', 'b']:\n",
        "                angle = U_hAngle(flavor, n_phi, n_a, n_b, P_phi, P_a, P_b)\n",
        "                phiControl = numberControl(circuit, l, n_phi, n_phiReg, w_phiReg)\n",
        "                aControl = numberControl(circuit, l, n_a, n_aReg, w_aReg)\n",
        "                bControl = numberControl(circuit, l, n_b, n_bReg, w_bReg)\n",
        "                circuit.append(TOFFOLI(phiControl, aControl, wReg[0]), strategy=new)\n",
        "                circuit.append(TOFFOLI(bControl, wReg[0], wReg[1]), strategy=new)\n",
        "                flavorControl(circuit, flavor, pReg[k], wReg[2], wReg[4]) # wReg[4] is work qubit but is reset to 0\n",
        "                circuit.append(TOFFOLI(wReg[1], wReg[2], wReg[3]), strategy=new)\n",
        "                circuit.append(TOFFOLI(eReg[0], wReg[3], wReg[4]), strategy=new)\n",
        "\n",
        "                twoLevelControlledRy(circuit, l, angle, k+1, wReg[4], hReg[m], w_hReg)\n",
        "\n",
        "                circuit.append(TOFFOLI(eReg[0], wReg[3], wReg[4]), strategy=new)  # next steps undo work qubits\n",
        "                circuit.append(TOFFOLI(wReg[1], wReg[2], wReg[3]), strategy=new)\n",
        "                flavorControl(circuit, flavor, pReg[k], wReg[2], wReg[4])\n",
        "                circuit.append(TOFFOLI(bControl, wReg[0], wReg[1]), strategy=new)\n",
        "                circuit.append(TOFFOLI(phiControl, aControl, wReg[0]), strategy=new)\n",
        "                numberControlT(circuit, l, n_b, n_bReg, w_bReg)\n",
        "                numberControlT(circuit, l, n_a, n_aReg, w_aReg)\n",
        "                numberControlT(circuit, l, n_phi, n_phiReg, w_phiReg)\n",
        "\n",
        "        # subtract from the counts register depending on which flavor particle emitted\n",
        "        for flavor, countReg, workReg in zip(['phi', 'a', 'b'], [n_phiReg, n_aReg, n_bReg], [w_phiReg, w_aReg, w_bReg]):\n",
        "            flavorControl(circuit, flavor, pReg[k], wReg[0], wReg[1])\n",
        "            minus1(circuit, l, countReg, workReg, wReg[0], wReg[1], 0)\n",
        "            flavorControl(circuit, flavor, pReg[k], wReg[0], wReg[1])\n",
        "\n",
        "    # apply x on eReg if hReg[m] = 0, apply another x so we essentially control on not 0 instead of 0\n",
        "    isZeroControl = numberControl(circuit, l, 0, hReg[m], w_hReg)\n",
        "    circuit.append(CNOT(isZeroControl, eReg[0]))\n",
        "    circuit.append(X(eReg[0]), strategy=new)\n",
        "    numberControlT(circuit, l, 0, hReg[m], w_hReg)\n",
        "\n",
        "def updateParticles(circuit, l, n_i, m, k, pReg, wReg, controlQub, g_a, g_b):\n",
        "    \"\"\"Updates particle if controlQub is on\"\"\"\n",
        "    oldParticleReg = pReg[k]\n",
        "    newParticleReg = pReg[n_i+m]\n",
        "    #first gate in paper U_p\n",
        "    circuit.append(TOFFOLI(controlQub, oldParticleReg[2], newParticleReg[0]), strategy=new)\n",
        "    #second gate in paper (undoes work register immediately)\n",
        "    circuit.append([X(oldParticleReg[1]), X(oldParticleReg[2])], strategy=new)\n",
        "    circuit.append(TOFFOLI(controlQub, oldParticleReg[2], wReg[0]), strategy=new)\n",
        "    circuit.append(TOFFOLI(wReg[0], oldParticleReg[1], wReg[1]), strategy=new)\n",
        "    circuit.append(TOFFOLI(wReg[1], oldParticleReg[0], newParticleReg[2]), strategy=new)\n",
        "    circuit.append(TOFFOLI(wReg[0], oldParticleReg[1], wReg[1]), strategy=new)\n",
        "    circuit.append(TOFFOLI(controlQub, oldParticleReg[2], wReg[0]), strategy=new)\n",
        "    circuit.append([X(oldParticleReg[1]), X(oldParticleReg[2])], strategy=new)\n",
        "    #third gate in paper\n",
        "    circuit.append(TOFFOLI(controlQub, newParticleReg[2], oldParticleReg[2]), strategy=new)\n",
        "    #fourth and fifth gate in paper (then undoes work register)\n",
        "    circuit.append(TOFFOLI(controlQub, newParticleReg[2], wReg[0]), strategy=new)\n",
        "    circuit.append(cirq.H.controlled().on(wReg[0], newParticleReg[1]))\n",
        "    angle = (2 * np.arccos(g_a/np.sqrt(g_a**2 + g_b**2)))\n",
        "    circuit.append(cirq.ry(angle).controlled().on(wReg[0], newParticleReg[0]))\n",
        "    circuit.append(TOFFOLI(controlQub, newParticleReg[2], wReg[0]), strategy=new)\n",
        "    #sixth and seventh gate in paper (then undoes work register)\n",
        "    circuit.append([X(newParticleReg[0]), X(newParticleReg[1])], strategy=new)\n",
        "    circuit.append(TOFFOLI(newParticleReg[1], newParticleReg[2], wReg[0]), strategy=new)\n",
        "    circuit.append(TOFFOLI(controlQub, wReg[0], oldParticleReg[1]), strategy=new)\n",
        "    circuit.append(TOFFOLI(newParticleReg[1], newParticleReg[2], wReg[0]), strategy=new)\n",
        "    circuit.append(TOFFOLI(newParticleReg[0], newParticleReg[2], wReg[0]), strategy=new)\n",
        "    circuit.append(TOFFOLI(controlQub, wReg[0], oldParticleReg[0]), strategy=new)\n",
        "    circuit.append(TOFFOLI(newParticleReg[0], newParticleReg[2], wReg[0]), strategy=new)\n",
        "    circuit.append([X(newParticleReg[0]), X(newParticleReg[1])], strategy=new)\n",
        "\n",
        "def U_p(circuit, l, n_i, m, pReg, hReg, w_hReg, wReg, g_a, g_b):\n",
        "    \"\"\"Applies U_p from paper\"\"\"\n",
        "    for k in range(0, n_i + m):\n",
        "        controlQub = numberControl(circuit, l, k+1, hReg[m], w_hReg)\n",
        "        updateParticles(circuit, l, n_i, m, k, pReg, wReg, controlQub, g_a, g_b)\n",
        "        numberControlT(circuit, l, k+1, hReg[m], w_hReg)\n",
        "\n",
        "\n",
        "def createCircuit(n_i, N, eps, g_1, g_2, g_12, initialParticles):\n",
        "    \"\"\"\n",
        "    Create full circuit with n_i initial particles and N steps\n",
        "    Inputs:\n",
        "    n_i: number of initial particles\n",
        "    N: number of steps\n",
        "    eps, g_1, g_2, g_12: pre-chosen qft parameters\n",
        "    initialParticles: list of initial particles, each particle in a binary list of qubits [MSB middle bit, LSB]\n",
        "    (opposite order of the paper pg 6 - e.g a f_a fermion is [0,0,1])\n",
        "    in order [particle 1, particle 2, ..... particle n_i]\n",
        "    \"\"\"\n",
        "    # calculate constants\n",
        "    gp = math.sqrt(abs((g_1 - g_2) ** 2 + 4 * g_12 ** 2))\n",
        "    if g_1 > g_2:\n",
        "        gp = -gp\n",
        "    g_a, g_b = (g_1 + g_2 - gp) / 2, (g_1 + g_2 + gp) / 2\n",
        "    u = math.sqrt(abs((gp + g_1 - g_2)/ (2 * gp)))\n",
        "    \n",
        "    L = int(math.floor(math.log(N + n_i, 2)) + 1)\n",
        "\n",
        "    # evaluate P(Theta) and Delta(Theta) at every time step\n",
        "    timeStepList, P_aList, P_bList, P_phiList, Delta_aList, Delta_bList, Delta_phiList = [], [], [], [], [], [], []\n",
        "    populateParameterLists(N, timeStepList, P_aList, P_bList, P_phiList, Delta_aList, Delta_bList, Delta_phiList, g_a,\n",
        "                           g_b, eps)\n",
        "\n",
        "    # allocate and populate registers\n",
        "    pReg, hReg, w_hReg, eReg, wReg, n_aReg, w_aReg, n_bReg, w_bReg, n_phiReg, w_phiReg = [], [], [], [], [], [], [], [], [], [], []\n",
        "    allocateQubs(N, n_i, L, pReg, hReg, w_hReg, eReg, wReg, n_aReg, w_aReg, n_bReg, w_bReg, n_phiReg, w_phiReg)\n",
        "    qubits = {'pReg': pReg, 'hReg': hReg, 'w_hReg': w_hReg, 'eReg': eReg, 'wReg': wReg, 'n_aReg': n_aReg,\n",
        "               'w_aReg': w_aReg, 'n_bReg': n_bReg, 'w_bReg': w_bReg, 'n_phiReg': n_phiReg, 'w_phiReg': w_phiReg}\n",
        "\n",
        "    # create circuit object and initialize particles\n",
        "    circuit = cirq.Circuit()\n",
        "    intializeParticles(circuit, pReg, initialParticles)\n",
        "\n",
        "    # begin stepping through subcircuits\n",
        "    for m in range(N):\n",
        "        l = int(math.floor(math.log(m + n_i, 2)) + 1)\n",
        "\n",
        "        # R^(m) - rotate every particle p_k from 1,2 to a,b basis (step 1)\n",
        "        for p_k in pReg:\n",
        "            circuit.append(ry(2*math.asin(-u)).controlled().on(p_k[2], p_k[0]))\n",
        "\n",
        "        # populate count register (step 2)\n",
        "        uCount(circuit, m, n_i, l, pReg, wReg, n_aReg, w_aReg, n_bReg, w_bReg, n_phiReg, w_phiReg)\n",
        "\n",
        "        # assess if emmision occured (step 3)\n",
        "        uE(circuit, l, n_i, m, n_phiReg, w_phiReg, n_aReg, w_aReg, n_bReg, w_bReg, wReg, eReg,\n",
        "           Delta_phiList[m], Delta_aList[m], Delta_bList[m])\n",
        "\n",
        "        # choose a particle to split (step 4)\n",
        "        U_h(circuit, l, n_i, m, n_phiReg, w_phiReg, n_aReg, w_aReg, n_bReg, w_bReg, wReg, eReg, pReg, hReg, w_hReg,\n",
        "            P_phiList[m], P_aList[m], P_bList[m])\n",
        "\n",
        "        # update particle based on which particle split/emmitted (step 5)\n",
        "        U_p(circuit, l, n_i, m, pReg, hReg, w_hReg, wReg, g_a, g_b)\n",
        "\n",
        "        # R^-(m) rotate every particle p_k from a,b to 1,2 basis (step 6)\n",
        "        for p_k in pReg:\n",
        "            circuit.append(ry(2*math.asin(u)).controlled().on(p_k[2], p_k[0]))\n",
        "    \n",
        "    print('generated circuit on', len(flatten(list(qubits.values()))), 'qubits') \n",
        "\n",
        "    return circuit, qubits"
      ],
      "execution_count": 4,
      "outputs": []
    },
    {
      "cell_type": "markdown",
      "metadata": {
        "id": "uzyHNDTsDCjX",
        "colab_type": "text"
      },
      "source": [
        "## **Testing**"
      ]
    },
    {
      "cell_type": "markdown",
      "metadata": {
        "id": "jB3vy850DIkj",
        "colab_type": "text"
      },
      "source": [
        "Test helpers"
      ]
    },
    {
      "cell_type": "code",
      "metadata": {
        "id": "GUo24hlC0wET",
        "colab_type": "code",
        "colab": {}
      },
      "source": [
        "import pickle"
      ],
      "execution_count": null,
      "outputs": []
    },
    {
      "cell_type": "code",
      "metadata": {
        "id": "Tq1pGDAcKoQ5",
        "colab_type": "code",
        "colab": {}
      },
      "source": [
        "def pType(x):\n",
        "  if (x==np.array([0,0,0])).all():\n",
        "    return '0'    \n",
        "  if (x==np.array([0,0,1])).all():\n",
        "    return 'phi'   \n",
        "  if (x==np.array([1,0,0])).all():\n",
        "    return 'f_a' \n",
        "  if (x==np.array([1,0,1])).all():\n",
        "    return 'f_b'   \n",
        "  if (x==np.array([1,1,0])).all():\n",
        "    return 'af_a'  \n",
        "  if (x==np.array([1,1,1])).all():\n",
        "    return 'af_b'  \n",
        "  else:\n",
        "    return \"NAN\""
      ],
      "execution_count": 6,
      "outputs": []
    },
    {
      "cell_type": "code",
      "metadata": {
        "id": "HDunaE24DGa5",
        "colab_type": "code",
        "colab": {}
      },
      "source": [
        "def nEmissions(myEvent,n_i=1):\n",
        "\t#This function returns the observable shown in Fig. 1b.\n",
        "\tmyCount = 0\n",
        "\tfor i in range(n_i,len(myEvent)):\n",
        "\t\tif myEvent[i]!= None:\n",
        "\t\t\tmyCount+=1\n",
        "\t\t\tpass\n",
        "\t\tpass\n",
        "\treturn myCount\n",
        "\n",
        "def logThetaMax(myEvent,n_i=1,eps=0.001):\n",
        "\t#This function returns the observable shown in Fig. 1a.\n",
        "\n",
        "\tN = len(myEvent)-n_i\n",
        "\tfirstEmmit = 0\n",
        "\tfor i in range(n_i,len(myEvent)):\n",
        "\t\tif myEvent[i] != None:\n",
        "\t\t\tfirstEmmit = i-n_i\n",
        "\t\t\tbreak\n",
        "\n",
        "\thist_bins = [math.log(eps**(j / N)) for j in range(N, -1, -1)]\n",
        "\thist_bins = np.array(hist_bins)\n",
        "\tcenters = (hist_bins[:-1] + hist_bins[1:]) / 2\n",
        "\n",
        "\treturn centers[::-1][firstEmmit]"
      ],
      "execution_count": 7,
      "outputs": []
    },
    {
      "cell_type": "code",
      "metadata": {
        "id": "HE3DJX88BZmR",
        "colab_type": "code",
        "colab": {}
      },
      "source": [
        "def generateStats(pMeasurementsList, numEvents, n_i=1, eps=.001):\n",
        "  \n",
        "  # create event list\n",
        "  events = []\n",
        "  for event in range(numEvents):\n",
        "    newEvent = []\n",
        "    for particle in pMeasurementsList:\n",
        "      if (particle[event] == np.array([0, 0, 0])).all():\n",
        "        newEvent.append(None)\n",
        "      else:\n",
        "        newEvent.append(pType(particle[event]))\n",
        "    events.append(newEvent)\n",
        "  \n",
        "  # create nEmissionsList and logThetaMaxList\n",
        "  nEmissionsList = [nEmissions(event, n_i) for event in events]\n",
        "  logThetaMaxList = [logThetaMax(event, n_i, eps) for event in events]\n",
        "  return events, nEmissionsList, logThetaMaxList"
      ],
      "execution_count": 8,
      "outputs": []
    },
    {
      "cell_type": "code",
      "metadata": {
        "id": "BNFy-KCadGxW",
        "colab_type": "code",
        "colab": {}
      },
      "source": [
        "# SET FOLDER AS YOU WISH - HERE IT IS SET USING GOOGLE COLAB\n",
        "\n",
        "from google.colab import drive\n",
        "#drive.mount('/content/gdrive')"
      ],
      "execution_count": 23,
      "outputs": []
    },
    {
      "cell_type": "markdown",
      "metadata": {
        "id": "ckOGnXcSZaRt",
        "colab_type": "text"
      },
      "source": [
        " **1 Fermion, 1 Step**"
      ]
    },
    {
      "cell_type": "code",
      "metadata": {
        "id": "KHS7C8uYX-xA",
        "colab_type": "code",
        "colab": {
          "base_uri": "https://localhost:8080/",
          "height": 55
        },
        "outputId": "3ac586b4-f134-4d88-908e-beae0744a534"
      },
      "source": [
        "n_i, N = 1, 1\n",
        "g_1, g_2, g_12 = 2, 1, 0\n",
        "eps = .001\n",
        "reps = 30\n"
      ],
      "execution_count": 12,
      "outputs": [
        {
          "output_type": "execute_result",
          "data": {
            "text/plain": [
              "\"circuit, qubits = createCircuit(n_i, N, eps, g_1, g_2, g_12, [[0, 0, 1]])\\n\\ncircuit.append(cirq.measure(*reverse(qubits['pReg'][0]), key='p0'))\\ncircuit.append(cirq.measure(*reverse(qubits['pReg'][1]), key='p1'))\\ncircuit.append(cirq.measure(*reverse(qubits['hReg'][0]), key='h0'))\\ncircuit.append(cirq.measure(*reverse(qubits['w_hReg']), key='w_h'))\\ncircuit.append(cirq.measure(*reverse(qubits['eReg']), key='e'))\\ncircuit.append(cirq.measure(*reverse(qubits['wReg']), key='w'))\\ncircuit.append(cirq.measure(*reverse(qubits['n_aReg']), key='n_a'))\\ncircuit.append(cirq.measure(*reverse(qubits['n_bReg']), key='n_b'))\\ncircuit.append(cirq.measure(*reverse(qubits['n_phiReg']), key='n_phi'))\\ncircuit.append(cirq.measure(*reverse(qubits['w_aReg']), key='w_a'))\\ncircuit.append(cirq.measure(*reverse(qubits['w_bReg']), key='w_b'))\\ncircuit.append(cirq.measure(*reverse(qubits['w_phiReg']), key='w_phi'))\\n\\nsimulator = cirq.Simulator()\\nresult = simulator.run(circuit, repetitions=reps)\""
            ]
          },
          "metadata": {
            "tags": []
          },
          "execution_count": 12
        }
      ]
    },
    {
      "cell_type": "code",
      "metadata": {
        "id": "9xYpE4Sb5atl",
        "colab_type": "code",
        "colab": {
          "base_uri": "https://localhost:8080/",
          "height": 55
        },
        "outputId": "5a773ac1-9dbc-4b68-bf6a-e2cfe008033a"
      },
      "source": [
        "'''circuit, qubits = createCircuit(n_i, N, eps, g_1, g_2, g_12, [[0, 0, 1]])\n",
        "\n",
        "circuit.append(cirq.measure(*reverse(qubits['pReg'][0]), key='p0'))\n",
        "circuit.append(cirq.measure(*reverse(qubits['pReg'][1]), key='p1'))\n",
        "circuit.append(cirq.measure(*reverse(qubits['hReg'][0]), key='h0'))\n",
        "circuit.append(cirq.measure(*reverse(qubits['w_hReg']), key='w_h'))\n",
        "circuit.append(cirq.measure(*reverse(qubits['eReg']), key='e'))\n",
        "circuit.append(cirq.measure(*reverse(qubits['wReg']), key='w'))\n",
        "circuit.append(cirq.measure(*reverse(qubits['n_aReg']), key='n_a'))\n",
        "circuit.append(cirq.measure(*reverse(qubits['n_bReg']), key='n_b'))\n",
        "circuit.append(cirq.measure(*reverse(qubits['n_phiReg']), key='n_phi'))\n",
        "circuit.append(cirq.measure(*reverse(qubits['w_aReg']), key='w_a'))\n",
        "circuit.append(cirq.measure(*reverse(qubits['w_bReg']), key='w_b'))\n",
        "circuit.append(cirq.measure(*reverse(qubits['w_phiReg']), key='w_phi'))\n",
        "\n",
        "simulator = cirq.Simulator()\n",
        "result = simulator.run(circuit, repetitions=reps)\n",
        "\n",
        "oneF1StepParticleLists = [result.measurements['p0'], result.measurements['p1']]\n",
        "\n",
        "# Uncomment if haven't already saved simulation result\n",
        "with open('/content/gdrive/My Drive/_1Fermion1Step.txt', 'wb') as f:\n",
        "  pickle.dump(oneF1StepParticleLists, f)'''"
      ],
      "execution_count": 14,
      "outputs": [
        {
          "output_type": "execute_result",
          "data": {
            "text/plain": [
              "\"circuit, qubits = createCircuit(n_i, N, eps, g_1, g_2, g_12, [[0, 0, 1]])\\n\\ncircuit.append(cirq.measure(*reverse(qubits['pReg'][0]), key='p0'))\\ncircuit.append(cirq.measure(*reverse(qubits['pReg'][1]), key='p1'))\\ncircuit.append(cirq.measure(*reverse(qubits['hReg'][0]), key='h0'))\\ncircuit.append(cirq.measure(*reverse(qubits['w_hReg']), key='w_h'))\\ncircuit.append(cirq.measure(*reverse(qubits['eReg']), key='e'))\\ncircuit.append(cirq.measure(*reverse(qubits['wReg']), key='w'))\\ncircuit.append(cirq.measure(*reverse(qubits['n_aReg']), key='n_a'))\\ncircuit.append(cirq.measure(*reverse(qubits['n_bReg']), key='n_b'))\\ncircuit.append(cirq.measure(*reverse(qubits['n_phiReg']), key='n_phi'))\\ncircuit.append(cirq.measure(*reverse(qubits['w_aReg']), key='w_a'))\\ncircuit.append(cirq.measure(*reverse(qubits['w_bReg']), key='w_b'))\\ncircuit.append(cirq.measure(*reverse(qubits['w_phiReg']), key='w_phi'))\\n\\nsimulator = cirq.Simulator()\\nresult = simulator.run(circuit, repetitions=reps)\\n\\noneF1StepParticleLists = [result.measurements['p0'], result.measurements['p1']]\\n\\n# Uncomment if haven't already saved simulation result\\nwith open('/content/gdrive/My Drive/_1Fermion1Step.txt', 'wb') as f:\\n  pickle.dump(oneF1StepParticleLists, f)\""
            ]
          },
          "metadata": {
            "tags": []
          },
          "execution_count": 14
        }
      ]
    },
    {
      "cell_type": "code",
      "metadata": {
        "id": "mzxI9sfaGm-z",
        "colab_type": "code",
        "colab": {
          "base_uri": "https://localhost:8080/",
          "height": 90
        },
        "outputId": "345edb48-8357-40d0-ffc7-7a3442a574ab"
      },
      "source": [
        "#oneF1StepParticleLists = [result.measurements['p0'], result.measurements['p1']]\n",
        "\n",
        "# Uncomment if haven't already saved simulation result\n",
        "#with open('/content/gdrive/My Drive/_1Fermion1Step.txt', 'wb') as f:\n",
        "#  pickle.dump(oneF1StepParticleLists, f)\n",
        "\n",
        "with open('/content/gdrive/My Drive/_1Fermion1Step.txt', 'rb') as f:\n",
        "  oneF1StepParticleListsLoaded = pickle.load(f)\n",
        "\n",
        "oneF1StepEvents, oneF1StepNEmissions, oneF1StepLogThetaMax = generateStats(oneF1StepParticleListsLoaded, reps)\n",
        "\n",
        "print(oneF1StepEvents)\n",
        "print(oneF1StepNEmissions)\n",
        "print(oneF1StepLogThetaMax)"
      ],
      "execution_count": 15,
      "outputs": [
        {
          "output_type": "stream",
          "text": [
            "[['f_a', 'phi'], ['f_a', 'phi'], ['f_a', 'phi'], ['f_a', 'phi'], ['f_a', 'phi'], ['f_a', 'phi'], ['f_a', 'phi'], ['f_a', 'phi'], ['f_a', 'phi'], ['f_a', 'phi'], ['f_a', 'phi'], ['f_a', 'phi'], ['f_a', 'phi'], ['f_a', 'phi'], ['f_a', 'phi'], ['f_a', 'phi'], ['f_a', 'phi'], ['f_a', 'phi'], ['f_a', 'phi'], ['f_a', 'phi'], ['f_a', 'phi'], ['f_a', 'phi'], ['f_a', 'phi'], ['f_a', 'phi'], ['f_a', 'phi'], ['f_a', None], ['f_a', 'phi'], ['f_a', 'phi'], ['f_a', 'phi'], ['f_a', 'phi']]\n",
            "[1, 1, 1, 1, 1, 1, 1, 1, 1, 1, 1, 1, 1, 1, 1, 1, 1, 1, 1, 1, 1, 1, 1, 1, 1, 0, 1, 1, 1, 1]\n",
            "[-3.4538776394910684, -3.4538776394910684, -3.4538776394910684, -3.4538776394910684, -3.4538776394910684, -3.4538776394910684, -3.4538776394910684, -3.4538776394910684, -3.4538776394910684, -3.4538776394910684, -3.4538776394910684, -3.4538776394910684, -3.4538776394910684, -3.4538776394910684, -3.4538776394910684, -3.4538776394910684, -3.4538776394910684, -3.4538776394910684, -3.4538776394910684, -3.4538776394910684, -3.4538776394910684, -3.4538776394910684, -3.4538776394910684, -3.4538776394910684, -3.4538776394910684, -3.4538776394910684, -3.4538776394910684, -3.4538776394910684, -3.4538776394910684, -3.4538776394910684]\n"
          ],
          "name": "stdout"
        }
      ]
    },
    {
      "cell_type": "markdown",
      "metadata": {
        "id": "zbIHsPJ2gILE",
        "colab_type": "text"
      },
      "source": [
        "**2 fermions, 1 step**"
      ]
    },
    {
      "cell_type": "code",
      "metadata": {
        "id": "H36lG9fOgLbr",
        "colab_type": "code",
        "colab": {}
      },
      "source": [
        "n_i, N = 2, 1\n",
        "g_1, g_2, g_12 = 2, 1, 0\n",
        "eps = .001\n",
        "reps = 30"
      ],
      "execution_count": 16,
      "outputs": []
    },
    {
      "cell_type": "code",
      "metadata": {
        "id": "r10ytPBI5khJ",
        "colab_type": "code",
        "colab": {
          "base_uri": "https://localhost:8080/",
          "height": 55
        },
        "outputId": "340549ce-1c62-42af-d605-6ef31bd92df4"
      },
      "source": [
        "'''circuit, qubits = createCircuit(n_i, N, eps, g_1, g_2, g_12, [[0, 0, 1], [0, 0, 1]])\n",
        "\n",
        "circuit.append(cirq.measure(*reverse(qubits['pReg'][0]), key='p0'))\n",
        "circuit.append(cirq.measure(*reverse(qubits['pReg'][1]), key='p1'))\n",
        "circuit.append(cirq.measure(*reverse(qubits['pReg'][2]), key='p2'))\n",
        "circuit.append(cirq.measure(*reverse(qubits['hReg'][0]), key='h0'))\n",
        "circuit.append(cirq.measure(*reverse(qubits['w_hReg']), key='w_h'))\n",
        "circuit.append(cirq.measure(*reverse(qubits['eReg']), key='e'))\n",
        "circuit.append(cirq.measure(*reverse(qubits['wReg']), key='w'))\n",
        "circuit.append(cirq.measure(*reverse(qubits['n_aReg']), key='n_a'))\n",
        "circuit.append(cirq.measure(*reverse(qubits['n_bReg']), key='n_b'))\n",
        "circuit.append(cirq.measure(*reverse(qubits['n_phiReg']), key='n_phi'))\n",
        "circuit.append(cirq.measure(*reverse(qubits['w_aReg']), key='w_a'))\n",
        "circuit.append(cirq.measure(*reverse(qubits['w_bReg']), key='w_b'))\n",
        "circuit.append(cirq.measure(*reverse(qubits['w_phiReg']), key='w_phi'))\n",
        "\n",
        "simulator = cirq.Simulator()\n",
        "result = simulator.run(circuit, repetitions=reps)\n",
        "\n",
        "twoF1StepParticleLists = [result.measurements['p0'], result.measurements['p1'], result.measurements['p2']]\n",
        "\n",
        "# Uncomment if haven't already saved simulation result\n",
        "with open('/content/gdrive/My Drive/_2Fermion1Step.txt', 'wb') as f:\n",
        "  pickle.dump(twoF1StepParticleLists, f)'''"
      ],
      "execution_count": 17,
      "outputs": [
        {
          "output_type": "execute_result",
          "data": {
            "text/plain": [
              "\"circuit, qubits = createCircuit(n_i, N, eps, g_1, g_2, g_12, [[0, 0, 1], [0, 0, 1]])\\n\\ncircuit.append(cirq.measure(*reverse(qubits['pReg'][0]), key='p0'))\\ncircuit.append(cirq.measure(*reverse(qubits['pReg'][1]), key='p1'))\\ncircuit.append(cirq.measure(*reverse(qubits['pReg'][2]), key='p2'))\\ncircuit.append(cirq.measure(*reverse(qubits['hReg'][0]), key='h0'))\\ncircuit.append(cirq.measure(*reverse(qubits['w_hReg']), key='w_h'))\\ncircuit.append(cirq.measure(*reverse(qubits['eReg']), key='e'))\\ncircuit.append(cirq.measure(*reverse(qubits['wReg']), key='w'))\\ncircuit.append(cirq.measure(*reverse(qubits['n_aReg']), key='n_a'))\\ncircuit.append(cirq.measure(*reverse(qubits['n_bReg']), key='n_b'))\\ncircuit.append(cirq.measure(*reverse(qubits['n_phiReg']), key='n_phi'))\\ncircuit.append(cirq.measure(*reverse(qubits['w_aReg']), key='w_a'))\\ncircuit.append(cirq.measure(*reverse(qubits['w_bReg']), key='w_b'))\\ncircuit.append(cirq.measure(*reverse(qubits['w_phiReg']), key='w_phi'))\\n\\nsimulator = cirq.Simulator()\\nresult = simulator.run(circuit, repetitions=reps)\\n\\ntwoF1StepParticleLists = [result.measurements['p0'], result.measurements['p1'], result.measurements['p2']]\\n\\n# Uncomment if haven't already saved simulation result\\nwith open('/content/gdrive/My Drive/_2Fermion1Step.txt', 'wb') as f:\\n  pickle.dump(twoF1StepParticleLists, f)\""
            ]
          },
          "metadata": {
            "tags": []
          },
          "execution_count": 17
        }
      ]
    },
    {
      "cell_type": "code",
      "metadata": {
        "id": "9WalByBfMDc1",
        "colab_type": "code",
        "colab": {
          "base_uri": "https://localhost:8080/",
          "height": 90
        },
        "outputId": "6026ed62-1259-4244-a92a-f3914f31a4ed"
      },
      "source": [
        "with open('/content/gdrive/My Drive/_2Fermion1Step.txt', 'rb') as f:\n",
        "  twoF1StepParticleListsLoaded = pickle.load(f)\n",
        "\n",
        "twoF1StepEvents, twoF1StepNEmissions, twoF1StepLogThetaMax = generateStats(twoF1StepParticleListsLoaded, reps)\n",
        "\n",
        "print(twoF1StepEvents)\n",
        "print(twoF1StepNEmissions)\n",
        "print(twoF1StepLogThetaMax)"
      ],
      "execution_count": 19,
      "outputs": [
        {
          "output_type": "stream",
          "text": [
            "[['f_a', 'f_a', 'phi'], ['f_a', 'f_a', 'phi'], ['f_a', 'f_a', 'phi'], ['f_a', 'f_a', 'phi'], ['f_a', 'f_a', 'phi'], ['f_a', 'f_a', 'phi'], ['f_a', 'f_a', 'phi'], ['f_a', 'f_a', 'phi'], ['f_a', 'f_a', 'phi'], ['f_a', 'f_a', 'phi'], ['f_a', 'f_a', 'phi'], ['f_a', 'f_a', 'phi'], ['f_a', 'f_a', 'phi'], ['f_a', 'f_a', 'phi'], ['f_a', 'f_a', 'phi'], ['f_a', 'f_a', 'phi'], ['f_a', 'f_a', 'phi'], ['f_a', 'f_a', 'phi'], ['f_a', 'f_a', 'phi'], ['f_a', 'f_a', 'phi'], ['f_a', 'f_a', 'phi'], ['f_a', 'f_a', 'phi'], ['f_a', 'f_a', 'phi'], ['f_a', 'f_a', 'phi'], ['f_a', 'f_a', 'phi'], ['f_a', 'f_a', 'phi'], ['f_a', 'f_a', 'phi'], ['f_a', 'f_a', 'phi'], ['f_a', 'f_a', 'phi'], ['f_a', 'f_a', 'phi']]\n",
            "[2, 2, 2, 2, 2, 2, 2, 2, 2, 2, 2, 2, 2, 2, 2, 2, 2, 2, 2, 2, 2, 2, 2, 2, 2, 2, 2, 2, 2, 2]\n",
            "[-1.7269388197455342, -1.7269388197455342, -1.7269388197455342, -1.7269388197455342, -1.7269388197455342, -1.7269388197455342, -1.7269388197455342, -1.7269388197455342, -1.7269388197455342, -1.7269388197455342, -1.7269388197455342, -1.7269388197455342, -1.7269388197455342, -1.7269388197455342, -1.7269388197455342, -1.7269388197455342, -1.7269388197455342, -1.7269388197455342, -1.7269388197455342, -1.7269388197455342, -1.7269388197455342, -1.7269388197455342, -1.7269388197455342, -1.7269388197455342, -1.7269388197455342, -1.7269388197455342, -1.7269388197455342, -1.7269388197455342, -1.7269388197455342, -1.7269388197455342]\n"
          ],
          "name": "stdout"
        }
      ]
    },
    {
      "cell_type": "markdown",
      "metadata": {
        "id": "lgK-N182aM2D",
        "colab_type": "text"
      },
      "source": [
        "**1 fermion, 2 steps, no coupling**"
      ]
    },
    {
      "cell_type": "code",
      "metadata": {
        "id": "pWz--81OaI39",
        "colab_type": "code",
        "colab": {
          "base_uri": "https://localhost:8080/",
          "height": 370
        },
        "outputId": "bdc5800b-430e-47aa-e3af-a5ef18009393"
      },
      "source": [
        "# Run as comparison to check whether full simulation matches 2 step result as seen in \n",
        "# https://arxiv.org/pdf/1904.03196.pdf figure 1\n",
        "\n",
        "n_i, N = 1, 2\n",
        "g_1, g_2, g_12 = 2, 1, 0\n",
        "eps = .001\n",
        "reps = 1000"
      ],
      "execution_count": null,
      "outputs": [
        {
          "output_type": "stream",
          "text": [
            "generated circuit on 29 qubits\n"
          ],
          "name": "stdout"
        },
        {
          "output_type": "error",
          "ename": "KeyboardInterrupt",
          "evalue": "ignored",
          "traceback": [
            "\u001b[0;31m---------------------------------------------------------------------------\u001b[0m",
            "\u001b[0;31mKeyboardInterrupt\u001b[0m                         Traceback (most recent call last)",
            "\u001b[0;32m<ipython-input-51-ddf02cde03a6>\u001b[0m in \u001b[0;36m<module>\u001b[0;34m()\u001b[0m\n\u001b[1;32m     22\u001b[0m \u001b[0;34m\u001b[0m\u001b[0m\n\u001b[1;32m     23\u001b[0m \u001b[0msimulator\u001b[0m \u001b[0;34m=\u001b[0m \u001b[0mcirq\u001b[0m\u001b[0;34m.\u001b[0m\u001b[0mSimulator\u001b[0m\u001b[0;34m(\u001b[0m\u001b[0;34m)\u001b[0m\u001b[0;34m\u001b[0m\u001b[0;34m\u001b[0m\u001b[0m\n\u001b[0;32m---> 24\u001b[0;31m \u001b[0mresult\u001b[0m \u001b[0;34m=\u001b[0m \u001b[0msimulator\u001b[0m\u001b[0;34m.\u001b[0m\u001b[0mrun\u001b[0m\u001b[0;34m(\u001b[0m\u001b[0mcircuit\u001b[0m\u001b[0;34m,\u001b[0m \u001b[0mrepetitions\u001b[0m\u001b[0;34m=\u001b[0m\u001b[0mreps\u001b[0m\u001b[0;34m)\u001b[0m\u001b[0;34m\u001b[0m\u001b[0;34m\u001b[0m\u001b[0m\n\u001b[0m",
            "\u001b[0;32m/usr/local/lib/python3.6/dist-packages/cirq/work/sampler.py\u001b[0m in \u001b[0;36mrun\u001b[0;34m(self, program, param_resolver, repetitions)\u001b[0m\n\u001b[1;32m     48\u001b[0m         \"\"\"\n\u001b[1;32m     49\u001b[0m         return self.run_sweep(program, study.ParamResolver(param_resolver),\n\u001b[0;32m---> 50\u001b[0;31m                               repetitions)[0]\n\u001b[0m\u001b[1;32m     51\u001b[0m \u001b[0;34m\u001b[0m\u001b[0m\n\u001b[1;32m     52\u001b[0m     def sample(\n",
            "\u001b[0;32m/usr/local/lib/python3.6/dist-packages/cirq/sim/simulator.py\u001b[0m in \u001b[0;36mrun_sweep\u001b[0;34m(self, program, params, repetitions)\u001b[0m\n\u001b[1;32m     85\u001b[0m             measurements = self._run(circuit=program,\n\u001b[1;32m     86\u001b[0m                                      \u001b[0mparam_resolver\u001b[0m\u001b[0;34m=\u001b[0m\u001b[0mparam_resolver\u001b[0m\u001b[0;34m,\u001b[0m\u001b[0;34m\u001b[0m\u001b[0;34m\u001b[0m\u001b[0m\n\u001b[0;32m---> 87\u001b[0;31m                                      repetitions=repetitions)\n\u001b[0m\u001b[1;32m     88\u001b[0m             trial_results.append(\n\u001b[1;32m     89\u001b[0m                 study.TrialResult.from_single_parameter_set(\n",
            "\u001b[0;32m/usr/local/lib/python3.6/dist-packages/cirq/sim/sparse_simulator.py\u001b[0m in \u001b[0;36m_run\u001b[0;34m(self, circuit, param_resolver, repetitions)\u001b[0m\n\u001b[1;32m    166\u001b[0m             \u001b[0;32mreturn\u001b[0m \u001b[0mprotocols\u001b[0m\u001b[0;34m.\u001b[0m\u001b[0mis_measurement\u001b[0m\u001b[0;34m(\u001b[0m\u001b[0mop\u001b[0m\u001b[0;34m)\u001b[0m \u001b[0;32mor\u001b[0m \u001b[0mprotocols\u001b[0m\u001b[0;34m.\u001b[0m\u001b[0mhas_mixture\u001b[0m\u001b[0;34m(\u001b[0m\u001b[0mop\u001b[0m\u001b[0;34m)\u001b[0m\u001b[0;34m\u001b[0m\u001b[0;34m\u001b[0m\u001b[0m\n\u001b[1;32m    167\u001b[0m         \u001b[0;32mif\u001b[0m \u001b[0mcircuit\u001b[0m\u001b[0;34m.\u001b[0m\u001b[0mare_all_matches_terminal\u001b[0m\u001b[0;34m(\u001b[0m\u001b[0mmeasure_or_mixture\u001b[0m\u001b[0;34m)\u001b[0m\u001b[0;34m:\u001b[0m\u001b[0;34m\u001b[0m\u001b[0;34m\u001b[0m\u001b[0m\n\u001b[0;32m--> 168\u001b[0;31m             \u001b[0;32mreturn\u001b[0m \u001b[0mself\u001b[0m\u001b[0;34m.\u001b[0m\u001b[0m_run_sweep_sample\u001b[0m\u001b[0;34m(\u001b[0m\u001b[0mresolved_circuit\u001b[0m\u001b[0;34m,\u001b[0m \u001b[0mrepetitions\u001b[0m\u001b[0;34m)\u001b[0m\u001b[0;34m\u001b[0m\u001b[0;34m\u001b[0m\u001b[0m\n\u001b[0m\u001b[1;32m    169\u001b[0m         \u001b[0;32mreturn\u001b[0m \u001b[0mself\u001b[0m\u001b[0;34m.\u001b[0m\u001b[0m_run_sweep_repeat\u001b[0m\u001b[0;34m(\u001b[0m\u001b[0mresolved_circuit\u001b[0m\u001b[0;34m,\u001b[0m \u001b[0mrepetitions\u001b[0m\u001b[0;34m)\u001b[0m\u001b[0;34m\u001b[0m\u001b[0;34m\u001b[0m\u001b[0m\n\u001b[1;32m    170\u001b[0m \u001b[0;34m\u001b[0m\u001b[0m\n",
            "\u001b[0;32m/usr/local/lib/python3.6/dist-packages/cirq/sim/sparse_simulator.py\u001b[0m in \u001b[0;36m_run_sweep_sample\u001b[0;34m(self, circuit, repetitions)\u001b[0m\n\u001b[1;32m    177\u001b[0m                 \u001b[0mqubit_order\u001b[0m\u001b[0;34m=\u001b[0m\u001b[0mops\u001b[0m\u001b[0;34m.\u001b[0m\u001b[0mQubitOrder\u001b[0m\u001b[0;34m.\u001b[0m\u001b[0mDEFAULT\u001b[0m\u001b[0;34m,\u001b[0m\u001b[0;34m\u001b[0m\u001b[0;34m\u001b[0m\u001b[0m\n\u001b[1;32m    178\u001b[0m                 \u001b[0minitial_state\u001b[0m\u001b[0;34m=\u001b[0m\u001b[0;36m0\u001b[0m\u001b[0;34m,\u001b[0m\u001b[0;34m\u001b[0m\u001b[0;34m\u001b[0m\u001b[0m\n\u001b[0;32m--> 179\u001b[0;31m                 perform_measurements=False):\n\u001b[0m\u001b[1;32m    180\u001b[0m             \u001b[0;32mpass\u001b[0m\u001b[0;34m\u001b[0m\u001b[0;34m\u001b[0m\u001b[0m\n\u001b[1;32m    181\u001b[0m         \u001b[0;31m# We can ignore the mixtures since this is a run method which\u001b[0m\u001b[0;34m\u001b[0m\u001b[0;34m\u001b[0m\u001b[0;34m\u001b[0m\u001b[0m\n",
            "\u001b[0;32m/usr/local/lib/python3.6/dist-packages/cirq/sim/sparse_simulator.py\u001b[0m in \u001b[0;36m_base_iterator\u001b[0;34m(self, circuit, qubit_order, initial_state, perform_measurements)\u001b[0m\n\u001b[1;32m    283\u001b[0m                     \u001b[0mself\u001b[0m\u001b[0;34m.\u001b[0m\u001b[0m_simulate_reset\u001b[0m\u001b[0;34m(\u001b[0m\u001b[0mop\u001b[0m\u001b[0;34m,\u001b[0m \u001b[0mdata\u001b[0m\u001b[0;34m,\u001b[0m \u001b[0mindices\u001b[0m\u001b[0;34m)\u001b[0m\u001b[0;34m\u001b[0m\u001b[0;34m\u001b[0m\u001b[0m\n\u001b[1;32m    284\u001b[0m                 \u001b[0;32melif\u001b[0m \u001b[0mprotocols\u001b[0m\u001b[0;34m.\u001b[0m\u001b[0mhas_unitary\u001b[0m\u001b[0;34m(\u001b[0m\u001b[0mop\u001b[0m\u001b[0;34m)\u001b[0m\u001b[0;34m:\u001b[0m\u001b[0;34m\u001b[0m\u001b[0;34m\u001b[0m\u001b[0m\n\u001b[0;32m--> 285\u001b[0;31m                     \u001b[0mself\u001b[0m\u001b[0;34m.\u001b[0m\u001b[0m_simulate_unitary\u001b[0m\u001b[0;34m(\u001b[0m\u001b[0mop\u001b[0m\u001b[0;34m,\u001b[0m \u001b[0mdata\u001b[0m\u001b[0;34m,\u001b[0m \u001b[0mindices\u001b[0m\u001b[0;34m)\u001b[0m\u001b[0;34m\u001b[0m\u001b[0;34m\u001b[0m\u001b[0m\n\u001b[0m\u001b[1;32m    286\u001b[0m                 \u001b[0;32melif\u001b[0m \u001b[0mprotocols\u001b[0m\u001b[0;34m.\u001b[0m\u001b[0mis_measurement\u001b[0m\u001b[0;34m(\u001b[0m\u001b[0mop\u001b[0m\u001b[0;34m)\u001b[0m\u001b[0;34m:\u001b[0m\u001b[0;34m\u001b[0m\u001b[0;34m\u001b[0m\u001b[0m\n\u001b[1;32m    287\u001b[0m                     \u001b[0;31m# Do measurements second, since there may be mixtures that\u001b[0m\u001b[0;34m\u001b[0m\u001b[0;34m\u001b[0m\u001b[0;34m\u001b[0m\u001b[0m\n",
            "\u001b[0;32m/usr/local/lib/python3.6/dist-packages/cirq/sim/sparse_simulator.py\u001b[0m in \u001b[0;36m_simulate_unitary\u001b[0;34m(self, op, data, indices)\u001b[0m\n\u001b[1;32m    308\u001b[0m                         \u001b[0mdata\u001b[0m\u001b[0;34m.\u001b[0m\u001b[0mstate\u001b[0m\u001b[0;34m,\u001b[0m\u001b[0;34m\u001b[0m\u001b[0;34m\u001b[0m\u001b[0m\n\u001b[1;32m    309\u001b[0m                         \u001b[0mdata\u001b[0m\u001b[0;34m.\u001b[0m\u001b[0mbuffer\u001b[0m\u001b[0;34m,\u001b[0m\u001b[0;34m\u001b[0m\u001b[0;34m\u001b[0m\u001b[0m\n\u001b[0;32m--> 310\u001b[0;31m                         indices))\n\u001b[0m\u001b[1;32m    311\u001b[0m         \u001b[0;32mif\u001b[0m \u001b[0mresult\u001b[0m \u001b[0;32mis\u001b[0m \u001b[0mdata\u001b[0m\u001b[0;34m.\u001b[0m\u001b[0mbuffer\u001b[0m\u001b[0;34m:\u001b[0m\u001b[0;34m\u001b[0m\u001b[0;34m\u001b[0m\u001b[0m\n\u001b[1;32m    312\u001b[0m             \u001b[0mdata\u001b[0m\u001b[0;34m.\u001b[0m\u001b[0mbuffer\u001b[0m \u001b[0;34m=\u001b[0m \u001b[0mdata\u001b[0m\u001b[0;34m.\u001b[0m\u001b[0mstate\u001b[0m\u001b[0;34m\u001b[0m\u001b[0;34m\u001b[0m\u001b[0m\n",
            "\u001b[0;32m/usr/local/lib/python3.6/dist-packages/cirq/protocols/apply_unitary_protocol.py\u001b[0m in \u001b[0;36mapply_unitary\u001b[0;34m(unitary_value, args, default)\u001b[0m\n\u001b[1;32m    345\u001b[0m     \u001b[0;31m# Try each strategy, stopping if one works.\u001b[0m\u001b[0;34m\u001b[0m\u001b[0;34m\u001b[0m\u001b[0;34m\u001b[0m\u001b[0m\n\u001b[1;32m    346\u001b[0m     \u001b[0;32mfor\u001b[0m \u001b[0mstrat\u001b[0m \u001b[0;32min\u001b[0m \u001b[0mstrats\u001b[0m\u001b[0;34m:\u001b[0m\u001b[0;34m\u001b[0m\u001b[0;34m\u001b[0m\u001b[0m\n\u001b[0;32m--> 347\u001b[0;31m         \u001b[0mresult\u001b[0m \u001b[0;34m=\u001b[0m \u001b[0mstrat\u001b[0m\u001b[0;34m(\u001b[0m\u001b[0munitary_value\u001b[0m\u001b[0;34m,\u001b[0m \u001b[0margs\u001b[0m\u001b[0;34m)\u001b[0m\u001b[0;34m\u001b[0m\u001b[0;34m\u001b[0m\u001b[0m\n\u001b[0m\u001b[1;32m    348\u001b[0m         \u001b[0;32mif\u001b[0m \u001b[0mresult\u001b[0m \u001b[0;32mis\u001b[0m \u001b[0;32mNone\u001b[0m\u001b[0;34m:\u001b[0m\u001b[0;34m\u001b[0m\u001b[0;34m\u001b[0m\u001b[0m\n\u001b[1;32m    349\u001b[0m             \u001b[0;32mbreak\u001b[0m\u001b[0;34m\u001b[0m\u001b[0;34m\u001b[0m\u001b[0m\n",
            "\u001b[0;32m/usr/local/lib/python3.6/dist-packages/cirq/protocols/apply_unitary_protocol.py\u001b[0m in \u001b[0;36m_strat_apply_unitary_from_apply_unitary\u001b[0;34m(unitary_value, args)\u001b[0m\n\u001b[1;32m    382\u001b[0m     sub_args = args._for_operation_with_qid_shape(range(len(op_qid_shape)),\n\u001b[1;32m    383\u001b[0m                                                   op_qid_shape)\n\u001b[0;32m--> 384\u001b[0;31m     \u001b[0msub_result\u001b[0m \u001b[0;34m=\u001b[0m \u001b[0mfunc\u001b[0m\u001b[0;34m(\u001b[0m\u001b[0msub_args\u001b[0m\u001b[0;34m)\u001b[0m\u001b[0;34m\u001b[0m\u001b[0;34m\u001b[0m\u001b[0m\n\u001b[0m\u001b[1;32m    385\u001b[0m     \u001b[0;32mif\u001b[0m \u001b[0msub_result\u001b[0m \u001b[0;32mis\u001b[0m \u001b[0mNotImplemented\u001b[0m \u001b[0;32mor\u001b[0m \u001b[0msub_result\u001b[0m \u001b[0;32mis\u001b[0m \u001b[0;32mNone\u001b[0m\u001b[0;34m:\u001b[0m\u001b[0;34m\u001b[0m\u001b[0;34m\u001b[0m\u001b[0m\n\u001b[1;32m    386\u001b[0m         \u001b[0;32mreturn\u001b[0m \u001b[0msub_result\u001b[0m\u001b[0;34m\u001b[0m\u001b[0;34m\u001b[0m\u001b[0m\n",
            "\u001b[0;32m/usr/local/lib/python3.6/dist-packages/cirq/ops/gate_operation.py\u001b[0m in \u001b[0;36m_apply_unitary_\u001b[0;34m(self, args)\u001b[0m\n\u001b[1;32m    118\u001b[0m     def _apply_unitary_(self, args: 'protocols.ApplyUnitaryArgs'\n\u001b[1;32m    119\u001b[0m                        ) -> Union[np.ndarray, None, NotImplementedType]:\n\u001b[0;32m--> 120\u001b[0;31m         \u001b[0;32mreturn\u001b[0m \u001b[0mprotocols\u001b[0m\u001b[0;34m.\u001b[0m\u001b[0mapply_unitary\u001b[0m\u001b[0;34m(\u001b[0m\u001b[0mself\u001b[0m\u001b[0;34m.\u001b[0m\u001b[0mgate\u001b[0m\u001b[0;34m,\u001b[0m \u001b[0margs\u001b[0m\u001b[0;34m,\u001b[0m \u001b[0mdefault\u001b[0m\u001b[0;34m=\u001b[0m\u001b[0;32mNone\u001b[0m\u001b[0;34m)\u001b[0m\u001b[0;34m\u001b[0m\u001b[0;34m\u001b[0m\u001b[0m\n\u001b[0m\u001b[1;32m    121\u001b[0m \u001b[0;34m\u001b[0m\u001b[0m\n\u001b[1;32m    122\u001b[0m     \u001b[0;32mdef\u001b[0m \u001b[0m_has_unitary_\u001b[0m\u001b[0;34m(\u001b[0m\u001b[0mself\u001b[0m\u001b[0;34m)\u001b[0m \u001b[0;34m->\u001b[0m \u001b[0mbool\u001b[0m\u001b[0;34m:\u001b[0m\u001b[0;34m\u001b[0m\u001b[0;34m\u001b[0m\u001b[0m\n",
            "\u001b[0;32m/usr/local/lib/python3.6/dist-packages/cirq/protocols/apply_unitary_protocol.py\u001b[0m in \u001b[0;36mapply_unitary\u001b[0;34m(unitary_value, args, default)\u001b[0m\n\u001b[1;32m    345\u001b[0m     \u001b[0;31m# Try each strategy, stopping if one works.\u001b[0m\u001b[0;34m\u001b[0m\u001b[0;34m\u001b[0m\u001b[0;34m\u001b[0m\u001b[0m\n\u001b[1;32m    346\u001b[0m     \u001b[0;32mfor\u001b[0m \u001b[0mstrat\u001b[0m \u001b[0;32min\u001b[0m \u001b[0mstrats\u001b[0m\u001b[0;34m:\u001b[0m\u001b[0;34m\u001b[0m\u001b[0;34m\u001b[0m\u001b[0m\n\u001b[0;32m--> 347\u001b[0;31m         \u001b[0mresult\u001b[0m \u001b[0;34m=\u001b[0m \u001b[0mstrat\u001b[0m\u001b[0;34m(\u001b[0m\u001b[0munitary_value\u001b[0m\u001b[0;34m,\u001b[0m \u001b[0margs\u001b[0m\u001b[0;34m)\u001b[0m\u001b[0;34m\u001b[0m\u001b[0;34m\u001b[0m\u001b[0m\n\u001b[0m\u001b[1;32m    348\u001b[0m         \u001b[0;32mif\u001b[0m \u001b[0mresult\u001b[0m \u001b[0;32mis\u001b[0m \u001b[0;32mNone\u001b[0m\u001b[0;34m:\u001b[0m\u001b[0;34m\u001b[0m\u001b[0;34m\u001b[0m\u001b[0m\n\u001b[1;32m    349\u001b[0m             \u001b[0;32mbreak\u001b[0m\u001b[0;34m\u001b[0m\u001b[0;34m\u001b[0m\u001b[0m\n",
            "\u001b[0;32m/usr/local/lib/python3.6/dist-packages/cirq/protocols/apply_unitary_protocol.py\u001b[0m in \u001b[0;36m_strat_apply_unitary_from_apply_unitary\u001b[0;34m(unitary_value, args)\u001b[0m\n\u001b[1;32m    382\u001b[0m     sub_args = args._for_operation_with_qid_shape(range(len(op_qid_shape)),\n\u001b[1;32m    383\u001b[0m                                                   op_qid_shape)\n\u001b[0;32m--> 384\u001b[0;31m     \u001b[0msub_result\u001b[0m \u001b[0;34m=\u001b[0m \u001b[0mfunc\u001b[0m\u001b[0;34m(\u001b[0m\u001b[0msub_args\u001b[0m\u001b[0;34m)\u001b[0m\u001b[0;34m\u001b[0m\u001b[0;34m\u001b[0m\u001b[0m\n\u001b[0m\u001b[1;32m    385\u001b[0m     \u001b[0;32mif\u001b[0m \u001b[0msub_result\u001b[0m \u001b[0;32mis\u001b[0m \u001b[0mNotImplemented\u001b[0m \u001b[0;32mor\u001b[0m \u001b[0msub_result\u001b[0m \u001b[0;32mis\u001b[0m \u001b[0;32mNone\u001b[0m\u001b[0;34m:\u001b[0m\u001b[0;34m\u001b[0m\u001b[0;34m\u001b[0m\u001b[0m\n\u001b[1;32m    386\u001b[0m         \u001b[0;32mreturn\u001b[0m \u001b[0msub_result\u001b[0m\u001b[0;34m\u001b[0m\u001b[0;34m\u001b[0m\u001b[0m\n",
            "\u001b[0;32m/usr/local/lib/python3.6/dist-packages/cirq/ops/three_qubit_gates.py\u001b[0m in \u001b[0;36m_apply_unitary_\u001b[0;34m(self, args)\u001b[0m\n\u001b[1;32m    359\u001b[0m                 \u001b[0margs\u001b[0m\u001b[0;34m.\u001b[0m\u001b[0mavailable_buffer\u001b[0m\u001b[0;34m,\u001b[0m\u001b[0;34m\u001b[0m\u001b[0;34m\u001b[0m\u001b[0m\n\u001b[1;32m    360\u001b[0m                 args.axes),\n\u001b[0;32m--> 361\u001b[0;31m             default=NotImplemented)\n\u001b[0m\u001b[1;32m    362\u001b[0m \u001b[0;34m\u001b[0m\u001b[0m\n\u001b[1;32m    363\u001b[0m     \u001b[0;32mdef\u001b[0m \u001b[0m_decompose_\u001b[0m\u001b[0;34m(\u001b[0m\u001b[0mself\u001b[0m\u001b[0;34m,\u001b[0m \u001b[0mqubits\u001b[0m\u001b[0;34m)\u001b[0m\u001b[0;34m:\u001b[0m\u001b[0;34m\u001b[0m\u001b[0;34m\u001b[0m\u001b[0m\n",
            "\u001b[0;32m/usr/local/lib/python3.6/dist-packages/cirq/protocols/apply_unitary_protocol.py\u001b[0m in \u001b[0;36mapply_unitary\u001b[0;34m(unitary_value, args, default)\u001b[0m\n\u001b[1;32m    345\u001b[0m     \u001b[0;31m# Try each strategy, stopping if one works.\u001b[0m\u001b[0;34m\u001b[0m\u001b[0;34m\u001b[0m\u001b[0;34m\u001b[0m\u001b[0m\n\u001b[1;32m    346\u001b[0m     \u001b[0;32mfor\u001b[0m \u001b[0mstrat\u001b[0m \u001b[0;32min\u001b[0m \u001b[0mstrats\u001b[0m\u001b[0;34m:\u001b[0m\u001b[0;34m\u001b[0m\u001b[0;34m\u001b[0m\u001b[0m\n\u001b[0;32m--> 347\u001b[0;31m         \u001b[0mresult\u001b[0m \u001b[0;34m=\u001b[0m \u001b[0mstrat\u001b[0m\u001b[0;34m(\u001b[0m\u001b[0munitary_value\u001b[0m\u001b[0;34m,\u001b[0m \u001b[0margs\u001b[0m\u001b[0;34m)\u001b[0m\u001b[0;34m\u001b[0m\u001b[0;34m\u001b[0m\u001b[0m\n\u001b[0m\u001b[1;32m    348\u001b[0m         \u001b[0;32mif\u001b[0m \u001b[0mresult\u001b[0m \u001b[0;32mis\u001b[0m \u001b[0;32mNone\u001b[0m\u001b[0;34m:\u001b[0m\u001b[0;34m\u001b[0m\u001b[0;34m\u001b[0m\u001b[0m\n\u001b[1;32m    349\u001b[0m             \u001b[0;32mbreak\u001b[0m\u001b[0;34m\u001b[0m\u001b[0;34m\u001b[0m\u001b[0m\n",
            "\u001b[0;32m/usr/local/lib/python3.6/dist-packages/cirq/protocols/apply_unitary_protocol.py\u001b[0m in \u001b[0;36m_strat_apply_unitary_from_apply_unitary\u001b[0;34m(unitary_value, args)\u001b[0m\n\u001b[1;32m    382\u001b[0m     sub_args = args._for_operation_with_qid_shape(range(len(op_qid_shape)),\n\u001b[1;32m    383\u001b[0m                                                   op_qid_shape)\n\u001b[0;32m--> 384\u001b[0;31m     \u001b[0msub_result\u001b[0m \u001b[0;34m=\u001b[0m \u001b[0mfunc\u001b[0m\u001b[0;34m(\u001b[0m\u001b[0msub_args\u001b[0m\u001b[0;34m)\u001b[0m\u001b[0;34m\u001b[0m\u001b[0;34m\u001b[0m\u001b[0m\n\u001b[0m\u001b[1;32m    385\u001b[0m     \u001b[0;32mif\u001b[0m \u001b[0msub_result\u001b[0m \u001b[0;32mis\u001b[0m \u001b[0mNotImplemented\u001b[0m \u001b[0;32mor\u001b[0m \u001b[0msub_result\u001b[0m \u001b[0;32mis\u001b[0m \u001b[0;32mNone\u001b[0m\u001b[0;34m:\u001b[0m\u001b[0;34m\u001b[0m\u001b[0;34m\u001b[0m\u001b[0m\n\u001b[1;32m    386\u001b[0m         \u001b[0;32mreturn\u001b[0m \u001b[0msub_result\u001b[0m\u001b[0;34m\u001b[0m\u001b[0;34m\u001b[0m\u001b[0m\n",
            "\u001b[0;32m/usr/local/lib/python3.6/dist-packages/cirq/ops/controlled_gate.py\u001b[0m in \u001b[0;36m_apply_unitary_\u001b[0;34m(self, args)\u001b[0m\n\u001b[1;32m    137\u001b[0m         c_op = cop.ControlledOperation(qubits[:self.num_controls()], op,\n\u001b[1;32m    138\u001b[0m                                        self.control_values)\n\u001b[0;32m--> 139\u001b[0;31m         \u001b[0;32mreturn\u001b[0m \u001b[0mprotocols\u001b[0m\u001b[0;34m.\u001b[0m\u001b[0mapply_unitary\u001b[0m\u001b[0;34m(\u001b[0m\u001b[0mc_op\u001b[0m\u001b[0;34m,\u001b[0m \u001b[0margs\u001b[0m\u001b[0;34m,\u001b[0m \u001b[0mdefault\u001b[0m\u001b[0;34m=\u001b[0m\u001b[0mNotImplemented\u001b[0m\u001b[0;34m)\u001b[0m\u001b[0;34m\u001b[0m\u001b[0;34m\u001b[0m\u001b[0m\n\u001b[0m\u001b[1;32m    140\u001b[0m \u001b[0;34m\u001b[0m\u001b[0m\n\u001b[1;32m    141\u001b[0m     \u001b[0;32mdef\u001b[0m \u001b[0m_has_unitary_\u001b[0m\u001b[0;34m(\u001b[0m\u001b[0mself\u001b[0m\u001b[0;34m)\u001b[0m \u001b[0;34m->\u001b[0m \u001b[0mbool\u001b[0m\u001b[0;34m:\u001b[0m\u001b[0;34m\u001b[0m\u001b[0;34m\u001b[0m\u001b[0m\n",
            "\u001b[0;32m/usr/local/lib/python3.6/dist-packages/cirq/protocols/apply_unitary_protocol.py\u001b[0m in \u001b[0;36mapply_unitary\u001b[0;34m(unitary_value, args, default)\u001b[0m\n\u001b[1;32m    345\u001b[0m     \u001b[0;31m# Try each strategy, stopping if one works.\u001b[0m\u001b[0;34m\u001b[0m\u001b[0;34m\u001b[0m\u001b[0;34m\u001b[0m\u001b[0m\n\u001b[1;32m    346\u001b[0m     \u001b[0;32mfor\u001b[0m \u001b[0mstrat\u001b[0m \u001b[0;32min\u001b[0m \u001b[0mstrats\u001b[0m\u001b[0;34m:\u001b[0m\u001b[0;34m\u001b[0m\u001b[0;34m\u001b[0m\u001b[0m\n\u001b[0;32m--> 347\u001b[0;31m         \u001b[0mresult\u001b[0m \u001b[0;34m=\u001b[0m \u001b[0mstrat\u001b[0m\u001b[0;34m(\u001b[0m\u001b[0munitary_value\u001b[0m\u001b[0;34m,\u001b[0m \u001b[0margs\u001b[0m\u001b[0;34m)\u001b[0m\u001b[0;34m\u001b[0m\u001b[0;34m\u001b[0m\u001b[0m\n\u001b[0m\u001b[1;32m    348\u001b[0m         \u001b[0;32mif\u001b[0m \u001b[0mresult\u001b[0m \u001b[0;32mis\u001b[0m \u001b[0;32mNone\u001b[0m\u001b[0;34m:\u001b[0m\u001b[0;34m\u001b[0m\u001b[0;34m\u001b[0m\u001b[0m\n\u001b[1;32m    349\u001b[0m             \u001b[0;32mbreak\u001b[0m\u001b[0;34m\u001b[0m\u001b[0;34m\u001b[0m\u001b[0m\n",
            "\u001b[0;32m/usr/local/lib/python3.6/dist-packages/cirq/protocols/apply_unitary_protocol.py\u001b[0m in \u001b[0;36m_strat_apply_unitary_from_apply_unitary\u001b[0;34m(unitary_value, args)\u001b[0m\n\u001b[1;32m    382\u001b[0m     sub_args = args._for_operation_with_qid_shape(range(len(op_qid_shape)),\n\u001b[1;32m    383\u001b[0m                                                   op_qid_shape)\n\u001b[0;32m--> 384\u001b[0;31m     \u001b[0msub_result\u001b[0m \u001b[0;34m=\u001b[0m \u001b[0mfunc\u001b[0m\u001b[0;34m(\u001b[0m\u001b[0msub_args\u001b[0m\u001b[0;34m)\u001b[0m\u001b[0;34m\u001b[0m\u001b[0;34m\u001b[0m\u001b[0m\n\u001b[0m\u001b[1;32m    385\u001b[0m     \u001b[0;32mif\u001b[0m \u001b[0msub_result\u001b[0m \u001b[0;32mis\u001b[0m \u001b[0mNotImplemented\u001b[0m \u001b[0;32mor\u001b[0m \u001b[0msub_result\u001b[0m \u001b[0;32mis\u001b[0m \u001b[0;32mNone\u001b[0m\u001b[0;34m:\u001b[0m\u001b[0;34m\u001b[0m\u001b[0;34m\u001b[0m\u001b[0m\n\u001b[1;32m    386\u001b[0m         \u001b[0;32mreturn\u001b[0m \u001b[0msub_result\u001b[0m\u001b[0;34m\u001b[0m\u001b[0;34m\u001b[0m\u001b[0m\n",
            "\u001b[0;32m/usr/local/lib/python3.6/dist-packages/cirq/ops/controlled_operation.py\u001b[0m in \u001b[0;36m_apply_unitary_\u001b[0;34m(self, args)\u001b[0m\n\u001b[1;32m    109\u001b[0m                                                  \u001b[0mtarget_view\u001b[0m\u001b[0;34m,\u001b[0m \u001b[0mbuffer_view\u001b[0m\u001b[0;34m,\u001b[0m\u001b[0;34m\u001b[0m\u001b[0;34m\u001b[0m\u001b[0m\n\u001b[1;32m    110\u001b[0m                                                  sub_axes),\n\u001b[0;32m--> 111\u001b[0;31m                                              default=NotImplemented)\n\u001b[0m\u001b[1;32m    112\u001b[0m \u001b[0;34m\u001b[0m\u001b[0m\n\u001b[1;32m    113\u001b[0m             \u001b[0;32mif\u001b[0m \u001b[0mresult\u001b[0m \u001b[0;32mis\u001b[0m \u001b[0mNotImplemented\u001b[0m\u001b[0;34m:\u001b[0m\u001b[0;34m\u001b[0m\u001b[0;34m\u001b[0m\u001b[0m\n",
            "\u001b[0;32m/usr/local/lib/python3.6/dist-packages/cirq/protocols/apply_unitary_protocol.py\u001b[0m in \u001b[0;36mapply_unitary\u001b[0;34m(unitary_value, args, default)\u001b[0m\n\u001b[1;32m    345\u001b[0m     \u001b[0;31m# Try each strategy, stopping if one works.\u001b[0m\u001b[0;34m\u001b[0m\u001b[0;34m\u001b[0m\u001b[0;34m\u001b[0m\u001b[0m\n\u001b[1;32m    346\u001b[0m     \u001b[0;32mfor\u001b[0m \u001b[0mstrat\u001b[0m \u001b[0;32min\u001b[0m \u001b[0mstrats\u001b[0m\u001b[0;34m:\u001b[0m\u001b[0;34m\u001b[0m\u001b[0;34m\u001b[0m\u001b[0m\n\u001b[0;32m--> 347\u001b[0;31m         \u001b[0mresult\u001b[0m \u001b[0;34m=\u001b[0m \u001b[0mstrat\u001b[0m\u001b[0;34m(\u001b[0m\u001b[0munitary_value\u001b[0m\u001b[0;34m,\u001b[0m \u001b[0margs\u001b[0m\u001b[0;34m)\u001b[0m\u001b[0;34m\u001b[0m\u001b[0;34m\u001b[0m\u001b[0m\n\u001b[0m\u001b[1;32m    348\u001b[0m         \u001b[0;32mif\u001b[0m \u001b[0mresult\u001b[0m \u001b[0;32mis\u001b[0m \u001b[0;32mNone\u001b[0m\u001b[0;34m:\u001b[0m\u001b[0;34m\u001b[0m\u001b[0;34m\u001b[0m\u001b[0m\n\u001b[1;32m    349\u001b[0m             \u001b[0;32mbreak\u001b[0m\u001b[0;34m\u001b[0m\u001b[0;34m\u001b[0m\u001b[0m\n",
            "\u001b[0;32m/usr/local/lib/python3.6/dist-packages/cirq/protocols/apply_unitary_protocol.py\u001b[0m in \u001b[0;36m_strat_apply_unitary_from_apply_unitary\u001b[0;34m(unitary_value, args)\u001b[0m\n\u001b[1;32m    382\u001b[0m     sub_args = args._for_operation_with_qid_shape(range(len(op_qid_shape)),\n\u001b[1;32m    383\u001b[0m                                                   op_qid_shape)\n\u001b[0;32m--> 384\u001b[0;31m     \u001b[0msub_result\u001b[0m \u001b[0;34m=\u001b[0m \u001b[0mfunc\u001b[0m\u001b[0;34m(\u001b[0m\u001b[0msub_args\u001b[0m\u001b[0;34m)\u001b[0m\u001b[0;34m\u001b[0m\u001b[0;34m\u001b[0m\u001b[0m\n\u001b[0m\u001b[1;32m    385\u001b[0m     \u001b[0;32mif\u001b[0m \u001b[0msub_result\u001b[0m \u001b[0;32mis\u001b[0m \u001b[0mNotImplemented\u001b[0m \u001b[0;32mor\u001b[0m \u001b[0msub_result\u001b[0m \u001b[0;32mis\u001b[0m \u001b[0;32mNone\u001b[0m\u001b[0;34m:\u001b[0m\u001b[0;34m\u001b[0m\u001b[0;34m\u001b[0m\u001b[0m\n\u001b[1;32m    386\u001b[0m         \u001b[0;32mreturn\u001b[0m \u001b[0msub_result\u001b[0m\u001b[0;34m\u001b[0m\u001b[0;34m\u001b[0m\u001b[0m\n",
            "\u001b[0;32m/usr/local/lib/python3.6/dist-packages/cirq/ops/gate_operation.py\u001b[0m in \u001b[0;36m_apply_unitary_\u001b[0;34m(self, args)\u001b[0m\n\u001b[1;32m    118\u001b[0m     def _apply_unitary_(self, args: 'protocols.ApplyUnitaryArgs'\n\u001b[1;32m    119\u001b[0m                        ) -> Union[np.ndarray, None, NotImplementedType]:\n\u001b[0;32m--> 120\u001b[0;31m         \u001b[0;32mreturn\u001b[0m \u001b[0mprotocols\u001b[0m\u001b[0;34m.\u001b[0m\u001b[0mapply_unitary\u001b[0m\u001b[0;34m(\u001b[0m\u001b[0mself\u001b[0m\u001b[0;34m.\u001b[0m\u001b[0mgate\u001b[0m\u001b[0;34m,\u001b[0m \u001b[0margs\u001b[0m\u001b[0;34m,\u001b[0m \u001b[0mdefault\u001b[0m\u001b[0;34m=\u001b[0m\u001b[0;32mNone\u001b[0m\u001b[0;34m)\u001b[0m\u001b[0;34m\u001b[0m\u001b[0;34m\u001b[0m\u001b[0m\n\u001b[0m\u001b[1;32m    121\u001b[0m \u001b[0;34m\u001b[0m\u001b[0m\n\u001b[1;32m    122\u001b[0m     \u001b[0;32mdef\u001b[0m \u001b[0m_has_unitary_\u001b[0m\u001b[0;34m(\u001b[0m\u001b[0mself\u001b[0m\u001b[0;34m)\u001b[0m \u001b[0;34m->\u001b[0m \u001b[0mbool\u001b[0m\u001b[0;34m:\u001b[0m\u001b[0;34m\u001b[0m\u001b[0;34m\u001b[0m\u001b[0m\n",
            "\u001b[0;32m/usr/local/lib/python3.6/dist-packages/cirq/protocols/apply_unitary_protocol.py\u001b[0m in \u001b[0;36mapply_unitary\u001b[0;34m(unitary_value, args, default)\u001b[0m\n\u001b[1;32m    345\u001b[0m     \u001b[0;31m# Try each strategy, stopping if one works.\u001b[0m\u001b[0;34m\u001b[0m\u001b[0;34m\u001b[0m\u001b[0;34m\u001b[0m\u001b[0m\n\u001b[1;32m    346\u001b[0m     \u001b[0;32mfor\u001b[0m \u001b[0mstrat\u001b[0m \u001b[0;32min\u001b[0m \u001b[0mstrats\u001b[0m\u001b[0;34m:\u001b[0m\u001b[0;34m\u001b[0m\u001b[0;34m\u001b[0m\u001b[0m\n\u001b[0;32m--> 347\u001b[0;31m         \u001b[0mresult\u001b[0m \u001b[0;34m=\u001b[0m \u001b[0mstrat\u001b[0m\u001b[0;34m(\u001b[0m\u001b[0munitary_value\u001b[0m\u001b[0;34m,\u001b[0m \u001b[0margs\u001b[0m\u001b[0;34m)\u001b[0m\u001b[0;34m\u001b[0m\u001b[0;34m\u001b[0m\u001b[0m\n\u001b[0m\u001b[1;32m    348\u001b[0m         \u001b[0;32mif\u001b[0m \u001b[0mresult\u001b[0m \u001b[0;32mis\u001b[0m \u001b[0;32mNone\u001b[0m\u001b[0;34m:\u001b[0m\u001b[0;34m\u001b[0m\u001b[0;34m\u001b[0m\u001b[0m\n\u001b[1;32m    349\u001b[0m             \u001b[0;32mbreak\u001b[0m\u001b[0;34m\u001b[0m\u001b[0;34m\u001b[0m\u001b[0m\n",
            "\u001b[0;32m/usr/local/lib/python3.6/dist-packages/cirq/protocols/apply_unitary_protocol.py\u001b[0m in \u001b[0;36m_strat_apply_unitary_from_apply_unitary\u001b[0;34m(unitary_value, args)\u001b[0m\n\u001b[1;32m    382\u001b[0m     sub_args = args._for_operation_with_qid_shape(range(len(op_qid_shape)),\n\u001b[1;32m    383\u001b[0m                                                   op_qid_shape)\n\u001b[0;32m--> 384\u001b[0;31m     \u001b[0msub_result\u001b[0m \u001b[0;34m=\u001b[0m \u001b[0mfunc\u001b[0m\u001b[0;34m(\u001b[0m\u001b[0msub_args\u001b[0m\u001b[0;34m)\u001b[0m\u001b[0;34m\u001b[0m\u001b[0;34m\u001b[0m\u001b[0m\n\u001b[0m\u001b[1;32m    385\u001b[0m     \u001b[0;32mif\u001b[0m \u001b[0msub_result\u001b[0m \u001b[0;32mis\u001b[0m \u001b[0mNotImplemented\u001b[0m \u001b[0;32mor\u001b[0m \u001b[0msub_result\u001b[0m \u001b[0;32mis\u001b[0m \u001b[0;32mNone\u001b[0m\u001b[0;34m:\u001b[0m\u001b[0;34m\u001b[0m\u001b[0;34m\u001b[0m\u001b[0m\n\u001b[1;32m    386\u001b[0m         \u001b[0;32mreturn\u001b[0m \u001b[0msub_result\u001b[0m\u001b[0;34m\u001b[0m\u001b[0;34m\u001b[0m\u001b[0m\n",
            "\u001b[0;32m/usr/local/lib/python3.6/dist-packages/cirq/ops/common_gates.py\u001b[0m in \u001b[0;36m_apply_unitary_\u001b[0;34m(self, args)\u001b[0m\n\u001b[1;32m     79\u001b[0m         \u001b[0mone\u001b[0m \u001b[0;34m=\u001b[0m \u001b[0margs\u001b[0m\u001b[0;34m.\u001b[0m\u001b[0msubspace_index\u001b[0m\u001b[0;34m(\u001b[0m\u001b[0;36m1\u001b[0m\u001b[0;34m)\u001b[0m\u001b[0;34m\u001b[0m\u001b[0;34m\u001b[0m\u001b[0m\n\u001b[1;32m     80\u001b[0m         \u001b[0margs\u001b[0m\u001b[0;34m.\u001b[0m\u001b[0mavailable_buffer\u001b[0m\u001b[0;34m[\u001b[0m\u001b[0mzero\u001b[0m\u001b[0;34m]\u001b[0m \u001b[0;34m=\u001b[0m \u001b[0margs\u001b[0m\u001b[0;34m.\u001b[0m\u001b[0mtarget_tensor\u001b[0m\u001b[0;34m[\u001b[0m\u001b[0mone\u001b[0m\u001b[0;34m]\u001b[0m\u001b[0;34m\u001b[0m\u001b[0;34m\u001b[0m\u001b[0m\n\u001b[0;32m---> 81\u001b[0;31m         \u001b[0margs\u001b[0m\u001b[0;34m.\u001b[0m\u001b[0mavailable_buffer\u001b[0m\u001b[0;34m[\u001b[0m\u001b[0mone\u001b[0m\u001b[0;34m]\u001b[0m \u001b[0;34m=\u001b[0m \u001b[0margs\u001b[0m\u001b[0;34m.\u001b[0m\u001b[0mtarget_tensor\u001b[0m\u001b[0;34m[\u001b[0m\u001b[0mzero\u001b[0m\u001b[0;34m]\u001b[0m\u001b[0;34m\u001b[0m\u001b[0;34m\u001b[0m\u001b[0m\n\u001b[0m\u001b[1;32m     82\u001b[0m         \u001b[0mp\u001b[0m \u001b[0;34m=\u001b[0m \u001b[0;36m1j\u001b[0m\u001b[0;34m**\u001b[0m\u001b[0;34m(\u001b[0m\u001b[0;36m2\u001b[0m \u001b[0;34m*\u001b[0m \u001b[0mself\u001b[0m\u001b[0;34m.\u001b[0m\u001b[0m_exponent\u001b[0m \u001b[0;34m*\u001b[0m \u001b[0mself\u001b[0m\u001b[0;34m.\u001b[0m\u001b[0m_global_shift\u001b[0m\u001b[0;34m)\u001b[0m\u001b[0;34m\u001b[0m\u001b[0;34m\u001b[0m\u001b[0m\n\u001b[1;32m     83\u001b[0m         \u001b[0;32mif\u001b[0m \u001b[0mp\u001b[0m \u001b[0;34m!=\u001b[0m \u001b[0;36m1\u001b[0m\u001b[0;34m:\u001b[0m\u001b[0;34m\u001b[0m\u001b[0;34m\u001b[0m\u001b[0m\n",
            "\u001b[0;31mKeyboardInterrupt\u001b[0m: "
          ]
        }
      ]
    },
    {
      "cell_type": "code",
      "metadata": {
        "id": "VdDv6-fQ52nE",
        "colab_type": "code",
        "colab": {
          "base_uri": "https://localhost:8080/",
          "height": 55
        },
        "outputId": "edb96213-756c-4b7b-fed1-9150c55181fd"
      },
      "source": [
        "'''circuit, qubits = createCircuit(n_i, N, eps, g_1, g_2, g_12, [[0, 0, 1]])\n",
        "\n",
        "circuit.append(cirq.measure(*reverse(qubits['pReg'][0]), key='p0'))\n",
        "circuit.append(cirq.measure(*reverse(qubits['pReg'][1]), key='p1'))\n",
        "circuit.append(cirq.measure(*reverse(qubits['pReg'][2]), key='p2'))\n",
        "circuit.append(cirq.measure(*reverse(qubits['hReg'][0]), key='h0'))\n",
        "circuit.append(cirq.measure(*reverse(qubits['hReg'][1]), key='h1'))\n",
        "circuit.append(cirq.measure(*reverse(qubits['w_hReg']), key='w_h'))\n",
        "circuit.append(cirq.measure(*reverse(qubits['eReg']), key='e'))\n",
        "circuit.append(cirq.measure(*reverse(qubits['wReg']), key='w'))\n",
        "circuit.append(cirq.measure(*reverse(qubits['n_aReg']), key='n_a'))\n",
        "circuit.append(cirq.measure(*reverse(qubits['n_bReg']), key='n_b'))\n",
        "circuit.append(cirq.measure(*reverse(qubits['n_phiReg']), key='n_phi'))\n",
        "circuit.append(cirq.measure(*reverse(qubits['w_aReg']), key='w_a'))\n",
        "circuit.append(cirq.measure(*reverse(qubits['w_bReg']), key='w_b'))\n",
        "circuit.append(cirq.measure(*reverse(qubits['w_phiReg']), key='w_phi'))\n",
        "\n",
        "simulator = cirq.Simulator()\n",
        "result = simulator.run(circuit, repetitions=reps)\n",
        "\n",
        "oneF2StepParticleLists0 = [result.measurements['p0'], result.measurements['p1'], result.measurements['p2']]\n",
        "\n",
        "# Uncomment if haven't already saved simulation result\n",
        "with open('/content/gdrive/My Drive/_1Fermion2Step0.txt', 'wb') as f:\n",
        "  pickle.dump(oneF2StepParticleLists0, f)'''"
      ],
      "execution_count": 20,
      "outputs": [
        {
          "output_type": "execute_result",
          "data": {
            "text/plain": [
              "\"circuit, qubits = createCircuit(n_i, N, eps, g_1, g_2, g_12, [[0, 0, 1]])\\n\\ncircuit.append(cirq.measure(*reverse(qubits['pReg'][0]), key='p0'))\\ncircuit.append(cirq.measure(*reverse(qubits['pReg'][1]), key='p1'))\\ncircuit.append(cirq.measure(*reverse(qubits['pReg'][2]), key='p2'))\\ncircuit.append(cirq.measure(*reverse(qubits['hReg'][0]), key='h0'))\\ncircuit.append(cirq.measure(*reverse(qubits['hReg'][1]), key='h1'))\\ncircuit.append(cirq.measure(*reverse(qubits['w_hReg']), key='w_h'))\\ncircuit.append(cirq.measure(*reverse(qubits['eReg']), key='e'))\\ncircuit.append(cirq.measure(*reverse(qubits['wReg']), key='w'))\\ncircuit.append(cirq.measure(*reverse(qubits['n_aReg']), key='n_a'))\\ncircuit.append(cirq.measure(*reverse(qubits['n_bReg']), key='n_b'))\\ncircuit.append(cirq.measure(*reverse(qubits['n_phiReg']), key='n_phi'))\\ncircuit.append(cirq.measure(*reverse(qubits['w_aReg']), key='w_a'))\\ncircuit.append(cirq.measure(*reverse(qubits['w_bReg']), key='w_b'))\\ncircuit.append(cirq.measure(*reverse(qubits['w_phiReg']), key='w_phi'))\\n\\nsimulator = cirq.Simulator()\\nresult = simulator.run(circuit, repetitions=reps)\\n\\noneF2StepParticleLists0 = [result.measurements['p0'], result.measurements['p1'], result.measurements['p2']]\\n\\n# Uncomment if haven't already saved simulation result\\nwith open('/content/gdrive/My Drive/_1Fermion2Step0.txt', 'wb') as f:\\n  pickle.dump(oneF2StepParticleLists0, f)\""
            ]
          },
          "metadata": {
            "tags": []
          },
          "execution_count": 20
        }
      ]
    },
    {
      "cell_type": "code",
      "metadata": {
        "id": "MyJr-gD8fZPk",
        "colab_type": "code",
        "colab": {
          "base_uri": "https://localhost:8080/",
          "height": 239
        },
        "outputId": "882027dc-3ab3-4f98-dd92-317ccf99c361"
      },
      "source": [
        "with open('/content/gdrive/My Drive/_1Fermion2Step0.txt', 'rb') as f:\n",
        "  oneF2StepParticleLists0Loaded = pickle.load(f)\n",
        "\n",
        "oneF2StepEvents0, oneF2StepNEmissions0, oneF2StepLogThetaMax0 = generateStats(oneF2StepParticleLists0Loaded, reps)\n",
        "\n",
        "print(oneF2StepEvents0)\n",
        "print(oneF2StepNEmissions0)\n",
        "print(oneF2StepLogThetaMax0)"
      ],
      "execution_count": 21,
      "outputs": [
        {
          "output_type": "error",
          "ename": "UnpicklingError",
          "evalue": "ignored",
          "traceback": [
            "\u001b[0;31m---------------------------------------------------------------------------\u001b[0m",
            "\u001b[0;31mUnpicklingError\u001b[0m                           Traceback (most recent call last)",
            "\u001b[0;32m<ipython-input-21-43a42e241d9a>\u001b[0m in \u001b[0;36m<module>\u001b[0;34m()\u001b[0m\n\u001b[1;32m      1\u001b[0m \u001b[0;32mwith\u001b[0m \u001b[0mopen\u001b[0m\u001b[0;34m(\u001b[0m\u001b[0;34m'/content/gdrive/My Drive/_1Fermion2Step0.txt'\u001b[0m\u001b[0;34m,\u001b[0m \u001b[0;34m'rb'\u001b[0m\u001b[0;34m)\u001b[0m \u001b[0;32mas\u001b[0m \u001b[0mf\u001b[0m\u001b[0;34m:\u001b[0m\u001b[0;34m\u001b[0m\u001b[0;34m\u001b[0m\u001b[0m\n\u001b[0;32m----> 2\u001b[0;31m   \u001b[0moneF2StepParticleLists0Loaded\u001b[0m \u001b[0;34m=\u001b[0m \u001b[0mpickle\u001b[0m\u001b[0;34m.\u001b[0m\u001b[0mload\u001b[0m\u001b[0;34m(\u001b[0m\u001b[0mf\u001b[0m\u001b[0;34m)\u001b[0m\u001b[0;34m\u001b[0m\u001b[0;34m\u001b[0m\u001b[0m\n\u001b[0m\u001b[1;32m      3\u001b[0m \u001b[0;34m\u001b[0m\u001b[0m\n\u001b[1;32m      4\u001b[0m \u001b[0moneF2StepEvents0\u001b[0m\u001b[0;34m,\u001b[0m \u001b[0moneF2StepNEmissions0\u001b[0m\u001b[0;34m,\u001b[0m \u001b[0moneF2StepLogThetaMax0\u001b[0m \u001b[0;34m=\u001b[0m \u001b[0mgenerateStats\u001b[0m\u001b[0;34m(\u001b[0m\u001b[0moneF2StepParticleLists0Loaded\u001b[0m\u001b[0;34m,\u001b[0m \u001b[0mreps\u001b[0m\u001b[0;34m)\u001b[0m\u001b[0;34m\u001b[0m\u001b[0;34m\u001b[0m\u001b[0m\n\u001b[1;32m      5\u001b[0m \u001b[0;34m\u001b[0m\u001b[0m\n",
            "\u001b[0;31mUnpicklingError\u001b[0m: invalid load key, '['."
          ]
        }
      ]
    },
    {
      "cell_type": "code",
      "metadata": {
        "id": "U4QZwHgMuMvI",
        "colab_type": "code",
        "colab": {
          "base_uri": "https://localhost:8080/",
          "height": 265
        },
        "outputId": "06148f6b-b87b-4442-bb2e-a0c36c4cba8e"
      },
      "source": [
        "plt.hist(np.array(oneF2StepNEmissions0))\n",
        "plt.show()"
      ],
      "execution_count": null,
      "outputs": [
        {
          "output_type": "display_data",
          "data": {
            "image/png": "[encoded data removed]",
            "text/plain": [
              "<Figure size 432x288 with 1 Axes>"
            ]
          },
          "metadata": {
            "tags": [],
            "needs_background": "light"
          }
        }
      ]
    },
    {
      "cell_type": "markdown",
      "metadata": {
        "id": "g0QGS_O0Ry9u",
        "colab_type": "text"
      },
      "source": [
        "**1 fermion, 2 steps, with coupling**"
      ]
    },
    {
      "cell_type": "code",
      "metadata": {
        "id": "-ZI_Ego4gAXk",
        "colab_type": "code",
        "colab": {
          "base_uri": "https://localhost:8080/",
          "height": 35
        },
        "outputId": "6ce43e3f-71ae-43bb-c6d9-a6a6a0a49954"
      },
      "source": [
        "n_i, N = 1, 2\n",
        "g_1, g_2, g_12 = 2, 1, 1\n",
        "eps = .001\n",
        "reps = 1000"
      ],
      "execution_count": null,
      "outputs": [
        {
          "output_type": "stream",
          "text": [
            "generated circuit on 29 qubits\n"
          ],
          "name": "stdout"
        }
      ]
    },
    {
      "cell_type": "code",
      "metadata": {
        "id": "b90HywLL71DJ",
        "colab_type": "code",
        "colab": {}
      },
      "source": [
        "\"\"\"circuit, qubits = createCircuit(n_i, N, eps, g_1, g_2, g_12, [[0, 0, 1]])\n",
        "\n",
        "circuit.append(cirq.measure(*reverse(qubits['pReg'][0]), key='p0'))\n",
        "circuit.append(cirq.measure(*reverse(qubits['pReg'][1]), key='p1'))\n",
        "circuit.append(cirq.measure(*reverse(qubits['pReg'][2]), key='p2'))\n",
        "circuit.append(cirq.measure(*reverse(qubits['hReg'][0]), key='h0'))\n",
        "circuit.append(cirq.measure(*reverse(qubits['hReg'][1]), key='h1'))\n",
        "circuit.append(cirq.measure(*reverse(qubits['w_hReg']), key='w_h'))\n",
        "circuit.append(cirq.measure(*reverse(qubits['eReg']), key='e'))\n",
        "circuit.append(cirq.measure(*reverse(qubits['wReg']), key='w'))\n",
        "circuit.append(cirq.measure(*reverse(qubits['n_aReg']), key='n_a'))\n",
        "circuit.append(cirq.measure(*reverse(qubits['n_bReg']), key='n_b'))\n",
        "circuit.append(cirq.measure(*reverse(qubits['n_phiReg']), key='n_phi'))\n",
        "circuit.append(cirq.measure(*reverse(qubits['w_aReg']), key='w_a'))\n",
        "circuit.append(cirq.measure(*reverse(qubits['w_bReg']), key='w_b'))\n",
        "circuit.append(cirq.measure(*reverse(qubits['w_phiReg']), key='w_phi'))\n",
        "\n",
        "simulator = cirq.Simulator()\n",
        "result1 = simulator.run(circuit, repetitions=reps)\n",
        "\n",
        "\n",
        "oneF2StepParticleLists1 = [result1.measurements['p0'], result1.measurements['p1'], result1.measurements['p2']]\n",
        "\n",
        "with open('/content/gdrive/My Drive/_1Fermion2Step1.txt', 'wb') as f:\n",
        "  pickle.dump(oneF2StepParticleLists1, f)\"\"\""
      ],
      "execution_count": null,
      "outputs": []
    },
    {
      "cell_type": "code",
      "metadata": {
        "id": "7dGGTyKUSX0z",
        "colab_type": "code",
        "colab": {
          "base_uri": "https://localhost:8080/",
          "height": 55
        },
        "outputId": "f5448699-eae0-4f7c-8d86-efcf2a1bca63"
      },
      "source": [
        "with open('/content/gdrive/My Drive/_1Fermion2Step1.txt', 'rb') as f:\n",
        "  oneF2StepParticleLists1Loaded = pickle.load(f)\n",
        "\n",
        "oneF2StepEvents1, oneF2StepNEmissions1, oneF2StepLogThetaMax1 = generateStats(oneF2StepParticleLists1Loaded, reps)\n",
        "\n",
        "print(oneF2StepEvents1)\n",
        "print(oneF2StepNEmissions1)\n",
        "print(oneF2StepLogThetaMax1)"
      ],
      "execution_count": null,
      "outputs": [
        {
          "output_type": "stream",
          "text": [
            "[['f_a', None, None], ['f_b', None, None], ['f_b', 'phi', 'phi'], ['f_a', 'af_a', 'f_a'], ['f_a', 'af_a', 'f_a'], ['f_a', None, None], ['f_a', 'phi', 'phi'], ['f_a', None, None], ['f_a', 'f_a', 'af_a'], ['f_b', 'phi', 'phi'], ['f_a', 'af_a', 'f_a'], ['f_a', 'phi', 'phi'], ['f_a', None, None], ['f_b', 'phi', 'phi'], ['f_a', None, None], ['f_b', 'af_a', 'f_b'], ['f_a', 'f_a', 'af_b'], ['f_b', None, None], ['f_a', 'af_a', 'f_a'], ['f_a', None, 'phi'], ['f_a', None, None], ['f_a', 'phi', 'phi'], ['f_a', 'af_a', 'f_a'], ['f_a', None, 'phi'], ['f_a', 'phi', 'phi'], ['f_a', None, None], ['f_a', 'af_a', 'f_a'], ['f_b', None, None], ['f_a', None, 'phi'], ['f_a', 'f_b', 'af_b'], ['f_a', 'f_b', 'af_b'], ['f_a', 'phi', 'phi'], ['f_b', None, 'phi'], ['f_a', 'f_b', 'af_b'], ['f_b', None, None], ['f_b', 'phi', 'phi'], ['f_a', 'phi', None], ['f_a', 'af_b', 'f_a'], ['f_a', 'af_a', 'f_a'], ['f_b', 'phi', 'phi'], ['f_a', 'af_a', 'f_b'], ['f_b', 'phi', 'phi'], ['f_b', None, None], ['f_a', 'phi', 'phi'], ['f_b', 'phi', 'phi'], ['f_b', None, None], ['f_b', 'phi', 'phi'], ['f_a', 'af_b', 'f_a'], ['f_a', 'phi', 'phi'], ['f_a', 'af_b', 'f_b'], ['f_a', 'phi', 'phi'], ['f_a', 'af_a', 'f_a'], ['f_a', 'af_a', 'f_a'], ['f_a', None, 'phi'], ['f_a', 'af_a', 'f_a'], ['f_b', None, None], ['f_a', 'af_a', 'f_a'], ['f_a', 'phi', 'phi'], ['f_a', None, None], ['f_b', None, None], ['f_b', None, None], ['f_a', None, None], ['f_b', None, 'phi'], ['f_a', None, None], ['f_b', 'phi', 'phi'], ['f_a', 'f_a', 'af_a'], ['f_a', None, None], ['f_a', 'f_a', 'af_a'], ['f_b', 'af_a', 'f_a'], ['f_b', None, None], ['f_a', 'phi', 'phi'], ['f_a', None, None], ['f_a', None, None], ['f_a', 'af_b', 'f_a'], ['f_a', None, None], ['f_a', 'f_a', 'af_a'], ['f_a', 'phi', 'phi'], ['f_a', 'f_a', 'af_a'], ['f_a', None, None], ['f_b', 'phi', 'phi'], ['f_b', None, None], ['f_b', 'f_a', 'af_a'], ['f_a', 'f_a', 'af_a'], ['f_a', None, 'phi'], ['f_b', None, None], ['f_a', 'af_a', 'f_b'], ['f_a', 'af_a', 'f_a'], ['f_a', 'af_a', 'f_a'], ['f_b', 'phi', 'phi'], ['f_a', None, None], ['f_a', 'phi', 'phi'], ['f_a', None, None], ['f_a', None, 'phi'], ['f_a', 'f_a', 'af_a'], ['f_a', 'phi', 'phi'], ['f_a', 'phi', 'phi'], ['f_a', None, None], ['f_a', 'phi', 'phi'], ['f_b', 'phi', 'phi'], ['f_a', 'phi', 'phi'], ['f_a', None, None], ['f_a', 'f_a', 'af_a'], ['f_b', 'phi', 'phi'], ['f_b', 'af_a', 'f_a'], ['f_b', None, None], ['f_a', 'af_a', 'f_b'], ['f_b', 'f_a', 'af_a'], ['f_b', 'phi', 'phi'], ['f_a', 'af_a', 'f_b'], ['f_a', 'phi', 'phi'], ['f_a', None, None], ['f_b', 'phi', 'phi'], ['f_a', 'af_a', 'f_a'], ['f_a', 'f_b', 'af_a'], ['f_b', None, None], ['f_a', 'phi', 'phi'], ['f_a', None, None], ['f_a', 'phi', 'phi'], ['f_b', None, None], ['f_b', 'phi', 'phi'], ['f_a', None, None], ['f_b', None, None], ['f_a', 'phi', 'phi'], ['f_b', 'af_a', 'f_a'], ['f_a', None, 'phi'], ['f_b', None, None], ['f_b', None, None], ['f_a', 'phi', 'phi'], ['f_a', 'phi', 'phi'], ['f_a', 'f_a', 'af_b'], ['f_b', 'phi', 'phi'], ['f_a', None, None], ['f_a', None, 'phi'], ['f_a', None, None], ['f_b', 'phi', 'phi'], ['f_a', 'phi', 'phi'], ['f_b', None, None], ['f_b', 'phi', 'phi'], ['f_a', None, None], ['f_a', 'phi', 'phi'], ['f_a', None, 'phi'], ['f_a', None, None], ['f_a', 'phi', 'phi'], ['f_a', None, None], ['f_a', 'f_a', 'af_a'], ['f_a', 'af_a', 'f_a'], ['f_a', None, 'phi'], ['f_a', None, None], ['f_b', None, None], ['f_a', 'f_a', 'af_b'], ['f_a', None, None], ['f_a', None, 'phi'], ['f_a', None, 'phi'], ['f_a', 'phi', None], ['f_a', 'phi', 'phi'], ['f_a', 'f_b', 'af_a'], ['f_a', None, None], ['f_a', 'f_a', 'af_a'], ['f_a', 'f_a', 'af_a'], ['f_b', None, None], ['f_a', 'af_b', 'f_a'], ['f_b', None, None], ['f_a', 'phi', 'phi'], ['f_a', 'af_a', 'f_a'], ['f_a', 'f_a', 'af_b'], ['f_a', 'phi', 'phi'], ['f_a', None, None], ['f_a', 'phi', 'phi'], ['f_a', None, None], ['f_a', 'phi', None], ['f_a', 'af_b', 'f_b'], ['f_a', 'af_a', 'f_a'], ['f_a', None, 'phi'], ['f_a', 'f_b', 'af_a'], ['f_b', 'phi', 'phi'], ['f_a', None, None], ['f_b', 'af_a', 'f_a'], ['f_a', None, 'phi'], ['f_a', None, None], ['f_b', 'phi', 'phi'], ['f_a', 'phi', 'phi'], ['f_a', 'f_a', 'af_a'], ['f_a', 'af_a', 'f_a'], ['f_a', 'phi', None], ['f_a', None, 'phi'], ['f_a', 'af_a', 'f_b'], ['f_a', None, 'phi'], ['f_a', 'phi', 'phi'], ['f_a', 'f_a', 'af_a'], ['f_a', 'af_a', 'f_a'], ['f_b', None, 'phi'], ['f_b', 'f_a', 'af_a'], ['f_a', 'f_a', 'af_a'], ['f_a', 'f_a', 'af_a'], ['f_a', None, None], ['f_a', 'phi', 'phi'], ['f_a', 'f_a', 'af_a'], ['f_a', 'af_a', 'f_a'], ['f_a', 'f_b', 'af_b'], ['f_a', 'f_b', 'af_b'], ['f_a', 'f_a', 'af_a'], ['f_a', 'af_a', 'f_a'], ['f_a', 'af_b', 'f_a'], ['f_a', 'af_b', 'f_b'], ['f_a', None, None], ['f_b', None, None], ['f_a', None, 'phi'], ['f_a', 'phi', 'phi'], ['f_b', 'phi', 'phi'], ['f_a', None, 'phi'], ['f_a', 'af_a', 'f_a'], ['f_a', 'phi', 'phi'], ['f_a', 'phi', 'phi'], ['f_b', None, None], ['f_a', None, 'phi'], ['f_a', 'phi', 'phi'], ['f_a', 'phi', 'phi'], ['f_a', 'f_a', 'af_a'], ['f_b', 'phi', None], ['f_a', 'af_a', 'f_a'], ['f_a', None, 'phi'], ['f_a', 'af_a', 'f_a'], ['f_a', 'phi', 'phi'], ['f_b', 'af_b', 'f_b'], ['f_b', 'af_a', 'f_b'], ['f_b', None, None], ['f_a', 'af_a', 'f_a'], ['f_a', 'phi', 'phi'], ['f_b', None, None], ['f_a', 'phi', 'phi'], ['f_a', 'f_b', 'af_b'], ['f_b', None, None], ['f_a', 'f_b', 'af_a'], ['f_a', 'f_a', 'af_a'], ['f_a', 'phi', 'phi'], ['f_a', 'phi', 'phi'], ['f_a', 'f_a', 'af_a'], ['f_a', None, None], ['f_a', None, 'phi'], ['f_a', 'af_a', 'f_a'], ['f_a', 'phi', 'phi'], ['f_b', None, None], ['f_a', None, None], ['f_a', 'af_b', 'f_a'], ['f_b', None, None], ['f_a', 'phi', 'phi'], ['f_b', None, None], ['f_a', 'f_a', 'af_b'], ['f_b', 'phi', 'phi'], ['f_a', None, None], ['f_a', None, 'phi'], ['f_b', None, None], ['f_b', 'f_a', 'af_a'], ['f_a', 'f_a', 'af_b'], ['f_b', None, None], ['f_a', None, None], ['f_a', 'f_a', 'af_a'], ['f_b', None, None], ['f_a', None, None], ['f_a', None, None], ['f_a', 'f_b', 'af_a'], ['f_a', 'phi', 'phi'], ['f_a', None, None], ['f_a', 'phi', 'phi'], ['f_a', None, 'phi'], ['f_a', 'phi', 'phi'], ['f_a', 'f_a', 'af_b'], ['f_a', 'af_a', 'f_b'], ['f_a', 'phi', 'phi'], ['f_b', None, None], ['f_a', 'phi', None], ['f_b', None, None], ['f_b', 'phi', 'phi'], ['f_b', None, None], ['f_a', 'phi', 'phi'], ['f_b', None, None], ['f_a', 'phi', 'phi'], ['f_a', 'phi', 'phi'], ['f_b', None, None], ['f_a', None, None], ['f_a', 'phi', 'phi'], ['f_a', 'af_b', 'f_b'], ['f_a', 'f_a', 'af_a'], ['f_a', None, 'phi'], ['f_b', 'af_a', 'f_a'], ['f_b', None, None], ['f_a', None, 'phi'], ['f_b', 'af_a', 'f_a'], ['f_a', 'phi', 'phi'], ['f_a', None, None], ['f_b', None, None], ['f_a', 'phi', 'phi'], ['f_a', None, None], ['f_a', None, None], ['f_a', None, 'phi'], ['f_b', 'af_a', 'f_a'], ['f_a', 'f_b', 'af_a'], ['f_a', None, None], ['f_b', 'phi', 'phi'], ['f_b', None, None], ['f_a', None, None], ['f_a', 'phi', 'phi'], ['f_b', 'phi', 'phi'], ['f_b', 'af_a', 'f_a'], ['f_a', None, 'phi'], ['f_a', None, None], ['f_b', 'phi', 'phi'], ['f_a', 'phi', 'phi'], ['f_b', 'af_b', 'f_b'], ['f_a', 'phi', 'phi'], ['f_a', 'phi', 'phi'], ['f_a', 'phi', 'phi'], ['f_a', None, 'phi'], ['f_b', 'af_a', 'f_a'], ['f_a', 'af_b', 'f_b'], ['f_a', 'f_a', 'af_a'], ['f_a', None, None], ['f_a', 'phi', 'phi'], ['f_a', 'phi', 'phi'], ['f_b', 'phi', 'phi'], ['f_a', 'f_a', 'af_a'], ['f_a', None, None], ['f_b', 'phi', 'phi'], ['f_b', None, None], ['f_a', None, None], ['f_a', 'f_a', 'af_a'], ['f_b', 'phi', 'phi'], ['f_a', 'phi', 'phi'], ['f_a', 'phi', 'phi'], ['f_a', None, None], ['f_a', None, None], ['f_a', 'af_a', 'f_a'], ['f_a', 'phi', 'phi'], ['f_a', None, None], ['f_b', None, None], ['f_a', 'phi', 'phi'], ['f_a', 'phi', 'phi'], ['f_a', 'af_a', 'f_b'], ['f_a', None, 'phi'], ['f_a', 'phi', 'phi'], ['f_a', 'f_b', 'af_b'], ['f_a', None, None], ['f_a', 'f_a', 'af_a'], ['f_a', 'af_a', 'f_a'], ['f_a', 'phi', 'phi'], ['f_a', 'phi', None], ['f_b', 'f_a', 'af_a'], ['f_b', 'phi', 'phi'], ['f_b', 'af_b', 'f_b'], ['f_a', 'phi', 'phi'], ['f_a', 'phi', 'phi'], ['f_b', None, None], ['f_b', 'phi', 'phi'], ['f_b', 'af_a', 'f_a'], ['f_a', 'phi', 'phi'], ['f_a', 'f_b', 'af_a'], ['f_b', 'phi', 'phi'], ['f_a', 'f_a', 'af_a'], ['f_a', 'phi', 'phi'], ['f_a', None, None], ['f_a', 'phi', 'phi'], ['f_a', 'af_a', 'f_a'], ['f_a', 'phi', 'phi'], ['f_a', 'f_a', 'af_a'], ['f_b', 'phi', 'phi'], ['f_a', 'phi', None], ['f_a', None, None], ['f_b', 'f_a', 'af_a'], ['f_a', 'phi', 'phi'], ['f_b', None, None], ['f_a', 'phi', 'phi'], ['f_a', None, None], ['f_b', 'phi', 'phi'], ['f_a', 'f_b', 'af_a'], ['f_a', 'af_a', 'f_b'], ['f_a', None, 'phi'], ['f_a', 'af_a', 'f_b'], ['f_b', None, None], ['f_a', 'phi', 'phi'], ['f_a', 'phi', 'phi'], ['f_a', None, 'phi'], ['f_b', 'af_a', 'f_a'], ['f_b', 'phi', 'phi'], ['f_a', None, 'phi'], ['f_a', 'phi', 'phi'], ['f_a', 'phi', 'phi'], ['f_b', 'phi', 'phi'], ['f_a', 'phi', 'phi'], ['f_a', 'f_b', 'af_a'], ['f_a', 'phi', 'phi'], ['f_a', 'f_b', 'af_b'], ['f_a', None, 'phi'], ['f_a', None, 'phi'], ['f_b', 'phi', 'phi'], ['f_a', 'f_a', 'af_b'], ['f_a', 'phi', 'phi'], ['f_a', None, None], ['f_b', None, None], ['f_a', 'af_a', 'f_b'], ['f_a', 'f_a', 'af_b'], ['f_a', 'f_a', 'af_a'], ['f_a', None, 'phi'], ['f_b', None, None], ['f_b', 'phi', 'phi'], ['f_a', 'af_a', 'f_b'], ['f_a', None, None], ['f_a', 'af_a', 'f_a'], ['f_a', 'phi', 'phi'], ['f_b', None, None], ['f_a', None, None], ['f_a', None, None], ['f_b', None, None], ['f_a', 'af_a', 'f_a'], ['f_a', 'f_a', 'af_a'], ['f_a', 'phi', 'phi'], ['f_a', 'phi', 'phi'], ['f_a', None, 'phi'], ['f_a', None, 'phi'], ['f_a', 'phi', 'phi'], ['f_a', 'phi', 'phi'], ['f_a', 'phi', 'phi'], ['f_a', 'phi', 'phi'], ['f_a', 'f_b', 'af_a'], ['f_a', 'f_a', 'af_a'], ['f_a', 'phi', 'phi'], ['f_a', 'phi', 'phi'], ['f_a', 'phi', 'phi'], ['f_a', 'phi', 'phi'], ['f_a', 'phi', 'phi'], ['f_a', None, None], ['f_b', 'phi', 'phi'], ['f_a', 'f_a', 'af_b'], ['f_a', 'phi', 'phi'], ['f_b', None, None], ['f_a', 'phi', 'phi'], ['f_a', 'phi', 'phi'], ['f_a', None, 'phi'], ['f_a', 'phi', 'phi'], ['f_a', None, 'phi'], ['f_a', 'phi', 'phi'], ['f_a', 'af_a', 'f_a'], ['f_a', None, None], ['f_a', 'af_b', 'f_b'], ['f_a', None, None], ['f_a', None, None], ['f_b', None, None], ['f_a', 'af_a', 'f_a'], ['f_b', None, None], ['f_a', None, 'phi'], ['f_a', 'phi', 'phi'], ['f_a', 'af_a', 'f_a'], ['f_a', None, None], ['f_a', 'af_a', 'f_a'], ['f_a', None, None], ['f_a', None, 'phi'], ['f_a', 'af_b', 'f_b'], ['f_a', 'phi', 'phi'], ['f_a', 'phi', 'phi'], ['f_b', 'f_b', 'af_a'], ['f_a', 'f_a', 'af_a'], ['f_a', 'phi', 'phi'], ['f_a', None, None], ['f_a', None, 'phi'], ['f_a', None, 'phi'], ['f_b', None, None], ['f_b', None, None], ['f_b', None, None], ['f_a', 'af_a', 'f_a'], ['f_a', 'f_a', 'af_a'], ['f_a', None, 'phi'], ['f_a', None, None], ['f_a', 'af_a', 'f_a'], ['f_a', 'phi', 'phi'], ['f_a', 'phi', 'phi'], ['f_b', 'phi', 'phi'], ['f_b', None, 'phi'], ['f_a', 'f_b', 'af_b'], ['f_a', 'phi', 'phi'], ['f_a', 'phi', 'phi'], ['f_b', 'af_a', 'f_a'], ['f_a', 'f_a', 'af_a'], ['f_a', 'phi', 'phi'], ['f_a', 'phi', 'phi'], ['f_b', 'phi', 'phi'], ['f_b', None, None], ['f_b', 'phi', 'phi'], ['f_a', 'af_b', 'f_a'], ['f_a', 'f_a', 'af_a'], ['f_a', 'af_a', 'f_b'], ['f_a', None, None], ['f_b', 'phi', 'phi'], ['f_a', 'af_b', 'f_b'], ['f_b', 'phi', 'phi'], ['f_a', None, None], ['f_a', None, 'phi'], ['f_a', 'f_a', 'af_a'], ['f_a', 'f_a', 'af_a'], ['f_b', None, None], ['f_a', 'f_b', 'af_a'], ['f_a', None, None], ['f_b', 'phi', 'phi'], ['f_a', 'f_a', 'af_a'], ['f_a', 'phi', 'phi'], ['f_b', None, None], ['f_b', None, None], ['f_b', None, None], ['f_a', None, None], ['f_a', None, 'phi'], ['f_b', 'f_a', 'af_b'], ['f_b', 'phi', 'phi'], ['f_a', None, 'phi'], ['f_b', 'phi', 'phi'], ['f_b', 'f_a', 'af_a'], ['f_a', None, None], ['f_a', 'phi', 'phi'], ['f_b', 'phi', 'phi'], ['f_b', 'phi', 'phi'], ['f_a', 'phi', 'phi'], ['f_b', None, None], ['f_a', 'phi', 'phi'], ['f_b', 'phi', 'phi'], ['f_a', 'af_a', 'f_a'], ['f_a', None, 'phi'], ['f_a', 'f_b', 'af_a'], ['f_a', 'phi', 'phi'], ['f_b', 'phi', 'phi'], ['f_a', 'phi', 'phi'], ['f_a', 'phi', 'phi'], ['f_a', 'af_a', 'f_a'], ['f_b', 'phi', 'phi'], ['f_a', None, 'phi'], ['f_a', None, None], ['f_a', None, 'phi'], ['f_a', 'f_b', 'af_b'], ['f_a', None, None], ['f_a', 'f_b', 'af_a'], ['f_a', None, None], ['f_b', 'phi', 'phi'], ['f_a', 'af_b', 'f_a'], ['f_a', 'phi', 'phi'], ['f_a', None, None], ['f_a', 'phi', 'phi'], ['f_b', None, None], ['f_a', 'phi', 'phi'], ['f_a', 'phi', 'phi'], ['f_a', 'phi', 'phi'], ['f_b', None, None], ['f_b', None, None], ['f_a', 'phi', 'phi'], ['f_b', None, None], ['f_a', 'phi', 'phi'], ['f_b', 'phi', 'phi'], ['f_b', 'phi', 'phi'], ['f_a', None, 'phi'], ['f_a', None, 'phi'], ['f_a', 'phi', 'phi'], ['f_b', None, None], ['f_b', None, None], ['f_a', None, None], ['f_a', 'f_a', 'af_a'], ['f_b', 'phi', 'phi'], ['f_a', 'f_a', 'af_a'], ['f_a', 'phi', 'phi'], ['f_a', 'phi', 'phi'], ['f_a', 'phi', 'phi'], ['f_a', None, None], ['f_a', None, None], ['f_a', 'af_b', 'f_a'], ['f_a', 'f_a', 'af_b'], ['f_b', 'phi', 'phi'], ['f_a', 'phi', 'phi'], ['f_a', None, None], ['f_a', 'af_a', 'f_a'], ['f_a', 'f_b', 'af_b'], ['f_a', None, None], ['f_a', None, 'phi'], ['f_a', None, 'phi'], ['f_a', 'af_a', 'f_a'], ['f_a', None, 'phi'], ['f_a', 'af_a', 'f_a'], ['f_a', 'phi', 'phi'], ['f_a', 'phi', 'phi'], ['f_b', None, None], ['f_a', 'phi', 'phi'], ['f_a', None, None], ['f_b', 'f_a', 'af_a'], ['f_a', 'af_a', 'f_a'], ['f_b', 'phi', 'phi'], ['f_a', 'f_b', 'af_a'], ['f_a', 'phi', 'phi'], ['f_b', None, None], ['f_a', 'phi', 'phi'], ['f_b', None, None], ['f_a', 'af_b', 'f_a'], ['f_a', 'phi', 'phi'], ['f_a', None, None], ['f_a', 'f_a', 'af_a'], ['f_a', 'phi', None], ['f_a', None, None], ['f_a', None, None], ['f_a', 'f_a', 'af_b'], ['f_b', 'f_a', 'af_a'], ['f_b', 'phi', 'phi'], ['f_b', None, None], ['f_a', 'f_b', 'af_b'], ['f_a', None, 'phi'], ['f_a', None, None], ['f_a', None, None], ['f_b', None, None], ['f_a', 'phi', 'phi'], ['f_a', None, None], ['f_b', 'af_a', 'f_a'], ['f_a', 'phi', 'phi'], ['f_a', 'phi', 'phi'], ['f_a', 'af_a', 'f_a'], ['f_b', None, None], ['f_a', None, 'phi'], ['f_a', None, None], ['f_a', None, None], ['f_b', None, 'phi'], ['f_a', 'f_a', 'af_a'], ['f_a', 'f_a', 'af_a'], ['f_a', 'af_a', 'f_a'], ['f_a', 'f_a', 'af_a'], ['f_a', None, None], ['f_a', 'f_a', 'af_b'], ['f_a', 'phi', 'phi'], ['f_a', None, 'phi'], ['f_b', None, None], ['f_a', 'phi', 'phi'], ['f_b', None, None], ['f_b', None, None], ['f_a', None, None], ['f_a', None, 'phi'], ['f_a', 'phi', 'phi'], ['f_a', None, None], ['f_a', 'af_b', 'f_b'], ['f_a', None, None], ['f_a', None, None], ['f_a', None, None], ['f_a', 'phi', 'phi'], ['f_b', 'af_a', 'f_a'], ['f_a', 'phi', 'phi'], ['f_a', 'phi', 'phi'], ['f_b', None, None], ['f_a', 'af_a', 'f_b'], ['f_b', None, None], ['f_a', None, None], ['f_b', 'phi', 'phi'], ['f_a', 'f_b', 'af_a'], ['f_a', 'phi', 'phi'], ['f_b', None, None], ['f_b', None, None], ['f_a', 'phi', 'phi'], ['f_a', 'af_a', 'f_a'], ['f_b', 'phi', 'phi'], ['f_a', 'f_a', 'af_a'], ['f_a', 'af_a', 'f_a'], ['f_a', 'phi', 'phi'], ['f_b', None, None], ['f_b', 'phi', 'phi'], ['f_a', 'phi', None], ['f_a', 'phi', 'phi'], ['f_b', None, None], ['f_a', None, 'phi'], ['f_a', None, None], ['f_a', None, 'phi'], ['f_a', 'f_b', 'af_a'], ['f_a', 'f_a', 'af_a'], ['f_a', 'f_b', 'af_a'], ['f_a', 'af_a', 'f_b'], ['f_b', None, None], ['f_a', 'f_a', 'af_a'], ['f_a', 'af_b', 'f_b'], ['f_a', None, None], ['f_a', 'phi', 'phi'], ['f_a', 'f_a', 'af_a'], ['f_a', None, 'phi'], ['f_a', 'f_b', 'af_b'], ['f_b', None, None], ['f_a', None, None], ['f_b', 'phi', 'phi'], ['f_a', 'af_a', 'f_b'], ['f_b', None, 'phi'], ['f_b', None, None], ['f_a', 'f_b', 'af_b'], ['f_a', 'f_a', 'af_a'], ['f_a', 'phi', 'phi'], ['f_a', 'phi', 'phi'], ['f_a', 'f_a', 'af_a'], ['f_a', None, 'phi'], ['f_b', None, None], ['f_a', None, None], ['f_b', None, None], ['f_a', None, 'phi'], ['f_a', 'phi', 'phi'], ['f_a', 'phi', 'phi'], ['f_a', None, None], ['f_a', 'af_a', 'f_a'], ['f_a', 'phi', 'phi'], ['f_b', 'phi', 'phi'], ['f_a', 'f_a', 'af_b'], ['f_a', 'f_a', 'af_b'], ['f_a', None, None], ['f_a', None, None], ['f_a', 'af_b', 'f_b'], ['f_b', 'phi', 'phi'], ['f_b', None, None], ['f_a', 'f_b', 'af_a'], ['f_a', 'f_b', 'af_b'], ['f_b', 'af_a', 'f_a'], ['f_a', 'f_a', 'af_a'], ['f_a', 'phi', 'phi'], ['f_b', 'af_b', 'f_b'], ['f_a', 'phi', 'phi'], ['f_a', 'af_a', 'f_a'], ['f_a', 'phi', 'phi'], ['f_b', 'af_a', 'f_a'], ['f_b', None, None], ['f_a', None, None], ['f_a', None, None], ['f_a', None, None], ['f_b', 'phi', 'phi'], ['f_a', None, None], ['f_a', 'phi', None], ['f_a', 'af_b', 'f_a'], ['f_a', None, None], ['f_a', None, 'phi'], ['f_a', 'af_a', 'f_a'], ['f_b', None, None], ['f_a', None, None], ['f_a', 'f_b', 'af_a'], ['f_a', 'f_a', 'af_a'], ['f_b', None, None], ['f_b', None, None], ['f_a', 'phi', 'phi'], ['f_a', 'f_b', 'af_a'], ['f_a', 'f_a', 'af_a'], ['f_a', 'phi', 'phi'], ['f_a', 'f_a', 'af_a'], ['f_a', 'f_a', 'af_a'], ['f_a', None, 'phi'], ['f_a', 'phi', 'phi'], ['f_a', 'phi', 'phi'], ['f_a', 'af_a', 'f_a'], ['f_a', None, None], ['f_a', 'af_a', 'f_a'], ['f_a', 'phi', 'phi'], ['f_a', 'phi', 'phi'], ['f_a', None, 'phi'], ['f_a', None, None], ['f_a', None, None], ['f_a', 'f_b', 'af_a'], ['f_a', 'phi', 'phi'], ['f_b', None, None], ['f_b', None, None], ['f_a', 'af_b', 'f_a'], ['f_a', None, None], ['f_a', 'af_a', 'f_a'], ['f_a', 'af_a', 'f_a'], ['f_a', None, 'phi'], ['f_a', 'f_a', 'af_a'], ['f_b', 'phi', 'phi'], ['f_b', 'f_a', 'af_a'], ['f_a', 'af_a', 'f_a'], ['f_a', 'phi', 'phi'], ['f_b', None, None], ['f_a', 'f_a', 'af_a'], ['f_a', 'f_a', 'af_b'], ['f_a', None, None], ['f_a', 'phi', 'phi'], ['f_b', None, None], ['f_b', 'f_a', 'af_a'], ['f_a', 'phi', 'phi'], ['f_a', None, None], ['f_a', 'phi', 'phi'], ['f_a', None, 'phi'], ['f_a', 'phi', 'phi'], ['f_a', 'af_b', 'f_a'], ['f_a', 'af_a', 'f_a'], ['f_a', 'phi', 'phi'], ['f_b', None, None], ['f_a', 'af_a', 'f_b'], ['f_a', 'f_a', 'af_a'], ['f_b', 'phi', 'phi'], ['f_a', 'af_a', 'f_a'], ['f_b', None, None], ['f_a', 'af_b', 'f_b'], ['f_a', 'phi', None], ['f_b', 'f_b', 'af_a'], ['f_a', 'phi', 'phi'], ['f_a', 'phi', 'phi'], ['f_a', 'af_a', 'f_a'], ['f_b', 'phi', 'phi'], ['f_b', 'phi', 'phi'], ['f_a', None, 'phi'], ['f_a', 'phi', None], ['f_a', 'phi', 'phi'], ['f_a', None, None], ['f_b', 'phi', 'phi'], ['f_a', 'af_a', 'f_b'], ['f_a', 'phi', 'phi'], ['f_a', None, None], ['f_a', 'f_a', 'af_a'], ['f_a', 'phi', 'phi'], ['f_a', None, 'phi'], ['f_a', 'phi', 'phi'], ['f_a', 'af_a', 'f_a'], ['f_b', 'phi', 'phi'], ['f_a', None, None], ['f_b', 'af_a', 'f_a'], ['f_a', 'phi', 'phi'], ['f_a', None, 'phi'], ['f_a', 'phi', 'phi'], ['f_b', 'phi', 'phi'], ['f_a', None, None], ['f_a', 'af_a', 'f_a'], ['f_a', 'af_a', 'f_a'], ['f_a', None, 'phi'], ['f_a', None, None], ['f_a', 'af_a', 'f_a'], ['f_a', 'f_b', 'af_a'], ['f_b', None, None], ['f_a', 'phi', 'phi'], ['f_a', None, None], ['f_a', 'phi', 'phi'], ['f_a', 'af_a', 'f_a'], ['f_b', None, None], ['f_a', 'f_b', 'af_b'], ['f_b', 'phi', 'phi'], ['f_a', None, 'phi'], ['f_a', None, 'phi'], ['f_a', None, None], ['f_a', None, 'phi'], ['f_b', None, None], ['f_a', 'af_b', 'f_a'], ['f_b', None, None], ['f_b', 'phi', 'phi'], ['f_a', 'phi', 'phi'], ['f_b', None, None], ['f_a', None, None], ['f_a', 'af_b', 'f_a'], ['f_a', 'phi', 'phi'], ['f_a', 'f_a', 'af_a'], ['f_a', 'phi', 'phi'], ['f_b', 'phi', 'phi'], ['f_a', None, None], ['f_a', 'phi', 'phi'], ['f_a', 'phi', 'phi'], ['f_a', None, 'phi'], ['f_a', 'af_a', 'f_a'], ['f_b', None, None], ['f_a', None, None], ['f_a', 'f_a', 'af_a'], ['f_a', 'f_b', 'af_b'], ['f_a', 'af_b', 'f_a'], ['f_b', 'f_a', 'af_a'], ['f_b', 'phi', 'phi'], ['f_b', None, None], ['f_a', 'af_b', 'f_a'], ['f_a', 'af_a', 'f_b'], ['f_a', 'f_a', 'af_a'], ['f_b', 'phi', 'phi'], ['f_b', 'phi', 'phi'], ['f_b', 'phi', 'phi'], ['f_a', None, 'phi'], ['f_b', 'phi', 'phi'], ['f_a', 'phi', 'phi'], ['f_a', 'phi', 'phi'], ['f_a', 'af_b', 'f_a'], ['f_b', None, None], ['f_a', 'af_a', 'f_a'], ['f_a', 'phi', 'phi'], ['f_a', 'af_a', 'f_a'], ['f_a', 'af_a', 'f_b'], ['f_a', 'af_a', 'f_a'], ['f_a', 'f_a', 'af_a'], ['f_a', 'af_b', 'f_b'], ['f_b', 'f_a', 'af_b'], ['f_a', None, None], ['f_a', 'phi', 'phi'], ['f_a', None, None], ['f_a', None, 'phi'], ['f_b', None, None], ['f_a', None, None], ['f_b', None, None], ['f_a', 'phi', 'phi'], ['f_b', None, None], ['f_b', None, None], ['f_a', 'af_b', 'f_a'], ['f_a', 'af_a', 'f_a'], ['f_a', 'phi', 'phi'], ['f_a', None, 'phi'], ['f_b', None, None], ['f_a', 'phi', 'phi'], ['f_b', 'af_a', 'f_a'], ['f_b', 'f_a', 'af_b'], ['f_b', None, None], ['f_a', 'af_a', 'f_a'], ['f_b', None, None], ['f_a', 'af_a', 'f_b'], ['f_a', 'phi', 'phi'], ['f_a', 'phi', 'phi'], ['f_a', None, 'phi'], ['f_a', 'f_a', 'af_a'], ['f_b', 'phi', 'phi'], ['f_a', 'phi', None], ['f_b', None, None], ['f_a', None, 'phi'], ['f_b', 'f_a', 'af_a'], ['f_a', None, None], ['f_b', None, None], ['f_b', None, None], ['f_a', None, 'phi'], ['f_a', 'phi', 'phi'], ['f_a', 'phi', 'phi'], ['f_a', 'phi', 'phi'], ['f_b', 'phi', 'phi'], ['f_b', 'phi', 'phi'], ['f_a', 'f_b', 'af_b'], ['f_a', 'phi', 'phi'], ['f_b', 'af_a', 'f_a'], ['f_a', 'af_b', 'f_b'], ['f_a', 'phi', 'phi'], ['f_a', 'f_b', 'af_a'], ['f_a', 'f_b', 'af_a'], ['f_a', None, None], ['f_b', 'phi', 'phi'], ['f_a', 'phi', 'phi'], ['f_a', None, None], ['f_b', 'phi', 'phi'], ['f_a', 'af_a', 'f_a'], ['f_a', 'phi', 'phi'], ['f_b', None, None], ['f_b', None, None], ['f_b', None, None], ['f_a', 'phi', 'phi'], ['f_a', 'phi', 'phi'], ['f_a', 'phi', 'phi'], ['f_a', 'phi', 'phi'], ['f_b', 'phi', 'phi'], ['f_b', None, None], ['f_a', 'af_a', 'f_a'], ['f_b', 'phi', 'phi'], ['f_a', 'phi', 'phi'], ['f_a', None, 'phi'], ['f_a', 'phi', 'phi'], ['f_a', None, None], ['f_a', 'phi', 'phi'], ['f_a', None, None], ['f_a', 'phi', None], ['f_b', None, None], ['f_a', None, None], ['f_a', 'phi', 'phi'], ['f_a', 'f_b', 'af_a'], ['f_a', 'af_a', 'f_a'], ['f_a', 'af_a', 'f_a'], ['f_a', 'f_a', 'af_a'], ['f_a', None, 'phi'], ['f_a', 'phi', 'phi'], ['f_b', None, None], ['f_a', 'af_a', 'f_a'], ['f_a', None, None], ['f_a', 'f_a', 'af_a'], ['f_a', 'af_a', 'f_a'], ['f_b', 'phi', 'phi'], ['f_a', None, None], ['f_b', None, None], ['f_a', 'af_a', 'f_a'], ['f_a', 'phi', 'phi'], ['f_a', 'f_a', 'af_a'], ['f_a', 'phi', 'phi'], ['f_a', None, None], ['f_a', 'f_a', 'af_a'], ['f_a', 'f_a', 'af_a'], ['f_a', 'f_a', 'af_a'], ['f_a', 'phi', None], ['f_b', None, None], ['f_b', None, 'phi'], ['f_a', 'f_a', 'af_a'], ['f_b', 'phi', 'phi'], ['f_a', None, None], ['f_a', 'f_a', 'af_a'], ['f_a', 'af_a', 'f_a'], ['f_a', 'af_a', 'f_a'], ['f_b', 'phi', 'phi'], ['f_b', 'phi', 'phi'], ['f_a', 'af_b', 'f_a'], ['f_a', 'f_a', 'af_a'], ['f_a', 'f_a', 'af_b'], ['f_a', 'f_b', 'af_b'], ['f_b', None, None], ['f_b', None, None], ['f_a', None, None], ['f_a', None, None], ['f_a', 'phi', 'phi'], ['f_a', 'f_a', 'af_a'], ['f_b', 'f_a', 'af_a'], ['f_a', None, 'phi'], ['f_b', None, None]]"
          ],
          "name": "stdout"
        }
      ]
    },
    {
      "cell_type": "code",
      "metadata": {
        "id": "D0oZrIkK89XA",
        "colab_type": "code",
        "colab": {}
      },
      "source": [
        ""
      ],
      "execution_count": null,
      "outputs": []
    },
    {
      "cell_type": "markdown",
      "metadata": {
        "id": "jm8m0AtQ896A",
        "colab_type": "text"
      },
      "source": [
        "**Plotting g12 = 0 vs 1**"
      ]
    },
    {
      "cell_type": "code",
      "metadata": {
        "id": "dyvDIvJGvT_a",
        "colab_type": "code",
        "colab": {
          "base_uri": "https://localhost:8080/",
          "height": 279
        },
        "outputId": "d0aee6ed-3c07-46ba-effa-c7852d37d093"
      },
      "source": [
        "numEmissionsList = [0,1,2]\n",
        "\n",
        "noCoupleCounts = [np.sum(np.array(oneF2StepNEmissions0)==0), np.sum(np.array(oneF2StepNEmissions0)==1),\n",
        "                  np.sum(np.array(oneF2StepNEmissions0)==2)]\n",
        "\n",
        "coupleCounts = [np.sum(np.array(oneF2StepNEmissions1)==0), np.sum(np.array(oneF2StepNEmissions1)==1),\n",
        "                  np.sum(np.array(oneF2StepNEmissions1)==2)]\n",
        "\n",
        "barWidth = 0.2\n",
        "r1 = np.arange(3)\n",
        "r2 = [x + barWidth for x in r1]\n",
        "\n",
        "plt.bar(r1, noCoupleCounts, yerr = np.sqrt(noCoupleCounts), width = barWidth, label = \"g12 = 0\")\n",
        "plt.bar(r2, coupleCounts, width = barWidth, label = \"g12 = 1\")\n",
        "plt.legend()\n",
        "plt.xlabel(\"Number of emissions\")\n",
        "plt.ylabel(\"Occurences\")\n",
        "plt.show()"
      ],
      "execution_count": null,
      "outputs": [
        {
          "output_type": "display_data",
          "data": {
            "image/png": "[encoded data removed]",
            "text/plain": [
              "<Figure size 432x288 with 1 Axes>"
            ]
          },
          "metadata": {
            "tags": [],
            "needs_background": "light"
          }
        }
      ]
    },
    {
      "cell_type": "code",
      "metadata": {
        "id": "JV23d_0lvr6K",
        "colab_type": "code",
        "colab": {
          "base_uri": "https://localhost:8080/",
          "height": 279
        },
        "outputId": "01b847a0-28f6-4917-e36e-2b09dcf42fe4"
      },
      "source": [
        "thetaDict0 = {x : oneF2StepLogThetaMax0.count(x) for x in oneF2StepLogThetaMax0}\n",
        "thetaDict1 = {x : oneF2StepLogThetaMax1.count(x) for x in oneF2StepLogThetaMax1}\n",
        "\n",
        "barWidth = .2\n",
        "r1 = list(thetaDict0.keys())\n",
        "r2 = [x + barWidth for x in r1]\n",
        "\n",
        "plt.bar(r1, list(thetaDict0.values()), width = barWidth, label = \"g12 = 0\")\n",
        "plt.bar(r2, list(thetaDict1.values()), width = barWidth, label = \"g12 = 1\")\n",
        "plt.legend()\n",
        "plt.xlabel(\"Log Theta Max\")\n",
        "plt.ylabel(\"Occurences\")\n",
        "plt.show()"
      ],
      "execution_count": null,
      "outputs": [
        {
          "output_type": "display_data",
          "data": {
            "image/png": "[encoded data removed]",
            "text/plain": [
              "<Figure size 432x288 with 1 Axes>"
            ]
          },
          "metadata": {
            "tags": [],
            "needs_background": "light"
          }
        }
      ]
    },
    {
      "cell_type": "code",
      "metadata": {
        "id": "IJDO3kE44Npg",
        "colab_type": "code",
        "colab": {
          "base_uri": "https://localhost:8080/",
          "height": 279
        },
        "outputId": "dce6d046-43c0-43d5-eeeb-e2f36d9d092a"
      },
      "source": [
        "## Saved data from run on 6/8/2020\n",
        "\n",
        "numEmissionsList = np.array([0,1,2])\n",
        "\n",
        "noCoupleCounts = np.array(noCoupleCounts)\n",
        "coupleCounts = np.array(coupleCounts)\n",
        "\n",
        "\n",
        "benNoCoupleCounts = np.array([.1,.3,.6]) * 10000\n",
        "benCoupleCounts = np.array([.3, .1, .6]) * 10000\n",
        "\n",
        "barWidth = 0.2\n",
        "r1 = np.arange(3)-.3\n",
        "r2 = [x + barWidth for x in r1]\n",
        "r3 = [x + 2 * barWidth for x in r1]\n",
        "r4 = [x + 3 * barWidth for x in r1]\n",
        "\n",
        "plt.bar(r1, noCoupleCounts/1000, yerr = np.sqrt(noCoupleCounts)/1000, width = barWidth, label = \"g12 = 0 full sim\")\n",
        "plt.bar(r2, coupleCounts/1000, width = barWidth, yerr = np.sqrt(coupleCounts)/1000, label = \"g12 = 1 full sim\")\n",
        "plt.bar(r3, benNoCoupleCounts/10000, yerr = np.sqrt(benNoCoupleCounts)/10000, width = barWidth, label = \"g12 = 0 2step\")\n",
        "plt.bar(r4, benCoupleCounts/10000, width = barWidth, yerr = np.sqrt(benCoupleCounts)/10000, label = \"g12 = 1 2step\")\n",
        "\n",
        "\n",
        "plt.legend()\n",
        "plt.xlabel(\"Number of emissions\")\n",
        "plt.ylabel(\"Occurences\")\n",
        "plt.show()"
      ],
      "execution_count": null,
      "outputs": [
        {
          "output_type": "display_data",
          "data": {
            "image/png": "[encoded data removed]",
            "text/plain": [
              "<Figure size 432x288 with 1 Axes>"
            ]
          },
          "metadata": {
            "tags": [],
            "needs_background": "light"
          }
        }
      ]
    },
    {
      "cell_type": "markdown",
      "metadata": {
        "id": "BP7Sdyg5-YTp",
        "colab_type": "text"
      },
      "source": [
        "**Testing more g12 values**\n",
        "\n",
        "g_12=.5"
      ]
    },
    {
      "cell_type": "code",
      "metadata": {
        "id": "eSyXpYksTuAE",
        "colab_type": "code",
        "colab": {
          "base_uri": "https://localhost:8080/",
          "height": 35
        },
        "outputId": "66f35a08-9199-4864-c35b-2cca93d4306c"
      },
      "source": [
        "n_i, N = 1, 2\n",
        "g_1, g_2, g_12 = 2, 1, .5\n",
        "eps = .001\n",
        "reps =1000"
      ],
      "execution_count": null,
      "outputs": [
        {
          "output_type": "stream",
          "text": [
            "generated circuit on 29 qubits\n"
          ],
          "name": "stdout"
        }
      ]
    },
    {
      "cell_type": "code",
      "metadata": {
        "id": "63p6Y9vJ-gh3",
        "colab_type": "code",
        "colab": {}
      },
      "source": [
        "circuit, qubits = createCircuit(n_i, N, eps, g_1, g_2, g_12, [[0, 0, 1]])\n",
        "\n",
        "circuit.append(cirq.measure(*reverse(qubits['pReg'][0]), key='p0'))\n",
        "circuit.append(cirq.measure(*reverse(qubits['pReg'][1]), key='p1'))\n",
        "circuit.append(cirq.measure(*reverse(qubits['pReg'][2]), key='p2'))\n",
        "circuit.append(cirq.measure(*reverse(qubits['hReg'][0]), key='h0'))\n",
        "circuit.append(cirq.measure(*reverse(qubits['hReg'][1]), key='h1'))\n",
        "circuit.append(cirq.measure(*reverse(qubits['w_hReg']), key='w_h'))\n",
        "circuit.append(cirq.measure(*reverse(qubits['eReg']), key='e'))\n",
        "circuit.append(cirq.measure(*reverse(qubits['wReg']), key='w'))\n",
        "circuit.append(cirq.measure(*reverse(qubits['n_aReg']), key='n_a'))\n",
        "circuit.append(cirq.measure(*reverse(qubits['n_bReg']), key='n_b'))\n",
        "circuit.append(cirq.measure(*reverse(qubits['n_phiReg']), key='n_phi'))\n",
        "circuit.append(cirq.measure(*reverse(qubits['w_aReg']), key='w_a'))\n",
        "circuit.append(cirq.measure(*reverse(qubits['w_bReg']), key='w_b'))\n",
        "circuit.append(cirq.measure(*reverse(qubits['w_phiReg']), key='w_phi'))\n",
        "\n",
        "simulator = cirq.Simulator()\n",
        "resultp5 = simulator.run(circuit, repetitions=reps)\n",
        "\n",
        "oneF2StepParticleListsp5 = [resultp5.measurements['p0'], resultp5.measurements['p1'], resultp5.measurements['p2']]\n",
        "\n",
        "with open('/content/gdrive/My Drive/_1Fermion2Stepp5.txt', 'wb') as f:\n",
        "  pickle.dump(oneF2StepParticleListsp5, f)"
      ],
      "execution_count": null,
      "outputs": []
    },
    {
      "cell_type": "code",
      "metadata": {
        "id": "uI9pOamShVAy",
        "colab_type": "code",
        "colab": {
          "base_uri": "https://localhost:8080/",
          "height": 55
        },
        "outputId": "49885e69-6f56-41fd-af25-e60e0a83b751"
      },
      "source": [
        "with open('/content/gdrive/My Drive/_1Fermion2Stepp5.txt', 'rb') as f:\n",
        "  oneF2StepParticleListsp5Loaded = pickle.load(f)\n",
        "\n",
        "oneF2StepEventsp5, oneF2StepNEmissionsp5, oneF2StepLogThetaMaxp5 = generateStats(oneF2StepParticleListsp5Loaded, reps)\n",
        "\n",
        "print(oneF2StepEventsp5)\n",
        "print(oneF2StepNEmissionsp5)\n",
        "print(oneF2StepLogThetaMaxp5)"
      ],
      "execution_count": null,
      "outputs": [
        {
          "output_type": "stream",
          "text": [
            "[['f_a', 'phi', 'phi'], ['f_a', None, 'phi'], ['f_a', 'phi', 'phi'], ['f_a', 'af_b', 'f_b'], ['f_a', 'phi', 'phi'], ['f_a', 'f_a', 'af_a'], ['f_a', 'phi', 'phi'], ['f_a', None, 'phi'], ['f_a', None, None], ['f_a', None, 'phi'], ['f_a', 'phi', 'phi'], ['f_a', 'phi', 'phi'], ['f_a', None, 'phi'], ['f_a', None, 'phi'], ['f_a', 'phi', 'phi'], ['f_a', 'af_a', 'f_a'], ['f_a', 'phi', 'phi'], ['f_b', 'phi', 'phi'], ['f_a', 'f_b', 'af_b'], ['f_a', 'af_b', 'f_a'], ['f_a', 'phi', 'phi'], ['f_a', 'phi', 'phi'], ['f_a', 'af_a', 'f_a'], ['f_a', 'af_a', 'f_a'], ['f_a', None, None], ['f_a', 'f_a', 'af_a'], ['f_a', None, None], ['f_a', 'f_a', 'af_a'], ['f_a', None, None], ['f_a', 'phi', 'phi'], ['f_a', 'f_a', 'af_a'], ['f_a', None, None], ['f_a', 'f_b', 'af_b'], ['f_a', None, None], ['f_a', 'f_a', 'af_a'], ['f_a', 'phi', 'phi'], ['f_a', 'phi', 'phi'], ['f_a', 'f_a', 'af_a'], ['f_a', 'phi', 'phi'], ['f_a', 'af_b', 'f_b'], ['f_a', 'f_a', 'af_a'], ['f_a', 'phi', 'phi'], ['f_a', None, None], ['f_a', None, 'phi'], ['f_a', None, 'phi'], ['f_a', 'phi', 'phi'], ['f_a', None, None], ['f_a', 'phi', None], ['f_a', 'af_a', 'f_a'], ['f_a', 'af_a', 'f_a'], ['f_a', None, 'phi'], ['f_a', None, None], ['f_a', None, 'phi'], ['f_a', None, 'phi'], ['f_a', None, None], ['f_a', 'af_b', 'f_b'], ['f_a', 'phi', 'phi'], ['f_a', 'f_a', 'af_a'], ['f_a', 'f_a', 'af_a'], ['f_a', 'af_a', 'f_a'], ['f_a', None, None], ['f_a', 'f_a', 'af_a'], ['f_a', 'phi', 'phi'], ['f_a', None, 'phi'], ['f_b', 'phi', 'phi'], ['f_a', 'af_a', 'f_a'], ['f_a', 'af_b', 'f_b'], ['f_a', None, None], ['f_a', 'phi', 'phi'], ['f_a', 'phi', 'phi'], ['f_a', None, 'phi'], ['f_a', 'af_a', 'f_a'], ['f_a', 'phi', 'phi'], ['f_a', None, 'phi'], ['f_a', None, 'phi'], ['f_a', 'f_a', 'af_a'], ['f_a', None, 'phi'], ['f_a', 'phi', 'phi'], ['f_a', 'f_a', 'af_a'], ['f_a', 'phi', 'phi'], ['f_a', 'phi', 'phi'], ['f_a', None, None], ['f_a', 'af_a', 'f_a'], ['f_a', None, 'phi'], ['f_a', 'phi', 'phi'], ['f_a', 'phi', 'phi'], ['f_a', 'f_a', 'af_a'], ['f_a', 'f_b', 'af_b'], ['f_a', 'phi', 'phi'], ['f_a', 'phi', 'phi'], ['f_a', 'phi', 'phi'], ['f_a', None, 'phi'], ['f_b', None, None], ['f_a', 'af_a', 'f_a'], ['f_a', 'phi', 'phi'], ['f_a', None, None], ['f_a', None, None], ['f_a', 'f_a', 'af_a'], ['f_a', 'f_b', 'af_a'], ['f_a', None, None], ['f_a', 'af_a', 'f_b'], ['f_a', 'phi', 'phi'], ['f_a', 'phi', 'phi'], ['f_a', None, 'phi'], ['f_a', None, None], ['f_a', None, 'phi'], ['f_b', None, None], ['f_a', 'af_a', 'f_a'], ['f_a', 'f_b', 'af_b'], ['f_a', 'f_b', 'af_b'], ['f_a', 'phi', 'phi'], ['f_a', 'phi', 'phi'], ['f_a', None, 'phi'], ['f_b', 'phi', 'phi'], ['f_a', 'phi', 'phi'], ['f_a', 'phi', 'phi'], ['f_a', 'f_b', 'af_b'], ['f_a', 'af_a', 'f_a'], ['f_a', 'phi', 'phi'], ['f_a', 'af_a', 'f_a'], ['f_a', 'phi', 'phi'], ['f_a', 'f_b', 'af_a'], ['f_a', 'phi', 'phi'], ['f_a', 'phi', 'phi'], ['f_a', 'phi', 'phi'], ['f_b', None, None], ['f_a', 'af_a', 'f_a'], ['f_a', 'f_b', 'af_b'], ['f_a', None, None], ['f_a', None, 'phi'], ['f_a', 'phi', 'phi'], ['f_a', 'af_b', 'f_b'], ['f_a', None, None], ['f_a', None, 'phi'], ['f_b', None, None], ['f_a', 'phi', 'phi'], ['f_a', 'phi', 'phi'], ['f_a', 'phi', 'phi'], ['f_a', 'af_a', 'f_a'], ['f_b', 'phi', 'phi'], ['f_a', None, 'phi'], ['f_a', 'phi', 'phi'], ['f_b', 'phi', 'phi'], ['f_a', 'phi', 'phi'], ['f_a', None, 'phi'], ['f_a', 'phi', 'phi'], ['f_b', 'af_a', 'f_a'], ['f_a', 'f_a', 'af_a'], ['f_a', None, None], ['f_a', 'phi', 'phi'], ['f_a', 'af_a', 'f_a'], ['f_a', 'af_a', 'f_a'], ['f_a', 'f_b', 'af_a'], ['f_a', None, None], ['f_a', None, 'phi'], ['f_a', 'phi', 'phi'], ['f_a', 'phi', 'phi'], ['f_a', 'f_a', 'af_a'], ['f_a', 'f_a', 'af_a'], ['f_a', 'phi', 'phi'], ['f_a', 'f_a', 'af_a'], ['f_a', None, None], ['f_a', None, 'phi'], ['f_a', 'f_a', 'af_a'], ['f_a', 'af_a', 'f_a'], ['f_a', 'f_a', 'af_a'], ['f_a', 'f_a', 'af_b'], ['f_a', 'phi', 'phi'], ['f_a', 'f_a', 'af_a'], ['f_a', None, None], ['f_a', 'phi', 'phi'], ['f_b', 'phi', 'phi'], ['f_b', 'phi', 'phi'], ['f_b', 'phi', 'phi'], ['f_a', 'af_a', 'f_a'], ['f_a', None, None], ['f_a', 'phi', 'phi'], ['f_b', None, None], ['f_a', None, 'phi'], ['f_a', 'f_a', 'af_a'], ['f_a', None, 'phi'], ['f_a', None, None], ['f_a', 'af_a', 'f_a'], ['f_a', 'phi', 'phi'], ['f_b', None, None], ['f_a', 'phi', 'phi'], ['f_b', 'f_b', 'af_b'], ['f_a', None, None], ['f_a', 'f_a', 'af_a'], ['f_a', None, None], ['f_a', 'phi', 'phi'], ['f_a', None, 'phi'], ['f_a', 'phi', 'phi'], ['f_a', 'f_a', 'af_a'], ['f_a', None, None], ['f_a', 'phi', 'phi'], ['f_a', 'phi', 'phi'], ['f_a', 'af_a', 'f_a'], ['f_a', None, None], ['f_a', None, None], ['f_a', 'phi', 'phi'], ['f_a', None, None], ['f_a', None, None], ['f_a', 'phi', 'phi'], ['f_a', 'phi', 'phi'], ['f_a', 'af_a', 'f_a'], ['f_a', 'phi', 'phi'], ['f_a', 'f_a', 'af_a'], ['f_a', None, 'phi'], ['f_a', None, 'phi'], ['f_a', None, None], ['f_a', 'phi', None], ['f_a', 'af_a', 'f_a'], ['f_a', 'af_b', 'f_b'], ['f_b', 'phi', 'phi'], ['f_a', 'phi', 'phi'], ['f_b', None, None], ['f_b', None, None], ['f_a', 'phi', 'phi'], ['f_a', 'phi', 'phi'], ['f_a', None, 'phi'], ['f_b', None, None], ['f_a', 'phi', 'phi'], ['f_a', 'af_a', 'f_a'], ['f_a', 'phi', 'phi'], ['f_a', 'phi', 'phi'], ['f_b', None, None], ['f_b', None, None], ['f_a', None, None], ['f_a', None, 'phi'], ['f_a', 'phi', 'phi'], ['f_a', 'af_a', 'f_a'], ['f_a', None, None], ['f_a', None, None], ['f_a', 'f_b', 'af_a'], ['f_a', 'phi', 'phi'], ['f_a', None, None], ['f_a', 'phi', None], ['f_a', 'phi', None], ['f_a', None, 'phi'], ['f_a', 'af_a', 'f_a'], ['f_a', None, 'phi'], ['f_a', 'f_a', 'af_a'], ['f_a', 'phi', 'phi'], ['f_a', 'phi', 'phi'], ['f_a', None, None], ['f_a', 'af_a', 'f_a'], ['f_a', 'phi', 'phi'], ['f_a', 'af_a', 'f_a'], ['f_a', 'phi', None], ['f_a', None, None], ['f_a', 'phi', 'phi'], ['f_a', 'phi', 'phi'], ['f_a', 'f_a', 'af_a'], ['f_b', None, None], ['f_a', None, 'phi'], ['f_a', None, 'phi'], ['f_a', 'phi', 'phi'], ['f_a', None, 'phi'], ['f_b', None, None], ['f_a', None, 'phi'], ['f_a', 'phi', 'phi'], ['f_a', None, 'phi'], ['f_a', 'af_a', 'f_a'], ['f_a', 'phi', 'phi'], ['f_a', None, 'phi'], ['f_a', None, 'phi'], ['f_a', 'af_a', 'f_a'], ['f_a', None, None], ['f_a', 'phi', 'phi'], ['f_a', 'f_a', 'af_a'], ['f_a', None, None], ['f_a', None, None], ['f_a', None, 'phi'], ['f_a', None, None], ['f_a', None, 'phi'], ['f_a', 'af_a', 'f_a'], ['f_a', 'af_a', 'f_b'], ['f_a', 'phi', None], ['f_a', None, 'phi'], ['f_a', None, 'phi'], ['f_a', 'f_a', 'af_a'], ['f_a', 'phi', 'phi'], ['f_a', None, None], ['f_a', 'f_a', 'af_a'], ['f_a', None, 'phi'], ['f_a', 'af_a', 'f_a'], ['f_a', None, None], ['f_a', None, None], ['f_a', None, 'phi'], ['f_b', 'phi', 'phi'], ['f_a', 'af_a', 'f_b'], ['f_a', 'af_a', 'f_a'], ['f_a', 'phi', None], ['f_a', None, 'phi'], ['f_a', 'af_b', 'f_b'], ['f_a', 'f_a', 'af_b'], ['f_a', None, None], ['f_a', 'af_a', 'f_a'], ['f_a', None, None], ['f_a', 'phi', 'phi'], ['f_a', 'af_b', 'f_b'], ['f_a', None, None], ['f_a', 'phi', 'phi'], ['f_b', None, None], ['f_a', None, 'phi'], ['f_a', 'phi', 'phi'], ['f_a', 'f_a', 'af_a'], ['f_a', 'f_b', 'af_b'], ['f_a', 'phi', 'phi'], ['f_a', 'phi', 'phi'], ['f_a', 'phi', 'phi'], ['f_b', None, None], ['f_a', 'phi', 'phi'], ['f_a', 'af_a', 'f_a'], ['f_a', 'af_a', 'f_a'], ['f_a', 'af_b', 'f_b'], ['f_b', None, None], ['f_a', None, 'phi'], ['f_a', 'phi', 'phi'], ['f_a', 'af_a', 'f_a'], ['f_a', 'phi', 'phi'], ['f_a', 'f_a', 'af_a'], ['f_a', None, None], ['f_b', None, None], ['f_a', 'phi', 'phi'], ['f_a', 'f_a', 'af_a'], ['f_a', 'af_a', 'f_b'], ['f_a', 'f_a', 'af_a'], ['f_a', 'f_b', 'af_a'], ['f_a', None, None], ['f_a', 'phi', 'phi'], ['f_a', None, 'phi'], ['f_a', None, 'phi'], ['f_a', None, None], ['f_b', None, None], ['f_a', None, 'phi'], ['f_a', 'f_a', 'af_a'], ['f_a', 'af_a', 'f_a'], ['f_a', None, 'phi'], ['f_b', 'f_b', 'af_b'], ['f_a', 'phi', 'phi'], ['f_b', None, None], ['f_a', None, None], ['f_a', 'af_a', 'f_a'], ['f_a', 'phi', 'phi'], ['f_a', 'f_b', 'af_b'], ['f_a', 'phi', 'phi'], ['f_a', 'phi', 'phi'], ['f_a', 'phi', None], ['f_a', 'f_b', 'af_b'], ['f_a', None, 'phi'], ['f_a', None, 'phi'], ['f_a', 'af_b', 'f_b'], ['f_a', 'af_a', 'f_a'], ['f_a', None, None], ['f_b', None, None], ['f_a', 'phi', 'phi'], ['f_a', None, 'phi'], ['f_a', 'af_a', 'f_a'], ['f_a', None, 'phi'], ['f_a', None, 'phi'], ['f_a', 'phi', 'phi'], ['f_b', 'af_a', 'f_b'], ['f_a', 'f_a', 'af_b'], ['f_b', None, None], ['f_a', 'phi', 'phi'], ['f_a', 'phi', 'phi'], ['f_a', 'phi', None], ['f_a', 'af_a', 'f_a'], ['f_a', None, 'phi'], ['f_a', 'af_a', 'f_a'], ['f_a', 'phi', 'phi'], ['f_a', None, 'phi'], ['f_a', None, None], ['f_a', 'phi', 'phi'], ['f_a', 'f_a', 'af_a'], ['f_a', None, 'phi'], ['f_a', 'f_b', 'af_b'], ['f_a', 'phi', None], ['f_b', 'f_b', 'af_b'], ['f_a', 'f_a', 'af_a'], ['f_a', 'af_b', 'f_a'], ['f_a', 'af_b', 'f_b'], ['f_a', None, 'phi'], ['f_a', 'af_b', 'f_b'], ['f_a', 'f_a', 'af_a'], ['f_b', None, None], ['f_a', 'phi', 'phi'], ['f_a', 'f_a', 'af_a'], ['f_a', 'f_a', 'af_a'], ['f_a', 'phi', None], ['f_a', 'phi', 'phi'], ['f_a', 'af_a', 'f_a'], ['f_a', None, 'phi'], ['f_a', 'af_a', 'f_a'], ['f_a', 'af_a', 'f_a'], ['f_a', None, 'phi'], ['f_b', None, None], ['f_a', 'phi', 'phi'], ['f_a', 'af_b', 'f_b'], ['f_a', None, 'phi'], ['f_a', 'phi', 'phi'], ['f_a', 'af_a', 'f_a'], ['f_a', 'af_a', 'f_a'], ['f_a', None, None], ['f_a', 'phi', None], ['f_a', None, 'phi'], ['f_a', 'phi', 'phi'], ['f_a', 'phi', 'phi'], ['f_a', None, 'phi'], ['f_a', None, 'phi'], ['f_b', 'phi', 'phi'], ['f_a', 'phi', 'phi'], ['f_a', 'phi', 'phi'], ['f_b', None, None], ['f_a', 'af_b', 'f_b'], ['f_a', 'af_a', 'f_a'], ['f_a', 'f_a', 'af_a'], ['f_a', 'phi', 'phi'], ['f_a', 'phi', 'phi'], ['f_a', 'af_a', 'f_a'], ['f_a', None, None], ['f_a', 'af_a', 'f_a'], ['f_a', None, 'phi'], ['f_a', 'af_b', 'f_b'], ['f_a', 'f_a', 'af_a'], ['f_a', 'phi', 'phi'], ['f_a', 'phi', 'phi'], ['f_a', 'phi', None], ['f_a', 'phi', 'phi'], ['f_a', 'af_a', 'f_a'], ['f_a', 'phi', 'phi'], ['f_b', 'phi', 'phi'], ['f_a', 'f_a', 'af_a'], ['f_a', 'af_a', 'f_a'], ['f_a', 'phi', 'phi'], ['f_b', None, None], ['f_a', 'phi', 'phi'], ['f_a', None, 'phi'], ['f_a', 'af_a', 'f_a'], ['f_a', 'af_a', 'f_a'], ['f_a', 'af_b', 'f_b'], ['f_a', None, 'phi'], ['f_a', None, None], ['f_a', 'f_a', 'af_a'], ['f_a', None, 'phi'], ['f_a', 'f_a', 'af_a'], ['f_a', 'f_b', 'af_b'], ['f_a', 'f_b', 'af_b'], ['f_a', 'phi', 'phi'], ['f_a', 'phi', None], ['f_a', 'phi', 'phi'], ['f_a', None, None], ['f_a', 'phi', 'phi'], ['f_a', 'f_a', 'af_a'], ['f_b', None, None], ['f_a', None, 'phi'], ['f_a', 'f_a', 'af_a'], ['f_a', 'phi', 'phi'], ['f_a', 'phi', None], ['f_a', 'af_a', 'f_a'], ['f_a', 'phi', 'phi'], ['f_a', 'phi', 'phi'], ['f_a', 'f_a', 'af_a'], ['f_a', None, 'phi'], ['f_a', 'phi', 'phi'], ['f_a', 'af_a', 'f_a'], ['f_a', None, 'phi'], ['f_a', 'phi', 'phi'], ['f_a', 'f_a', 'af_a'], ['f_a', 'af_a', 'f_a'], ['f_a', 'phi', 'phi'], ['f_a', 'phi', 'phi'], ['f_a', 'phi', 'phi'], ['f_a', None, None], ['f_a', None, None], ['f_b', None, None], ['f_a', 'phi', 'phi'], ['f_b', 'f_b', 'af_b'], ['f_a', 'f_b', 'af_a'], ['f_a', 'af_a', 'f_a'], ['f_a', 'af_a', 'f_a'], ['f_a', 'phi', 'phi'], ['f_a', 'af_a', 'f_a'], ['f_a', 'f_a', 'af_b'], ['f_a', None, 'phi'], ['f_a', None, 'phi'], ['f_a', 'phi', 'phi'], ['f_a', 'phi', 'phi'], ['f_a', 'f_b', 'af_a'], ['f_a', 'phi', 'phi'], ['f_a', 'af_a', 'f_a'], ['f_a', 'f_a', 'af_a'], ['f_a', 'phi', None], ['f_a', None, 'phi'], ['f_b', None, None], ['f_a', 'phi', 'phi'], ['f_a', 'phi', 'phi'], ['f_a', 'phi', 'phi'], ['f_a', None, None], ['f_a', 'phi', 'phi'], ['f_a', 'f_a', 'af_a'], ['f_a', 'af_b', 'f_b'], ['f_a', 'phi', 'phi'], ['f_a', 'phi', 'phi'], ['f_a', 'phi', 'phi'], ['f_a', None, None], ['f_a', None, 'phi'], ['f_a', None, None], ['f_a', 'f_a', 'af_a'], ['f_a', 'af_b', 'f_b'], ['f_a', 'phi', 'phi'], ['f_a', 'phi', 'phi'], ['f_a', None, 'phi'], ['f_a', None, 'phi'], ['f_a', None, 'phi'], ['f_a', 'phi', None], ['f_a', 'phi', 'phi'], ['f_a', 'f_a', 'af_a'], ['f_a', 'f_a', 'af_a'], ['f_a', 'phi', 'phi'], ['f_a', 'phi', 'phi'], ['f_a', None, None], ['f_a', None, 'phi'], ['f_b', None, None], ['f_a', 'af_a', 'f_a'], ['f_a', 'f_b', 'af_b'], ['f_a', 'phi', 'phi'], ['f_a', 'af_a', 'f_a'], ['f_a', 'phi', 'phi'], ['f_a', 'phi', 'phi'], ['f_a', None, None], ['f_a', 'f_a', 'af_a'], ['f_a', None, None], ['f_a', None, None], ['f_a', None, None], ['f_a', None, 'phi'], ['f_a', 'af_a', 'f_a'], ['f_a', 'phi', 'phi'], ['f_a', None, None], ['f_a', None, 'phi'], ['f_a', 'phi', 'phi'], ['f_a', 'phi', 'phi'], ['f_a', 'af_a', 'f_a'], ['f_a', 'f_a', 'af_b'], ['f_a', 'af_a', 'f_a'], ['f_a', None, 'phi'], ['f_b', None, None], ['f_a', None, None], ['f_a', None, 'phi'], ['f_a', None, None], ['f_a', 'f_a', 'af_a'], ['f_a', None, None], ['f_a', 'f_a', 'af_b'], ['f_a', None, 'phi'], ['f_b', 'phi', 'phi'], ['f_a', 'phi', None], ['f_a', None, None], ['f_a', 'phi', 'phi'], ['f_a', 'af_a', 'f_a'], ['f_a', 'af_a', 'f_b'], ['f_a', 'f_a', 'af_a'], ['f_a', None, 'phi'], ['f_a', 'phi', 'phi'], ['f_a', None, 'phi'], ['f_a', 'f_b', 'af_b'], ['f_a', 'f_b', 'af_b'], ['f_a', 'f_a', 'af_a'], ['f_a', 'af_a', 'f_a'], ['f_b', None, None], ['f_a', None, 'phi'], ['f_a', 'f_a', 'af_a'], ['f_a', None, None], ['f_a', 'phi', 'phi'], ['f_a', 'phi', 'phi'], ['f_a', 'af_a', 'f_a'], ['f_a', None, 'phi'], ['f_a', 'af_a', 'f_a'], ['f_a', None, None], ['f_a', None, 'phi'], ['f_b', 'phi', 'phi'], ['f_a', 'phi', 'phi'], ['f_a', 'f_a', 'af_b'], ['f_a', 'phi', 'phi'], ['f_a', 'f_a', 'af_a'], ['f_a', None, None], ['f_a', None, 'phi'], ['f_a', 'af_a', 'f_a'], ['f_a', 'phi', 'phi'], ['f_a', None, 'phi'], ['f_a', None, None], ['f_a', 'af_b', 'f_b'], ['f_a', 'f_a', 'af_a'], ['f_a', 'f_a', 'af_a'], ['f_a', 'phi', 'phi'], ['f_a', None, 'phi'], ['f_a', 'phi', None], ['f_a', 'f_a', 'af_a'], ['f_a', None, 'phi'], ['f_b', None, None], ['f_a', 'phi', 'phi'], ['f_a', 'f_b', 'af_b'], ['f_a', 'phi', 'phi'], ['f_a', 'f_a', 'af_a'], ['f_b', None, None], ['f_a', None, 'phi'], ['f_a', None, None], ['f_a', None, 'phi'], ['f_a', 'af_a', 'f_a'], ['f_a', 'af_b', 'f_b'], ['f_b', None, None], ['f_b', 'phi', 'phi'], ['f_a', 'af_b', 'f_b'], ['f_a', 'phi', 'phi'], ['f_a', 'phi', 'phi'], ['f_a', None, None], ['f_a', 'f_b', 'af_b'], ['f_a', 'f_a', 'af_a'], ['f_a', 'phi', 'phi'], ['f_a', 'phi', 'phi'], ['f_a', None, 'phi'], ['f_a', 'f_b', 'af_b'], ['f_a', None, None], ['f_a', 'f_b', 'af_b'], ['f_a', 'f_a', 'af_a'], ['f_a', None, 'phi'], ['f_a', 'phi', 'phi'], ['f_a', 'phi', 'phi'], ['f_b', None, None], ['f_a', None, None], ['f_a', None, 'phi'], ['f_a', 'af_b', 'f_b'], ['f_a', None, None], ['f_a', 'phi', 'phi'], ['f_a', 'f_a', 'af_a'], ['f_a', 'af_a', 'f_a'], ['f_a', None, 'phi'], ['f_a', 'phi', None], ['f_a', 'f_a', 'af_a'], ['f_a', 'f_a', 'af_a'], ['f_a', None, 'phi'], ['f_b', 'phi', 'phi'], ['f_a', None, 'phi'], ['f_a', 'phi', 'phi'], ['f_a', 'phi', 'phi'], ['f_a', None, 'phi'], ['f_a', 'phi', 'phi'], ['f_a', 'phi', 'phi'], ['f_a', 'phi', 'phi'], ['f_a', 'f_a', 'af_a'], ['f_a', 'phi', 'phi'], ['f_a', None, None], ['f_a', 'f_b', 'af_b'], ['f_b', None, None], ['f_b', 'phi', 'phi'], ['f_a', None, None], ['f_a', 'af_a', 'f_a'], ['f_a', None, 'phi'], ['f_a', None, None], ['f_a', 'phi', 'phi'], ['f_a', None, 'phi'], ['f_a', 'phi', None], ['f_a', 'phi', None], ['f_a', None, None], ['f_a', None, None], ['f_a', None, None], ['f_a', 'phi', None], ['f_a', 'f_a', 'af_a'], ['f_a', None, 'phi'], ['f_a', 'phi', 'phi'], ['f_a', 'f_a', 'af_a'], ['f_a', 'f_a', 'af_a'], ['f_b', 'phi', 'phi'], ['f_a', 'f_b', 'af_b'], ['f_a', 'phi', None], ['f_a', 'phi', 'phi'], ['f_a', 'af_b', 'f_b'], ['f_a', None, 'phi'], ['f_a', 'phi', 'phi'], ['f_a', 'af_a', 'f_a'], ['f_a', 'af_a', 'f_a'], ['f_a', 'af_a', 'f_a'], ['f_a', 'af_a', 'f_a'], ['f_a', 'phi', 'phi'], ['f_a', 'f_a', 'af_a'], ['f_a', None, 'phi'], ['f_a', 'phi', 'phi'], ['f_a', None, None], ['f_a', None, 'phi'], ['f_a', 'phi', 'phi'], ['f_a', 'af_a', 'f_a'], ['f_a', 'phi', 'phi'], ['f_a', 'f_a', 'af_a'], ['f_a', None, None], ['f_b', 'phi', 'phi'], ['f_a', 'phi', 'phi'], ['f_a', None, 'phi'], ['f_a', 'f_b', 'af_a'], ['f_a', 'phi', None], ['f_a', None, 'phi'], ['f_a', 'f_a', 'af_a'], ['f_a', 'f_a', 'af_a'], ['f_a', 'phi', 'phi'], ['f_a', 'f_a', 'af_a'], ['f_a', None, None], ['f_a', 'phi', 'phi'], ['f_a', 'phi', 'phi'], ['f_a', 'phi', 'phi'], ['f_a', 'f_a', 'af_a'], ['f_b', 'phi', 'phi'], ['f_a', 'phi', 'phi'], ['f_a', 'phi', 'phi'], ['f_a', 'af_b', 'f_b'], ['f_a', 'f_a', 'af_b'], ['f_a', 'f_a', 'af_a'], ['f_a', 'af_a', 'f_a'], ['f_a', 'af_b', 'f_b'], ['f_a', 'af_a', 'f_a'], ['f_a', 'phi', 'phi'], ['f_a', 'af_a', 'f_a'], ['f_b', 'phi', 'phi'], ['f_a', 'phi', 'phi'], ['f_a', None, 'phi'], ['f_a', None, 'phi'], ['f_a', None, 'phi'], ['f_a', 'phi', 'phi'], ['f_a', None, None], ['f_a', 'af_a', 'f_a'], ['f_a', 'phi', 'phi'], ['f_a', 'af_a', 'f_b'], ['f_a', 'f_a', 'af_a'], ['f_a', 'f_b', 'af_b'], ['f_a', 'af_a', 'f_a'], ['f_a', 'phi', 'phi'], ['f_a', None, 'phi'], ['f_b', None, None], ['f_a', 'phi', 'phi'], ['f_a', 'phi', 'phi'], ['f_a', 'af_a', 'f_a'], ['f_a', None, 'phi'], ['f_a', 'phi', 'phi'], ['f_a', 'phi', 'phi'], ['f_b', 'phi', 'phi'], ['f_b', None, None], ['f_a', None, 'phi'], ['f_a', 'phi', 'phi'], ['f_a', None, 'phi'], ['f_a', 'phi', 'phi'], ['f_a', None, 'phi'], ['f_a', 'phi', 'phi'], ['f_a', 'phi', 'phi'], ['f_a', 'f_a', 'af_a'], ['f_b', 'phi', 'phi'], ['f_a', 'phi', 'phi'], ['f_a', None, None], ['f_a', 'phi', 'phi'], ['f_a', 'af_a', 'f_a'], ['f_a', 'phi', 'phi'], ['f_a', 'phi', 'phi'], ['f_a', None, 'phi'], ['f_a', 'phi', 'phi'], ['f_a', None, None], ['f_a', 'phi', 'phi'], ['f_a', 'f_b', 'af_b'], ['f_a', None, None], ['f_a', 'af_b', 'f_b'], ['f_a', None, None], ['f_a', 'af_a', 'f_a'], ['f_a', 'f_a', 'af_a'], ['f_a', 'phi', None], ['f_a', None, None], ['f_a', 'f_a', 'af_a'], ['f_a', None, 'phi'], ['f_a', None, None], ['f_a', 'phi', 'phi'], ['f_a', None, 'phi'], ['f_a', 'phi', 'phi'], ['f_a', None, None], ['f_a', 'phi', 'phi'], ['f_a', 'f_a', 'af_a'], ['f_a', 'f_b', 'af_b'], ['f_a', None, None], ['f_a', 'af_a', 'f_a'], ['f_a', None, None], ['f_a', None, 'phi'], ['f_b', None, None], ['f_a', 'phi', 'phi'], ['f_a', 'phi', 'phi'], ['f_a', None, 'phi'], ['f_b', None, None], ['f_a', 'phi', None], ['f_b', None, None], ['f_a', None, 'phi'], ['f_a', None, 'phi'], ['f_a', 'phi', 'phi'], ['f_a', None, 'phi'], ['f_a', 'phi', 'phi'], ['f_a', None, None], ['f_a', 'af_b', 'f_b'], ['f_a', 'af_a', 'f_a'], ['f_a', None, 'phi'], ['f_a', 'phi', 'phi'], ['f_a', 'af_a', 'f_b'], ['f_a', None, None], ['f_b', None, None], ['f_a', 'phi', 'phi'], ['f_a', None, None], ['f_a', 'phi', 'phi'], ['f_a', None, 'phi'], ['f_a', 'af_a', 'f_a'], ['f_a', 'f_a', 'af_a'], ['f_a', None, 'phi'], ['f_a', None, 'phi'], ['f_a', 'phi', None], ['f_a', None, None], ['f_a', 'f_a', 'af_a'], ['f_a', 'f_a', 'af_a'], ['f_b', None, None], ['f_a', None, 'phi'], ['f_a', 'af_b', 'f_b'], ['f_a', 'phi', 'phi'], ['f_a', None, 'phi'], ['f_a', None, 'phi'], ['f_a', None, 'phi'], ['f_b', None, None], ['f_a', 'phi', 'phi'], ['f_a', 'af_b', 'f_b'], ['f_a', 'phi', 'phi'], ['f_a', 'af_a', 'f_a'], ['f_a', 'af_a', 'f_a'], ['f_a', None, 'phi'], ['f_a', 'phi', 'phi'], ['f_a', 'af_a', 'f_a'], ['f_a', 'phi', 'phi'], ['f_a', 'phi', 'phi'], ['f_a', 'phi', 'phi'], ['f_a', 'phi', 'phi'], ['f_b', 'phi', 'phi'], ['f_a', 'phi', 'phi'], ['f_a', None, 'phi'], ['f_a', None, 'phi'], ['f_a', None, None], ['f_a', 'f_b', 'af_a'], ['f_a', None, 'phi'], ['f_a', None, None], ['f_a', 'f_a', 'af_a'], ['f_a', 'af_b', 'f_a'], ['f_a', None, 'phi'], ['f_a', 'af_a', 'f_a'], ['f_a', None, 'phi'], ['f_a', 'af_a', 'f_b'], ['f_a', None, None], ['f_a', None, 'phi'], ['f_a', None, 'phi'], ['f_a', None, 'phi'], ['f_a', 'af_b', 'f_b'], ['f_a', 'af_a', 'f_a'], ['f_a', 'af_a', 'f_a'], ['f_a', 'af_a', 'f_a'], ['f_a', 'phi', 'phi'], ['f_a', 'af_b', 'f_b'], ['f_a', 'phi', 'phi'], ['f_a', 'phi', None], ['f_a', None, None], ['f_a', None, 'phi'], ['f_a', None, 'phi'], ['f_a', 'phi', 'phi'], ['f_a', 'phi', 'phi'], ['f_a', 'af_b', 'f_b'], ['f_a', 'phi', 'phi'], ['f_a', 'phi', 'phi'], ['f_a', 'phi', 'phi'], ['f_a', 'af_a', 'f_b'], ['f_a', 'phi', 'phi'], ['f_a', 'f_a', 'af_a'], ['f_a', 'af_b', 'f_b'], ['f_a', 'af_b', 'f_b'], ['f_a', 'f_a', 'af_a'], ['f_a', 'f_a', 'af_a'], ['f_a', 'phi', 'phi'], ['f_a', None, None], ['f_a', None, 'phi'], ['f_a', 'af_a', 'f_a'], ['f_a', 'af_a', 'f_a'], ['f_a', 'f_a', 'af_a'], ['f_a', None, 'phi'], ['f_a', 'phi', 'phi'], ['f_a', 'phi', None], ['f_a', None, None], ['f_b', 'phi', 'phi'], ['f_a', None, None], ['f_a', 'f_a', 'af_a'], ['f_a', 'f_a', 'af_a'], ['f_a', 'phi', None], ['f_a', 'phi', 'phi'], ['f_a', 'phi', None], ['f_a', 'phi', 'phi'], ['f_a', 'f_a', 'af_a'], ['f_a', None, 'phi'], ['f_a', 'phi', 'phi'], ['f_a', 'phi', 'phi'], ['f_a', None, 'phi'], ['f_a', 'af_a', 'f_a'], ['f_a', 'phi', 'phi'], ['f_a', 'af_a', 'f_a'], ['f_a', 'af_b', 'f_b'], ['f_a', 'af_b', 'f_a'], ['f_a', None, None], ['f_b', 'af_a', 'f_a'], ['f_a', 'phi', 'phi'], ['f_a', None, 'phi'], ['f_b', 'phi', 'phi'], ['f_a', None, None], ['f_a', 'f_b', 'af_b'], ['f_a', 'phi', 'phi'], ['f_a', 'af_a', 'f_a'], ['f_a', 'phi', 'phi'], ['f_a', None, 'phi'], ['f_a', None, 'phi'], ['f_a', 'phi', 'phi'], ['f_a', None, 'phi'], ['f_a', 'f_a', 'af_a'], ['f_a', 'phi', 'phi'], ['f_a', 'f_b', 'af_b'], ['f_a', 'phi', 'phi'], ['f_a', None, 'phi'], ['f_b', 'phi', 'phi'], ['f_a', 'phi', 'phi'], ['f_a', 'af_a', 'f_a'], ['f_a', None, None], ['f_a', 'f_a', 'af_a'], ['f_a', None, 'phi'], ['f_a', None, 'phi'], ['f_b', None, None], ['f_b', None, None], ['f_a', None, 'phi'], ['f_a', 'phi', 'phi'], ['f_a', 'f_a', 'af_a'], ['f_a', None, 'phi'], ['f_a', None, None], ['f_a', 'af_b', 'f_b'], ['f_b', None, None], ['f_a', 'f_a', 'af_a'], ['f_a', 'phi', 'phi'], ['f_b', None, None], ['f_a', None, 'phi'], ['f_a', None, None], ['f_a', 'f_a', 'af_a'], ['f_a', 'phi', 'phi'], ['f_a', 'f_b', 'af_b'], ['f_a', None, None], ['f_a', 'phi', 'phi'], ['f_a', 'af_b', 'f_b'], ['f_a', None, None], ['f_a', 'af_a', 'f_a'], ['f_a', 'phi', 'phi'], ['f_a', 'phi', 'phi'], ['f_a', 'phi', 'phi'], ['f_a', 'phi', 'phi'], ['f_a', 'phi', 'phi'], ['f_a', 'phi', 'phi'], ['f_a', None, None], ['f_a', None, 'phi'], ['f_a', None, 'phi'], ['f_a', 'af_a', 'f_a'], ['f_a', 'f_b', 'af_b'], ['f_a', 'af_a', 'f_a'], ['f_a', 'f_b', 'af_b'], ['f_a', None, None], ['f_a', 'phi', None], ['f_a', None, None], ['f_a', 'af_a', 'f_a'], ['f_a', None, None], ['f_a', 'af_a', 'f_a'], ['f_a', None, 'phi'], ['f_a', 'f_a', 'af_a'], ['f_a', 'phi', None], ['f_a', None, None], ['f_a', 'phi', 'phi'], ['f_a', None, None], ['f_a', 'phi', 'phi'], ['f_a', 'af_a', 'f_a'], ['f_a', None, 'phi'], ['f_a', 'af_b', 'f_a'], ['f_a', 'phi', 'phi'], ['f_a', 'phi', 'phi'], ['f_a', None, None], ['f_a', 'af_a', 'f_a'], ['f_a', None, 'phi'], ['f_a', 'f_b', 'af_b'], ['f_a', 'phi', 'phi'], ['f_a', None, 'phi'], ['f_a', 'af_a', 'f_a'], ['f_a', 'f_b', 'af_b'], ['f_a', None, None], ['f_a', 'f_a', 'af_a'], ['f_a', None, 'phi'], ['f_a', 'phi', 'phi'], ['f_a', 'phi', 'phi']]"
          ],
          "name": "stdout"
        }
      ]
    },
    {
      "cell_type": "code",
      "metadata": {
        "id": "odTTtmxYTX3y",
        "colab_type": "code",
        "colab": {
          "base_uri": "https://localhost:8080/",
          "height": 239
        },
        "outputId": "7d49dc01-ac41-43cb-9f64-0dd1b9c26c09"
      },
      "source": [
        "p5Counts = [np.sum(np.array(oneF2StepNEmissionsp5)==0), np.sum(np.array(oneF2StepNEmissionsp5)==1),\n",
        "                  np.sum(np.array(oneF2StepNEmissionsp5)==2)]\n",
        "\n",
        "barWidth = 0.2\n",
        "r1 = np.arange(3)\n",
        "r2 = [x + barWidth for x in r1]\n",
        "\n",
        "plt.bar(r1, p5Counts, yerr = np.sqrt(p5Counts), width = barWidth, label = \"g12 = .5\")\n",
        "plt.legend()\n",
        "plt.xlabel(\"Number of emissions\")\n",
        "plt.ylabel(\"Occurences\")\n",
        "plt.show()"
      ],
      "execution_count": null,
      "outputs": [
        {
          "output_type": "error",
          "ename": "FileNotFoundError",
          "evalue": "ignored",
          "traceback": [
            "\u001b[0;31m---------------------------------------------------------------------------\u001b[0m",
            "\u001b[0;31mFileNotFoundError\u001b[0m                         Traceback (most recent call last)",
            "\u001b[0;32m<ipython-input-7-3bd51c2057b4>\u001b[0m in \u001b[0;36m<module>\u001b[0;34m()\u001b[0m\n\u001b[0;32m----> 1\u001b[0;31m \u001b[0moneF2StepNEmissionsp5_file\u001b[0m \u001b[0;34m=\u001b[0m \u001b[0mopen\u001b[0m\u001b[0;34m(\u001b[0m\u001b[0;34m\"/content/gdrive/My\\ Drive/_1Fermion2Stepp5.txt\"\u001b[0m\u001b[0;34m,\u001b[0m\u001b[0;34m\"r\"\u001b[0m\u001b[0;34m)\u001b[0m\u001b[0;34m\u001b[0m\u001b[0;34m\u001b[0m\u001b[0m\n\u001b[0m\u001b[1;32m      2\u001b[0m \u001b[0moneF2StepNEmissionsp5\u001b[0m \u001b[0;34m=\u001b[0m \u001b[0moneF2StepNEmissionsp5_file\u001b[0m\u001b[0;34m.\u001b[0m\u001b[0mread\u001b[0m\u001b[0;34m(\u001b[0m\u001b[0;34m)\u001b[0m\u001b[0;34m\u001b[0m\u001b[0;34m\u001b[0m\u001b[0m\n\u001b[1;32m      3\u001b[0m p5Counts = [np.sum(np.array(oneF2StepNEmissionsp5)==0), np.sum(np.array(oneF2StepNEmissionsp5)==1),\n\u001b[1;32m      4\u001b[0m                   np.sum(np.array(oneF2StepNEmissionsp5)==2)]\n\u001b[1;32m      5\u001b[0m \u001b[0;34m\u001b[0m\u001b[0m\n",
            "\u001b[0;31mFileNotFoundError\u001b[0m: [Errno 2] No such file or directory: '/content/gdrive/My\\\\ Drive/_1Fermion2Stepp5.txt'"
          ]
        }
      ]
    },
    {
      "cell_type": "markdown",
      "metadata": {
        "id": "7A3wdhlO_QRd",
        "colab_type": "text"
      },
      "source": [
        "g12=2"
      ]
    },
    {
      "cell_type": "code",
      "metadata": {
        "id": "iE7B2Wtthugv",
        "colab_type": "code",
        "colab": {
          "base_uri": "https://localhost:8080/",
          "height": 35
        },
        "outputId": "a7d485b3-37a6-4fb5-f6b0-30957243ac69"
      },
      "source": [
        "n_i, N = 1, 2\n",
        "g_1, g_2, g_12 = 2, 1, 2\n",
        "eps = .001\n",
        "reps=1000"
      ],
      "execution_count": null,
      "outputs": [
        {
          "output_type": "stream",
          "text": [
            "generated circuit on 29 qubits\n"
          ],
          "name": "stdout"
        }
      ]
    },
    {
      "cell_type": "code",
      "metadata": {
        "id": "u8RHthj7_ZXq",
        "colab_type": "code",
        "colab": {}
      },
      "source": [
        "circuit, qubits = createCircuit(n_i, N, eps, g_1, g_2, g_12, [[0, 0, 1]])\n",
        "\n",
        "circuit.append(cirq.measure(*reverse(qubits['pReg'][0]), key='p0'))\n",
        "circuit.append(cirq.measure(*reverse(qubits['pReg'][1]), key='p1'))\n",
        "circuit.append(cirq.measure(*reverse(qubits['pReg'][2]), key='p2'))\n",
        "circuit.append(cirq.measure(*reverse(qubits['hReg'][0]), key='h0'))\n",
        "circuit.append(cirq.measure(*reverse(qubits['hReg'][1]), key='h1'))\n",
        "circuit.append(cirq.measure(*reverse(qubits['w_hReg']), key='w_h'))\n",
        "circuit.append(cirq.measure(*reverse(qubits['eReg']), key='e'))\n",
        "circuit.append(cirq.measure(*reverse(qubits['wReg']), key='w'))\n",
        "circuit.append(cirq.measure(*reverse(qubits['n_aReg']), key='n_a'))\n",
        "circuit.append(cirq.measure(*reverse(qubits['n_bReg']), key='n_b'))\n",
        "circuit.append(cirq.measure(*reverse(qubits['n_phiReg']), key='n_phi'))\n",
        "circuit.append(cirq.measure(*reverse(qubits['w_aReg']), key='w_a'))\n",
        "circuit.append(cirq.measure(*reverse(qubits['w_bReg']), key='w_b'))\n",
        "circuit.append(cirq.measure(*reverse(qubits['w_phiReg']), key='w_phi'))\n",
        "\n",
        "simulator = cirq.Simulator()\n",
        "result2 = simulator.run(circuit, repetitions=reps)\n",
        "\n",
        "oneF2StepParticleLists2 = [result2.measurements['p0'], result2.measurements['p1'], result2.measurements['p2']]\n",
        "\n",
        "with open('/content/gdrive/My Drive/_1Fermion2Step2.txt', 'wb') as f:\n",
        "  pickle.dump(oneF2StepParticleLists2, f)"
      ],
      "execution_count": null,
      "outputs": []
    },
    {
      "cell_type": "code",
      "metadata": {
        "id": "LkWa8fA4hxPm",
        "colab_type": "code",
        "colab": {
          "base_uri": "https://localhost:8080/",
          "height": 239
        },
        "outputId": "8db4878f-2472-47ed-e687-d9afeaa9f722"
      },
      "source": [
        "with open('/content/gdrive/My Drive/_1Fermion2Step2.txt', 'rb') as f:\n",
        "  oneF2StepParticleLists2Loaded = pickle.load(f)\n",
        "\n",
        "oneF2StepEvents2, oneF2StepNEmissions2, oneF2StepLogThetaMax2 = generateStats(oneF2StepParticleLists2Loaded, reps)\n",
        "\n",
        "print(oneF2StepEvents2)\n",
        "print(oneF2StepNEmissions2)\n",
        "print(oneF2StepLogThetaMax2)"
      ],
      "execution_count": 24,
      "outputs": [
        {
          "output_type": "error",
          "ename": "UnpicklingError",
          "evalue": "ignored",
          "traceback": [
            "\u001b[0;31m---------------------------------------------------------------------------\u001b[0m",
            "\u001b[0;31mUnpicklingError\u001b[0m                           Traceback (most recent call last)",
            "\u001b[0;32m<ipython-input-24-9ab09d4909bd>\u001b[0m in \u001b[0;36m<module>\u001b[0;34m()\u001b[0m\n\u001b[1;32m      1\u001b[0m \u001b[0;32mwith\u001b[0m \u001b[0mopen\u001b[0m\u001b[0;34m(\u001b[0m\u001b[0;34m'/content/gdrive/My Drive/_1Fermion2Step2.txt'\u001b[0m\u001b[0;34m,\u001b[0m \u001b[0;34m'rb'\u001b[0m\u001b[0;34m)\u001b[0m \u001b[0;32mas\u001b[0m \u001b[0mf\u001b[0m\u001b[0;34m:\u001b[0m\u001b[0;34m\u001b[0m\u001b[0;34m\u001b[0m\u001b[0m\n\u001b[0;32m----> 2\u001b[0;31m   \u001b[0moneF2StepParticleLists2Loaded\u001b[0m \u001b[0;34m=\u001b[0m \u001b[0mpickle\u001b[0m\u001b[0;34m.\u001b[0m\u001b[0mload\u001b[0m\u001b[0;34m(\u001b[0m\u001b[0mf\u001b[0m\u001b[0;34m)\u001b[0m\u001b[0;34m\u001b[0m\u001b[0;34m\u001b[0m\u001b[0m\n\u001b[0m\u001b[1;32m      3\u001b[0m \u001b[0;34m\u001b[0m\u001b[0m\n\u001b[1;32m      4\u001b[0m \u001b[0moneF2StepEvents2\u001b[0m\u001b[0;34m,\u001b[0m \u001b[0moneF2StepNEmissions2\u001b[0m\u001b[0;34m,\u001b[0m \u001b[0moneF2StepLogThetaMax2\u001b[0m \u001b[0;34m=\u001b[0m \u001b[0mgenerateStats\u001b[0m\u001b[0;34m(\u001b[0m\u001b[0moneF2StepParticleLists2Loaded\u001b[0m\u001b[0;34m,\u001b[0m \u001b[0mreps\u001b[0m\u001b[0;34m)\u001b[0m\u001b[0;34m\u001b[0m\u001b[0;34m\u001b[0m\u001b[0m\n\u001b[1;32m      5\u001b[0m \u001b[0;34m\u001b[0m\u001b[0m\n",
            "\u001b[0;31mUnpicklingError\u001b[0m: invalid load key, '['."
          ]
        }
      ]
    },
    {
      "cell_type": "code",
      "metadata": {
        "id": "GOyTSMmJUUfU",
        "colab_type": "code",
        "colab": {
          "base_uri": "https://localhost:8080/",
          "height": 279
        },
        "outputId": "5ac7308d-cd85-40ae-df95-494c52a2c42d"
      },
      "source": [
        "twoCounts = [np.sum(np.array(oneF2StepNEmissions2)==0), np.sum(np.array(oneF2StepNEmissions2)==1),\n",
        "                  np.sum(np.array(oneF2StepNEmissions2)==2)]\n",
        "\n",
        "barWidth = 0.2\n",
        "r1 = np.arange(3)\n",
        "r2 = [x + barWidth for x in r1]\n",
        "\n",
        "plt.bar(r1, twoCounts, yerr = np.sqrt(twoCounts), width = barWidth, label = \"g12 = 2\")\n",
        "plt.legend()\n",
        "plt.xlabel(\"Number of emissions\")\n",
        "plt.ylabel(\"Occurences\")\n",
        "plt.show()"
      ],
      "execution_count": null,
      "outputs": [
        {
          "output_type": "display_data",
          "data": {
            "image/png": "[encoded data removed]",
            "text/plain": [
              "<Figure size 432x288 with 1 Axes>"
            ]
          },
          "metadata": {
            "tags": [],
            "needs_background": "light"
          }
        }
      ]
    },
    {
      "cell_type": "markdown",
      "metadata": {
        "id": "JITz27g25IUS",
        "colab_type": "text"
      },
      "source": [
        "**Gate and Qubit Counts**\n",
        "\n",
        "This code snippets counts the number of gates and qubits used for different input sizes"
      ]
    },
    {
      "cell_type": "code",
      "metadata": {
        "id": "EMITmYJ25NXj",
        "colab_type": "code",
        "colab": {
          "base_uri": "https://localhost:8080/",
          "height": 124
        },
        "outputId": "296e7c13-b81c-4c12-ddba-70ec9084cd2d"
      },
      "source": [
        "circuit_lengths = []\n",
        "qubit_nums = []\n",
        "for steps in [1,2,3,4,5, 6]:\n",
        "  circuit, qubits =  createCircuit(1, steps, .001, 1, 1, 1, [[0, 0, 1]])\n",
        "  circuit_lengths.append(len(list(circuit.all_operations())))\n",
        "  qubit_nums.append(len(flatten(list(qubits.values()))))"
      ],
      "execution_count": null,
      "outputs": [
        {
          "output_type": "stream",
          "text": [
            "generated circuit on 24 qubits\n",
            "generated circuit on 29 qubits\n",
            "generated circuit on 44 qubits\n",
            "generated circuit on 50 qubits\n",
            "generated circuit on 56 qubits\n",
            "generated circuit on 62 qubits\n"
          ],
          "name": "stdout"
        }
      ]
    },
    {
      "cell_type": "code",
      "metadata": {
        "id": "Ym_34olb6Ft7",
        "colab_type": "code",
        "colab": {
          "base_uri": "https://localhost:8080/",
          "height": 35
        },
        "outputId": "eaaa4ddc-0c1c-4e5b-a496-d3d109d52a9d"
      },
      "source": [
        "circuit_lengths"
      ],
      "execution_count": null,
      "outputs": [
        {
          "output_type": "execute_result",
          "data": {
            "text/plain": [
              "[306, 2176, 6615, 19223, 41527, 78174]"
            ]
          },
          "metadata": {
            "tags": []
          },
          "execution_count": 10
        }
      ]
    },
    {
      "cell_type": "code",
      "metadata": {
        "id": "jKr315zj6Ka0",
        "colab_type": "code",
        "colab": {
          "base_uri": "https://localhost:8080/",
          "height": 35
        },
        "outputId": "0678610a-28bf-4dc4-e3e6-0d168c9290bb"
      },
      "source": [
        "qubit_nums"
      ],
      "execution_count": null,
      "outputs": [
        {
          "output_type": "execute_result",
          "data": {
            "text/plain": [
              "[24, 29, 44, 50, 56, 62]"
            ]
          },
          "metadata": {
            "tags": []
          },
          "execution_count": 11
        }
      ]
    },
    {
      "cell_type": "code",
      "metadata": {
        "id": "z__YkKTE6Ml8",
        "colab_type": "code",
        "colab": {}
      },
      "source": [
        ""
      ],
      "execution_count": null,
      "outputs": []
    }
  ]
}