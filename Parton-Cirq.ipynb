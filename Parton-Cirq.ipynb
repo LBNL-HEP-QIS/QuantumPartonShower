{
 "cells": [
  {
   "cell_type": "markdown",
   "metadata": {},
   "source": [
    "#### Imports and Strategy Shorthands"
   ]
  },
  {
   "cell_type": "markdown",
   "metadata": {},
   "source": [
    "3/20/20: So far I have set up this code in order to create the full circuit on an arbitrary set of initial particles for an arbitrary number of steps. It remains to be tested and simulated "
   ]
  },
  {
   "cell_type": "code",
   "execution_count": 28,
   "metadata": {},
   "outputs": [],
   "source": [
    "#requires cirq version >= v0.6.0\n",
    "import cirq\n",
    "import math\n",
    "import numpy as np\n",
    "from cirq import GridQubit, X, CNOT, TOFFOLI, H, Ry\n",
    "early = cirq.InsertStrategy.EARLIEST\n",
    "new = cirq.InsertStrategy.NEW_THEN_INLINE"
   ]
  },
  {
   "cell_type": "markdown",
   "metadata": {},
   "source": [
    "#### Classically pre-calculate parameter lists"
   ]
  },
  {
   "cell_type": "code",
   "execution_count": 29,
   "metadata": {},
   "outputs": [],
   "source": [
    "#Define splitting functions and sudakov factors\n",
    "def P_f(t, g):\n",
    "    alpha = g**2 * Phat_f(t)/ (4 * math.pi)\n",
    "    return alpha\n",
    "def Phat_f(t):\n",
    "    return(math.log(t))\n",
    "def Phat_bos(t):\n",
    "    return(math.log(t))\n",
    "def Delta_f(t, g):\n",
    "    return math.exp(P_f(t,g))\n",
    "def P_bos(t, g_a, g_b):\n",
    "    alpha = g_a**2 * Phat_bos(t)/ (4 * math.pi) + g_b**2 * Phat_bos(t)/ (4 * math.pi)\n",
    "    return alpha\n",
    "def Delta_bos(t, g_a, g_b):\n",
    "    return math.exp(P_bos(t, g_a, g_b))"
   ]
  },
  {
   "cell_type": "code",
   "execution_count": 30,
   "metadata": {},
   "outputs": [],
   "source": [
    "#Populates the 7 lists below with correct values for each time step theta\n",
    "def populateParameterLists(N, timeStepList, P_aList, P_bList, P_phiList, Delta_aList, Delta_bList, Delta_phiList, g_a, g_b):\n",
    "    for i in range(N):\n",
    "       # Compute time steps\n",
    "        t_up = eps**((i)/N)\n",
    "        t_mid =  eps**((i+0.5)/N)\n",
    "        t_low =  eps**((i+1)/N)\n",
    "        timeStepList.append(t_mid)\n",
    "\n",
    "       # Compute values for emission matrices\n",
    "        Delta_a = math.sqrt(Delta_f(t_low, g_a)) / math.sqrt(Delta_f(t_up, g_a))\n",
    "        Delta_b = math.sqrt(Delta_f(t_low, g_b)) / math.sqrt(Delta_f(t_up, g_b))   \n",
    "        Delta_phi = math.sqrt(Delta_bos(t_low, g_a, g_b)) / math.sqrt(Delta_bos(t_up, g_a, g_b))\n",
    "        P_a, P_b, P_phi = P_f(t_mid, g_a), P_f(t_mid, g_b), P_bos(t_mid, g_a, g_b)\n",
    "                              \n",
    "       # Add them to the list\n",
    "        P_aList.append(P_a)\n",
    "        P_bList.append(P_b)\n",
    "        P_phiList.append(P_phi)\n",
    "        Delta_aList.append(Delta_a)\n",
    "        Delta_bList.append(Delta_b)\n",
    "        Delta_phiList.append(Delta_phi)"
   ]
  },
  {
   "cell_type": "markdown",
   "metadata": {},
   "source": [
    "#### Allocate qubits on Hardware "
   ]
  },
  {
   "cell_type": "code",
   "execution_count": 31,
   "metadata": {},
   "outputs": [],
   "source": [
    "#assign Qubits (can change based on hardware implementation!)\n",
    "def allocateQubs(N, n_i, L, pReg, hReg, w_hReg, eReg, wReg, n_aReg, w_aReg, n_bReg, w_bReg, n_phiReg, w_phiReg):\n",
    "    pReg.extend([[GridQubit(i,j) for j in range(4)] for i in range(N+n_i)]) \n",
    "    hReg.extend([[GridQubit(i,j) for j in range(4, 4+L)] for i in range(N)])\n",
    "    w_hReg.extend([GridQubit(N+n_i,j) for j in range(L-1)]) \n",
    "    eReg.extend([GridQubit(N+n_i,L-1)])\n",
    "    wReg.extend([GridQubit(N+n_i,j) for j in range(L,L+5)])\n",
    "    n_phiReg.extend([GridQubit(N+n_i+1,j) for j in range(L)])\n",
    "    w_phiReg.extend([GridQubit(N+n_i+1,j) for j in range(L,2*L-1)])\n",
    "    n_aReg.extend([GridQubit(N+n_i+2,j) for j in range(L)])\n",
    "    w_aReg.extend([GridQubit(N+n_i+2,j) for j in range(L,2*L-1)])\n",
    "    n_bReg.extend([GridQubit(N+n_i+3,j) for j in range(L)])\n",
    "    w_bReg.extend([GridQubit(N+n_i+3,j) for j in range(L,2*L-1)])\n",
    "\n",
    "#apply appropriate X gates to ensure that the P register contains all of the initial particles (passed in as a list)    \n",
    "def intializeParticles(circuit, pReg, initialParticles):\n",
    "    currentParticleIndex = 0\n",
    "    for particle in initialParticles:\n",
    "        for particleBit in range(3): #fourth bit is work register - always starts at 0\n",
    "            if initialParticles[currentParticleIndex][particleBit] == 1:\n",
    "                circuit.append(X(pReg[currentParticleIndex][particleBit]), strategy=early)\n",
    "        currentParticleIndex += 1"
   ]
  },
  {
   "cell_type": "markdown",
   "metadata": {},
   "source": [
    "#### U_Count Helper Functions"
   ]
  },
  {
   "cell_type": "code",
   "execution_count": 32,
   "metadata": {},
   "outputs": [],
   "source": [
    "#controlled x onto targetQubit if control is of the correct flavor\n",
    "def flavorControl(circuit, flavor, control, target):\n",
    "    if flavor == \"phi\":\n",
    "        circuit.append([X(control[1]), X(control[2])], strategy = new)\n",
    "        circuit.append(TOFFOLI(control[0], control[1], control[3]), strategy = new)\n",
    "        circuit.append(TOFFOLI(control[2], control[3], target), strategy = new)\n",
    "        circuit.append([X(control[1]), X(control[2])], strategy = new)\n",
    "    if flavor == \"a\":\n",
    "        circuit.append(X(control[0]), strategy = new)\n",
    "        circuit.append(TOFFOLI(control[0], control[2], target), strategy = new)\n",
    "        circuit.append(X(control[0]), strategy = new)\n",
    "    if flavor == \"b\":\n",
    "        circuit.append(TOFFOLI(control[0], control[2], target), strategy = new)\n",
    "\n",
    "#recursively carries an addition of 1 to the LSB of a register to all bits (if neccesarry)\n",
    "def plus1(circuit, l, countReg, workReg, level):\n",
    "    if level <= l-2:\n",
    "        #first level uses CNOT instead of TOFFOLI gate\n",
    "        if level==0:\n",
    "            #move all X gates to first step to avoid unnecesarry gates\n",
    "            circuit.append([X(qubit) for qubit in countReg], strategy=new)\n",
    "            circuit.append(CNOT(countReg[0], workReg[0]), strategy=new)      \n",
    "        else:\n",
    "            circuit.append(TOFFOLI(countReg[level], workReg[level-1], workReg[level]), strategy=new)\n",
    "           \n",
    "        circuit.append(CNOT(workReg[level], countReg[level+1]), strategy=new)\n",
    "        #recursively call next layer\n",
    "        plus1(circuit, l, countReg, workReg, level+1)\n",
    "        #undo work qubits (exact opposite of first 5 lines - undoes calculation)\n",
    "        if level==0:\n",
    "            circuit.append(CNOT(countReg[0], workReg[0]), strategy=new) \n",
    "            circuit.append([X(qubit) for qubit in countReg], strategy=new)              \n",
    "        else:\n",
    "            circuit.append(TOFFOLI(countReg[level], workReg[level-1], workReg[level]), strategy=new)\n",
    "        \n"
   ]
  },
  {
   "cell_type": "markdown",
   "metadata": {},
   "source": [
    "### U_Count"
   ]
  },
  {
   "cell_type": "code",
   "execution_count": 33,
   "metadata": {},
   "outputs": [],
   "source": [
    "#populate the count registers using current particle states\n",
    "def uCount(circuit, m, n_i, l, pReg, n_aReg, w_aReg, n_bReg, w_bReg, n_phiReg, w_phiReg):\n",
    "    for k in range(n_i+m):\n",
    "        flavorControl(circuit, \"phi\", pReg[k], n_phiReg[0])\n",
    "        flavorControl(circuit, \"a\", pReg[k], n_aReg[0])\n",
    "        flavorControl(circuit, \"b\", pReg[k], n_bReg[0])\n",
    "        plus1(circuit, l, n_phiReg, w_phiReg, 0)\n",
    "        plus1(circuit, l, n_aReg, w_aReg, 0)\n",
    "        plus1(circuit, l, n_aReg, w_bReg, 0)"
   ]
  },
  {
   "cell_type": "markdown",
   "metadata": {},
   "source": [
    "#### Utility Functions"
   ]
  },
  {
   "cell_type": "code",
   "execution_count": 34,
   "metadata": {},
   "outputs": [],
   "source": [
    "#fill countsList with all compinations of n_phi, n_a, and n_b from [0,n+m] that satisfy a sum from [n, n+m] \n",
    "def generateParticleCounts(n_i, m, countsList):\n",
    "    minParticles = n_i\n",
    "    maxParticles = n_i+m\n",
    "    for numParticles in range(minParticles, maxParticles+1):\n",
    "        for numPhi in range(0, maxParticles+1):\n",
    "            for numA in range(0, numParticles - numPhi + 1):\n",
    "                numB = maxParticles - numPhi - numA\n",
    "                countsList.append([numPhi, numA, numB])\n",
    "    #print(countsList)\n",
    "    return\n",
    "\n",
    "def reverse(lst): \n",
    "    lst.reverse() \n",
    "    return lst \n",
    "\n",
    "#converts integer to binary list of size l with LSB first and MSB last\n",
    "def intToBinary(l, number):\n",
    "    numberBinary = [int(x) for x in list('{0:0b}'.format(number))]\n",
    "    numberBinary = (l - len(numberBinary)) * [0] + numberBinary\n",
    "    return reverse(numberBinary) "
   ]
  },
  {
   "cell_type": "code",
   "execution_count": 35,
   "metadata": {},
   "outputs": [],
   "source": [
    "#applies an X to the target register if countRegister encodes the inputted number in binary, return target\n",
    "#DOES NOT CLEAN AFTER ITSELF - USE numberControlT\n",
    "def numberControl(circuit, l, number, countReg, workReg):\n",
    "    if type(number)==int:\n",
    "        numberBinary = intToBinary(l, number)\n",
    "    else:\n",
    "        numberBinary = number\n",
    "    circuit.append([X(countReg[i]) for i in range(len(numberBinary)) if numberBinary[i]==0], strategy=new)\n",
    "    #first level does not use work qubits as control\n",
    "    if l > 1:\n",
    "        circuit.append(TOFFOLI(countReg[0], countReg[1], workReg[0]), strategy=new)  \n",
    "    #subfunction to recursively handle toffoli gates\n",
    "    def binaryToffolis(level):\n",
    "        circuit.append(TOFFOLI(countReg[level], workReg[level-2], workReg[level-1]), strategy=new)\n",
    "        if level <= l - 2:\n",
    "            binaryToffolis(level+1)    \n",
    "    if l > 2:\n",
    "        binaryToffolis(2)\n",
    "    #return qubit containing outcome of the operation\n",
    "    if l == 1:\n",
    "        return countReg[0]\n",
    "    else:\n",
    "        return workReg[l-2]\n",
    "    \n",
    "#undoes numberControl operation. CLEANS AFTER numberControl\n",
    "def numberControlT(circuit, l, number, countReg, workReg):\n",
    "    if type(number)==int:\n",
    "        numberBinary = intToBinary(l, number)    \n",
    "    else:\n",
    "        numberBinary = number\n",
    "    #subfunction to recursively handle toffoli gates\n",
    "    def binaryToffolisT(level):\n",
    "        #circuit.append(TOFFOLI(countReg[level], workReg[level-2], workReg[level-1]), strategy=new)\n",
    "        if level <= l - 1:\n",
    "            binaryToffolisT(level+1)\n",
    "            #undo\n",
    "            circuit.append(TOFFOLI(countReg[level], workReg[level-2], workReg[level-1]), strategy=new)            \n",
    "    if l > 2:\n",
    "        binaryToffolisT(2)\n",
    "        #undo\n",
    "    if l > 1:\n",
    "        circuit.append(TOFFOLI(countReg[0], countReg[1], workReg[0]), strategy=new)   \n",
    "    #undo        \n",
    "    circuit.append([X(countReg[i]) for i in range(len(numberBinary)) if numberBinary[i]==0], strategy=new)"
   ]
  },
  {
   "cell_type": "markdown",
   "metadata": {},
   "source": [
    "### U_e "
   ]
  },
  {
   "cell_type": "code",
   "execution_count": 36,
   "metadata": {},
   "outputs": [],
   "source": [
    "def uE(circuit, l, n_i, m, n_phiReg, w_phiReg, n_aReg, w_aReg, n_bReg, w_bReg, wReg, eReg, Delta_phi, Delta_a, Delta_b):\n",
    "    countsList = []\n",
    "    generateParticleCounts(n_i, m, countsList)\n",
    "    for counts in countsList:\n",
    "        n_phi, n_a, n_b = counts[0], counts[1], counts[2]\n",
    "        Delta = Delta_phi**n_phi * Delta_a**n_a * Delta_b**n_b\n",
    "        phiControlQub = numberControl(circuit, l, n_phi, n_phiReg, w_phiReg)\n",
    "        aControlQub = numberControl(circuit, l, n_a, n_aReg, w_aReg)\n",
    "        bControlQub = numberControl(circuit, l, n_b, n_bReg, w_bReg)\n",
    "        circuit.append(TOFFOLI(phiControlQub, aControlQub, wReg[0]), strategy=new)\n",
    "        circuit.append(TOFFOLI(bControlQub, wReg[0], wReg[1]), strategy=new) \n",
    "        circuit.append(Ry(2*math.acos(np.sqrt(Delta))/np.pi).controlled().on(wReg[1], eReg[0]))\n",
    "        #undo\n",
    "        circuit.append(TOFFOLI(bControlQub, wReg[0], wReg[1]), strategy=new)\n",
    "        circuit.append(TOFFOLI(phiControlQub, aControlQub, wReg[0]), strategy=new)\n",
    "        numberControlT(circuit, l, n_b, n_bReg, w_bReg)   \n",
    "        numberControlT(circuit, l, n_a, n_aReg, w_aReg)\n",
    "        numberControlT(circuit, l, n_phi, n_phiReg, w_phiReg) "
   ]
  },
  {
   "cell_type": "markdown",
   "metadata": {},
   "source": [
    " #### U_h helper functions (Arbitary 2 level controlled unitary, angle generator, minus 1 gate)"
   ]
  },
  {
   "cell_type": "code",
   "execution_count": 37,
   "metadata": {},
   "outputs": [],
   "source": [
    "#return list of elements in gray code from |0> to |number> where each entry is of type[int, binary list].\n",
    "#int: which bit is the target in the current iteration, binary list: the state of the rest of the qubits (controls) \n",
    "def generateGrayList(l,number):\n",
    "    grayList = [[0,l * [0]]]\n",
    "    targetBinary = intToBinary(l, number)\n",
    "    for index in range(len(targetBinary)):\n",
    "        if targetBinary[index] == 1:\n",
    "            grayList.append([index,(list(grayList[-1][1]))])\n",
    "            grayList[-1][1][index] = 1\n",
    "    return grayList[1:]\n",
    "\n",
    "#implement two level Ry rotation from state |0> to |k>, if externalControl qubit is on\n",
    "#for reference: http://www.physics.udel.edu/~msafrono/650/Lecture%206.pdf\n",
    "def twoLevelControlledRy(circuit, l, angle, k, externalControl, reg, workReg):\n",
    "    grayList = generateGrayList(l, k)\n",
    "    #handle the case where l=1\n",
    "    if l==1 and k == 1:\n",
    "        circuit.append(cirq.Ry(angle).controlled().on(externalControl, reg[0]))\n",
    "        return\n",
    "             \n",
    "    #swap states according to Gray Code until one step before the end\n",
    "    for element in grayList:\n",
    "        targetQub = element[0]\n",
    "        number = element[1]\n",
    "        number = number[0:targetQub] + number[targetQub+1:]\n",
    "        controlQub = numberControl(circuit, l-1, number, reg[0:targetQub]+reg[targetQub+1:], workReg)\n",
    "        if element == grayList[-1]: #reached end\n",
    "            circuit.append(TOFFOLI(controlQub, externalControl, workReg[l-2]), strategy = new)\n",
    "            circuit.append(cirq.Ry(angle).controlled().on(workReg[l-2], reg[targetQub]))\n",
    "            circuit.append(TOFFOLI(controlQub, externalControl, workReg[l-2]), strategy = new)            \n",
    "        else: #swap states\n",
    "            circuit.append(CNOT(controlQub, reg[targetQub]), strategy = new)\n",
    "        numberControlT(circuit, l-1, number, reg[0:targetQub]+reg[targetQub+1:], workReg)\n",
    "    \n",
    "    #undo\n",
    "    for element in reverse(grayList[:-1]):\n",
    "        targetQub = element[0]\n",
    "        number = element[1]\n",
    "        number = number[0:targetQub] + number[targetQub+1:]\n",
    "        controlQub = numberControl(circuit, l-1, number, reg[0:targetQub]+reg[targetQub+1:], workReg)\n",
    "        circuit.append(CNOT(controlQub, reg[targetQub]), strategy = new)\n",
    "        numberControlT(circuit, l-1, number, reg[0:targetQub]+reg[targetQub+1:], workReg)   \n",
    "    return"
   ]
  },
  {
   "cell_type": "code",
   "execution_count": 38,
   "metadata": {},
   "outputs": [],
   "source": [
    "def U_hAngle(flavor, n_phi, n_a, n_b, P_phi, P_a, P_b):\n",
    "    denominator = n_phi * P_phi + n_a * P_a + n_b * P_b\n",
    "    flavorStringToP = {'phi':P_phi, 'a':P_a, 'b':P_b}\n",
    "    emissionAmplitude = np.sqrt(flavorStringToP[flavor] / denominator)\n",
    "    #correct for arcsin input greater than 1 errors for various input combinations that are irrelevant anyway\n",
    "    emissionAmplitude = min(1, emissionAmplitude)\n",
    "    return (2 * np.arcsin(emissionAmplitude)) / np.pi\n",
    "\n",
    "#recursively carries an subtraction of 1 to the LSB of a register to all bits (if neccesarry)\n",
    "#Equivalent to plus1 but with an X applied to all count qubits before and after gate\n",
    "def minus1(circuit, l, countReg, workReg, level):\n",
    "    circuit.append([X(qubit) for qubit in countReg], strategy=new)\n",
    "    plus1(circuit, l, countReg, workReg, level)\n",
    "    circuit.append([X(qubit) for qubit in countReg], strategy=new)"
   ]
  },
  {
   "cell_type": "markdown",
   "metadata": {},
   "source": [
    "### U_h"
   ]
  },
  {
   "cell_type": "code",
   "execution_count": 39,
   "metadata": {},
   "outputs": [],
   "source": [
    "#implement U_h on all registers\n",
    "#TODO: MAKE SURE THIS MAKES SENSE ON HIGH LEVEL\n",
    "def U_h(circuit, l, n_i, m, n_phiReg, w_phiReg, n_aReg, w_aReg, n_bReg, w_bReg, wReg, eReg, pReg, hReg, w_hReg, P_phi, P_a, P_b):\n",
    "    countsList = []\n",
    "    generateParticleCounts(n_i, m, countsList)\n",
    "    for k in range(n_i + m):\n",
    "        for counts in countsList:\n",
    "            n_phi, n_a, n_b = counts[0], counts[1], counts[2]\n",
    "            #controlled R-y from |0> to |k> on all qubits with all possible angles depending on n_phi, n_a, n_b, and flavor\n",
    "            for flavor in ['phi', 'a', 'b']:\n",
    "                angle = U_hAngle(flavor, n_phi, n_a, n_b, P_phi, P_a, P_b)\n",
    "                phiControl = numberControl(circuit, l, n_phi, n_phiReg, w_phiReg)\n",
    "                aControl = numberControl(circuit, l, n_a, n_aReg, w_aReg)\n",
    "                bControl = numberControl(circuit, l, n_b, n_bReg, w_bReg)\n",
    "                circuit.append(TOFFOLI(phiControl, aControl, wReg[0]), strategy=new)\n",
    "                circuit.append(TOFFOLI(bControl, wReg[0], wReg[1]), strategy=new) \n",
    "                flavorControl(circuit, flavor, pReg[k], wReg[2])\n",
    "                circuit.append(TOFFOLI(eReg[0], wReg[2], wReg[3]), strategy=new)\n",
    "                twoLevelControlledRy(circuit, l, angle, k, wReg[3], hReg[m], w_hReg)\n",
    "                #undo\n",
    "                circuit.append(TOFFOLI(eReg[0], wReg[2], wReg[3]), strategy=new)\n",
    "                circuit.append(TOFFOLI(bControl, wReg[0], wReg[1]), strategy=new)\n",
    "                circuit.append(TOFFOLI(phiControl, aControl, wReg[0]), strategy=new)\n",
    "                numberControlT(circuit, l, n_b, n_bReg, w_bReg)\n",
    "                numberControlT(circuit, l, n_a, n_aReg, w_aReg)\n",
    "                numberControlT(circuit, l, n_phi, n_phiReg, w_phiReg)\n",
    "        \n",
    "        #subtract from the counts register depending on which flavor particle emitted\n",
    "        for flavor, countReg, workReg in zip(['phi','a','b'],[n_phiReg, n_aReg, n_bReg],[w_phiReg, w_aReg, w_bReg]):\n",
    "            flavorControl(circuit, flavor, pReg[k], countReg[0])\n",
    "            minus1(circuit, l, countReg, workReg, 0)\n",
    "            flavorControl(circuit, flavor, pReg[k], countReg[0])\n",
    "\n",
    "    #apply not 0 controlled x from the mth h register to the e register\n",
    "    numberControl(circuit, l, 0, hReg[m], w_hReg)\n",
    "    circuit.append(CNOT(w_hReg[l-2], eReg[0]))\n",
    "    circuit.append(X(eReg[0]), strategy=new)\n",
    "    numberControlT(circuit, l, 0, hReg[m], w_hReg)\n",
    "                       "
   ]
  },
  {
   "cell_type": "markdown",
   "metadata": {},
   "source": [
    "#### U_p Helper Function and U_p"
   ]
  },
  {
   "cell_type": "code",
   "execution_count": 40,
   "metadata": {},
   "outputs": [],
   "source": [
    "#updates old particle k and new particle n_i+m (0-indexed) if particle k undergoes emission in step n+m\n",
    "def updateParticles(circuit, l, n_i, m, k, pReg, wReg, controlQub, g_a, g_b):\n",
    "    oldParticleReg = pReg[k]\n",
    "    newParticleReg = pReg[n_i+m]\n",
    "    #first gate in paper U_p\n",
    "    circuit.append(TOFFOLI(controlQub, oldParticleReg[2], newParticleReg[0]), strategy=new)\n",
    "    #second gate in paper (undoes work register immediately)\n",
    "    circuit.append([X(oldParticleReg[1]), X(oldParticleReg[2])], strategy=new)\n",
    "    circuit.append(TOFFOLI(controlQub, oldParticleReg[2], wReg[0]), strategy=new)\n",
    "    circuit.append(TOFFOLI(wReg[0], oldParticleReg[1], wReg[1]), strategy=new)\n",
    "    circuit.append(TOFFOLI(wReg[1], oldParticleReg[0], newParticleReg[2]), strategy=new)\n",
    "    circuit.append(TOFFOLI(wReg[0], oldParticleReg[1], wReg[1]), strategy=new)\n",
    "    circuit.append(TOFFOLI(controlQub, oldParticleReg[2], wReg[0]), strategy=new)\n",
    "    circuit.append([X(oldParticleReg[1]), X(oldParticleReg[2])], strategy=new)\n",
    "    #third gate in paper\n",
    "    circuit.append(TOFFOLI(controlQub, newParticleReg[2], oldParticleReg[2]), strategy=new)\n",
    "    #fourth and fifth gate in paper (then undoes work register)\n",
    "    circuit.append(TOFFOLI(controlQub, newParticleReg[2], wReg[0]), strategy=new)\n",
    "    circuit.append(cirq.H.controlled().on(wReg[0], newParticleReg[1]))\n",
    "    angle = (2 * np.arccos(g_a/np.sqrt(g_a**2 + g_b**2))) / np.pi\n",
    "    circuit.append(cirq.Ry(angle).controlled().on(wReg[0], newParticleReg[0]))\n",
    "    circuit.append(TOFFOLI(controlQub, newParticleReg[2], wReg[0]), strategy=new)\n",
    "    #sixth and seventh gate in paper (then undoes work register)\n",
    "    circuit.append([X(newParticleReg[0]), X(newParticleReg[1])], strategy=new)\n",
    "    circuit.append(TOFFOLI(newParticleReg[1], newParticleReg[2], wReg[0]), strategy=new)\n",
    "    circuit.append(TOFFOLI(controlQub, wReg[0], oldParticleReg[1]), strategy=new)\n",
    "    circuit.append(TOFFOLI(newParticleReg[1], newParticleReg[2], wReg[0]), strategy=new)\n",
    "    circuit.append(TOFFOLI(newParticleReg[0], newParticleReg[2], wReg[0]), strategy=new)\n",
    "    circuit.append(TOFFOLI(controlQub, wReg[0], oldParticleReg[0]), strategy=new)\n",
    "    circuit.append(TOFFOLI(newParticleReg[0], newParticleReg[2], wReg[0]), strategy=new)\n",
    "    circuit.append([X(newParticleReg[0]), X(newParticleReg[1])], strategy=new)\n",
    "    \n",
    "    \n",
    "    "
   ]
  },
  {
   "cell_type": "code",
   "execution_count": 41,
   "metadata": {},
   "outputs": [],
   "source": [
    "#Apply U_p to circuit\n",
    "def U_p(circuit, l, n_i, m, pReg, hReg, w_hReg, wReg, g_a, g_b):\n",
    "    for k in range(0, n_i + m):\n",
    "        controlQub = numberControl(circuit, l, k, hReg[m], w_hReg)\n",
    "        updateParticles(circuit, l, n_i, m, k, pReg, wReg, controlQub, g_a, g_b)\n",
    "        numberControlT(circuit, l, k, hReg[m], w_hReg)"
   ]
  },
  {
   "cell_type": "markdown",
   "metadata": {},
   "source": [
    "## Create Circuit"
   ]
  },
  {
   "cell_type": "code",
   "execution_count": 42,
   "metadata": {},
   "outputs": [],
   "source": [
    "def createCircuit(n_i, N, eps, g_1, g_2, g_12, initialParticles):\n",
    "    #calculate constants\n",
    "    gp = ((g_2-g_1) / abs(g_2-g_1)) * math.sqrt((g_1-g_2)**2 + 4*g_12**2)\n",
    "    g_a, g_b = (g_1 + g_2 - gp) / 2, (g_1 + g_2 + gp) / 2\n",
    "    u = math.sqrt((g_1-g_2+gp)/2*gp)\n",
    "    L = int(math.floor(math.log(N+n_i,2)) + 1)\n",
    "    \n",
    "    #evaluate P(Theta) and Delta(Theta) at every time step\n",
    "    timeStepList, P_aList, P_bList, P_phiList, Delta_aList, Delta_bList, Delta_phiList = [],[],[],[],[],[],[]\n",
    "    populateParameterLists(N, timeStepList, P_aList, P_bList, P_phiList, Delta_aList, Delta_bList, Delta_phiList, g_a, g_b)\n",
    "    \n",
    "    #allocate and populate registers\n",
    "    pReg, hReg, w_hReg, eReg, wReg, n_aReg, w_aReg, n_bReg, w_bReg, n_phiReg, w_phiReg = [],[],[],[],[],[],[],[],[],[],[]\n",
    "    allocateQubs(N, n_i, L, pReg, hReg, w_hReg, eReg, wReg, n_aReg, w_aReg, n_bReg, w_bReg, n_phiReg, w_phiReg)\n",
    "    \n",
    "    #create circuit object and initialize particles\n",
    "    circuit = cirq.Circuit()\n",
    "    intializeParticles(circuit, pReg, initialParticles)\n",
    "    \n",
    "    #begin stepping through subcircuits\n",
    "    for m in range(N):\n",
    "        l = int(math.floor(math.log(m+n_i,2)) + 1)       \n",
    "        #R^(m) rotate every particle p_k from 1,2 to a,b basis (step 1)\n",
    "        for p_k in pReg:\n",
    "            circuit.append(Ry(2*math.asin(-u)/np.pi).controlled().on(p_k[2], p_k[0]))\n",
    "        #populate count register (step 2)\n",
    "        uCount(circuit, m, n_i, l, pReg, n_aReg, w_aReg, n_bReg, w_bReg, n_phiReg, w_phiReg)\n",
    "        #assess if emmision occured (step 3)\n",
    "        uE(circuit, l, n_i, m, n_phiReg, w_phiReg, n_aReg, w_aReg, n_bReg, w_bReg, wReg, eReg, Delta_phiList[m], Delta_aList[m], Delta_bList[m])\n",
    "        #choose a particle to split (step 4)\n",
    "        U_h(circuit, l, n_i, m, n_phiReg, w_phiReg, n_aReg, w_aReg, n_bReg, w_bReg, wReg, eReg, pReg, hReg, w_hReg, P_phiList[m], P_aList[m], P_bList[m])\n",
    "        #update particle based on which particle split/emmitted (step 5)\n",
    "        U_p(circuit, l, n_i, m, pReg, hReg, w_hReg, wReg, g_a, g_b)\n",
    "        #R^-(m) rotate every particle p_k from a,b to 1,2 basis (step 6)\n",
    "        for p_k in pReg:\n",
    "            circuit.append(Ry(2*math.asin(u)/np.pi).controlled().on(p_k[2], p_k[0]))\n",
    "    return circuit\n",
    "    #print(circuit)\n",
    "\n",
    "#Following paper's notation: n_i -> number of initial particles, N -> number of steps \n",
    "g_1, g_2, g_12,  eps = 2, 1, .1, .001\n",
    "n_i, N = 2, 3\n",
    "#run circuit with 1 f_a fermion\n",
    "circuit = createCircuit(n_i, N, eps, g_1, g_2, g_12, [[1,0,0,0]])"
   ]
  },
  {
   "cell_type": "code",
   "execution_count": null,
   "metadata": {},
   "outputs": [],
   "source": []
  }
 ],
 "metadata": {
  "kernelspec": {
   "display_name": "Python 3",
   "language": "python",
   "name": "python3"
  },
  "language_info": {
   "codemirror_mode": {
    "name": "ipython",
    "version": 3
   },
   "file_extension": ".py",
   "mimetype": "text/x-python",
   "name": "python",
   "nbconvert_exporter": "python",
   "pygments_lexer": "ipython3",
   "version": "3.7.6"
  }
 },
 "nbformat": 4,
 "nbformat_minor": 4
}
