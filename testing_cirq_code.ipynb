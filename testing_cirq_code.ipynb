{
 "cells": [
  {
   "cell_type": "code",
   "execution_count": 1,
   "metadata": {},
   "outputs": [],
   "source": [
    "import cirq\n",
    "import math\n",
    "import numpy as np\n",
    "import matplotlib.pyplot as plt\n",
    "import create_circuit as cc\n",
    "from cirq import GridQubit, X, CNOT, TOFFOLI, ry\n",
    "from cirq import Simulator\n",
    "early = cirq.InsertStrategy.EARLIEST\n",
    "new = cirq.InsertStrategy.NEW_THEN_INLINE"
   ]
  },
  {
   "cell_type": "code",
   "execution_count": 2,
   "metadata": {},
   "outputs": [
    {
     "name": "stdout",
     "output_type": "stream",
     "text": [
      "1\n"
     ]
    }
   ],
   "source": [
    "N = 1 \n",
    "n_i = 1\n",
    "m = 1\n",
    "L = int(math.ceil(math.log(N + n_i, 2)))\n",
    "# L = int(math.floor(math.log(N + n_i, 2)) + 1)\n",
    "print(L)\n",
    "# l = int(math.floor(math.log(m + n_i, 2)) + 1)\n",
    "l = int(math.ceil(math.log(m + n_i, 2)) )\n",
    "\n",
    "\n",
    "pReg, hReg, w_hReg, eReg, wReg, n_aReg, w_aReg, n_bReg, w_bReg, n_phiReg, w_phiReg = [], [], [], [], [], [], [], [], [], [], []\n",
    "cc.allocateQubs(N, n_i, L, pReg, hReg, w_hReg, eReg, wReg, n_aReg, w_aReg, n_bReg, w_bReg, n_phiReg, w_phiReg)\n",
    "qubits = {'pReg': pReg, 'hReg': hReg, 'w_hReg': w_hReg, 'eReg': eReg, 'wReg': wReg, 'n_aReg': n_aReg,\n",
    "               'w_aReg': w_aReg, 'n_bReg': n_bReg, 'w_bReg': w_bReg, 'n_phiReg': n_phiReg, 'w_phiReg': w_phiReg}"
   ]
  },
  {
   "cell_type": "code",
   "execution_count": 3,
   "metadata": {},
   "outputs": [
    {
     "name": "stdout",
     "output_type": "stream",
     "text": [
      "pReg:  [[cirq.GridQubit(0, 0), cirq.GridQubit(0, 1), cirq.GridQubit(0, 2)], [cirq.GridQubit(1, 0), cirq.GridQubit(1, 1), cirq.GridQubit(1, 2)]]\n",
      "hReg:  [[cirq.GridQubit(0, 4)]]\n",
      "w_hReg:  []\n",
      "eReg:  [cirq.GridQubit(2, 0)]\n",
      "wReg:  [cirq.GridQubit(2, 1), cirq.GridQubit(2, 2), cirq.GridQubit(2, 3), cirq.GridQubit(2, 4), cirq.GridQubit(2, 5)]\n",
      "n_aReg:  [cirq.GridQubit(4, 0)]\n",
      "w_aReg:  []\n",
      "n_bReg:  [cirq.GridQubit(5, 0)]\n",
      "w_bReg:  []\n",
      "w_phiReg:  [cirq.GridQubit(3, 0)]\n",
      "w_phiReg:  []\n"
     ]
    }
   ],
   "source": [
    "print(\"pReg: \", pReg)\n",
    "print(\"hReg: \", hReg)\n",
    "print(\"w_hReg: \", w_hReg)\n",
    "print(\"eReg: \", eReg)\n",
    "print(\"wReg: \", wReg)\n",
    "print(\"n_aReg: \", n_aReg)\n",
    "print(\"w_aReg: \", w_aReg)\n",
    "print(\"n_bReg: \", n_bReg)\n",
    "print(\"w_bReg: \", w_bReg)\n",
    "print(\"w_phiReg: \", n_phiReg)\n",
    "print(\"w_phiReg: \", w_phiReg)\n"
   ]
  },
  {
   "cell_type": "code",
   "execution_count": 4,
   "metadata": {},
   "outputs": [],
   "source": [
    "g_1, g_2, g_12 = 2, 1, 0\n",
    "gp = math.sqrt(abs((g_1 - g_2) ** 2 + 4 * g_12 ** 2))\n",
    "if g_1 > g_2:\n",
    "    gp = -gp\n",
    "g_a, g_b = (g_1 + g_2 - gp) / 2, (g_1 + g_2 + gp) / 2\n",
    "u = math.sqrt(abs((gp + g_1 - g_2)/ (2 * gp)))\n",
    "eps = .001"
   ]
  },
  {
   "cell_type": "code",
   "execution_count": 5,
   "metadata": {},
   "outputs": [],
   "source": [
    "circuit = cirq.Circuit()\n",
    "# for p_k in pReg:\n",
    "#     circuit.append(ry(2*math.asin(-u)).controlled().on(p_k[2], p_k[0]))\n",
    "\n",
    "# cc.uCount(circuit, m, n_i, l, pReg, wReg, n_aReg, w_aReg, n_bReg, w_bReg, n_phiReg, w_phiReg)"
   ]
  },
  {
   "cell_type": "code",
   "execution_count": 10,
   "metadata": {},
   "outputs": [
    {
     "name": "stdout",
     "output_type": "stream",
     "text": [
      "(2, 0): ───────────────────Ry(0.451π)───────────────────────────────────Ry(0.784π)───────────────────────────────────Ry(0.837π)───────────────────────────────────────Ry(0.608π)───────────────────────────────────Ry(0.837π)───────────────────────────────────Ry(0.929π)───────────────────────────────────Ry(0.877π)───────────────────────────Ry(0.946π)───────────────────────────────────Ry(0.959π)───────────────────────\n",
      "                           │                                            │                                            │                                                │                                            │                                            │                                            │                                    │                                            │\n",
      "(2, 1): ───────────X───@───┼────────────@───X───────────────────X───@───┼────────────@───X───────────────────X───@───┼────────────@───X───────────────────────X───@───┼────────────@───X───────────────────X───@───┼────────────@───X───────────────────X───@───┼────────────@───X───────────────────X───@───┼────────────@───X───────────X───@───┼────────────@───X───────────────────X───@───┼────────────@───X───────────────\n",
      "                   │   │   │            │   │                   │   │   │            │   │                   │   │   │            │   │                       │   │   │            │   │                   │   │   │            │   │                   │   │   │            │   │                   │   │   │            │   │           │   │   │            │   │                   │   │   │            │   │\n",
      "(2, 2): ───────────┼───X───@────────────X───┼───────────────────┼───X───@────────────X───┼───────────────────┼───X───@────────────X───┼───────────────────────┼───X───@────────────X───┼───────────────────┼───X───@────────────X───┼───────────────────┼───X───@────────────X───┼───────────────────┼───X───@────────────X───┼───────────┼───X───@────────────X───┼───────────────────┼───X───@────────────X───┼───────────────\n",
      "                   │   │                │   │                   │   │                │   │                   │   │                │   │                       │   │                │   │                   │   │                │   │                   │   │                │   │                   │   │                │   │           │   │                │   │                   │   │                │   │\n",
      "(3, 0): ───X───────@───┼────────────────┼───@───────X───X───────@───┼────────────────┼───@───────X───────────@───┼────────────────┼───@───────────X───────────@───┼────────────────┼───@───────────X───X───@───┼────────────────┼───@───X───X───────────@───┼────────────────┼───@───────────X───────@───┼────────────────┼───@───────────@───┼────────────────┼───@───────X───────────@───┼────────────────┼───@───────────X───\n",
      "                   │   │                │   │                   │   │                │   │                   │   │                │   │                       │   │                │   │                   │   │                │   │                   │   │                │   │                   │   │                │   │           │   │                │   │                   │   │                │   │\n",
      "(4, 0): ───────X───@───┼────────────────┼───@───X───────────────@───┼────────────────┼───@───────────X───────@───┼────────────────┼───@───────X───────X───────@───┼────────────────┼───@───────X───────────@───┼────────────────┼───@───────────X───────@───┼────────────────┼───@───────X───────X───@───┼────────────────┼───@───X───────@───┼────────────────┼───@───────────X───────@───┼────────────────┼───@───────X───────\n",
      "                       │                │                           │                │                           │                │                               │                │                           │                │                           │                │                           │                │                   │                │                           │                │\n",
      "(5, 0): ───────────────@────────────────@───────────────────X───────@────────────────@───────X───────────X───────@────────────────@───────X───────────────X───────@────────────────@───────X───────────────────@────────────────@───────────────────X───────@────────────────@───────X───────────────────@────────────────@───────────X───────@────────────────@───────X───────────X───────@────────────────@───────X───────────\n"
     ]
    }
   ],
   "source": [
    "print(circuit)"
   ]
  },
  {
   "cell_type": "code",
   "execution_count": 6,
   "metadata": {},
   "outputs": [],
   "source": [
    "simulator = Simulator()\n",
    "# result = simulator.simulate(circuit)\n",
    "\n",
    "# print(np.around(result.final_state_vector))"
   ]
  },
  {
   "cell_type": "code",
   "execution_count": 7,
   "metadata": {},
   "outputs": [],
   "source": [
    "timeStepList, P_aList, P_bList, P_phiList, Delta_aList, Delta_bList, Delta_phiList = [], [], [], [], [], [], []\n",
    "cc.populateParameterLists(N, timeStepList, P_aList, P_bList, P_phiList, Delta_aList, Delta_bList, \n",
    "                       Delta_phiList, g_a, g_b, eps)"
   ]
  },
  {
   "cell_type": "code",
   "execution_count": 8,
   "metadata": {},
   "outputs": [
    {
     "name": "stdout",
     "output_type": "stream",
     "text": [
      "counts list:  [[0, 0, 1], [0, 1, 0], [1, 0, 0], [0, 0, 2], [0, 1, 1], [0, 2, 0], [1, 0, 1], [1, 1, 0], [2, 0, 0]]\n",
      "length counts list:  9\n",
      "[0, 0, 1]\n",
      "TOFFOLI  (3, 0) (4, 0) (2, 1)\n",
      "TOFFOLI  (5, 0) (2, 1) (2, 2)\n",
      "ry  1.4159341961298526 (2, 2) (2, 0)\n",
      "TOFFOLI  (5, 0) (2, 1) (2, 2)\n",
      "TOFFOLI  (3, 0) (4, 0) (2, 1)\n",
      "[0, 1, 0]\n",
      "TOFFOLI  (3, 0) (4, 0) (2, 1)\n",
      "TOFFOLI  (5, 0) (2, 1) (2, 2)\n",
      "ry  2.4624779848385865 (2, 2) (2, 0)\n",
      "TOFFOLI  (5, 0) (2, 1) (2, 2)\n",
      "TOFFOLI  (3, 0) (4, 0) (2, 1)\n",
      "[1, 0, 0]\n",
      "TOFFOLI  (3, 0) (4, 0) (2, 1)\n",
      "TOFFOLI  (5, 0) (2, 1) (2, 2)\n",
      "ry  2.6299745374512495 (2, 2) (2, 0)\n",
      "TOFFOLI  (5, 0) (2, 1) (2, 2)\n",
      "TOFFOLI  (3, 0) (4, 0) (2, 1)\n",
      "[0, 0, 2]\n",
      "TOFFOLI  (3, 0) (4, 0) (2, 1)\n",
      "TOFFOLI  (5, 0) (2, 1) (2, 2)\n",
      "ry  1.9111924693478755 (2, 2) (2, 0)\n",
      "TOFFOLI  (5, 0) (2, 1) (2, 2)\n",
      "TOFFOLI  (3, 0) (4, 0) (2, 1)\n",
      "[0, 1, 1]\n",
      "TOFFOLI  (3, 0) (4, 0) (2, 1)\n",
      "TOFFOLI  (5, 0) (2, 1) (2, 2)\n",
      "ry  2.6299745374512495 (2, 2) (2, 0)\n",
      "TOFFOLI  (5, 0) (2, 1) (2, 2)\n",
      "TOFFOLI  (3, 0) (4, 0) (2, 1)\n",
      "[0, 2, 0]\n",
      "TOFFOLI  (3, 0) (4, 0) (2, 1)\n",
      "TOFFOLI  (5, 0) (2, 1) (2, 2)\n",
      "ry  2.919264136665071 (2, 2) (2, 0)\n",
      "TOFFOLI  (5, 0) (2, 1) (2, 2)\n",
      "TOFFOLI  (3, 0) (4, 0) (2, 1)\n",
      "[1, 0, 1]\n",
      "TOFFOLI  (3, 0) (4, 0) (2, 1)\n",
      "TOFFOLI  (5, 0) (2, 1) (2, 2)\n",
      "ry  2.754741214142203 (2, 2) (2, 0)\n",
      "TOFFOLI  (5, 0) (2, 1) (2, 2)\n",
      "TOFFOLI  (3, 0) (4, 0) (2, 1)\n",
      "[1, 1, 0]\n",
      "TOFFOLI  (3, 0) (4, 0) (2, 1)\n",
      "TOFFOLI  (5, 0) (2, 1) (2, 2)\n",
      "ry  2.972840405769306 (2, 2) (2, 0)\n",
      "TOFFOLI  (5, 0) (2, 1) (2, 2)\n",
      "TOFFOLI  (3, 0) (4, 0) (2, 1)\n",
      "[2, 0, 0]\n",
      "TOFFOLI  (3, 0) (4, 0) (2, 1)\n",
      "TOFFOLI  (5, 0) (2, 1) (2, 2)\n",
      "ry  3.013458453069145 (2, 2) (2, 0)\n",
      "TOFFOLI  (5, 0) (2, 1) (2, 2)\n",
      "TOFFOLI  (3, 0) (4, 0) (2, 1)\n"
     ]
    }
   ],
   "source": [
    "cc.uE(circuit, l, n_i, m, n_phiReg, w_phiReg, n_aReg, w_aReg, n_bReg, w_bReg, wReg, eReg,\n",
    "           Delta_phiList[0], Delta_aList[0], Delta_bList[0])"
   ]
  },
  {
   "cell_type": "code",
   "execution_count": 9,
   "metadata": {},
   "outputs": [
    {
     "name": "stdout",
     "output_type": "stream",
     "text": [
      "[-1.+0.j  0.+0.j  0.+0.j  0.+0.j  0.+0.j  0.+0.j  0.+0.j  0.+0.j  0.+0.j\n",
      "  0.+0.j  0.+0.j  0.+0.j  0.+0.j  0.+0.j  0.+0.j  0.+0.j  0.+0.j  0.+0.j\n",
      "  0.+0.j  0.+0.j  0.+0.j  0.+0.j  0.+0.j  0.+0.j  0.+0.j  0.+0.j  0.+0.j\n",
      "  0.+0.j  0.+0.j  0.+0.j  0.+0.j  0.+0.j -1.+0.j  0.+0.j  0.+0.j  0.+0.j\n",
      "  0.+0.j  0.+0.j  0.+0.j  0.+0.j  0.+0.j  0.+0.j  0.+0.j  0.+0.j  0.+0.j\n",
      "  0.+0.j  0.+0.j  0.+0.j  0.+0.j  0.+0.j  0.+0.j  0.+0.j  0.+0.j  0.+0.j\n",
      "  0.+0.j  0.+0.j  0.+0.j  0.+0.j  0.+0.j  0.+0.j  0.+0.j  0.+0.j  0.+0.j\n",
      "  0.+0.j]\n"
     ]
    }
   ],
   "source": [
    "result = simulator.simulate(circuit)\n",
    "\n",
    "print(np.around(result.final_state_vector))"
   ]
  },
  {
   "cell_type": "code",
   "execution_count": null,
   "metadata": {},
   "outputs": [],
   "source": [
    "cc.U_h(circuit, l, n_i, m, n_phiReg, w_phiReg, n_aReg, w_aReg, n_bReg, w_bReg, wReg, eReg, pReg, hReg, w_hReg,\n",
    "            P_phiList[0], P_aList[0], P_bList[0])"
   ]
  },
  {
   "cell_type": "code",
   "execution_count": null,
   "metadata": {},
   "outputs": [],
   "source": [
    "print(pReg)\n",
    "print(2*math.asin(-u))\n",
    "print(l)"
   ]
  },
  {
   "cell_type": "code",
   "execution_count": 11,
   "metadata": {},
   "outputs": [],
   "source": [
    "circ2 = cirq.Circuit()\n",
    "# for p_k in pReg:\n",
    "#     circ.append(ry(2*math.asin(-u)).controlled().on(p_k[2], p_k[0]))"
   ]
  },
  {
   "cell_type": "code",
   "execution_count": 12,
   "metadata": {},
   "outputs": [
    {
     "data": {
      "text/plain": [
       "cirq.GridQubit(3, 0)"
      ]
     },
     "execution_count": 12,
     "metadata": {},
     "output_type": "execute_result"
    }
   ],
   "source": [
    "cc.numberControl(circ2, l, 0, n_phiReg, w_phiReg)"
   ]
  },
  {
   "cell_type": "code",
   "execution_count": null,
   "metadata": {},
   "outputs": [],
   "source": []
  },
  {
   "cell_type": "code",
   "execution_count": 13,
   "metadata": {},
   "outputs": [
    {
     "name": "stdout",
     "output_type": "stream",
     "text": [
      "(3, 0): ───X───\n"
     ]
    }
   ],
   "source": [
    "print(circ2)"
   ]
  },
  {
   "cell_type": "code",
   "execution_count": 14,
   "metadata": {},
   "outputs": [],
   "source": [
    "circ = cirq.Circuit()"
   ]
  },
  {
   "cell_type": "code",
   "execution_count": 17,
   "metadata": {},
   "outputs": [
    {
     "ename": "AttributeError",
     "evalue": "'int' object has no attribute 'dimension'",
     "output_type": "error",
     "traceback": [
      "\u001b[0;31m---------------------------------------------------------------------------\u001b[0m",
      "\u001b[0;31mAttributeError\u001b[0m                            Traceback (most recent call last)",
      "\u001b[0;32m<ipython-input-17-10f403fc1c14>\u001b[0m in \u001b[0;36m<module>\u001b[0;34m\u001b[0m\n\u001b[0;32m----> 1\u001b[0;31m \u001b[0mcirc\u001b[0m\u001b[0;34m.\u001b[0m\u001b[0mappend\u001b[0m\u001b[0;34m(\u001b[0m\u001b[0mX\u001b[0m\u001b[0;34m(\u001b[0m\u001b[0;36m0\u001b[0m\u001b[0;34m)\u001b[0m\u001b[0;34m)\u001b[0m\u001b[0;34m\u001b[0m\u001b[0;34m\u001b[0m\u001b[0m\n\u001b[0m",
      "\u001b[0;32m~/opt/anaconda3/lib/python3.7/site-packages/cirq/ops/raw_types.py\u001b[0m in \u001b[0;36m__call__\u001b[0;34m(self, *args, **kwargs)\u001b[0m\n\u001b[1;32m    269\u001b[0m \u001b[0;34m\u001b[0m\u001b[0m\n\u001b[1;32m    270\u001b[0m     \u001b[0;32mdef\u001b[0m \u001b[0m__call__\u001b[0m\u001b[0;34m(\u001b[0m\u001b[0mself\u001b[0m\u001b[0;34m,\u001b[0m \u001b[0;34m*\u001b[0m\u001b[0margs\u001b[0m\u001b[0;34m,\u001b[0m \u001b[0;34m**\u001b[0m\u001b[0mkwargs\u001b[0m\u001b[0;34m)\u001b[0m\u001b[0;34m:\u001b[0m\u001b[0;34m\u001b[0m\u001b[0;34m\u001b[0m\u001b[0m\n\u001b[0;32m--> 271\u001b[0;31m         \u001b[0;32mreturn\u001b[0m \u001b[0mself\u001b[0m\u001b[0;34m.\u001b[0m\u001b[0mon\u001b[0m\u001b[0;34m(\u001b[0m\u001b[0;34m*\u001b[0m\u001b[0margs\u001b[0m\u001b[0;34m,\u001b[0m \u001b[0;34m**\u001b[0m\u001b[0mkwargs\u001b[0m\u001b[0;34m)\u001b[0m\u001b[0;34m\u001b[0m\u001b[0;34m\u001b[0m\u001b[0m\n\u001b[0m\u001b[1;32m    272\u001b[0m \u001b[0;34m\u001b[0m\u001b[0m\n\u001b[1;32m    273\u001b[0m     \u001b[0;32mdef\u001b[0m \u001b[0mwith_probability\u001b[0m\u001b[0;34m(\u001b[0m\u001b[0mself\u001b[0m\u001b[0;34m,\u001b[0m \u001b[0mprobability\u001b[0m\u001b[0;34m:\u001b[0m \u001b[0;34m'cirq.TParamVal'\u001b[0m\u001b[0;34m)\u001b[0m \u001b[0;34m->\u001b[0m \u001b[0;34m'cirq.Gate'\u001b[0m\u001b[0;34m:\u001b[0m\u001b[0;34m\u001b[0m\u001b[0;34m\u001b[0m\u001b[0m\n",
      "\u001b[0;32m~/opt/anaconda3/lib/python3.7/site-packages/cirq/ops/pauli_gates.py\u001b[0m in \u001b[0;36mon\u001b[0;34m(self, *qubits)\u001b[0m\n\u001b[1;32m     95\u001b[0m         \u001b[0;32mfrom\u001b[0m \u001b[0mcirq\u001b[0m\u001b[0;34m.\u001b[0m\u001b[0mops\u001b[0m\u001b[0;34m.\u001b[0m\u001b[0mpauli_string\u001b[0m \u001b[0;32mimport\u001b[0m \u001b[0mSingleQubitPauliStringGateOperation\u001b[0m\u001b[0;34m\u001b[0m\u001b[0;34m\u001b[0m\u001b[0m\n\u001b[1;32m     96\u001b[0m \u001b[0;34m\u001b[0m\u001b[0m\n\u001b[0;32m---> 97\u001b[0;31m         \u001b[0;32mreturn\u001b[0m \u001b[0mSingleQubitPauliStringGateOperation\u001b[0m\u001b[0;34m(\u001b[0m\u001b[0mself\u001b[0m\u001b[0;34m,\u001b[0m \u001b[0mqubits\u001b[0m\u001b[0;34m[\u001b[0m\u001b[0;36m0\u001b[0m\u001b[0;34m]\u001b[0m\u001b[0;34m)\u001b[0m\u001b[0;34m\u001b[0m\u001b[0;34m\u001b[0m\u001b[0m\n\u001b[0m\u001b[1;32m     98\u001b[0m \u001b[0;34m\u001b[0m\u001b[0m\n\u001b[1;32m     99\u001b[0m     \u001b[0;34m@\u001b[0m\u001b[0mproperty\u001b[0m\u001b[0;34m\u001b[0m\u001b[0;34m\u001b[0m\u001b[0m\n",
      "\u001b[0;32m~/opt/anaconda3/lib/python3.7/site-packages/cirq/ops/pauli_string.py\u001b[0m in \u001b[0;36m__init__\u001b[0;34m(self, pauli, qubit)\u001b[0m\n\u001b[1;32m   1068\u001b[0m     \u001b[0;32mdef\u001b[0m \u001b[0m__init__\u001b[0m\u001b[0;34m(\u001b[0m\u001b[0mself\u001b[0m\u001b[0;34m,\u001b[0m \u001b[0mpauli\u001b[0m\u001b[0;34m:\u001b[0m \u001b[0mpauli_gates\u001b[0m\u001b[0;34m.\u001b[0m\u001b[0mPauli\u001b[0m\u001b[0;34m,\u001b[0m \u001b[0mqubit\u001b[0m\u001b[0;34m:\u001b[0m \u001b[0;34m'cirq.Qid'\u001b[0m\u001b[0;34m)\u001b[0m\u001b[0;34m:\u001b[0m\u001b[0;34m\u001b[0m\u001b[0;34m\u001b[0m\u001b[0m\n\u001b[1;32m   1069\u001b[0m         \u001b[0mPauliString\u001b[0m\u001b[0;34m.\u001b[0m\u001b[0m__init__\u001b[0m\u001b[0;34m(\u001b[0m\u001b[0mself\u001b[0m\u001b[0;34m,\u001b[0m \u001b[0mqubit_pauli_map\u001b[0m\u001b[0;34m=\u001b[0m\u001b[0;34m{\u001b[0m\u001b[0mqubit\u001b[0m\u001b[0;34m:\u001b[0m \u001b[0mpauli\u001b[0m\u001b[0;34m}\u001b[0m\u001b[0;34m)\u001b[0m\u001b[0;34m\u001b[0m\u001b[0;34m\u001b[0m\u001b[0m\n\u001b[0;32m-> 1070\u001b[0;31m         \u001b[0mgate_operation\u001b[0m\u001b[0;34m.\u001b[0m\u001b[0mGateOperation\u001b[0m\u001b[0;34m.\u001b[0m\u001b[0m__init__\u001b[0m\u001b[0;34m(\u001b[0m\u001b[0mself\u001b[0m\u001b[0;34m,\u001b[0m \u001b[0mcast\u001b[0m\u001b[0;34m(\u001b[0m\u001b[0mraw_types\u001b[0m\u001b[0;34m.\u001b[0m\u001b[0mGate\u001b[0m\u001b[0;34m,\u001b[0m \u001b[0mpauli\u001b[0m\u001b[0;34m)\u001b[0m\u001b[0;34m,\u001b[0m \u001b[0;34m[\u001b[0m\u001b[0mqubit\u001b[0m\u001b[0;34m]\u001b[0m\u001b[0;34m)\u001b[0m\u001b[0;34m\u001b[0m\u001b[0;34m\u001b[0m\u001b[0m\n\u001b[0m\u001b[1;32m   1071\u001b[0m \u001b[0;34m\u001b[0m\u001b[0m\n\u001b[1;32m   1072\u001b[0m     \u001b[0;32mdef\u001b[0m \u001b[0mwith_qubits\u001b[0m\u001b[0;34m(\u001b[0m\u001b[0mself\u001b[0m\u001b[0;34m,\u001b[0m \u001b[0;34m*\u001b[0m\u001b[0mnew_qubits\u001b[0m\u001b[0;34m:\u001b[0m \u001b[0;34m'cirq.Qid'\u001b[0m\u001b[0;34m)\u001b[0m \u001b[0;34m->\u001b[0m \u001b[0;34m'SingleQubitPauliStringGateOperation'\u001b[0m\u001b[0;34m:\u001b[0m\u001b[0;34m\u001b[0m\u001b[0;34m\u001b[0m\u001b[0m\n",
      "\u001b[0;32m~/opt/anaconda3/lib/python3.7/site-packages/cirq/ops/gate_operation.py\u001b[0m in \u001b[0;36m__init__\u001b[0;34m(self, gate, qubits)\u001b[0m\n\u001b[1;32m     58\u001b[0m             \u001b[0mqubits\u001b[0m\u001b[0;34m:\u001b[0m \u001b[0mThe\u001b[0m \u001b[0mqubits\u001b[0m \u001b[0mto\u001b[0m \u001b[0moperate\u001b[0m \u001b[0mon\u001b[0m\u001b[0;34m.\u001b[0m\u001b[0;34m\u001b[0m\u001b[0;34m\u001b[0m\u001b[0m\n\u001b[1;32m     59\u001b[0m         \"\"\"\n\u001b[0;32m---> 60\u001b[0;31m         \u001b[0mgate\u001b[0m\u001b[0;34m.\u001b[0m\u001b[0mvalidate_args\u001b[0m\u001b[0;34m(\u001b[0m\u001b[0mqubits\u001b[0m\u001b[0;34m)\u001b[0m\u001b[0;34m\u001b[0m\u001b[0;34m\u001b[0m\u001b[0m\n\u001b[0m\u001b[1;32m     61\u001b[0m         \u001b[0mself\u001b[0m\u001b[0;34m.\u001b[0m\u001b[0m_gate\u001b[0m \u001b[0;34m=\u001b[0m \u001b[0mgate\u001b[0m\u001b[0;34m\u001b[0m\u001b[0;34m\u001b[0m\u001b[0m\n\u001b[1;32m     62\u001b[0m         \u001b[0mself\u001b[0m\u001b[0;34m.\u001b[0m\u001b[0m_qubits\u001b[0m \u001b[0;34m=\u001b[0m \u001b[0mtuple\u001b[0m\u001b[0;34m(\u001b[0m\u001b[0mqubits\u001b[0m\u001b[0;34m)\u001b[0m\u001b[0;34m\u001b[0m\u001b[0;34m\u001b[0m\u001b[0m\n",
      "\u001b[0;32m~/opt/anaconda3/lib/python3.7/site-packages/cirq/ops/raw_types.py\u001b[0m in \u001b[0;36mvalidate_args\u001b[0;34m(self, qubits)\u001b[0m\n\u001b[1;32m    200\u001b[0m             \u001b[0mValueError\u001b[0m\u001b[0;34m:\u001b[0m \u001b[0mThe\u001b[0m \u001b[0mgate\u001b[0m \u001b[0mcan\u001b[0m\u001b[0;31m'\u001b[0m\u001b[0mt\u001b[0m \u001b[0mbe\u001b[0m \u001b[0mapplied\u001b[0m \u001b[0mto\u001b[0m \u001b[0mthe\u001b[0m \u001b[0mqubits\u001b[0m\u001b[0;34m.\u001b[0m\u001b[0;34m\u001b[0m\u001b[0;34m\u001b[0m\u001b[0m\n\u001b[1;32m    201\u001b[0m         \"\"\"\n\u001b[0;32m--> 202\u001b[0;31m         \u001b[0m_validate_qid_shape\u001b[0m\u001b[0;34m(\u001b[0m\u001b[0mself\u001b[0m\u001b[0;34m,\u001b[0m \u001b[0mqubits\u001b[0m\u001b[0;34m)\u001b[0m\u001b[0;34m\u001b[0m\u001b[0;34m\u001b[0m\u001b[0m\n\u001b[0m\u001b[1;32m    203\u001b[0m \u001b[0;34m\u001b[0m\u001b[0m\n\u001b[1;32m    204\u001b[0m     \u001b[0;32mdef\u001b[0m \u001b[0mon\u001b[0m\u001b[0;34m(\u001b[0m\u001b[0mself\u001b[0m\u001b[0;34m,\u001b[0m \u001b[0;34m*\u001b[0m\u001b[0mqubits\u001b[0m\u001b[0;34m:\u001b[0m \u001b[0mQid\u001b[0m\u001b[0;34m)\u001b[0m \u001b[0;34m->\u001b[0m \u001b[0;34m'Operation'\u001b[0m\u001b[0;34m:\u001b[0m\u001b[0;34m\u001b[0m\u001b[0;34m\u001b[0m\u001b[0m\n",
      "\u001b[0;32m~/opt/anaconda3/lib/python3.7/site-packages/cirq/ops/raw_types.py\u001b[0m in \u001b[0;36m_validate_qid_shape\u001b[0;34m(val, qubits)\u001b[0m\n\u001b[1;32m    788\u001b[0m             \u001b[0;34m'Expected {} qubits but got <{!r}>.'\u001b[0m\u001b[0;34m.\u001b[0m\u001b[0mformat\u001b[0m\u001b[0;34m(\u001b[0m\u001b[0mval\u001b[0m\u001b[0;34m,\u001b[0m \u001b[0mlen\u001b[0m\u001b[0;34m(\u001b[0m\u001b[0mqid_shape\u001b[0m\u001b[0;34m)\u001b[0m\u001b[0;34m,\u001b[0m \u001b[0mqubits\u001b[0m\u001b[0;34m)\u001b[0m\u001b[0;34m\u001b[0m\u001b[0;34m\u001b[0m\u001b[0m\n\u001b[1;32m    789\u001b[0m         )\n\u001b[0;32m--> 790\u001b[0;31m     \u001b[0;32mif\u001b[0m \u001b[0many\u001b[0m\u001b[0;34m(\u001b[0m\u001b[0mqid\u001b[0m\u001b[0;34m.\u001b[0m\u001b[0mdimension\u001b[0m \u001b[0;34m!=\u001b[0m \u001b[0mdimension\u001b[0m \u001b[0;32mfor\u001b[0m \u001b[0mqid\u001b[0m\u001b[0;34m,\u001b[0m \u001b[0mdimension\u001b[0m \u001b[0;32min\u001b[0m \u001b[0mzip\u001b[0m\u001b[0;34m(\u001b[0m\u001b[0mqubits\u001b[0m\u001b[0;34m,\u001b[0m \u001b[0mqid_shape\u001b[0m\u001b[0;34m)\u001b[0m\u001b[0;34m)\u001b[0m\u001b[0;34m:\u001b[0m\u001b[0;34m\u001b[0m\u001b[0;34m\u001b[0m\u001b[0m\n\u001b[0m\u001b[1;32m    791\u001b[0m         raise ValueError(\n\u001b[1;32m    792\u001b[0m             \u001b[0;34m'Wrong shape of qids for <{!r}>. '\u001b[0m\u001b[0;34m\u001b[0m\u001b[0;34m\u001b[0m\u001b[0m\n",
      "\u001b[0;32m~/opt/anaconda3/lib/python3.7/site-packages/cirq/ops/raw_types.py\u001b[0m in \u001b[0;36m<genexpr>\u001b[0;34m(.0)\u001b[0m\n\u001b[1;32m    788\u001b[0m             \u001b[0;34m'Expected {} qubits but got <{!r}>.'\u001b[0m\u001b[0;34m.\u001b[0m\u001b[0mformat\u001b[0m\u001b[0;34m(\u001b[0m\u001b[0mval\u001b[0m\u001b[0;34m,\u001b[0m \u001b[0mlen\u001b[0m\u001b[0;34m(\u001b[0m\u001b[0mqid_shape\u001b[0m\u001b[0;34m)\u001b[0m\u001b[0;34m,\u001b[0m \u001b[0mqubits\u001b[0m\u001b[0;34m)\u001b[0m\u001b[0;34m\u001b[0m\u001b[0;34m\u001b[0m\u001b[0m\n\u001b[1;32m    789\u001b[0m         )\n\u001b[0;32m--> 790\u001b[0;31m     \u001b[0;32mif\u001b[0m \u001b[0many\u001b[0m\u001b[0;34m(\u001b[0m\u001b[0mqid\u001b[0m\u001b[0;34m.\u001b[0m\u001b[0mdimension\u001b[0m \u001b[0;34m!=\u001b[0m \u001b[0mdimension\u001b[0m \u001b[0;32mfor\u001b[0m \u001b[0mqid\u001b[0m\u001b[0;34m,\u001b[0m \u001b[0mdimension\u001b[0m \u001b[0;32min\u001b[0m \u001b[0mzip\u001b[0m\u001b[0;34m(\u001b[0m\u001b[0mqubits\u001b[0m\u001b[0;34m,\u001b[0m \u001b[0mqid_shape\u001b[0m\u001b[0;34m)\u001b[0m\u001b[0;34m)\u001b[0m\u001b[0;34m:\u001b[0m\u001b[0;34m\u001b[0m\u001b[0;34m\u001b[0m\u001b[0m\n\u001b[0m\u001b[1;32m    791\u001b[0m         raise ValueError(\n\u001b[1;32m    792\u001b[0m             \u001b[0;34m'Wrong shape of qids for <{!r}>. '\u001b[0m\u001b[0;34m\u001b[0m\u001b[0;34m\u001b[0m\u001b[0m\n",
      "\u001b[0;31mAttributeError\u001b[0m: 'int' object has no attribute 'dimension'"
     ]
    }
   ],
   "source": [
    "circ.append(X(0))"
   ]
  },
  {
   "cell_type": "code",
   "execution_count": null,
   "metadata": {},
   "outputs": [],
   "source": []
  }
 ],
 "metadata": {
  "kernelspec": {
   "display_name": "Python 3",
   "language": "python",
   "name": "python3"
  },
  "language_info": {
   "codemirror_mode": {
    "name": "ipython",
    "version": 3
   },
   "file_extension": ".py",
   "mimetype": "text/x-python",
   "name": "python",
   "nbconvert_exporter": "python",
   "pygments_lexer": "ipython3",
   "version": "3.7.6"
  }
 },
 "nbformat": 4,
 "nbformat_minor": 4
}
