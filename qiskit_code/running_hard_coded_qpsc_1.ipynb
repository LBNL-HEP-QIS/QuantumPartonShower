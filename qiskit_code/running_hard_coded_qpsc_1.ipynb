{
 "cells": [
  {
   "cell_type": "markdown",
   "id": "speaking-memory",
   "metadata": {},
   "source": [
    "# This notebook shows how to run the hard-coded 2-step QPS circuits, from QuantumPartonShower_ReM_2step_hardcode.py"
   ]
  },
  {
   "cell_type": "markdown",
   "id": "thick-output",
   "metadata": {},
   "source": [
    "## Imports"
   ]
  },
  {
   "cell_type": "code",
   "execution_count": 1,
   "id": "assumed-cambridge",
   "metadata": {},
   "outputs": [],
   "source": [
    "%load_ext autoreload\n",
    "%autoreload 2"
   ]
  },
  {
   "cell_type": "code",
   "execution_count": 2,
   "id": "commercial-bidding",
   "metadata": {},
   "outputs": [
    {
     "name": "stdout",
     "output_type": "stream",
     "text": [
      "Number of emissions: 1\n",
      "log(theta_max): -5.180816459236603\n",
      "Number of emissions: 1\n",
      "log(theta_max): -1.7269388197455342\n",
      "Number of emissions: 2\n",
      "log(theta_max): -1.7269388197455342\n",
      "Number of emissions: 1\n",
      "log(theta_max): -3.4538776394910684\n"
     ]
    }
   ],
   "source": [
    "import numpy as np\n",
    "from qiskit import QuantumCircuit, QuantumRegister, ClassicalRegister, execute, Aer, compiler, circuit, compiler\n",
    "import math\n",
    "import time\n",
    "import matplotlib.pyplot as plt\n",
    "\n",
    "import sys\n",
    "sys.path.append('../')\n",
    "sys.path.append('../qiskit_legacy')\n",
    "sys.path.append('../qiskit_code')\n",
    "\n",
    "import QuantumPartonShower as qps\n",
    "import QuantumPartonShower_ReM as qpsc\n",
    "import plotting as pl\n",
    "import matplotlib\n",
    "\n",
    "from PaperPlots import MakeObservables as mo"
   ]
  },
  {
   "cell_type": "code",
   "execution_count": 3,
   "id": "declared-minnesota",
   "metadata": {},
   "outputs": [],
   "source": [
    "import QuantumPartonShower_ReM_2step_hardcode as qps_rhs"
   ]
  },
  {
   "cell_type": "markdown",
   "id": "opening-first",
   "metadata": {},
   "source": [
    "## Define parameters"
   ]
  },
  {
   "cell_type": "code",
   "execution_count": 4,
   "id": "infinite-amino",
   "metadata": {},
   "outputs": [],
   "source": [
    "eps= 0.001\n",
    "g_1= 2\n",
    "g_2= 1\n",
    "initialParticles= ['100'] # f1\n",
    "\n",
    "shots= 10000\n",
    "N= 1"
   ]
  },
  {
   "cell_type": "markdown",
   "id": "polyphonic-string",
   "metadata": {},
   "source": [
    "## Create circuits"
   ]
  },
  {
   "cell_type": "code",
   "execution_count": 5,
   "id": "assumed-teens",
   "metadata": {},
   "outputs": [
    {
     "ename": "CircuitError",
     "evalue": "\"Register size must be positive (int '0' was provided)\"",
     "output_type": "error",
     "traceback": [
      "\u001b[0;31m---------------------------------------------------------------------------\u001b[0m",
      "\u001b[0;31mCircuitError\u001b[0m                              Traceback (most recent call last)",
      "Cell \u001b[0;32mIn [5], line 1\u001b[0m\n\u001b[0;32m----> 1\u001b[0m qps0\u001b[38;5;241m=\u001b[39m \u001b[43mqpsc\u001b[49m\u001b[38;5;241;43m.\u001b[39;49m\u001b[43mQuantumPartonShower\u001b[49m\u001b[43m(\u001b[49m\u001b[43mN\u001b[49m\u001b[43m,\u001b[49m\u001b[43m \u001b[49m\u001b[38;5;241;43m1\u001b[39;49m\u001b[43m)\u001b[49m \u001b[38;5;66;03m# for g12= 0\u001b[39;00m\n\u001b[1;32m      2\u001b[0m qps1\u001b[38;5;241m=\u001b[39m qpsc\u001b[38;5;241m.\u001b[39mQuantumPartonShower(N, \u001b[38;5;241m1\u001b[39m) \u001b[38;5;66;03m# for g12= 1\u001b[39;00m\n\u001b[1;32m      4\u001b[0m qc0, qubits0\u001b[38;5;241m=\u001b[39m qps0\u001b[38;5;241m.\u001b[39mcreateCircuit(eps, g_1, g_2, \u001b[38;5;241m0\u001b[39m, initialParticles)\n",
      "File \u001b[0;32m~/test/QuantumPartonShower/qiskit_code/QuantumPartonShower_ReM.py:36\u001b[0m, in \u001b[0;36mQuantumPartonShower.__init__\u001b[0;34m(self, N, ni)\u001b[0m\n\u001b[1;32m     33\u001b[0m \u001b[38;5;28mself\u001b[39m\u001b[38;5;241m.\u001b[39m_wa_len \u001b[38;5;241m=\u001b[39m \u001b[38;5;28mself\u001b[39m\u001b[38;5;241m.\u001b[39m_L \u001b[38;5;241m-\u001b[39m \u001b[38;5;241m1\u001b[39m\n\u001b[1;32m     35\u001b[0m \u001b[38;5;66;03m#defining the registers\u001b[39;00m\n\u001b[0;32m---> 36\u001b[0m \u001b[38;5;28mself\u001b[39m\u001b[38;5;241m.\u001b[39mpReg, \u001b[38;5;28mself\u001b[39m\u001b[38;5;241m.\u001b[39mhReg, \u001b[38;5;28mself\u001b[39m\u001b[38;5;241m.\u001b[39mw_hReg, \u001b[38;5;28mself\u001b[39m\u001b[38;5;241m.\u001b[39meReg, \u001b[38;5;28mself\u001b[39m\u001b[38;5;241m.\u001b[39mwReg, \u001b[38;5;28mself\u001b[39m\u001b[38;5;241m.\u001b[39mn_aReg, \u001b[38;5;28mself\u001b[39m\u001b[38;5;241m.\u001b[39mw_aReg\u001b[38;5;241m=\u001b[39m \u001b[38;5;28;43mself\u001b[39;49m\u001b[38;5;241;43m.\u001b[39;49m\u001b[43mallocateQubits\u001b[49m\u001b[43m(\u001b[49m\u001b[43m)\u001b[49m\n\u001b[1;32m     38\u001b[0m \u001b[38;5;28mself\u001b[39m\u001b[38;5;241m.\u001b[39m_circuit \u001b[38;5;241m=\u001b[39m QuantumCircuit(\u001b[38;5;28mself\u001b[39m\u001b[38;5;241m.\u001b[39mwReg, \u001b[38;5;28mself\u001b[39m\u001b[38;5;241m.\u001b[39mpReg, \u001b[38;5;28mself\u001b[39m\u001b[38;5;241m.\u001b[39mhReg, \u001b[38;5;28mself\u001b[39m\u001b[38;5;241m.\u001b[39meReg, \u001b[38;5;28mself\u001b[39m\u001b[38;5;241m.\u001b[39mn_aReg,\n\u001b[1;32m     39\u001b[0m                                \u001b[38;5;28mself\u001b[39m\u001b[38;5;241m.\u001b[39mw_hReg, \u001b[38;5;28mself\u001b[39m\u001b[38;5;241m.\u001b[39mw_aReg)\n",
      "File \u001b[0;32m~/test/QuantumPartonShower/qiskit_code/QuantumPartonShower_ReM.py:127\u001b[0m, in \u001b[0;36mQuantumPartonShower.allocateQubits\u001b[0;34m(self)\u001b[0m\n\u001b[1;32m    125\u001b[0m hReg \u001b[38;5;241m=\u001b[39m QuantumRegister(\u001b[38;5;28mself\u001b[39m\u001b[38;5;241m.\u001b[39m_L, \u001b[38;5;124m'\u001b[39m\u001b[38;5;124mh\u001b[39m\u001b[38;5;124m'\u001b[39m)\n\u001b[1;32m    126\u001b[0m \u001b[38;5;66;03m#w_hReg = QuantumRegister(self._L, 'w_h')\u001b[39;00m\n\u001b[0;32m--> 127\u001b[0m w_hReg \u001b[38;5;241m=\u001b[39m \u001b[43mQuantumRegister\u001b[49m\u001b[43m(\u001b[49m\u001b[38;5;28;43mself\u001b[39;49m\u001b[38;5;241;43m.\u001b[39;49m\u001b[43m_L\u001b[49m\u001b[43m \u001b[49m\u001b[38;5;241;43m-\u001b[39;49m\u001b[43m \u001b[49m\u001b[38;5;241;43m1\u001b[39;49m\u001b[43m,\u001b[49m\u001b[43m \u001b[49m\u001b[38;5;124;43m'\u001b[39;49m\u001b[38;5;124;43mw_h\u001b[39;49m\u001b[38;5;124;43m'\u001b[39;49m\u001b[43m)\u001b[49m\n\u001b[1;32m    129\u001b[0m eReg \u001b[38;5;241m=\u001b[39m QuantumRegister(\u001b[38;5;241m1\u001b[39m, \u001b[38;5;124m'\u001b[39m\u001b[38;5;124me\u001b[39m\u001b[38;5;124m'\u001b[39m)\n\u001b[1;32m    130\u001b[0m wReg \u001b[38;5;241m=\u001b[39m QuantumRegister(\u001b[38;5;241m3\u001b[39m, \u001b[38;5;124m'\u001b[39m\u001b[38;5;124mw\u001b[39m\u001b[38;5;124m'\u001b[39m)  \u001b[38;5;66;03m# we use all 5 of these work register qubits, but not sure why it is 5\u001b[39;00m\n",
      "File \u001b[0;32m/usr/local/lib/python3.8/dist-packages/qiskit/circuit/register.py:86\u001b[0m, in \u001b[0;36mRegister.__init__\u001b[0;34m(self, size, name, bits)\u001b[0m\n\u001b[1;32m     83\u001b[0m size \u001b[38;5;241m=\u001b[39m \u001b[38;5;28mint\u001b[39m(size)  \u001b[38;5;66;03m# cast to int\u001b[39;00m\n\u001b[1;32m     85\u001b[0m \u001b[38;5;28;01mif\u001b[39;00m size \u001b[38;5;241m<\u001b[39m\u001b[38;5;241m=\u001b[39m \u001b[38;5;241m0\u001b[39m:\n\u001b[0;32m---> 86\u001b[0m     \u001b[38;5;28;01mraise\u001b[39;00m CircuitError(\n\u001b[1;32m     87\u001b[0m         \u001b[38;5;124m\"\u001b[39m\u001b[38;5;124mRegister size must be positive (\u001b[39m\u001b[38;5;132;01m%s\u001b[39;00m\u001b[38;5;124m \u001b[39m\u001b[38;5;124m'\u001b[39m\u001b[38;5;132;01m%s\u001b[39;00m\u001b[38;5;124m'\u001b[39m\u001b[38;5;124m was provided)\u001b[39m\u001b[38;5;124m\"\u001b[39m\n\u001b[1;32m     88\u001b[0m         \u001b[38;5;241m%\u001b[39m (\u001b[38;5;28mtype\u001b[39m(size)\u001b[38;5;241m.\u001b[39m\u001b[38;5;18m__name__\u001b[39m, size)\n\u001b[1;32m     89\u001b[0m     )\n\u001b[1;32m     91\u001b[0m \u001b[38;5;66;03m# validate (or cast) name\u001b[39;00m\n\u001b[1;32m     92\u001b[0m \u001b[38;5;28;01mif\u001b[39;00m name \u001b[38;5;129;01mis\u001b[39;00m \u001b[38;5;28;01mNone\u001b[39;00m:\n",
      "\u001b[0;31mCircuitError\u001b[0m: \"Register size must be positive (int '0' was provided)\""
     ]
    }
   ],
   "source": [
    "qps0= qpsc.QuantumPartonShower(N, 1) # for g12= 0\n",
    "qps1= qpsc.QuantumPartonShower(N, 1) # for g12= 1\n",
    "\n",
    "qc0, qubits0= qps0.createCircuit(eps, g_1, g_2, 0, initialParticles)\n",
    "qc1, qubits1= qps1.createCircuit(eps, g_1, g_2, 1, initialParticles)"
   ]
  },
  {
   "cell_type": "markdown",
   "id": "appropriate-supplement",
   "metadata": {},
   "source": [
    "## Simulate circuits and store results"
   ]
  },
  {
   "cell_type": "code",
   "execution_count": null,
   "id": "literary-encounter",
   "metadata": {},
   "outputs": [],
   "source": [
    "print('Qubits: ' + str(qc0.num_qubits))\n",
    "print('Gates: ' + str(qc0.count_ops()))\n",
    "\n",
    "t1= time.time()\n",
    "counts0= qps0.simulate('qasm', shots=shots)\n",
    "t2= time.time()\n",
    "counts1= qps1.simulate('qasm', shots=shots)\n",
    "t3= time.time()\n",
    "\n",
    "print('\\nTime to simulate withg g12= 0: ' + str(t2-t1))\n",
    "print('Time to simulate withg g12= 1: ' + str(t3-t2))"
   ]
  },
  {
   "cell_type": "markdown",
   "id": "straight-helmet",
   "metadata": {},
   "source": [
    "## Some diagnostic plots"
   ]
  },
  {
   "cell_type": "code",
   "execution_count": null,
   "id": "behavioral-division",
   "metadata": {},
   "outputs": [],
   "source": [
    "# Note: make sure the first counts parameters is g12=1, and the optional counts2 parameter is g12=0.\n",
    "\n",
    "# # Plot the final particle configuration\n",
    "# pl.bar_plot2(counts1, shots, eps, g_1, g_2, counts2= counts0, save=False, wReg=False)\n",
    "\n",
    "# # Plot the number of emissions \n",
    "# pl.bar_plot_emissions(counts1, shots, eps, g_1, g_2, N, 1, counts2= counts0, save=False, wReg=False)"
   ]
  },
  {
   "cell_type": "markdown",
   "id": "ordered-terrain",
   "metadata": {},
   "source": [
    "## Draw the circuit"
   ]
  },
  {
   "cell_type": "code",
   "execution_count": null,
   "id": "pediatric-candle",
   "metadata": {},
   "outputs": [],
   "source": [
    "qc0.draw('mpl', fold = 200)"
   ]
  },
  {
   "cell_type": "code",
   "execution_count": null,
   "id": "exempt-luxembourg",
   "metadata": {},
   "outputs": [],
   "source": []
  },
  {
   "cell_type": "code",
   "execution_count": null,
   "id": "4da90eca-905c-49cc-807f-897b1b1cb026",
   "metadata": {},
   "outputs": [],
   "source": []
  },
  {
   "cell_type": "code",
   "execution_count": null,
   "id": "c0ecccd0-2e34-445c-96d2-dae2f0ee644a",
   "metadata": {},
   "outputs": [],
   "source": []
  },
  {
   "cell_type": "code",
   "execution_count": null,
   "id": "8209efb2-3d25-4fb9-9619-af18acdc7b1f",
   "metadata": {},
   "outputs": [],
   "source": []
  },
  {
   "cell_type": "code",
   "execution_count": null,
   "id": "43d29987-1132-43ff-8d8d-d69f6a24fded",
   "metadata": {},
   "outputs": [],
   "source": []
  }
 ],
 "metadata": {
  "kernelspec": {
   "display_name": "Python 3 (ipykernel)",
   "language": "python",
   "name": "python3"
  },
  "language_info": {
   "codemirror_mode": {
    "name": "ipython",
    "version": 3
   },
   "file_extension": ".py",
   "mimetype": "text/x-python",
   "name": "python",
   "nbconvert_exporter": "python",
   "pygments_lexer": "ipython3",
   "version": "3.8.10"
  }
 },
 "nbformat": 4,
 "nbformat_minor": 5
}
