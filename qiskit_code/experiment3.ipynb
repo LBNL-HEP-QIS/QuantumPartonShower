{
 "cells": [
  {
   "cell_type": "code",
   "execution_count": 7,
   "id": "b84b27dd-b629-4f57-8921-0c8017e52d1d",
   "metadata": {},
   "outputs": [
    {
     "name": "stdout",
     "output_type": "stream",
     "text": [
      "The depth of H gate on qubit 0 is 6\n",
      "The depth of H gate on qubit 0 is 8\n",
      "The depth of H gate on qubit 0 is 7\n",
      "The depth of H gate on qubit 0 is 9\n"
     ]
    }
   ],
   "source": [
    "from qiskit import QuantumCircuit, QuantumRegister\n",
    "from qiskit.converters import circuit_to_dag\n",
    "from qiskit.circuit.library import HGate\n",
    "\n",
    "# 1-qubit QuantumCircuitを作成します\n",
    "qc = QuantumCircuit(3)\n",
    "\n",
    "# いくつかのゲートを追加します\n",
    "qc.h(0)\n",
    "qc.h(1)\n",
    "qc.h(0)\n",
    "qc.cx(0,1)\n",
    "\n",
    "# DAGへ変換します\n",
    "dag = circuit_to_dag(qc)\n",
    "\n",
    "# DAGの各ノードを調べます\n",
    "for node in dag.topological_op_nodes():\n",
    "    print(f\"The depth of H gate on qubit 0 is {node._node_id}\")\n"
   ]
  },
  {
   "cell_type": "code",
   "execution_count": 8,
   "id": "4ffd4c21-b9f7-45ad-a86f-3ec54bf07880",
   "metadata": {},
   "outputs": [
    {
     "data": {
      "image/png": "[encoded data removed]",
      "text/plain": [
       "<Figure size 371.107x284.278 with 1 Axes>"
      ]
     },
     "execution_count": 8,
     "metadata": {},
     "output_type": "execute_result"
    }
   ],
   "source": [
    "qc.draw('mpl')"
   ]
  },
  {
   "cell_type": "code",
   "execution_count": 9,
   "id": "35de066b-c298-4874-918e-cfe6bf3304a5",
   "metadata": {},
   "outputs": [
    {
     "ename": "AttributeError",
     "evalue": "'DAGCircuit' object has no attribute 'depth_for_node'",
     "output_type": "error",
     "traceback": [
      "\u001b[0;31m---------------------------------------------------------------------------\u001b[0m",
      "\u001b[0;31mAttributeError\u001b[0m                            Traceback (most recent call last)",
      "Cell \u001b[0;32mIn [9], line 21\u001b[0m\n\u001b[1;32m     19\u001b[0m \u001b[38;5;28;01mfor\u001b[39;00m node \u001b[38;5;129;01min\u001b[39;00m dag\u001b[38;5;241m.\u001b[39mtopological_op_nodes():\n\u001b[1;32m     20\u001b[0m     \u001b[38;5;28;01mif\u001b[39;00m \u001b[38;5;28misinstance\u001b[39m(node\u001b[38;5;241m.\u001b[39mop, (HGate, CXGate)):\n\u001b[0;32m---> 21\u001b[0m         gate_depths[node\u001b[38;5;241m.\u001b[39mname \u001b[38;5;241m+\u001b[39m \u001b[38;5;28mstr\u001b[39m(node\u001b[38;5;241m.\u001b[39m_node_id)] \u001b[38;5;241m=\u001b[39m \u001b[43mdag\u001b[49m\u001b[38;5;241;43m.\u001b[39;49m\u001b[43mdepth_for_node\u001b[49m(node)\n\u001b[1;32m     23\u001b[0m \u001b[38;5;66;03m# ゲートの深さを出力します\u001b[39;00m\n\u001b[1;32m     24\u001b[0m \u001b[38;5;28;01mfor\u001b[39;00m gate, depth \u001b[38;5;129;01min\u001b[39;00m gate_depths\u001b[38;5;241m.\u001b[39mitems():\n",
      "\u001b[0;31mAttributeError\u001b[0m: 'DAGCircuit' object has no attribute 'depth_for_node'"
     ]
    }
   ],
   "source": [
    "from qiskit import QuantumCircuit\n",
    "from qiskit.converters import circuit_to_dag\n",
    "from qiskit.circuit.library import HGate, CXGate\n",
    "\n",
    "# 2-qubit QuantumCircuitを作成します\n",
    "qc = QuantumCircuit(2)\n",
    "\n",
    "# ゲートを追加します\n",
    "qc.h(0)\n",
    "qc.h(1)\n",
    "qc.h(0)\n",
    "qc.cx(0,1)\n",
    "\n",
    "# DAGへ変換します\n",
    "dag = circuit_to_dag(qc)\n",
    "\n",
    "# DAGの各ノードを調べます\n",
    "gate_depths = {}\n",
    "for node in dag.topological_op_nodes():\n",
    "    if isinstance(node.op, (HGate, CXGate)):\n",
    "        gate_depths[node.name + str(node._node_id)] = dag.depth_for_node(node)\n",
    "\n",
    "# ゲートの深さを出力します\n",
    "for gate, depth in gate_depths.items():\n",
    "    print(f\"The depth of {gate} is {depth}\")\n"
   ]
  },
  {
   "cell_type": "code",
   "execution_count": 20,
   "id": "3be3bba0-3aa7-410b-944d-0f193a66edaa",
   "metadata": {},
   "outputs": [
    {
     "name": "stdout",
     "output_type": "stream",
     "text": [
      "The depth of h_4 is 3\n",
      "The depth of cx_4 is 5\n"
     ]
    }
   ],
   "source": [
    "from qiskit import QuantumCircuit\n",
    "from qiskit.converters import circuit_to_dag\n",
    "from qiskit.circuit.library import HGate, CXGate\n",
    "\n",
    "# 2-qubit QuantumCircuitを作成します\n",
    "qc = QuantumCircuit(2)\n",
    "\n",
    "# ゲートを追加します\n",
    "qc.h(0)\n",
    "qc.h(1)\n",
    "qc.cx(1,0)\n",
    "qc.x(1)\n",
    "qc.h(0)\n",
    "qc.cx(0,1)\n",
    "\n",
    "# DAGへ変換します\n",
    "dag = circuit_to_dag(qc)\n",
    "\n",
    "# 各レイヤー（深さ）でのゲートの名前を取得します\n",
    "layers = dag.serial_layers()\n",
    "gate_depths = {}\n",
    "\n",
    "for depth, layer in enumerate(layers):\n",
    "    for node in layer['graph'].topological_op_nodes():\n",
    "        if isinstance(node.op, (HGate, CXGate)):\n",
    "            gate_depths[node.name + \"_\" + str(node._node_id)] = depth\n",
    "\n",
    "# ゲートの深さを出力します\n",
    "for gate, depth in gate_depths.items():\n",
    "    print(f\"The depth of {gate} is {depth}\")\n"
   ]
  },
  {
   "cell_type": "code",
   "execution_count": 13,
   "id": "d206c4b1-1a09-4d8b-973c-05ca15e006f5",
   "metadata": {},
   "outputs": [
    {
     "data": {
      "image/png": "[encoded data removed]",
      "text/plain": [
       "<Figure size 454.517x200.667 with 1 Axes>"
      ]
     },
     "execution_count": 13,
     "metadata": {},
     "output_type": "execute_result"
    }
   ],
   "source": [
    "qc.draw('mpl')"
   ]
  },
  {
   "cell_type": "code",
   "execution_count": 21,
   "id": "6a6fe304-e51d-485e-9890-b552ded7f695",
   "metadata": {},
   "outputs": [
    {
     "ename": "MissingOptionalLibraryError",
     "evalue": "\"The 'PyDot' library is required to use 'dag_drawer'. You can install it with 'pip install pydot'.\"",
     "output_type": "error",
     "traceback": [
      "\u001b[0;31m---------------------------------------------------------------------------\u001b[0m",
      "\u001b[0;31mModuleNotFoundError\u001b[0m                       Traceback (most recent call last)",
      "File \u001b[0;32m/usr/local/lib/python3.8/dist-packages/qiskit/visualization/dag_visualization.py:83\u001b[0m, in \u001b[0;36mdag_drawer\u001b[0;34m(dag, scale, filename, style)\u001b[0m\n\u001b[1;32m     82\u001b[0m \u001b[38;5;28;01mtry\u001b[39;00m:\n\u001b[0;32m---> 83\u001b[0m     \u001b[38;5;28;01mimport\u001b[39;00m \u001b[38;5;21;01mpydot\u001b[39;00m\n\u001b[1;32m     84\u001b[0m \u001b[38;5;28;01mexcept\u001b[39;00m \u001b[38;5;167;01mImportError\u001b[39;00m \u001b[38;5;28;01mas\u001b[39;00m ex:\n",
      "\u001b[0;31mModuleNotFoundError\u001b[0m: No module named 'pydot'",
      "\nThe above exception was the direct cause of the following exception:\n",
      "\u001b[0;31mMissingOptionalLibraryError\u001b[0m               Traceback (most recent call last)",
      "Cell \u001b[0;32mIn [21], line 19\u001b[0m\n\u001b[1;32m     16\u001b[0m dag \u001b[38;5;241m=\u001b[39m circuit_to_dag(qc)\n\u001b[1;32m     18\u001b[0m \u001b[38;5;66;03m# DAGを描画します\u001b[39;00m\n\u001b[0;32m---> 19\u001b[0m \u001b[43mdag_drawer\u001b[49m\u001b[43m(\u001b[49m\u001b[43mdag\u001b[49m\u001b[43m)\u001b[49m\n\u001b[1;32m     21\u001b[0m \u001b[38;5;66;03m# 各レイヤー（深さ）でのゲートの名前を取得します\u001b[39;00m\n\u001b[1;32m     22\u001b[0m layers \u001b[38;5;241m=\u001b[39m dag\u001b[38;5;241m.\u001b[39mserial_layers()\n",
      "File \u001b[0;32m/usr/local/lib/python3.8/dist-packages/qiskit/visualization/dag_visualization.py:85\u001b[0m, in \u001b[0;36mdag_drawer\u001b[0;34m(dag, scale, filename, style)\u001b[0m\n\u001b[1;32m     83\u001b[0m     \u001b[38;5;28;01mimport\u001b[39;00m \u001b[38;5;21;01mpydot\u001b[39;00m\n\u001b[1;32m     84\u001b[0m \u001b[38;5;28;01mexcept\u001b[39;00m \u001b[38;5;167;01mImportError\u001b[39;00m \u001b[38;5;28;01mas\u001b[39;00m ex:\n\u001b[0;32m---> 85\u001b[0m     \u001b[38;5;28;01mraise\u001b[39;00m MissingOptionalLibraryError(\n\u001b[1;32m     86\u001b[0m         libname\u001b[38;5;241m=\u001b[39m\u001b[38;5;124m\"\u001b[39m\u001b[38;5;124mPyDot\u001b[39m\u001b[38;5;124m\"\u001b[39m,\n\u001b[1;32m     87\u001b[0m         name\u001b[38;5;241m=\u001b[39m\u001b[38;5;124m\"\u001b[39m\u001b[38;5;124mdag_drawer\u001b[39m\u001b[38;5;124m\"\u001b[39m,\n\u001b[1;32m     88\u001b[0m         pip_install\u001b[38;5;241m=\u001b[39m\u001b[38;5;124m\"\u001b[39m\u001b[38;5;124mpip install pydot\u001b[39m\u001b[38;5;124m\"\u001b[39m,\n\u001b[1;32m     89\u001b[0m     ) \u001b[38;5;28;01mfrom\u001b[39;00m \u001b[38;5;21;01mex\u001b[39;00m\n\u001b[1;32m     90\u001b[0m \u001b[38;5;66;03m# NOTE: use type str checking to avoid potential cyclical import\u001b[39;00m\n\u001b[1;32m     91\u001b[0m \u001b[38;5;66;03m# the two tradeoffs ere that it will not handle subclasses and it is\u001b[39;00m\n\u001b[1;32m     92\u001b[0m \u001b[38;5;66;03m# slower (which doesn't matter for a visualization function)\u001b[39;00m\n\u001b[1;32m     93\u001b[0m type_str \u001b[38;5;241m=\u001b[39m \u001b[38;5;28mstr\u001b[39m(\u001b[38;5;28mtype\u001b[39m(dag))\n",
      "\u001b[0;31mMissingOptionalLibraryError\u001b[0m: \"The 'PyDot' library is required to use 'dag_drawer'. You can install it with 'pip install pydot'.\""
     ]
    }
   ],
   "source": [
    "from qiskit import QuantumCircuit\n",
    "from qiskit.converters import circuit_to_dag\n",
    "from qiskit.tools.visualization import dag_drawer\n",
    "from qiskit.dagcircuit import DAGCircuit\n",
    "\n",
    "# 2-qubit QuantumCircuitを作成します\n",
    "qc = QuantumCircuit(2)\n",
    "\n",
    "# ゲートを追加します\n",
    "qc.h(0)\n",
    "qc.h(1)\n",
    "qc.h(0)\n",
    "qc.cx(0,1)\n",
    "\n",
    "# DAGへ変換します\n",
    "dag = circuit_to_dag(qc)\n",
    "\n",
    "# DAGを描画します\n",
    "dag_drawer(dag)\n",
    "\n",
    "# 各レイヤー（深さ）でのゲートの名前を取得します\n",
    "layers = dag.serial_layers()\n",
    "\n",
    "for depth, layer in enumerate(layers):\n",
    "    print(f\"Layer {depth}:\")\n",
    "    for node in layer['graph'].topological_op_nodes():\n",
    "        print(f\"  {node.op.name}\")\n"
   ]
  },
  {
   "cell_type": "code",
   "execution_count": null,
   "id": "f8e9f785-8fed-41fc-84fb-1627565d6039",
   "metadata": {},
   "outputs": [],
   "source": []
  }
 ],
 "metadata": {
  "kernelspec": {
   "display_name": "Python 3 (ipykernel)",
   "language": "python",
   "name": "python3"
  },
  "language_info": {
   "codemirror_mode": {
    "name": "ipython",
    "version": 3
   },
   "file_extension": ".py",
   "mimetype": "text/x-python",
   "name": "python",
   "nbconvert_exporter": "python",
   "pygments_lexer": "ipython3",
   "version": "3.8.10"
  }
 },
 "nbformat": 4,
 "nbformat_minor": 5
}
