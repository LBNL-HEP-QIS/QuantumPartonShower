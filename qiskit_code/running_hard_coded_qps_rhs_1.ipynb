{
 "cells": [
  {
   "cell_type": "markdown",
   "id": "speaking-memory",
   "metadata": {},
   "source": [
    "# This notebook shows how to run the hard-coded 2-step QPS circuits, from QuantumPartonShower_ReM_2step_hardcode.py"
   ]
  },
  {
   "cell_type": "markdown",
   "id": "thick-output",
   "metadata": {},
   "source": [
    "## Imports"
   ]
  },
  {
   "cell_type": "code",
   "execution_count": 1,
   "id": "assumed-cambridge",
   "metadata": {},
   "outputs": [],
   "source": [
    "%load_ext autoreload\n",
    "%autoreload 2"
   ]
  },
  {
   "cell_type": "code",
   "execution_count": 2,
   "id": "commercial-bidding",
   "metadata": {},
   "outputs": [
    {
     "name": "stdout",
     "output_type": "stream",
     "text": [
      "Number of emissions: 1\n",
      "log(theta_max): -5.180816459236603\n",
      "Number of emissions: 1\n",
      "log(theta_max): -1.7269388197455342\n",
      "Number of emissions: 2\n",
      "log(theta_max): -1.7269388197455342\n",
      "Number of emissions: 1\n",
      "log(theta_max): -3.4538776394910684\n"
     ]
    }
   ],
   "source": [
    "import numpy as np\n",
    "from qiskit import QuantumCircuit, QuantumRegister, ClassicalRegister, execute, Aer, compiler, circuit, compiler\n",
    "import math\n",
    "import time\n",
    "import matplotlib.pyplot as plt\n",
    "\n",
    "import sys\n",
    "sys.path.append('../')\n",
    "sys.path.append('../qiskit_legacy')\n",
    "sys.path.append('../qiskit_code')\n",
    "\n",
    "import QuantumPartonShower as qps\n",
    "import QuantumPartonShower_ReM as qpsc\n",
    "import plotting as pl\n",
    "import matplotlib\n",
    "\n",
    "from PaperPlots import MakeObservables as mo"
   ]
  },
  {
   "cell_type": "code",
   "execution_count": 3,
   "id": "declared-minnesota",
   "metadata": {},
   "outputs": [],
   "source": [
    "import QuantumPartonShower_ReM_2step_hardcode as qps_rhs"
   ]
  },
  {
   "cell_type": "markdown",
   "id": "opening-first",
   "metadata": {},
   "source": [
    "## Define parameters"
   ]
  },
  {
   "cell_type": "code",
   "execution_count": 4,
   "id": "infinite-amino",
   "metadata": {},
   "outputs": [],
   "source": [
    "eps= 0.001\n",
    "g_1= 2\n",
    "g_2= 1\n",
    "initialParticles= ['100'] # f1\n",
    "\n",
    "shots= 10000\n",
    "N= 1"
   ]
  },
  {
   "cell_type": "markdown",
   "id": "polyphonic-string",
   "metadata": {},
   "source": [
    "## Create circuits"
   ]
  },
  {
   "cell_type": "code",
   "execution_count": 5,
   "id": "assumed-teens",
   "metadata": {},
   "outputs": [
    {
     "name": "stdout",
     "output_type": "stream",
     "text": [
      "Applying step 1.\n",
      "Apply uE()...\n",
      "Measure and Reset |e>...\n",
      "Apply U_h()...\n",
      "Measure and reset |h>...\n",
      "Apply U_p()...\n",
      "\n",
      "Applying step 2.\n",
      "Apply uE()...\n"
     ]
    },
    {
     "ename": "IndexError",
     "evalue": "list index out of range",
     "output_type": "error",
     "traceback": [
      "\u001b[0;31m---------------------------------------------------------------------------\u001b[0m",
      "\u001b[0;31mIndexError\u001b[0m                                Traceback (most recent call last)",
      "Cell \u001b[0;32mIn [5], line 4\u001b[0m\n\u001b[1;32m      1\u001b[0m qps0\u001b[38;5;241m=\u001b[39m qps_rhs\u001b[38;5;241m.\u001b[39mQuantumPartonShower(N, \u001b[38;5;241m1\u001b[39m) \u001b[38;5;66;03m# for g12= 0\u001b[39;00m\n\u001b[1;32m      2\u001b[0m qps1\u001b[38;5;241m=\u001b[39m qps_rhs\u001b[38;5;241m.\u001b[39mQuantumPartonShower(N, \u001b[38;5;241m1\u001b[39m) \u001b[38;5;66;03m# for g12= 1\u001b[39;00m\n\u001b[0;32m----> 4\u001b[0m qc0, qubits0\u001b[38;5;241m=\u001b[39m \u001b[43mqps0\u001b[49m\u001b[38;5;241;43m.\u001b[39;49m\u001b[43mcreateCircuit\u001b[49m\u001b[43m(\u001b[49m\u001b[43meps\u001b[49m\u001b[43m,\u001b[49m\u001b[43m \u001b[49m\u001b[43mg_1\u001b[49m\u001b[43m,\u001b[49m\u001b[43m \u001b[49m\u001b[43mg_2\u001b[49m\u001b[43m,\u001b[49m\u001b[43m \u001b[49m\u001b[38;5;241;43m0\u001b[39;49m\u001b[43m,\u001b[49m\u001b[43m \u001b[49m\u001b[43minitialParticles\u001b[49m\u001b[43m)\u001b[49m\n\u001b[1;32m      5\u001b[0m qc1, qubits1\u001b[38;5;241m=\u001b[39m qps1\u001b[38;5;241m.\u001b[39mcreateCircuit(eps, g_1, g_2, \u001b[38;5;241m1\u001b[39m, initialParticles)\n",
      "File \u001b[0;32m~/test/QuantumPartonShower/qiskit_code/QuantumPartonShower_ReM_2step_hardcode.py:222\u001b[0m, in \u001b[0;36mQuantumPartonShower.createCircuit\u001b[0;34m(self, eps, g_1, g_2, g_12, initialParticles, verbose)\u001b[0m\n\u001b[1;32m    220\u001b[0m     \u001b[38;5;28mprint\u001b[39m(\u001b[38;5;124m'\u001b[39m\u001b[38;5;130;01m\\t\u001b[39;00m\u001b[38;5;124m DeltaB: \u001b[39m\u001b[38;5;124m'\u001b[39m \u001b[38;5;241m+\u001b[39m \u001b[38;5;28mstr\u001b[39m(Delta_bList[\u001b[38;5;241m1\u001b[39m]))\n\u001b[1;32m    221\u001b[0m \u001b[38;5;28mself\u001b[39m\u001b[38;5;241m.\u001b[39m_circuit\u001b[38;5;241m.\u001b[39mx(\u001b[38;5;28mself\u001b[39m\u001b[38;5;241m.\u001b[39mpReg[\u001b[38;5;241m0\u001b[39m])\n\u001b[0;32m--> 222\u001b[0m \u001b[38;5;28mself\u001b[39m\u001b[38;5;241m.\u001b[39m_circuit\u001b[38;5;241m.\u001b[39mcu3(\u001b[38;5;241m2\u001b[39m\u001b[38;5;241m*\u001b[39mnp\u001b[38;5;241m.\u001b[39marccos(math\u001b[38;5;241m.\u001b[39msqrt(\u001b[43mDelta_phiList\u001b[49m\u001b[43m[\u001b[49m\u001b[38;5;241;43m1\u001b[39;49m\u001b[43m]\u001b[49m\u001b[38;5;241m*\u001b[39mDelta_aList[\u001b[38;5;241m1\u001b[39m])), \u001b[38;5;241m0\u001b[39m, \u001b[38;5;241m0\u001b[39m, \u001b[38;5;28mself\u001b[39m\u001b[38;5;241m.\u001b[39mpReg[\u001b[38;5;241m0\u001b[39m], \u001b[38;5;28mself\u001b[39m\u001b[38;5;241m.\u001b[39meReg[\u001b[38;5;241m0\u001b[39m])\u001b[38;5;241m.\u001b[39mc_if(\u001b[38;5;28mself\u001b[39m\u001b[38;5;241m.\u001b[39mhReg_cl[\u001b[38;5;241m0\u001b[39m], \u001b[38;5;241m5\u001b[39m)\n\u001b[1;32m    223\u001b[0m \u001b[38;5;28mself\u001b[39m\u001b[38;5;241m.\u001b[39m_circuit\u001b[38;5;241m.\u001b[39mx(\u001b[38;5;28mself\u001b[39m\u001b[38;5;241m.\u001b[39mpReg[\u001b[38;5;241m0\u001b[39m])\n\u001b[1;32m    224\u001b[0m \u001b[38;5;28mself\u001b[39m\u001b[38;5;241m.\u001b[39m_circuit\u001b[38;5;241m.\u001b[39mcu3(\u001b[38;5;241m2\u001b[39m\u001b[38;5;241m*\u001b[39mnp\u001b[38;5;241m.\u001b[39marccos(math\u001b[38;5;241m.\u001b[39msqrt(Delta_phiList[\u001b[38;5;241m1\u001b[39m]\u001b[38;5;241m*\u001b[39mDelta_bList[\u001b[38;5;241m1\u001b[39m])), \u001b[38;5;241m0\u001b[39m, \u001b[38;5;241m0\u001b[39m, \u001b[38;5;28mself\u001b[39m\u001b[38;5;241m.\u001b[39mpReg[\u001b[38;5;241m0\u001b[39m], \u001b[38;5;28mself\u001b[39m\u001b[38;5;241m.\u001b[39meReg[\u001b[38;5;241m0\u001b[39m])\u001b[38;5;241m.\u001b[39mc_if(\u001b[38;5;28mself\u001b[39m\u001b[38;5;241m.\u001b[39mhReg_cl[\u001b[38;5;241m0\u001b[39m], \u001b[38;5;241m5\u001b[39m)\n",
      "\u001b[0;31mIndexError\u001b[0m: list index out of range"
     ]
    }
   ],
   "source": [
    "qps0= qps_rhs.QuantumPartonShower(N, 1) # for g12= 0\n",
    "qps1= qps_rhs.QuantumPartonShower(N, 1) # for g12= 1\n",
    "\n",
    "qc0, qubits0= qps0.createCircuit(eps, g_1, g_2, 0, initialParticles)\n",
    "qc1, qubits1= qps1.createCircuit(eps, g_1, g_2, 1, initialParticles)"
   ]
  },
  {
   "cell_type": "markdown",
   "id": "appropriate-supplement",
   "metadata": {},
   "source": [
    "## Simulate circuits and store results"
   ]
  },
  {
   "cell_type": "code",
   "execution_count": null,
   "id": "literary-encounter",
   "metadata": {},
   "outputs": [],
   "source": [
    "print('Qubits: ' + str(qc0.num_qubits))\n",
    "print('Gates: ' + str(qc0.count_ops()))\n",
    "\n",
    "t1= time.time()\n",
    "counts0= qps0.simulate('qasm', shots=shots)\n",
    "t2= time.time()\n",
    "counts1= qps1.simulate('qasm', shots=shots)\n",
    "t3= time.time()\n",
    "\n",
    "print('\\nTime to simulate withg g12= 0: ' + str(t2-t1))\n",
    "print('Time to simulate withg g12= 1: ' + str(t3-t2))"
   ]
  },
  {
   "cell_type": "markdown",
   "id": "straight-helmet",
   "metadata": {},
   "source": [
    "## Some diagnostic plots"
   ]
  },
  {
   "cell_type": "code",
   "execution_count": null,
   "id": "behavioral-division",
   "metadata": {},
   "outputs": [],
   "source": [
    "# Note: make sure the first counts parameters is g12=1, and the optional counts2 parameter is g12=0.\n",
    "\n",
    "# # Plot the final particle configuration\n",
    "# pl.bar_plot2(counts1, shots, eps, g_1, g_2, counts2= counts0, save=False, wReg=False)\n",
    "\n",
    "# # Plot the number of emissions \n",
    "# pl.bar_plot_emissions(counts1, shots, eps, g_1, g_2, N, 1, counts2= counts0, save=False, wReg=False)"
   ]
  },
  {
   "cell_type": "markdown",
   "id": "ordered-terrain",
   "metadata": {},
   "source": [
    "## Draw the circuit"
   ]
  },
  {
   "cell_type": "code",
   "execution_count": null,
   "id": "pediatric-candle",
   "metadata": {},
   "outputs": [],
   "source": [
    "qc0.draw('mpl')"
   ]
  },
  {
   "cell_type": "code",
   "execution_count": null,
   "id": "exempt-luxembourg",
   "metadata": {},
   "outputs": [],
   "source": []
  },
  {
   "cell_type": "code",
   "execution_count": null,
   "id": "b77f9595-97cf-45d3-b209-7819f456c88e",
   "metadata": {},
   "outputs": [],
   "source": []
  },
  {
   "cell_type": "code",
   "execution_count": null,
   "id": "658a5ccd-5ae5-48ac-9c60-8ae9b8224c1e",
   "metadata": {},
   "outputs": [],
   "source": []
  },
  {
   "cell_type": "code",
   "execution_count": null,
   "id": "e80724ec-a53d-430d-97d8-9871cf2520e1",
   "metadata": {},
   "outputs": [],
   "source": []
  },
  {
   "cell_type": "code",
   "execution_count": null,
   "id": "496d2811-bbbf-4635-b6a8-009541171b99",
   "metadata": {},
   "outputs": [],
   "source": []
  },
  {
   "cell_type": "code",
   "execution_count": null,
   "id": "0cf4a253-b337-4a91-bae3-cdd8c9c66a1c",
   "metadata": {},
   "outputs": [],
   "source": []
  },
  {
   "cell_type": "code",
   "execution_count": null,
   "id": "a982eccb-f1c7-41fc-b83d-4108478fd8e3",
   "metadata": {},
   "outputs": [],
   "source": []
  }
 ],
 "metadata": {
  "kernelspec": {
   "display_name": "Python 3 (ipykernel)",
   "language": "python",
   "name": "python3"
  },
  "language_info": {
   "codemirror_mode": {
    "name": "ipython",
    "version": 3
   },
   "file_extension": ".py",
   "mimetype": "text/x-python",
   "name": "python",
   "nbconvert_exporter": "python",
   "pygments_lexer": "ipython3",
   "version": "3.8.10"
  }
 },
 "nbformat": 4,
 "nbformat_minor": 5
}
