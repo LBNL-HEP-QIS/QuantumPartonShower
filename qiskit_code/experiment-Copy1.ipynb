{
 "cells": [
  {
   "cell_type": "code",
   "execution_count": 1,
   "id": "514f2d9c-9451-4381-902f-2649d77105f1",
   "metadata": {},
   "outputs": [
    {
     "name": "stdout",
     "output_type": "stream",
     "text": [
      "Number of emissions: 1\n",
      "log(theta_max): -5.180816459236603\n",
      "Number of emissions: 1\n",
      "log(theta_max): -1.7269388197455342\n",
      "Number of emissions: 2\n",
      "log(theta_max): -1.7269388197455342\n",
      "Number of emissions: 1\n",
      "log(theta_max): -3.4538776394910684\n"
     ]
    }
   ],
   "source": [
    "############################################\n",
    "##### decide which real machine to use #####\n",
    "############################################\n",
    "backend_name = 'ibm_kawasaki'\n",
    "\n",
    "############################\n",
    "##### import libraries #####\n",
    "############################\n",
    "%matplotlib inline\n",
    "%load_ext autoreload\n",
    "%autoreload 2\n",
    "\n",
    "\n",
    "from qiskit import *\n",
    "from qiskit.visualization import plot_histogram\n",
    "from qiskit import QuantumCircuit, QuantumRegister, ClassicalRegister, execute, Aer, compiler, circuit, compiler\n",
    "from pytket.extensions.qiskit import IBMQBackend, AerBackend\n",
    "import matplotlib.pyplot as plt\n",
    "import numpy as np\n",
    "import math\n",
    "import time\n",
    "import sys\n",
    "sys.path.append('../../../aqcel_dev/aqcel_dev')\n",
    "import aqcel_dev as icepp\n",
    "sys.path.append('../')\n",
    "sys.path.append('../qiskit_legacy')\n",
    "sys.path.append('../qiskit_code')\n",
    "\n",
    "import QuantumPartonShower as qps\n",
    "import QuantumPartonShower_ReM as qpsc\n",
    "import QuantumPartonShower_ReM_2step_hardcode as qps_rhs\n",
    "import plotting as pl\n",
    "from PaperPlots import MakeObservables as mo\n",
    "\n",
    "sim_b = AerBackend()"
   ]
  },
  {
   "cell_type": "code",
   "execution_count": null,
   "id": "83ae4e80-8797-4557-8138-7fa347d79360",
   "metadata": {},
   "outputs": [],
   "source": []
  },
  {
   "cell_type": "code",
   "execution_count": 19,
   "id": "3e7f00a3-959d-4ea1-9232-2fd608ef5eb2",
   "metadata": {
    "tags": []
   },
   "outputs": [
    {
     "data": {
      "image/png": "[encoded data removed]",
      "text/plain": [
       "<Figure size 538.33x451.5 with 1 Axes>"
      ]
     },
     "execution_count": 19,
     "metadata": {},
     "output_type": "execute_result"
    }
   ],
   "source": [
    "import numpy as np\n",
    "from qiskit import QuantumCircuit\n",
    "\n",
    "# 量子ビットの数\n",
    "n_qubits = 5\n",
    "\n",
    "# 量子回路の初期化\n",
    "qc = QuantumCircuit(n_qubits)\n",
    "\n",
    "qc.x(0)\n",
    "qc.x(0)\n",
    "qc.cx(0,1)\n",
    "qc.cx(1,2)\n",
    "qc.cx(3,2)\n",
    "\n",
    "qc0 = qc\n",
    "# 量子回路を表示\n",
    "qc.draw('mpl')\n",
    "\n"
   ]
  },
  {
   "cell_type": "code",
   "execution_count": 20,
   "id": "7831ef4a-d01d-4fe7-91ac-a01d2ebbb040",
   "metadata": {},
   "outputs": [
    {
     "name": "stdout",
     "output_type": "stream",
     "text": [
      "実行時間: 0.08861255645751953秒\n"
     ]
    }
   ],
   "source": [
    "#######################\n",
    "##### apply aqcel #####\n",
    "#######################\n",
    "\n",
    "# AQCELにかかる時間を測定開始\n",
    "start_time = time.time()\n",
    "\n",
    "# AQCELのapply\n",
    "target_qc = qc0\n",
    "aqcel_results_cc = icepp.pass_manager(target_qc, level=2, backend_tket=sim_b, shots=1024, measure_type='cc').auto_manager()\n",
    "result_qc = aqcel_results_cc[0]\n",
    "\n",
    "# AQCEL適用にかかった時間をprint\n",
    "end_time = time.time()\n",
    "execution_time = end_time - start_time\n",
    "print(f\"実行時間: {execution_time}秒\")"
   ]
  },
  {
   "cell_type": "code",
   "execution_count": 21,
   "id": "90d38aa3-ee95-4d4b-849f-2597c75d5397",
   "metadata": {},
   "outputs": [
    {
     "name": "stdout",
     "output_type": "stream",
     "text": [
      "Before AQCEL\n"
     ]
    },
    {
     "data": {
      "image/png": "[encoded data removed]",
      "text/plain": [
       "<Figure size 538.33x451.5 with 1 Axes>"
      ]
     },
     "execution_count": 21,
     "metadata": {},
     "output_type": "execute_result"
    }
   ],
   "source": [
    "#############################\n",
    "##### Before AQCEL(qc1) #####\n",
    "#############################\n",
    "print('Before AQCEL')\n",
    "target_qc.draw('mpl')"
   ]
  },
  {
   "cell_type": "code",
   "execution_count": 22,
   "id": "790d0c87-4c6d-4341-b5da-3af7b70fd622",
   "metadata": {},
   "outputs": [
    {
     "data": {
      "text/plain": [
       "5"
      ]
     },
     "execution_count": 22,
     "metadata": {},
     "output_type": "execute_result"
    }
   ],
   "source": [
    "target_qc.depth()"
   ]
  },
  {
   "cell_type": "code",
   "execution_count": 23,
   "id": "304ab00b-b6d9-4416-9cf5-14580c3273a0",
   "metadata": {},
   "outputs": [
    {
     "name": "stdout",
     "output_type": "stream",
     "text": [
      "Before AQCEL\n",
      " - Number of gate : OrderedDict([('cx', 3), ('x', 2)])\n",
      " - Depth of all : 5\n",
      "\n",
      "\n",
      "After AQCEL\n",
      " - Number of gate : OrderedDict()\n",
      " - Depth of all :0\n"
     ]
    },
    {
     "data": {
      "image/png": "[encoded data removed]",
      "text/plain": [
       "<Figure size 125.417x33.4444 with 1 Axes>"
      ]
     },
     "execution_count": 23,
     "metadata": {},
     "output_type": "execute_result"
    }
   ],
   "source": [
    "#############################\n",
    "##### Before AQCEL(qc1) #####\n",
    "#############################\n",
    "print('Before AQCEL')\n",
    "print(f' - Number of gate : {target_qc.count_ops()}')\n",
    "print(f' - Depth of all : {target_qc.depth()}')# 1から始めてmeasurementは含めないで数えてくれる\n",
    "print('')\n",
    "print('')\n",
    "\n",
    "\n",
    "############################\n",
    "##### After AQCEL(qc2) #####\n",
    "############################\n",
    "print('After AQCEL')\n",
    "print(f' - Number of gate : {result_qc.count_ops()}')\n",
    "print(f' - Depth of all :{result_qc.depth()}')# 1から始めてmeasurementは含めないで数えてくれる\n",
    "\n",
    "\n",
    "result_qc.draw('mpl', fold=100)"
   ]
  },
  {
   "cell_type": "code",
   "execution_count": null,
   "id": "2a63e5ea-2ebe-461e-a660-dfbcf4fc1ebf",
   "metadata": {},
   "outputs": [],
   "source": []
  },
  {
   "cell_type": "code",
   "execution_count": 16,
   "id": "2834714e-8ffe-4b99-b03d-851b413deece",
   "metadata": {},
   "outputs": [
    {
     "name": "stdout",
     "output_type": "stream",
     "text": [
      "depth_ls : [1, 2, 3]\n",
      "depth_tof : []\n",
      "depth_cnot : [1, 2, 3]\n"
     ]
    }
   ],
   "source": [
    "###########################\n",
    "##### Define depth_ls #####\n",
    "###########################\n",
    "depth_ls = aqcel_results_cc[2]\n",
    "print(f'depth_ls : {depth_ls}')\n",
    "\n",
    "############################\n",
    "##### Define depth_tof #####\n",
    "############################\n",
    "depth_tof = aqcel_results_cc[3]\n",
    "print(f'depth_tof : {depth_tof}')\n",
    "\n",
    "#############################\n",
    "##### Define depth_cnot #####\n",
    "#############################\n",
    "depth_cnot = aqcel_results_cc[4]\n",
    "print(f'depth_cnot : {depth_ls}')"
   ]
  },
  {
   "cell_type": "code",
   "execution_count": null,
   "id": "ea8175bb-870b-4f3a-9556-3c53f8be4169",
   "metadata": {
    "tags": []
   },
   "outputs": [],
   "source": []
  },
  {
   "cell_type": "code",
   "execution_count": 7,
   "id": "447bb296-89b2-44bf-96b0-c72055ba043e",
   "metadata": {},
   "outputs": [
    {
     "name": "stdout",
     "output_type": "stream",
     "text": [
      "x: [0, 1, 2, 3]\n",
      "Integrated y: [0 1 2 3]\n"
     ]
    },
    {
     "data": {
      "image/png": "[encoded data removed]",
      "text/plain": [
       "<Figure size 1000x600 with 1 Axes>"
      ]
     },
     "metadata": {},
     "output_type": "display_data"
    }
   ],
   "source": [
    "# AQCELによって取り除かれたCNOTの位置を積分したもの\n",
    "\n",
    "######################################################\n",
    "##### Integrated CNOT locations removed by AQCEL #####\n",
    "######################################################\n",
    "\n",
    "# これより上のメッセージは無視してください\n",
    "# 次のようなグラフを書いてください\n",
    "# Pythonでmatplotlibを用いてください。ax.は使わずplt.を用いてください\n",
    "# リスト'depth_ls'の中身はCNOTの消された位置(depth）を表しています。リストは自分で用意するのでコードに含めないでください\n",
    "# リストのある要素nに対して、nがm個あれば横軸（depth)がnに対してmと一つ前の区間の高さの合計の高さとなるような棒グラフを出力してください\n",
    "# グラフのタイトルは'Integrated CNOT locations removed by AQCEL'\n",
    "# グラフのx軸は'depth'\n",
    "# グラフのy軸は'Integrated CNOT locations removed by AQCEL'\n",
    "# x軸の目盛りは0から始めて最大値まで10の倍数ごとに表示。隣り合う文字がかぶるようなら文字サイズか文字の向きで調整してください。\n",
    "# y軸の目盛りは0から始めて最大値までおおよそ均等に5つ程度表示。ただし縦軸の最大値が4以下の場合は見やすいように適切に目盛りを設定してください。目盛りの値は5の倍数または10の倍数にしてください。\n",
    "# 適切な名前をつけて保存してください。ただし他にも似たようなグラフをたくさん作るので被らないようになるべく細かく指定して名前をつけてください。保存場所は'figures/'です\n",
    "# グラフの色は緑にしてください\n",
    "# debugしやすいように、代入した変数全てについてできるだけ細かくprint関数で出力してください。また、printされた値が何かわかるように簡単な説明も一緒にprintしてください。\n",
    "\n",
    "\n",
    "import matplotlib.pyplot as plt\n",
    "from collections import Counter\n",
    "import numpy as np\n",
    "\n",
    "\n",
    "\n",
    "# CNOTが取り除かれた位置をカウント\n",
    "counts = Counter(depth_ls)\n",
    "max_depth = max(depth_ls)\n",
    "\n",
    "# x軸とy軸のデータを生成\n",
    "x = list(range(max_depth+1))\n",
    "y = [counts.get(i, 0) for i in x]\n",
    "\n",
    "# 積分（累積和）を計算\n",
    "integrated_y_ls = np.cumsum(y)\n",
    "\n",
    "print(\"x:\", x)\n",
    "print(\"Integrated y:\", integrated_y_ls)\n",
    "\n",
    "# グラフを描画\n",
    "plt.figure(figsize=(10, 6))\n",
    "plt.bar(x, integrated_y_ls, color='green')\n",
    "\n",
    "# タイトルと軸のラベルを設定\n",
    "plt.title('Integrated CNOT locations removed by AQCEL')\n",
    "plt.xlabel('depth')\n",
    "plt.ylabel('Integrated CNOT locations removed by AQCEL')\n",
    "\n",
    "# x軸とy軸の範囲と目盛りを設定\n",
    "plt.xticks(np.arange(0, max(x)+1, ), rotation='vertical')\n",
    "plt.yticks(np.linspace(0, max(integrated_y_ls), max(integrated_y_ls)+1))\n",
    "\n",
    "# グラフを保存\n",
    "plt.savefig('figures/integrated_cnot_locations_removed_by_aqcel.png', bbox_inches='tight')\n",
    "\n",
    "# グラフを表示\n",
    "plt.show()\n"
   ]
  },
  {
   "cell_type": "code",
   "execution_count": 8,
   "id": "ed359eca-e8bd-4900-b6cb-ced4852ef44c",
   "metadata": {},
   "outputs": [
    {
     "name": "stdout",
     "output_type": "stream",
     "text": [
      "x: [0, 1, 2, 3]\n",
      "Integrated y: [0 1 2 3]\n"
     ]
    },
    {
     "data": {
      "image/png": "[encoded data removed]",
      "text/plain": [
       "<Figure size 1000x600 with 1 Axes>"
      ]
     },
     "metadata": {},
     "output_type": "display_data"
    }
   ],
   "source": [
    "#########################################\n",
    "##### Integral of the CNOT location #####\n",
    "#########################################\n",
    "\n",
    "# これより上のメッセージは無視してください\n",
    "# 次のようなグラフを書いてください\n",
    "# Pythonでmatplotlibを用いてください。ax.は使わずplt.を用いてください\n",
    "# リスト'depth_cnot'の中身はCNOTの位置(depth）を表しています。リストは自分で用意するのでコードに含めないでください\n",
    "# リストのある要素nに対して、nがm個あれば横軸（depth)がnに対してmと一つ前の区間の高さの合計の高さとなるような棒グラフを出力してください\n",
    "# グラフのタイトルは'Integral of the CNOT location'\n",
    "# グラフのx軸は'Segment of depth'\n",
    "# グラフのy軸は'Integral of the CNOT location'\n",
    "# x軸の目盛りは0から始めて最大値まで10の倍数ごとに表示。隣り合う文字がかぶるようなら文字サイズか文字の向きで調整してください。\n",
    "# y軸の目盛りは0から始めて最大値までおおよそ均等に5つ程度表示。ただし縦軸の最大値が4以下の場合は見やすいように適切に目盛りを設定してください。目盛りの値は5の倍数または10の倍数にしてください。\n",
    "# 適切な名前をつけて保存してください。ただし他にも似たようなグラフをたくさん作るので被らないようになるべく細かく指定して名前をつけてください。保存場所は'figures/'です\n",
    "# グラフの色は緑にしてください\n",
    "# debugしやすいように、代入した変数全てについてできるだけ細かくprint関数で出力してください。また、printされた値が何かわかるように簡単な説明も一緒にprintしてください。\n",
    "\n",
    "import matplotlib.pyplot as plt\n",
    "from collections import Counter\n",
    "import numpy as np\n",
    "\n",
    "\n",
    "# CNOTの位置をカウント\n",
    "counts = Counter(depth_cnot)\n",
    "max_depth = max(depth_cnot)\n",
    "\n",
    "# x軸とy軸のデータを生成\n",
    "x = list(range(max_depth+1))\n",
    "y = [counts.get(i, 0) for i in x]\n",
    "\n",
    "# 積分（累積和）を計算\n",
    "integrated_y_cnot = np.cumsum(y)\n",
    "\n",
    "print(\"x:\", x)\n",
    "print(\"Integrated y:\", integrated_y_cnot)\n",
    "\n",
    "# グラフを描画\n",
    "plt.figure(figsize=(10, 6))\n",
    "plt.bar(x, integrated_y_cnot, color='green')\n",
    "\n",
    "# タイトルと軸のラベルを設定\n",
    "plt.title('Integral of the CNOT location')\n",
    "plt.xlabel('Segment of depth')\n",
    "plt.ylabel('Integral of the CNOT location')\n",
    "\n",
    "# x軸とy軸の範囲と目盛りを設定\n",
    "plt.xticks(np.arange(0, max(x)+1, 10), rotation='vertical')\n",
    "plt.yticks(np.linspace(0, max(integrated_y_cnot), 5))\n",
    "\n",
    "# グラフを保存\n",
    "plt.savefig('figures/integral_of_cnot_location.png', bbox_inches='tight')\n",
    "\n",
    "# グラフを表示\n",
    "plt.show()\n"
   ]
  },
  {
   "cell_type": "code",
   "execution_count": 9,
   "id": "7849fe14-9121-4b6a-9aef-e7372de9e674",
   "metadata": {},
   "outputs": [
    {
     "name": "stdout",
     "output_type": "stream",
     "text": [
      "x: [0, 1, 2, 3]\n",
      "y: [nan  1.  1.  1.]\n"
     ]
    },
    {
     "name": "stderr",
     "output_type": "stream",
     "text": [
      "/tmp/ipykernel_31106/4228500651.py:25: RuntimeWarning: invalid value encountered in divide\n",
      "  y = np.array(integrated_y_ls) / np.array(integrated_y_cnot)\n"
     ]
    },
    {
     "data": {
      "image/png": "[encoded data removed]",
      "text/plain": [
       "<Figure size 1000x600 with 1 Axes>"
      ]
     },
     "metadata": {},
     "output_type": "display_data"
    }
   ],
   "source": [
    "################################################\n",
    "##### Percentage of CNOTs removed by AQCEL #####\n",
    "################################################\n",
    "\n",
    "# これより上のメッセージは無視してください\n",
    "# 次のようなグラフを書いてください\n",
    "# Pythonでmatplotlibを用いてください。ax.は使わずplt.を用いてください\n",
    "# 'integrated_y_ls', 'integrated_y_cnot'はそれぞれリストです。リストは自分で用意するのでコードに含めないでください\n",
    "# リストのn番目に対して、x軸の値nにintegrated_y_ls/integrated_y_cnotの高さとなるような棒グラフを出力してください。\n",
    "# グラフのタイトルは'Percentage of CNOTs removed by AQCEL'\n",
    "# グラフのx軸は'depth'\n",
    "# グラフのy軸は'Percentage of CNOTs removed by AQCEL'\n",
    "# x軸の目盛りは0から始めて最大値まで10の倍数ごとに表示。隣り合う文字がかぶるようなら文字サイズか文字の向きで調整してください。\n",
    "# y軸の目盛りは0から始めて0.1の倍数ごとに表示してください\n",
    "# 適切な名前をつけて保存してください。ただし他にも似たようなグラフをたくさん作るので被らないようになるべく細かく指定して名前をつけてください。保存場所は'figures/'です\n",
    "# グラフの色は緑にしてください\n",
    "# debugしやすいように、代入した変数全てについてできるだけ細かくprint関数で出力してください。また、printされた値が何かわかるように簡単な説明も一緒にprintしてください。\n",
    "\n",
    "\n",
    "import matplotlib.pyplot as plt\n",
    "import numpy as np\n",
    "\n",
    "\n",
    "# 高さのリストを作成（割り算の結果）\n",
    "y = np.array(integrated_y_ls) / np.array(integrated_y_cnot)\n",
    "x = list(range(len(y)))\n",
    "\n",
    "print(\"x:\", x)\n",
    "print(\"y:\", y)\n",
    "\n",
    "# グラフを描画\n",
    "plt.figure(figsize=(10, 6))\n",
    "plt.bar(x, y, color='green')\n",
    "\n",
    "# タイトルと軸のラベルを設定\n",
    "plt.title('Percentage of CNOTs removed by AQCEL')\n",
    "plt.xlabel('depth')\n",
    "plt.ylabel('Percentage of CNOTs removed by AQCEL')\n",
    "\n",
    "# x軸とy軸の範囲と目盛りを設定\n",
    "plt.xticks(np.arange(0, len(x), 1), rotation='vertical')\n",
    "plt.yticks(np.arange(0, np.nanmax(y)+0.1, 0.1))\n",
    "\n",
    "# グラフを保存\n",
    "plt.savefig('figures/percentage_cnots_removed_by_aqcel.png', bbox_inches='tight')\n",
    "\n",
    "# グラフを表示\n",
    "plt.show()\n"
   ]
  },
  {
   "cell_type": "code",
   "execution_count": 10,
   "id": "96610db8-3bda-47c3-9e0f-2af501269753",
   "metadata": {},
   "outputs": [
    {
     "data": {
      "image/png": "[encoded data removed]",
      "text/plain": [
       "<Figure size 370.906x200.667 with 1 Axes>"
      ]
     },
     "execution_count": 10,
     "metadata": {},
     "output_type": "execute_result"
    }
   ],
   "source": [
    "from qiskit.circuit.library.standard_gates import XGate, CXGate\n",
    "from qiskit import QuantumCircuit\n",
    "\n",
    "# 既存の量子回路の初期化\n",
    "new_qc = QuantumCircuit(2)\n",
    "new_qc.h(0)\n",
    "new_qc.cx(1,0)\n",
    "new_qc.cx(0,1)\n",
    "\n",
    "# 現在考慮しているゲートの深さ\n",
    "depth_num = 0\n",
    "\n",
    "# 現在考慮しているゲートの情報\n",
    "gate = [CXGate(), [0, 1], []]  # CNOTゲート、操作対象の量子ビットは0と1、古典ビットはなし\n",
    "\n",
    "# 現在の量子ビットの状態\n",
    "bitstrings = ['0']\n",
    "\n",
    "# ゲートが追加されるたびに深さを記録するリスト\n",
    "depth_ls = []\n",
    "\n",
    "# Toffoliゲートが追加されるたびに深さを記録するリスト\n",
    "depth_ls_tof = []\n",
    "\n",
    "# CNOTゲートが考慮されるたびに深さを記録するリスト\n",
    "depth_cnot = []\n",
    "\n",
    "\n",
    "def judge(new_qc, depth_num, gate, bitstrings, depth_ls, depth_ls_tof, depth_cnot):\n",
    "    target_qubit = gate[1][-1]#ターゲットqubitの番号を取り出す\n",
    "\n",
    "    \"\"\"\n",
    "    gate[0] : gate class\n",
    "    gate[1] : qregs\n",
    "    gate[2] : cregs\n",
    "    \"\"\"        \n",
    "\n",
    "    #以下ではToffoli gateかCNOT gateかで分類して作業している\n",
    "\n",
    "    # Toffoli gates\n",
    "    if gate[0].name in ['ccx', 'rccx']:\n",
    "\n",
    "        if '11' in bitstrings: #controlled qubitが1だったら変わりにgateをかける  #11が含まれている時点でidentity\n",
    "            if len(bitstrings) == 1: #lenは1から始まる。listの要素数。他に測定されたものがない場合。\n",
    "                new_qc.append(XGate(label=None), [target_qubit], gate[2])\n",
    "                depth_ls.append(new_qc.depth())\n",
    "\n",
    "            elif '10' not in bitstrings: #他にあるけども10がなければCNOTにしか最適化できないのでCNOTにしかできない\n",
    "                new_qc.append(XGate(label=None).control(1), [gate[1][1], target_qubit], gate[2])\n",
    "                depth_ls_tof.append(new_qc.depth())\n",
    "\n",
    "            elif '01' not in bitstrings:#他にあるけども01がなければCNOTにしか最適化できないのでCNOTにしかできない\n",
    "                new_qc.append(XGate(label=None).control(1), [gate[1][0], target_qubit], gate[2])\n",
    "                depth_ls_tof.append(new_qc.depth())\n",
    "\n",
    "            else: #11と00の時だけようにもう一つ作る？(Qubit connectionを一つ減らせる)\n",
    "                new_qc.append(gate[0],gate[1],gate[2])#この場合は消せない場合\n",
    "\n",
    "        else:#controlled qubitが0だったら消せる\n",
    "            depth_ls.append(depth_num)\n",
    "            pass # Delete CCX\n",
    "\n",
    "    # Two-qubit gates\n",
    "    else:\n",
    "        depth_cnot.append(depth_num)\n",
    "        if '1' in bitstrings: #controlled qubitが1だったら変わりにgateをかける\n",
    "            if '0' not in bitstrings:\n",
    "                new_qc.append(gate[0].base_gate, [target_qubit], gate[2])#.base_gateで元のgateと同じクラスを指定できる\n",
    "                depth_ls.append(depth_num)\n",
    "            else:\n",
    "                new_qc.append(gate[0],gate[1],gate[2])\n",
    "                # depth_ls.append(depth_num)\n",
    "        else:#controlled qubitが0だったら消せる\n",
    "            depth_ls.append(depth_num)\n",
    "            pass # Delete CU\n",
    "\n",
    "    return [new_qc, depth_ls, depth_ls_tof, depth_cnot]\n",
    "\n",
    "judge(new_qc, depth_num, gate, bitstrings, depth_ls, depth_ls_tof, depth_cnot)[0].draw('mpl')\n",
    "\n",
    "# [new_qc, [0], [], [0]]\n"
   ]
  },
  {
   "cell_type": "code",
   "execution_count": 11,
   "id": "be24a2ee-02fa-42f6-8d1b-8980ee7e600d",
   "metadata": {},
   "outputs": [
    {
     "data": {
      "text/plain": [
       "[<qiskit.circuit.quantumcircuit.QuantumCircuit at 0x7f442026c940>,\n",
       " [0, 0],\n",
       " [],\n",
       " [0, 0]]"
      ]
     },
     "execution_count": 11,
     "metadata": {},
     "output_type": "execute_result"
    }
   ],
   "source": [
    "judge(new_qc, depth_num, gate, bitstrings, depth_ls, depth_ls_tof, depth_cnot)"
   ]
  },
  {
   "cell_type": "code",
   "execution_count": 12,
   "id": "0075f29f-fde2-4d84-989e-2a8a35773727",
   "metadata": {},
   "outputs": [
    {
     "name": "stdout",
     "output_type": "stream",
     "text": [
      "深さのリスト: [5]\n",
      "Toffoliゲートの深さのリスト: []\n",
      "CNOTゲートの深さのリスト: []\n"
     ]
    }
   ],
   "source": [
    "def judge(new_qc, depth_num, gate, bitstrings, depth_ls, depth_ls_tof, depth_cnot):\n",
    "    target_qubit = gate[1][-1]#ターゲットqubitの番号を取り出す\n",
    "\n",
    "    \"\"\"\n",
    "    gate[0] : gate class\n",
    "    gate[1] : qregs\n",
    "    gate[2] : cregs\n",
    "    \"\"\"        \n",
    "\n",
    "    #以下ではToffoli gateかCNOT gateかで分類して作業している\n",
    "\n",
    "    # Toffoli gates\n",
    "    if gate[0].name in ['ccx', 'rccx']:\n",
    "\n",
    "        if '11' in bitstrings: #controlled qubitが1だったら変わりにgateをかける  #11が含まれている時点でidentity\n",
    "            if len(bitstrings) == 1: #lenは1から始まる。listの要素数。他に測定されたものがない場合。\n",
    "                new_qc.append(XGate(label=None), [target_qubit], gate[2])\n",
    "                depth_ls.append(new_qc.depth())\n",
    "\n",
    "            elif '10' not in bitstrings: #他にあるけども10がなければCNOTにしか最適化できないのでCNOTにしかできない\n",
    "                new_qc.append(XGate(label=None).control(1), [gate[1][1], target_qubit], gate[2])\n",
    "                depth_ls_tof.append(new_qc.depth())\n",
    "\n",
    "            elif '01' not in bitstrings:#他にあるけども01がなければCNOTにしか最適化できないのでCNOTにしかできない\n",
    "                new_qc.append(XGate(label=None).control(1), [gate[1][0], target_qubit], gate[2])\n",
    "                depth_ls_tof.append(new_qc.depth())\n",
    "\n",
    "            else: #11と00の時だけようにもう一つ作る？(Qubit connectionを一つ減らせる)\n",
    "                new_qc.append(gate[0],gate[1],gate[2])#この場合は消せない場合\n",
    "\n",
    "        else:#controlled qubitが0だったら消せる\n",
    "            depth_ls.append(depth_num)\n",
    "            pass # Delete CCX\n",
    "\n",
    "    # Two-qubit gates\n",
    "    else:\n",
    "        depth_cnot.append(depth_num)\n",
    "        if '1' in bitstrings: #controlled qubitが1だったら変わりにgateをかける\n",
    "            if '0' not in bitstrings:\n",
    "                new_qc.append(gate[0].base_gate, [target_qubit], gate[2])#.base_gateで元のgateと同じクラスを指定できる\n",
    "                depth_ls.append(depth_num)\n",
    "            else:\n",
    "                new_qc.append(gate[0],gate[1],gate[2])\n",
    "                # depth_ls.append(depth_num)\n",
    "        else:#controlled qubitが0だったら消せる\n",
    "            depth_ls.append(depth_num)\n",
    "            pass # Delete CU\n",
    "\n",
    "    return [new_qc, depth_ls, depth_ls_tof, depth_cnot]\n",
    "\n",
    "from qiskit.circuit.library.standard_gates import XGate, CXGate, CCXGate\n",
    "from qiskit import QuantumCircuit\n",
    "\n",
    "# 初期の量子回路を作成\n",
    "qc = QuantumCircuit(3)\n",
    "qc.h(0)\n",
    "qc.cx(0,1)\n",
    "qc.cx(1,0)\n",
    "qc.mcx([0,1],2)\n",
    "\n",
    "# ゲートの情報を作成\n",
    "gate = [CCXGate(), [0, 1, 2], []]  # Toffoliゲート（制御量子ビットが0と1、ターゲット量子ビットが2）\n",
    "\n",
    "# 現在の量子ビットの状態\n",
    "bitstrings = ['11']\n",
    "\n",
    "# ゲートが追加されるたびに深さを記録するリスト\n",
    "depth_ls = []\n",
    "\n",
    "# Toffoliゲートが追加されるたびに深さを記録するリスト\n",
    "depth_ls_tof = []\n",
    "\n",
    "# CNOTゲートが考慮されるたびに深さを記録するリスト\n",
    "depth_cnot = []\n",
    "\n",
    "# judge関数を呼び出し\n",
    "result = judge(qc, 0, gate, bitstrings, depth_ls, depth_ls_tof, depth_cnot)\n",
    "\n",
    "\n",
    "print(\"深さのリスト:\", result[1])\n",
    "print(\"Toffoliゲートの深さのリスト:\", result[2])\n",
    "print(\"CNOTゲートの深さのリスト:\", result[3])\n",
    "\n"
   ]
  },
  {
   "cell_type": "code",
   "execution_count": 13,
   "id": "28f94ef6-bd53-452f-a78e-6fd886918663",
   "metadata": {},
   "outputs": [
    {
     "name": "stdout",
     "output_type": "stream",
     "text": [
      "新しい量子回路:\n"
     ]
    },
    {
     "data": {
      "image/png": "[encoded data removed]",
      "text/plain": [
       "<Figure size 538.33x284.278 with 1 Axes>"
      ]
     },
     "execution_count": 13,
     "metadata": {},
     "output_type": "execute_result"
    }
   ],
   "source": [
    "\n",
    "# 結果の出力\n",
    "print(\"新しい量子回路:\")\n",
    "result[0].draw('mpl')"
   ]
  },
  {
   "cell_type": "code",
   "execution_count": 14,
   "id": "860001ed-8e0f-476b-892f-ebbfc6a3af4a",
   "metadata": {},
   "outputs": [],
   "source": [
    "# 解説：\n",
    "\n",
    "# # 関数judgeは、与えられたゲートが適用される前の量子ビットの状態に基づいて、量子回路にゲートを追加するかどうかを判断します。\n",
    "# # target_qubitは、ゲートが作用するターゲット量子ビットのインデックスを取得します。これはゲート情報のリストの2番目の要素の最後の\n",
    "# インデックスから取得します。\n",
    "# # 関数はまず、ゲートがToffoliゲート（'ccx'または'rccx'）かどうかをチェックします。\n",
    "# # もしゲートがToffoliゲートで、制御量子ビットの状態が'11'（両方とも1）ならば、ゲートは実質的にXゲート（NOTゲート）として作用します。\n",
    "# そのため、bitstringsの長さ（つまり、制御量子ビットの状態）によって、新しいゲートが量子回路に追加されます。\n",
    "# # bitstringsの長さが1（つまり、他に考慮する量子ビットの状態がない）場合、Xゲートがターゲット量子ビットに追加され、\n",
    "# その深さがdepth_lsリストに追加されます。\n",
    "# # bitstringsに'10'（一つ目の制御量子ビットが1で二つ目が0）が含まれていない場合、CNOTゲートが二つ目の制御量子ビットとターゲット\n",
    "# 量子ビットに追加され、その深さがdepth_ls_tofリストに追加されます。\n",
    "# # bitstringsに'01'（一つ目の制御量子ビットが0で二つ目が1）が含まれていない場合、CNOTゲートが一つ目の制御量子ビットとターゲット\n",
    "# 量子ビットに追加され、その深さがdepth_ls_tofリストに追加されます。\n",
    "# # 上記のどれも該当しない場合、Toffoliゲート自体が量子回路に追加されます。\n",
    "# # 制御量子ビットの状態が'00'の場合、Toffoliゲートは実質的に何も行わないため、何も追加せず、その深さがdepth_lsリストに追加されます。\n",
    "# # ゲートがToffoliゲートでない（つまり、二つの量子ビットに作用するゲート、例えばCNOTゲート）場合も同様の考察が行われます。\n",
    "# ただし、この場合、ゲートは制御量子ビットの状態が1のときにターゲット量子ビットに影響を与えます。そのため、bitstringsに'1'が含まれているかどうかをチェックします。\n",
    "# # '1'が含まれていて、かつ'0'が含まれていない場合、ゲートは実質的にその基底ゲートとして作用します（例えば、CNOTゲートは\n",
    "# 実質的にXゲートとして作用します）。そのため、その基底ゲートがターゲット量子ビットに追加され、その深さがdepth_lsリストに追加されます。\n",
    "# # '1'が含まれていて、かつ'0'も含まれている場合、ゲートはそのまま量子回路に追加されます。\n",
    "# # '1'が含まれていない場合、ゲートは実質的に何も行わないため、何も追加せず、その深さがdepth_lsリストに追加されます。\n",
    "# # 最終的に、更新された量子回路と深さのリストが返されます。\n",
    "\n",
    "\n",
    "\n",
    "\n",
    "\n"
   ]
  },
  {
   "cell_type": "code",
   "execution_count": 15,
   "id": "03b17ac5-a703-4682-b9cb-101166bc2a79",
   "metadata": {},
   "outputs": [
    {
     "name": "stdout",
     "output_type": "stream",
     "text": [
      "Gate: h, Qubits: [Qubit(QuantumRegister(3, 'q'), 0)], Bitstrings: ['000']\n",
      "Gate: cx, Qubits: [Qubit(QuantumRegister(3, 'q'), 0), Qubit(QuantumRegister(3, 'q'), 1)], Bitstrings: ['000', '001']\n",
      "Gate: cx, Qubits: [Qubit(QuantumRegister(3, 'q'), 1), Qubit(QuantumRegister(3, 'q'), 0)], Bitstrings: ['000', '011']\n",
      "Gate: ccx, Qubits: [Qubit(QuantumRegister(3, 'q'), 0), Qubit(QuantumRegister(3, 'q'), 1), Qubit(QuantumRegister(3, 'q'), 2)], Bitstrings: ['000', '010']\n"
     ]
    }
   ],
   "source": [
    "from qiskit import QuantumCircuit, Aer, execute\n",
    "from qiskit.visualization import plot_bloch_multivector\n",
    "\n",
    "# 初期の量子回路を作成\n",
    "qc = QuantumCircuit(3)\n",
    "qc.h(0)\n",
    "qc.cx(0,1)\n",
    "qc.cx(1,0)\n",
    "qc.mcx([0,1],2)\n",
    "\n",
    "# ゲートの一覧と各ゲートの実行後の状態を出力\n",
    "for i, instruction in enumerate(qc.data):\n",
    "    gate, qubits, _ = instruction\n",
    "\n",
    "    # ゲートの実行前までの回路を作成\n",
    "    partial_qc = QuantumCircuit(3)\n",
    "    for j in range(i):\n",
    "        partial_qc.data.append(qc.data[j])\n",
    "\n",
    "    # 回路の状態ベクトルを取得\n",
    "    backend = Aer.get_backend('statevector_simulator')\n",
    "    result = execute(partial_qc, backend).result()\n",
    "    statevector = result.get_statevector()\n",
    "\n",
    "    # 状態ベクトルをビット文字列に変換\n",
    "    bitstrings = [bin(i)[2:].zfill(3) for i in range(8) if abs(statevector[i]) > 1e-3]\n",
    "    print(f\"Gate: {gate.name}, Qubits: {qubits}, Bitstrings: {bitstrings}\")\n"
   ]
  },
  {
   "cell_type": "code",
   "execution_count": null,
   "id": "a18d13ce-6fde-4fe0-ae55-e4246630ac51",
   "metadata": {},
   "outputs": [],
   "source": []
  },
  {
   "cell_type": "code",
   "execution_count": null,
   "id": "6922398b-869f-4240-b669-cd2aa8a34a96",
   "metadata": {},
   "outputs": [],
   "source": []
  },
  {
   "cell_type": "code",
   "execution_count": null,
   "id": "ce88c2e9-5c11-4c12-ab93-f4a1c5a9f4a4",
   "metadata": {},
   "outputs": [],
   "source": []
  },
  {
   "cell_type": "code",
   "execution_count": null,
   "id": "2d9e117e-5ffe-4e1f-aff6-09e106c82509",
   "metadata": {},
   "outputs": [],
   "source": []
  },
  {
   "cell_type": "code",
   "execution_count": null,
   "id": "f6ed211c-fdd3-44d4-8354-e17eb497aedb",
   "metadata": {},
   "outputs": [],
   "source": []
  }
 ],
 "metadata": {
  "kernelspec": {
   "display_name": "Python 3 (ipykernel)",
   "language": "python",
   "name": "python3"
  },
  "language_info": {
   "codemirror_mode": {
    "name": "ipython",
    "version": 3
   },
   "file_extension": ".py",
   "mimetype": "text/x-python",
   "name": "python",
   "nbconvert_exporter": "python",
   "pygments_lexer": "ipython3",
   "version": "3.8.10"
  }
 },
 "nbformat": 4,
 "nbformat_minor": 5
}
