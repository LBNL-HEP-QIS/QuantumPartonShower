{
 "cells": [
  {
   "cell_type": "code",
   "execution_count": 1,
   "id": "6d683457-1d0a-4f00-8b27-0dea3bc49a55",
   "metadata": {},
   "outputs": [
    {
     "name": "stdout",
     "output_type": "stream",
     "text": [
      "Number of emissions: 1\n",
      "log(theta_max): -5.180816459236603\n",
      "Number of emissions: 1\n",
      "log(theta_max): -1.7269388197455342\n",
      "Number of emissions: 2\n",
      "log(theta_max): -1.7269388197455342\n",
      "Number of emissions: 1\n",
      "log(theta_max): -3.4538776394910684\n"
     ]
    }
   ],
   "source": [
    "####################  NQPS  ########################\n",
    "\n",
    "\n",
    "# ver4.8\n",
    "\n",
    "############################################\n",
    "##### decide which real machine to use #####\n",
    "############################################\n",
    "backend_name = 'ibm_kawasaki'\n",
    "\n",
    "############################\n",
    "##### import libraries #####\n",
    "############################\n",
    "%matplotlib inline\n",
    "%load_ext autoreload\n",
    "%autoreload 2\n",
    "\n",
    "\n",
    "from qiskit import *\n",
    "from qiskit.visualization import plot_histogram\n",
    "from qiskit import QuantumCircuit, QuantumRegister, ClassicalRegister, execute, Aer, compiler, circuit, compiler\n",
    "from qiskit.converters import circuit_to_dag, dag_to_circuit\n",
    "from pytket.extensions.qiskit import IBMQBackend, AerBackend\n",
    "import matplotlib.pyplot as plt\n",
    "from collections import Counter\n",
    "import numpy as np\n",
    "import math\n",
    "import time\n",
    "import sys\n",
    "sys.path.append('../../../aqcel_dev/aqcel_dev')\n",
    "import aqcel_dev as icepp\n",
    "sys.path.append('../')\n",
    "sys.path.append('../qiskit_legacy')\n",
    "sys.path.append('../qiskit_code')\n",
    "\n",
    "import QuantumPartonShower as qps\n",
    "import QuantumPartonShower_ReM as qpsc\n",
    "import QuantumPartonShower_ReM_2step_hardcode as qps_rhs\n",
    "import plotting as pl\n",
    "from PaperPlots import MakeObservables as mo\n",
    "\n",
    "sim_b = AerBackend()\n",
    "\n",
    "# style = {'displaycolor' : displaycolor, 'showindex' : True}"
   ]
  },
  {
   "cell_type": "code",
   "execution_count": 2,
   "id": "9d517232-d8da-4ce7-8b15-e8437f265b54",
   "metadata": {},
   "outputs": [
    {
     "name": "stdout",
     "output_type": "stream",
     "text": [
      "generated circuit on 11 qubits\n",
      "generated circuit on 11 qubits\n"
     ]
    }
   ],
   "source": [
    "N = 2\n",
    "eps= 0.001\n",
    "g_1= 2\n",
    "g_2= 1\n",
    "initialParticles= ['100'] # f1\n",
    "\n",
    "shots= 2000\n",
    "\n",
    "qps0= qps.QuantumPartonShower(N, 1) # for g12= 0\n",
    "qps1= qps.QuantumPartonShower(N, 1) # for g12= 1\n",
    "\n",
    "qc0, qubits0= qps0.createCircuit(eps, g_1, g_2, 0, initialParticles)\n",
    "qc1, qubits1= qps1.createCircuit(eps, g_1, g_2, 1, initialParticles)\n",
    "\n",
    "t1= time.time()\n",
    "counts0= qps0.simulate('qasm', shots=shots)\n",
    "t2= time.time()\n",
    "counts1= qps1.simulate('qasm', shots=shots)\n",
    "t3= time.time()"
   ]
  },
  {
   "cell_type": "code",
   "execution_count": null,
   "id": "8623b95e-c3f9-487a-9819-212513878ac6",
   "metadata": {},
   "outputs": [
    {
     "name": "stdout",
     "output_type": "stream",
     "text": [
      "type of target_qc is <class 'qiskit.circuit.quantumcircuit.QuantumCircuit'>\n"
     ]
    }
   ],
   "source": [
    "#######################\n",
    "##### apply aqcel #####\n",
    "#######################\n",
    "\n",
    "# AQCELにかかる時間を測定開始\n",
    "start_time = time.time()\n",
    "\n",
    "# AQCELのapply\n",
    "qc0 = qc1\n",
    "target_qc = qc0\n",
    "\n",
    "print(f'type of target_qc is {type(target_qc)}')\n",
    "\n",
    "aqcel_results_cc= icepp.pass_manager(target_qc, level=2, backend_tket=sim_b, shots=1024, measure_type='cc').auto_manager()\n",
    "result_qc = aqcel_results_cc[0]\n",
    "\n",
    "# qc1, qc2, qc3, qc4, qc6 = aqcel_results_cc[9], aqcel_results_cc[10], aqcel_results_cc[11], aqcel_results_cc[12], aqcel_results_cc[1]\n",
    "\n",
    "# AQCEL適用にかかった時間をprint\n",
    "end_time = time.time()\n",
    "execution_time = end_time - start_time\n",
    "print(f\"実行時間: {execution_time}秒\")"
   ]
  },
  {
   "cell_type": "code",
   "execution_count": null,
   "id": "310f6a0b-9c44-4deb-a548-df61304c1b5f",
   "metadata": {},
   "outputs": [],
   "source": [
    "#############################\n",
    "##### Before AQCEL(qc) #####\n",
    "#############################\n",
    "qc = target_qc\n",
    "print('Before AQCEL(qc)')\n",
    "print(f' - Number of gate   : {list(target_qc.count_ops().items())}')\n",
    "print(f' - Number of qubits : {target_qc.num_qubits}')\n",
    "print(f' - Depth of all     : {target_qc.depth()}')# 1から始めてmeasurementは含めないで数えてくれる\n",
    "print('')\n",
    "print('')\n",
    "\n",
    "\n",
    "\n",
    "############################\n",
    "##### After AQCEL(qc5) #####\n",
    "############################\n",
    "qc5 = result_qc\n",
    "print('After AQCEL(qc5) : After remove_qubits')\n",
    "print(f' - Number of gate   : {list(result_qc.count_ops().items())}')\n",
    "print(f' - Number of qubits : {result_qc.num_qubits}')\n",
    "print(f' - Depth of all     :{result_qc.depth()}')# 1から始めてmeasurementは含めないで数えてくれる\n",
    "print('')\n",
    "print('')\n",
    "\n",
    "\n",
    "# # かかる時間を測定開始\n",
    "# start_time = time.time()\n",
    "\n",
    "# import qiskit.quantum_info as qi\n",
    "# statevector1 = icepp.simulator(target_qc).statevector_simulator(output='statevector')\n",
    "# statevector2 = icepp.simulator(result_qc).statevector_simulator(output='statevector')\n",
    "# dm1 = qi.partial_trace(statevector1,[0, 1, 2, 3, 4, 11, 12, 13, 14, 15, 16, 17, 18, 19])\n",
    "# dm1.probabilities_dict()\n",
    "# dm2 = qi.partial_trace(statevector2,[0, 1, 2, 3, 4, 11, 12, 13, 14, 15, 16, 17, 18, 19])\n",
    "# dm2.probabilities_dict()\n",
    "\n",
    "# # かかった時間をprint\n",
    "# end_time = time.time()\n",
    "# execution_time = end_time - start_time\n",
    "# print(f\"実行時間: {execution_time}秒\")\n",
    "# print(f\"Fsim = {qi.state_fidelity(dm1,dm2)}\")"
   ]
  },
  {
   "cell_type": "code",
   "execution_count": null,
   "id": "4d934542-da93-4dc2-855f-f5da3c80996a",
   "metadata": {},
   "outputs": [],
   "source": [
    "qc0.draw('mpl')"
   ]
  },
  {
   "cell_type": "code",
   "execution_count": null,
   "id": "8a374412-22d1-428f-81e0-da59b401983e",
   "metadata": {},
   "outputs": [],
   "source": [
    "qc5.draw('mpl')"
   ]
  },
  {
   "cell_type": "code",
   "execution_count": null,
   "id": "11db81de-d00c-415e-b6d5-7566d5191054",
   "metadata": {},
   "outputs": [],
   "source": [
    "Nstep_before_AQCEL = qc0\n",
    "Nstep_after_AQCEL  = qc5"
   ]
  },
  {
   "cell_type": "code",
   "execution_count": null,
   "id": "eb63d06c-1a88-436e-a9be-cac2c48ae4bb",
   "metadata": {},
   "outputs": [],
   "source": [
    "#########################  OQPS  ################################\n",
    "\n",
    "\n",
    "\n",
    "# ver5.2\n",
    "\n",
    "############################################\n",
    "##### decide which real machine to use #####\n",
    "############################################\n",
    "backend_name = 'ibm_kawasaki'\n",
    "\n",
    "############################\n",
    "##### import libraries #####\n",
    "############################\n",
    "%matplotlib inline\n",
    "%load_ext autoreload\n",
    "%autoreload 2\n",
    "\n",
    "\n",
    "from qiskit import *\n",
    "from qiskit.visualization import plot_histogram\n",
    "from qiskit import QuantumCircuit, QuantumRegister, ClassicalRegister, execute, Aer, compiler, circuit, compiler\n",
    "from qiskit.converters import circuit_to_dag, dag_to_circuit\n",
    "from pytket.extensions.qiskit import IBMQBackend, AerBackend\n",
    "import matplotlib.pyplot as plt\n",
    "from collections import Counter\n",
    "import numpy as np\n",
    "import math\n",
    "import time\n",
    "import sys\n",
    "sys.path.append('../../../aqcel_dev/aqcel_dev')\n",
    "sys.path.append('../../../CD_Transpiler_demo_ising_PSJangM/sample/')\n",
    "import aqcel_dev as icepp\n",
    "\n",
    "from onestepSim_LBNL import runQuantum1\n",
    "from twostepSim_LBNL import runQuantum2\n",
    "\n",
    "sim_b = AerBackend()"
   ]
  },
  {
   "cell_type": "code",
   "execution_count": null,
   "id": "aba711e4-f6b1-466b-9d43-d3eca3a0a9d0",
   "metadata": {},
   "outputs": [],
   "source": [
    "qc0 = runQuantum2(gLR=1,dophisplit=1)#circuit_LBNL1"
   ]
  },
  {
   "cell_type": "code",
   "execution_count": null,
   "id": "4d2e377c-bbfe-40ae-841a-70491129fb59",
   "metadata": {},
   "outputs": [],
   "source": [
    "#######################\n",
    "##### apply aqcel #####\n",
    "#######################\n",
    "\n",
    "# AQCELにかかる時間を測定開始\n",
    "start_time = time.time()\n",
    "\n",
    "# AQCELのapply\n",
    "target_qc = qc0\n",
    "aqcel_results_cc= icepp.pass_manager(target_qc, level=2, backend_tket=sim_b, shots=1024, measure_type='cc').auto_manager()\n",
    "result_qc = aqcel_results_cc[0]\n",
    "\n",
    "# qc1, qc2, qc3, qc4, qc6 = aqcel_results_cc[9], aqcel_results_cc[10], aqcel_results_cc[11], aqcel_results_cc[12], aqcel_results_cc[1]\n",
    "\n",
    "# AQCEL適用にかかった時間をprint\n",
    "end_time = time.time()\n",
    "execution_time = end_time - start_time\n",
    "print(f\"実行時間: {execution_time}秒\")"
   ]
  },
  {
   "cell_type": "code",
   "execution_count": null,
   "id": "24d9fbcc-20c2-4c6c-ba8a-87a36987eda3",
   "metadata": {},
   "outputs": [],
   "source": [
    "#############################\n",
    "##### Before AQCEL(qc) #####\n",
    "#############################\n",
    "qc = target_qc\n",
    "print('Before AQCEL(qc)')\n",
    "print(f' - Number of gate   : {list(target_qc.count_ops().items())}')\n",
    "print(f' - Number of qubits : {target_qc.num_qubits}')\n",
    "print(f' - Depth of all     : {target_qc.depth()}')# 1から始めてmeasurementは含めないで数えてくれる\n",
    "print('')\n",
    "print('')\n",
    "\n",
    "############################\n",
    "##### After AQCEL(qc5) #####\n",
    "############################\n",
    "qc5 = result_qc\n",
    "print('After AQCEL(qc5) : After remove_qubits')\n",
    "print(f' - Number of gate   : {list(result_qc.count_ops().items())}')\n",
    "print(f' - Number of qubits : {result_qc.num_qubits}')\n",
    "print(f' - Depth of all     :{result_qc.depth()}')# 1から始めてmeasurementは含めないで数えてくれる\n",
    "print('')\n",
    "print('')\n",
    "\n",
    "\n",
    "# # かかる時間を測定開始\n",
    "# start_time = time.time()\n",
    "\n",
    "# import qiskit.quantum_info as qi\n",
    "# statevector1 = icepp.simulator(target_qc).statevector_simulator(output='statevector')\n",
    "# statevector2 = icepp.simulator(result_qc).statevector_simulator(output='statevector')\n",
    "# dm1 = qi.partial_trace(statevector1,[6, 7, 8, 9, 10])\n",
    "# dm1.probabilities_dict()\n",
    "# dm2 = qi.partial_trace(statevector2,[6, 7, 8, 9, 10, 11, 12])\n",
    "# dm2.probabilities_dict()\n",
    "\n",
    "# # かかった時間をprint\n",
    "# end_time = time.time()\n",
    "# execution_time = end_time - start_time\n",
    "# print(f\"実行時間: {execution_time}秒\")\n",
    "# print(f\"Fsim = {qi.state_fidelity(dm1,dm2)}\")"
   ]
  },
  {
   "cell_type": "code",
   "execution_count": null,
   "id": "00c7bb63-8ffe-417a-87b2-9d061ae0815c",
   "metadata": {},
   "outputs": [],
   "source": [
    "qc0.draw('mpl')"
   ]
  },
  {
   "cell_type": "code",
   "execution_count": null,
   "id": "d6b7ed6a-4b98-4dec-99a1-86f5fce65db3",
   "metadata": {},
   "outputs": [],
   "source": [
    "qc5.draw('mpl')"
   ]
  },
  {
   "cell_type": "code",
   "execution_count": null,
   "id": "ddee28d6-7a76-4161-abcd-6040f1c2791f",
   "metadata": {},
   "outputs": [],
   "source": [
    "Optimized_before_AQCEL = qc0\n",
    "Optimized_after_AQCEL  = qc5"
   ]
  },
  {
   "cell_type": "code",
   "execution_count": null,
   "id": "940855ba-e15b-4fc8-bfef-bb140be46a4d",
   "metadata": {},
   "outputs": [],
   "source": []
  },
  {
   "cell_type": "code",
   "execution_count": null,
   "id": "b157c754-3042-48cc-9fc2-8dfc59dba919",
   "metadata": {},
   "outputs": [],
   "source": [
    "# qc1←→qc1'\n",
    "\n",
    "statevector1 = icepp.simulator(Nstep_before_AQCEL).statevector_simulator(output='statevector')\n",
    "statevector2 = icepp.simulator(Nstep_after_AQCEL).statevector_simulator(output='statevector')\n",
    "dm1 = qi.partial_trace(statevector1,[0, 1, 2, 3, 4, 11, 12, 13, 14, 15, 16, 17, 18, 19])\n",
    "dm1.probabilities_dict()\n",
    "dm2 = qi.partial_trace(statevector2,[0, 1, 2, 3, 4, 11, 12, 13, 14, 15, 16, 17, 18, 19])\n",
    "dm2.probabilities_dict()\n",
    "\n",
    "print(f\"Fsim qc1←→qc1' = {qi.state_fidelity(dm1,dm2)}\")"
   ]
  },
  {
   "cell_type": "code",
   "execution_count": null,
   "id": "3d349843-26d6-4402-8b33-09077351acbd",
   "metadata": {},
   "outputs": [],
   "source": [
    "# qc2←→qc2'\n",
    "\n",
    "statevector1 = icepp.simulator(Optimized_before_AQCEL).statevector_simulator(output='statevector')\n",
    "statevector2 = icepp.simulator(Optimized_after_AQCEL).statevector_simulator(output='statevector')\n",
    "dm1 = qi.partial_trace(statevector1,[6, 7, 8, 9, 10])\n",
    "dm1.probabilities_dict()\n",
    "dm2 = qi.partial_trace(statevector2,[6, 7, 8, 9, 10, 11, 12])\n",
    "dm2.probabilities_dict()\n",
    "\n",
    "print(f\"Fsim qc2←→qc2' = {qi.state_fidelity(dm1,dm2)}\")"
   ]
  },
  {
   "cell_type": "code",
   "execution_count": null,
   "id": "646e687a-087c-4592-bbee-49856c7925ea",
   "metadata": {},
   "outputs": [],
   "source": [
    "# qc1←→qc2\n",
    "\n",
    "statevector1 = icepp.simulator(Nstep_before_AQCEL).statevector_simulator(output='statevector')\n",
    "statevector2 = icepp.simulator(Optimized_before_AQCEL).statevector_simulator(output='statevector')\n",
    "dm1 = qi.partial_trace(statevector1,[0, 1, 2, 3, 4, 11, 12, 13, 14, 15, 16, 17, 18, 19])\n",
    "dm1.probabilities_dict()\n",
    "dm2 = qi.partial_trace(statevector2,[6, 7, 8, 9, 10])\n",
    "dm2.probabilities_dict()\n",
    "\n",
    "print(f\"Fsim qc1←→qc2 = {qi.state_fidelity(dm1,dm2)}\")"
   ]
  },
  {
   "cell_type": "code",
   "execution_count": null,
   "id": "1098714d-631f-4871-ab05-54d253a98b9f",
   "metadata": {},
   "outputs": [],
   "source": [
    "# qc1'←→qc2'\n",
    "\n",
    "statevector1 = icepp.simulator(Nstep_after_AQCEL).statevector_simulator(output='statevector')\n",
    "statevector2 = icepp.simulator(Optimized_after_AQCEL).statevector_simulator(output='statevector')\n",
    "dm1 = qi.partial_trace(statevector1,[0, 1, 2, 3, 4, 11, 12, 13, 14, 15, 16, 17, 18, 19])\n",
    "dm1.probabilities_dict()\n",
    "dm2 = qi.partial_trace(statevector2,[6, 7, 8, 9, 10, 11, 12])\n",
    "dm2.probabilities_dict()\n",
    "\n",
    "print(f\"Fsim qc1'←→qc2' = {qi.state_fidelity(dm1,dm2)}\")"
   ]
  },
  {
   "cell_type": "code",
   "execution_count": null,
   "id": "0bdbccc0-35a5-4a7f-91c2-a2b8df98327d",
   "metadata": {},
   "outputs": [],
   "source": []
  },
  {
   "cell_type": "code",
   "execution_count": null,
   "id": "21b031da-b858-4017-be34-5486debcd983",
   "metadata": {},
   "outputs": [],
   "source": []
  },
  {
   "cell_type": "code",
   "execution_count": null,
   "id": "2f9e7efe-f031-4c78-8c7f-c06a7f7c7e90",
   "metadata": {},
   "outputs": [],
   "source": []
  },
  {
   "cell_type": "code",
   "execution_count": null,
   "id": "36ab74f6-b99a-4a99-b65d-099bb3d03c12",
   "metadata": {},
   "outputs": [],
   "source": []
  },
  {
   "cell_type": "code",
   "execution_count": null,
   "id": "51efe1c8-08b9-451b-901a-30e15a725ca3",
   "metadata": {},
   "outputs": [],
   "source": []
  },
  {
   "cell_type": "code",
   "execution_count": null,
   "id": "398f43f2-bb33-4a11-9a5e-711281e6ad3b",
   "metadata": {},
   "outputs": [],
   "source": []
  },
  {
   "cell_type": "code",
   "execution_count": null,
   "id": "0916ccc3-c0ba-404b-8ce2-6560fe514259",
   "metadata": {},
   "outputs": [],
   "source": []
  },
  {
   "cell_type": "code",
   "execution_count": null,
   "id": "1d30ed5a-a116-4402-b875-f102b84602b2",
   "metadata": {},
   "outputs": [],
   "source": []
  },
  {
   "cell_type": "code",
   "execution_count": null,
   "id": "7e97e72b-3ba7-40a5-86d1-fb176cbf826c",
   "metadata": {},
   "outputs": [],
   "source": []
  },
  {
   "cell_type": "code",
   "execution_count": null,
   "id": "7d30508f-15fa-4195-996b-6b94a57d3347",
   "metadata": {},
   "outputs": [],
   "source": []
  },
  {
   "cell_type": "code",
   "execution_count": null,
   "id": "5e8989f7-1e28-4355-ac58-8487dd84fa86",
   "metadata": {},
   "outputs": [],
   "source": []
  },
  {
   "cell_type": "code",
   "execution_count": null,
   "id": "af76af98-0683-4534-821b-ae7ee974eaaf",
   "metadata": {},
   "outputs": [],
   "source": []
  },
  {
   "cell_type": "code",
   "execution_count": null,
   "id": "5f5e5584-e19b-4d98-9507-5ebdb81348de",
   "metadata": {},
   "outputs": [],
   "source": []
  },
  {
   "cell_type": "code",
   "execution_count": null,
   "id": "bc3a2360-9368-43f4-bd98-f69d3f7b693a",
   "metadata": {},
   "outputs": [],
   "source": []
  },
  {
   "cell_type": "code",
   "execution_count": null,
   "id": "cd053e38-7ce8-4d93-80d9-69e93240a0a6",
   "metadata": {},
   "outputs": [],
   "source": []
  },
  {
   "cell_type": "code",
   "execution_count": null,
   "id": "4e7a83d0-a9ed-4135-8dcf-04a5a43157a5",
   "metadata": {},
   "outputs": [],
   "source": []
  }
 ],
 "metadata": {
  "kernelspec": {
   "display_name": "Python 3 (ipykernel)",
   "language": "python",
   "name": "python3"
  },
  "language_info": {
   "codemirror_mode": {
    "name": "ipython",
    "version": 3
   },
   "file_extension": ".py",
   "mimetype": "text/x-python",
   "name": "python",
   "nbconvert_exporter": "python",
   "pygments_lexer": "ipython3",
   "version": "3.9.5"
  }
 },
 "nbformat": 4,
 "nbformat_minor": 5
}
