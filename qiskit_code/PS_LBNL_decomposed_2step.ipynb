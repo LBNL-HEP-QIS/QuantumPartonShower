{
 "cells": [
  {
   "cell_type": "markdown",
   "metadata": {},
   "source": [
    "# Setup"
   ]
  },
  {
   "cell_type": "code",
   "execution_count": 2,
   "metadata": {},
   "outputs": [],
   "source": [
    "############################################\n",
    "##### decide which real machine to use #####\n",
    "############################################\n",
    "backend_name = 'ibm_kawasaki'\n",
    "\n",
    "############################\n",
    "##### import libraries #####\n",
    "############################\n",
    "import sys\n",
    "sys.path.append('../../../aqcel_dev/aqcel_dev')\n",
    "import aqcel_dev as icepp\n",
    "from pytket.extensions.qiskit import IBMQBackend, AerBackend\n",
    "from qiskit import *\n",
    "from qiskit.visualization import plot_histogram #for plotting histogram\n",
    "import numpy as np\n",
    "from qiskit import QuantumCircuit, QuantumRegister, ClassicalRegister, execute, Aer, compiler, circuit, compiler\n",
    "import math\n",
    "import time\n",
    "import matplotlib.pyplot as plt\n",
    "%matplotlib inline\n",
    "\n",
    "#########################################\n",
    "##### set IBM-Q account and backend #####\n",
    "#########################################\n",
    "sim_b = AerBackend() #全結合\n",
    "# dev_b = IBMQBackend(backend_name=backend_name, hub='ibm-q-utokyo',group='internal',project='icepp') #本物の実機"
   ]
  },
  {
   "cell_type": "markdown",
   "metadata": {},
   "source": [
    "# ①Original Cirucuit"
   ]
  },
  {
   "cell_type": "code",
   "execution_count": 4,
   "metadata": {},
   "outputs": [
    {
     "name": "stdout",
     "output_type": "stream",
     "text": [
      "Number of emissions: 1\n",
      "log(theta_max): -5.180816459236603\n",
      "Number of emissions: 1\n",
      "log(theta_max): -1.7269388197455342\n",
      "Number of emissions: 2\n",
      "log(theta_max): -1.7269388197455342\n",
      "Number of emissions: 1\n",
      "log(theta_max): -3.4538776394910684\n",
      "generated circuit on 11 qubits\n",
      "generated circuit on 11 qubits\n",
      "Qubits: 33\n",
      "Gates: OrderedDict([('ccx', 1105), ('x', 973), ('cry', 75), ('cx', 20), ('ch', 3)])\n",
      "\n",
      "Time to simulate withg g12= 0: 1738.3835072517395\n",
      "Time to simulate withg g12= 1: 1663.6817643642426\n"
     ]
    }
   ],
   "source": [
    "%load_ext autoreload\n",
    "%autoreload 2\n",
    "\n",
    "import sys\n",
    "sys.path.append('../')\n",
    "sys.path.append('../qiskit_legacy')\n",
    "sys.path.append('../qiskit_code')\n",
    "import QuantumPartonShower as qps\n",
    "import QuantumPartonShower_ReM as qpsc\n",
    "import plotting as pl\n",
    "import matplotlib\n",
    "from PaperPlots import MakeObservables as mo\n",
    "import QuantumPartonShower_ReM_2step_hardcode as qps_rhs\n",
    "\n",
    "\n",
    "eps= 0.001\n",
    "g_1= 2\n",
    "g_2= 1\n",
    "initialParticles= ['100'] # f1\n",
    "\n",
    "shots= 10000\n",
    "N= 2\n",
    "\n",
    "qps0= qps.QuantumPartonShower(N, 1) # for g12= 0\n",
    "qps1= qps.QuantumPartonShower(N, 1) # for g12= 1\n",
    "\n",
    "qc0, qubits0= qps0.createCircuit(eps, g_1, g_2, 0, initialParticles)\n",
    "qc1, qubits1= qps1.createCircuit(eps, g_1, g_2, 1, initialParticles)\n",
    "\n",
    "\n",
    "print('Qubits: ' + str(qc0.num_qubits))\n",
    "print('Gates: ' + str(qc0.count_ops()))\n",
    "\n",
    "t1= time.time()\n",
    "counts0= qps0.simulate('qasm', shots=shots)\n",
    "t2= time.time()\n",
    "counts1= qps1.simulate('qasm', shots=shots)\n",
    "t3= time.time()\n",
    "\n",
    "print('\\nTime to simulate withg g12= 0: ' + str(t2-t1))\n",
    "print('Time to simulate withg g12= 1: ' + str(t3-t2))\n",
    "\n",
    "qc = qc0"
   ]
  },
  {
   "cell_type": "code",
   "execution_count": 5,
   "metadata": {},
   "outputs": [],
   "source": [
    "# qc.draw('mpl' , fold=200)"
   ]
  },
  {
   "cell_type": "code",
   "execution_count": 6,
   "metadata": {},
   "outputs": [
    {
     "data": {
      "text/plain": [
       "OrderedDict([('ccx', 1105),\n",
       "             ('x', 973),\n",
       "             ('cry', 75),\n",
       "             ('measure', 33),\n",
       "             ('cx', 20),\n",
       "             ('ch', 3)])"
      ]
     },
     "execution_count": 6,
     "metadata": {},
     "output_type": "execute_result"
    }
   ],
   "source": [
    "####################################\n",
    "#### count the number of CNOTs #####\n",
    "####################################\n",
    "qc.count_ops()"
   ]
  },
  {
   "cell_type": "code",
   "execution_count": 7,
   "metadata": {},
   "outputs": [
    {
     "data": {
      "text/plain": [
       "972"
      ]
     },
     "execution_count": 7,
     "metadata": {},
     "output_type": "execute_result"
    }
   ],
   "source": [
    "###########################################\n",
    "##### count depth of original circuit #####\n",
    "###########################################\n",
    "qc1 = qc\n",
    "qc.depth()# 1から始めてmeasurementは含めないで数えてくれる"
   ]
  },
  {
   "cell_type": "code",
   "execution_count": 8,
   "metadata": {},
   "outputs": [],
   "source": [
    "# #####################\n",
    "# ##### n-trotter #####\n",
    "# #####################\n",
    "# #パラメータ\n",
    "# num_site = 4 #サイト数\n",
    "# j_coupling = 1 #相互作用J\n",
    "# h_ext = 3 # 横磁場h\n",
    "# # step_max = 100 # 鈴木-トロッター分解の数\n",
    "# t_max = 3 #時間発展させる時間\n",
    "# # dt = t_max/step_max # 各ステップの時間\\Delta t\n",
    "\n",
    "# #量子回路の作成\n",
    "# qr = QuantumRegister(num_site,'qr') #量子レジスタ\n",
    "# cr = ClassicalRegister(num_site,'cr') #古典レジスタ\n",
    "# qc = QuantumCircuit(qr,cr) #量子回路\n",
    "\n",
    "# # 鈴木-トロッター分解n回分\n",
    "# num_steps = 3\n",
    "# dt = t_max/num_steps\n",
    "\n",
    "# #exp(-iH_{ZZ}\\Delta t)\n",
    "# for step in range(num_steps):\n",
    "#     for i in range(num_site-1):\n",
    "\n",
    "#         qc.cx(qr[i],qr[i+1])\n",
    "#         qc.rz(-2*j_coupling*dt, qr[i+1])\n",
    "#         qc.cx(qr[i],qr[i+1])\n",
    "\n",
    "#         qc.barrier() #見た目をよくする\n",
    "\n",
    "# #exp(-iH_{X}\\Delta t)    \n",
    "# for i in range(num_site):\n",
    "#     qc.rx(-2*h_ext*dt,qr[i])\n",
    "\n",
    "# #qc.barrier()\n",
    "# qc.draw('mpl')\n",
    "# # qc.draw('mpl',filename= 'tfim_st.pdf')"
   ]
  },
  {
   "cell_type": "code",
   "execution_count": 9,
   "metadata": {},
   "outputs": [],
   "source": [
    "# ####################################\n",
    "# #### count the number of CNOTs #####\n",
    "# ####################################\n",
    "# qc.count_ops()"
   ]
  },
  {
   "cell_type": "code",
   "execution_count": 10,
   "metadata": {},
   "outputs": [],
   "source": [
    "# ###########################################\n",
    "# ##### count depth of original circuit #####\n",
    "# ###########################################\n",
    "# qc1 = qc\n",
    "# qc.depth()# 1から始めてmeasurementは含めないで数えてくれる"
   ]
  },
  {
   "cell_type": "code",
   "execution_count": 11,
   "metadata": {},
   "outputs": [],
   "source": [
    "# simulator = Aer.get_backend('qasm_simulator') # シミュレータ\n",
    "# num_shots = 1000 #測定回数\n",
    "\n",
    "# #ジョブの実行\n",
    "# job = execute(qc, simulator, shots=num_shots) #execute\n",
    "# result = job.result() # obtain results\n",
    "# counts = result.get_counts(qc) \n",
    "\n",
    "# #磁化の計算\n",
    "# mag = 0\n",
    "# for bit_string, count in counts.items():\n",
    "#     obs = 0\n",
    "#     for j in range(num_site):\n",
    "#         obs += (-1)**int(bit_string[j])\n",
    "#     mag += obs*count/num_shots/num_site"
   ]
  },
  {
   "cell_type": "code",
   "execution_count": 12,
   "metadata": {},
   "outputs": [],
   "source": [
    "# print(mag)"
   ]
  },
  {
   "cell_type": "code",
   "execution_count": 13,
   "metadata": {},
   "outputs": [],
   "source": [
    "# #パラメータ\n",
    "# num_site = 4 #サイト数\n",
    "# j_coupling = 1 #相互作用J\n",
    "# h_ext = 3 # 横磁場h\n",
    "# step_max = 100 # 鈴木-トロッター分解の数\n",
    "# t_max = 3 #時間発展させる時間\n",
    "# dt = t_max/step_max # 各ステップの時間\\Delta t\n",
    "\n",
    "# simulator = Aer.get_backend('qasm_simulator') # シミュレータ\n",
    "# num_shots = 1000 #測定回数\n",
    "\n",
    "# #量子、古典レジスタ\n",
    "# qr = QuantumRegister(num_site)\n",
    "# cr = ClassicalRegister(num_site)\n",
    "\n",
    "# #時間発展用の量子回路\n",
    "# qc_main = QuantumCircuit(qr,cr)\n",
    "\n",
    "# #測定用の回路\n",
    "# qc_meas = QuantumCircuit(qr,cr)\n",
    "# qc_meas.measure(qr,cr)\n",
    "\n",
    "# time_list_qiskit = [] #時刻のリスト\n",
    "# mag_list_qiskit = [] #磁化のリスト\n",
    "\n",
    "# #鈴木-トロッター分解\n",
    "# for step in range(1,step_max+1):\n",
    "#     #exp(-iH_{ZZ}\\Delta t)\n",
    "#     for i in range(num_site-1):\n",
    "        \n",
    "#         qc_main.cx(qr[i],qr[i+1])\n",
    "#         qc_main.rz(-2*j_coupling*dt, qr[i+1])\n",
    "#         qc_main.cx(qr[i],qr[i+1])\n",
    "\n",
    "#     #exp(-iH_{X}\\Delta t)    \n",
    "#     for i in range(num_site):\n",
    "#         qc_main.rx(-2*h_ext*dt,qr[i])\n",
    "        \n",
    "#     #測定用の回路をくっつける\n",
    "#     qc_total = qc_main.combine(qc_meas)    \n",
    "    \n",
    "#     #ジョブの実行\n",
    "#     job = execute(qc_total, simulator, shots=num_shots) #execute\n",
    "#     result = job.result() # obtain results\n",
    "#     counts = result.get_counts(qc_total) \n",
    "    \n",
    "#     #磁化の計算\n",
    "#     mag = 0\n",
    "#     for bit_string, count in counts.items():\n",
    "        \n",
    "#         obs = 0\n",
    "#         for j in range(num_site):\n",
    "#             obs += (-1)**int(bit_string[j])\n",
    "#         mag += obs*count/num_shots/num_site\n",
    "    \n",
    "#     time_list_qiskit.append(dt*step) #append time to the list of time\n",
    "#     mag_list_qiskit.append(mag) #append magnetization to the list of magnetizations"
   ]
  },
  {
   "cell_type": "code",
   "execution_count": 14,
   "metadata": {},
   "outputs": [],
   "source": [
    "# mag_list_ed = [(1+0j), (0.983529115593093+0j), (0.9348062523161028+0j), (0.8558518621626073+0j), (0.7498783958964582+0j), (0.6210839741070684+0j), (0.4744085698971666+0j), (0.3152832065575626+0j), (0.1493957240723367+0j), (-0.01751489419589597+0j), (-0.17983588370117287+0j), (-0.3322389914636137+0j), (-0.46983201767863103+0j), (-0.5883124860658533+0j), (-0.6841239613517429+0j), (-0.7546054407998797+0j), (-0.7981161282874281+0j), (-0.8141147443258616+0j), (-0.803175658616978+0j), (-0.7669328319988528+0j), (-0.7079543489780386+0j), (-0.6295618339052357+0j), (-0.5356170960741481+0j), (-0.43030095085585607+0j), (-0.3179060657281656+0j), (-0.20265833651572585+0j), (-0.08857228671355206+0j), (0.020661905590963814+0j), (0.12176681104917475+0j), (0.21194927450829706+0j), (0.28895998395859446+0j), (0.3511415166245457+0j), (0.3974611505314153+0j), (0.42752260263743685+0j), (0.4415514850468917+0j), (0.44035229325145275+0j), (0.42523892876308067+0j), (0.39794456530245215+0j), (0.3605188367954608+0j), (0.31522034569014235+0j), (0.26441072793043396+0j), (0.21045398969481524+0j), (0.15562276148860388+0j), (0.10201237269349056+0j), (0.05146440856088165+0j), (0.0055030809213749005+0j), (-0.03471077262896741+0j), (-0.0684030710441568+0j), (-0.09518403993457397+0j), (-0.11502028153257884+0j), (-0.12818609525713587+0j), (-0.13520250531759356+0j), (-0.13677411530079228+0j), (-0.13373272164453084+0j), (-0.1269927713118472+0j), (-0.11751843045966362+0j), (-0.10629705685990526+0j), (-0.09431106240468656+0j), (-0.08250067785449322+0j), (-0.07171403088651288+0j), (-0.0626470508628275+0j), (-0.05578198055310041+0j), (-0.051337463672524175+0j), (-0.049243609648132014+0j), (-0.04915160577807076+0j), (-0.05048024061832501+0j), (-0.05249316386015744+0j), (-0.05439339415991053+0j), (-0.05541774048036843+0j), (-0.054914615029685254+0j), (-0.05239392574314326+0j), (-0.04754570835399502+0j), (-0.04023241369626279+0j), (-0.030465788581933426+0j), (-0.018381336424924462+0j), (-0.004220997225332708+0j), (0.011671046323291002+0j), (0.02884157884767699+0j), (0.04671865945641654+0j), (0.0646099569270626+0j), (0.08171890620398714+0j), (0.09718379225807494+0j), (0.11013821163599624+0j), (0.11978490086424853+0j), (0.1254706709574525+0j), (0.12674937388013657+0j), (0.1234225332211644+0j), (0.11555248466780063+0j), (0.10344888728675843+0j), (0.08763449188784166+0j), (0.06879879497172225+0j), (0.04774824255375334+0j), (0.025359466027473156+0j), (0.002538758446618758+0j), (-0.01981206993778392+0j), (-0.04082519608028863+0j), (-0.05969370923146457+0j), (-0.0756970868480101+0j), (-0.08822492714213223+0j), (-0.09679756557562055+0j)]\n",
    "# plt.plot(np.linspace(0,3,100),mag_list_ed,label='ED')\n",
    "# plt.plot(time_list_qiskit, mag_list_qiskit, \".\",label='Qiskit')\n",
    "# plt.title(f'Dynamics of transverse Ising model ($N=${num_site}, $J=${j_coupling}, $h=${h_ext})')\n",
    "# plt.xlabel('time')\n",
    "# plt.ylabel('magnetization')\n",
    "# plt.legend()\n",
    "# # plt.savefig('tfim_time_evolution.pdf')\n",
    "# plt.show()"
   ]
  },
  {
   "cell_type": "code",
   "execution_count": null,
   "metadata": {},
   "outputs": [],
   "source": []
  },
  {
   "cell_type": "code",
   "execution_count": 15,
   "metadata": {
    "tags": []
   },
   "outputs": [],
   "source": [
    "# ###################################################\n",
    "# ##### input circuit you want to optimize here #####\n",
    "# ###################################################\n",
    "# qc = runQuantum1(gLR=1,dophisplit=1)#circuit_LBNL1\n",
    "# qc1 = qc\n",
    "# qc1.draw(\"mpl\")"
   ]
  },
  {
   "cell_type": "code",
   "execution_count": 16,
   "metadata": {},
   "outputs": [],
   "source": [
    "# ####################################\n",
    "# #### count the number of CNOTs #####\n",
    "# ####################################\n",
    "# qc1.count_ops()"
   ]
  },
  {
   "cell_type": "code",
   "execution_count": 17,
   "metadata": {},
   "outputs": [],
   "source": [
    "# ###########################################\n",
    "# ##### count depth of original circuit #####\n",
    "# ###########################################\n",
    "# qc1.depth()# 1から始めてmeasurementは含めないで数えてくれる"
   ]
  },
  {
   "cell_type": "code",
   "execution_count": 18,
   "metadata": {
    "tags": []
   },
   "outputs": [],
   "source": [
    "# ###################################################\n",
    "# ##### input circuit you want to optimize here #####\n",
    "# ###################################################\n",
    "# qc = runQuantum2(gLR=1,dophisplit=1)#circuit_LBNL2\n",
    "# qc2 = qc\n",
    "# qc2.draw(\"mpl\")"
   ]
  },
  {
   "cell_type": "code",
   "execution_count": 19,
   "metadata": {},
   "outputs": [],
   "source": [
    "# #####################################\n",
    "# ##### count the number of CNOTs #####\n",
    "# #####################################\n",
    "# qc2.count_ops()"
   ]
  },
  {
   "cell_type": "code",
   "execution_count": 20,
   "metadata": {},
   "outputs": [],
   "source": [
    "# ###########################################\n",
    "# ##### count depth of original circuit #####\n",
    "# ###########################################\n",
    "# qc2.depth()# 1から始めてmeasurementは含めないで数えてくれる"
   ]
  },
  {
   "cell_type": "markdown",
   "metadata": {},
   "source": [
    "### ②Original Cirucuit decomposed"
   ]
  },
  {
   "cell_type": "code",
   "execution_count": 21,
   "metadata": {
    "tags": []
   },
   "outputs": [],
   "source": [
    "######################################\n",
    "##### decompose original circuit #####\n",
    "######################################\n",
    "qc3 = qc1.decompose()"
   ]
  },
  {
   "cell_type": "code",
   "execution_count": 22,
   "metadata": {
    "tags": []
   },
   "outputs": [],
   "source": [
    "##########################################\n",
    "##### too long so do not draw ciruit #####\n",
    "##########################################\n",
    "# qc3.draw(\"mpl\", fold=49)"
   ]
  },
  {
   "cell_type": "code",
   "execution_count": 23,
   "metadata": {},
   "outputs": [
    {
     "data": {
      "text/plain": [
       "OrderedDict([('cx', 6803),\n",
       "             ('t', 4423),\n",
       "             ('tdg', 3318),\n",
       "             ('h', 2216),\n",
       "             ('u3', 973),\n",
       "             ('ry', 150),\n",
       "             ('measure', 33),\n",
       "             ('s', 3),\n",
       "             ('sdg', 3)])"
      ]
     },
     "execution_count": 23,
     "metadata": {},
     "output_type": "execute_result"
    }
   ],
   "source": [
    "#####################################\n",
    "##### count the number of CNOTs #####\n",
    "#####################################\n",
    "qc3.count_ops()"
   ]
  },
  {
   "cell_type": "code",
   "execution_count": 24,
   "metadata": {},
   "outputs": [
    {
     "data": {
      "text/plain": [
       "7537"
      ]
     },
     "execution_count": 24,
     "metadata": {},
     "output_type": "execute_result"
    }
   ],
   "source": [
    "######################################################\n",
    "##### count depth of decomposed original circuit #####\n",
    "######################################################\n",
    "qc3.depth()"
   ]
  },
  {
   "cell_type": "code",
   "execution_count": 25,
   "metadata": {
    "tags": []
   },
   "outputs": [],
   "source": [
    "# ######################################\n",
    "# ##### decompose original circuit #####\n",
    "# ######################################\n",
    "# qc4_1 = qc2.decompose()\n",
    "# qc4_2 = qc4_1.decompose()"
   ]
  },
  {
   "cell_type": "code",
   "execution_count": 26,
   "metadata": {
    "tags": []
   },
   "outputs": [],
   "source": [
    "\n",
    "# ##########################################\n",
    "# ##### too long so do not draw ciruit #####\n",
    "# ##########################################\n",
    "# qc4_2.draw(\"mpl\", fold=130)"
   ]
  },
  {
   "cell_type": "code",
   "execution_count": 27,
   "metadata": {},
   "outputs": [],
   "source": [
    "# #####################################\n",
    "# ##### count the number of CNOTs #####\n",
    "# #####################################\n",
    "# qc4_1.count_ops()"
   ]
  },
  {
   "cell_type": "code",
   "execution_count": 28,
   "metadata": {},
   "outputs": [],
   "source": [
    "# #####################################\n",
    "# ##### count the number of CNOTs #####\n",
    "# #####################################\n",
    "# qc4_2.count_ops()"
   ]
  },
  {
   "cell_type": "code",
   "execution_count": 29,
   "metadata": {},
   "outputs": [],
   "source": [
    "# ######################################################\n",
    "# ##### count depth of decomposed original circuit #####\n",
    "# ######################################################\n",
    "# qc4_2.depth()"
   ]
  },
  {
   "cell_type": "code",
   "execution_count": 30,
   "metadata": {
    "tags": []
   },
   "outputs": [],
   "source": [
    "# ################################\n",
    "# ##### make example circuit #####\n",
    "# ################################\n",
    "# qc = QuantumCircuit(4)\n",
    "\n",
    "# qc.cx(0,1)\n",
    "# qc.cx(2,3)\n",
    "# qc.cx(1,2)\n",
    "# qc.h(1)\n",
    "# qc.cx(1,2)\n",
    "# qc.cx(0,1)\n",
    "# qc.cx(2,3)\n",
    "\n",
    "# qc5 = qc\n",
    "# qc5.draw('mpl')"
   ]
  },
  {
   "cell_type": "code",
   "execution_count": 31,
   "metadata": {},
   "outputs": [],
   "source": [
    "# #####################################\n",
    "# ##### count the number of CNOTs #####\n",
    "# #####################################\n",
    "# qc5.count_ops()"
   ]
  },
  {
   "cell_type": "code",
   "execution_count": 32,
   "metadata": {},
   "outputs": [],
   "source": [
    "# ##########################################\n",
    "# ##### count depth of example circuit #####\n",
    "# ##########################################\n",
    "# qc5.depth()"
   ]
  },
  {
   "cell_type": "markdown",
   "metadata": {},
   "source": [
    "# ③AQCEL circuit optimization"
   ]
  },
  {
   "cell_type": "code",
   "execution_count": null,
   "metadata": {
    "tags": []
   },
   "outputs": [],
   "source": [
    "#######################\n",
    "##### apply aqcel #####\n",
    "#######################\n",
    "test = qc3\n",
    "aqcel_results_cc = aqcel_dev.pass_manager(test, level=2, backend_tket=sim_b, shots=1024, measure_type='cc').auto_manager()"
   ]
  },
  {
   "cell_type": "code",
   "execution_count": null,
   "metadata": {
    "tags": []
   },
   "outputs": [],
   "source": [
    "#################################\n",
    "##### depth of removed CNOT #####\n",
    "#################################\n",
    "depth_ls = aqcel_results_cc[2]\n",
    "print(f'number of reduced CNOTs: {len(depth_ls)}')  #2stepなら122になってほしい #元のcircuitのCNOTが155でAQCEL後には81なので74が出力されれば正解\n",
    "print(f'depth list of removed CNOTs: {depth_ls}')"
   ]
  },
  {
   "cell_type": "code",
   "execution_count": null,
   "metadata": {},
   "outputs": [],
   "source": [
    "############################\n",
    "##### depth CNOTs exit #####\n",
    "############################\n",
    "depth_cnot = aqcel_results_cc[4]\n",
    "print(len(depth_cnot))#元のcircuitのCNOTの数を表すので155が出力されれば正解\n",
    "print(depth_cnot)"
   ]
  },
  {
   "cell_type": "code",
   "execution_count": null,
   "metadata": {},
   "outputs": [],
   "source": [
    "##########################################\n",
    "##### graph of depth of removed CNOT #####\n",
    "##########################################\n",
    "\n",
    "max_depth =  test.depth()\n",
    "x = np.arange(max_depth + 1) # 1 to maximum depth\n",
    "y = np.zeros(max_depth + 1) # initial count is zero\n",
    "for n in depth_ls:\n",
    "    y[n] += 1\n",
    "\n",
    "\n",
    "plt.bar(x, y, color = 'green')\n",
    "plt.xlim(0.5, max_depth + 0.5)\n",
    "plt.ylim(0, 5)\n",
    "#plt.xticks([0, 5, 10], ['c0', 'c6', 'c10])\n",
    "#plt.yticks([0, 5, 10], ['c0', 'c6', 'c10])\n",
    "# plt.minorticks_on()\n",
    "# plt.xscale('log')\n",
    "# plt.yscale('log')\n",
    "plt.title('number of the removed CNOTs')\n",
    "plt.xlabel('depth')\n",
    "plt.ylabel('number of removed CNOTs')\n",
    "# plt.grid()\n",
    "#plt.legend()\n",
    "#plt.savefig(\"figures/figure.pdf\")\n",
    "plt.show()"
   ]
  },
  {
   "cell_type": "code",
   "execution_count": null,
   "metadata": {},
   "outputs": [],
   "source": [
    "##########################################\n",
    "##### graph of depth of removed CNOT #####\n",
    "##########################################\n",
    "x = depth_ls\n",
    "\n",
    "\n",
    "plt.hist(x, bins = 4, color = 'green')\n",
    "# plt.xlim(0.5, max_depth + 0.5)\n",
    "# plt.ylim(0, 5)\n",
    "#plt.xticks([0, 5, 10], ['c0', 'c6', 'c10])\n",
    "#plt.yticks([0, 5, 10], ['c0', 'c6', 'c10])\n",
    "# plt.minorticks_on()\n",
    "# plt.xscale('log')\n",
    "# plt.yscale('log')\n",
    "plt.title('number of the removed CNOTs')\n",
    "plt.xlabel('depth')\n",
    "plt.ylabel('number of removed CNOTs')\n",
    "# plt.grid()\n",
    "#plt.legend()\n",
    "#plt.savefig(\"figures/figure.pdf\")\n",
    "plt.show()"
   ]
  },
  {
   "cell_type": "code",
   "execution_count": null,
   "metadata": {},
   "outputs": [],
   "source": [
    "##########################################\n",
    "##### graph of depth of removed CNOT #####\n",
    "##########################################\n",
    "\n",
    "# 64,16\n",
    "width = 16  # width of histogram\n",
    "\n",
    "# example:\n",
    "# >>> np.zeros(5)\n",
    "# array([ 0.,  0.,  0.,  0.,  0.])\n",
    "\n",
    "num_cnot_rem = np.zeros(max_depth//width + 1) # array of 6 zeros\n",
    "for n in range(max_depth): # n = 0 - 5\n",
    "    if n == (max_depth//width + 1): # max_depth//width + 1 = 256//50 + 1 =  6\n",
    "        break\n",
    "    else:\n",
    "        for m in range(width*n + 1 , width*(n+1) + 1):\n",
    "            num_cnot_rem[n] += depth_ls.count(m)\n",
    "            \n",
    "            \n",
    "print(f'number of removed CNOTs = {num_cnot_rem}' )\n",
    "x = np.arange(1, max_depth//width + 2)[:-1] # x = [1 2 3 4 5]\n",
    "y = num_cnot_rem[:-1]\n",
    "\n",
    "\n",
    "\n",
    "plt.plot(x, y, color = 'green')\n",
    "plt.scatter(x, y, marker = 'x', color = 'green')\n",
    "# plt.xlim(0.5, 4.5)\n",
    "plt.ylim(0)\n",
    "# plt.xticks(x , ['1-64', '65-128', '129-192', '195-256'])\n",
    "# plt.xticks(x , ['1-16', '17-32', '33-48', '49-64', '65-80', '81-96', '97-112', '113-128', '129-144', '145-160', '161-176', '177-192', '193-208', '209-224', '225-240', '240-256'], rotation = 45)\n",
    "#plt.yticks([0, 5, 10], ['c0', 'c6', 'c10])\n",
    "# plt.minorticks_on()\n",
    "# plt.xscale('log')\n",
    "# plt.yscale('log')\n",
    "plt.title('number of the removed CNOTs')\n",
    "plt.xlabel('depth')\n",
    "plt.ylabel('number of the removed CNOTs')\n",
    "# plt.grid()\n",
    "#plt.legend()\n",
    "#plt.savefig(\"figures/figure.pdf\")\n",
    "plt.show()"
   ]
  },
  {
   "cell_type": "code",
   "execution_count": null,
   "metadata": {},
   "outputs": [],
   "source": [
    "#################################\n",
    "##### distribution of CNOTs #####\n",
    "#################################\n",
    "\n",
    "# 64,16\n",
    "width = 16  # width of histogram\n",
    "\n",
    "# example:\n",
    "# >>> np.zeros(5)\n",
    "# array([ 0.,  0.,  0.,  0.,  0.])\n",
    "\n",
    "num_cnot_ori = np.zeros(max_depth//width + 1) # array of 6 zeros\n",
    "for n in range(max_depth): # n = 0 - 5\n",
    "    if n == (max_depth//width + 1): # max_depth//width + 1 = 256//50 + 1 =  6\n",
    "        break\n",
    "    else:\n",
    "        for m in range(width*n + 1 , width*(n+1) + 1):\n",
    "            num_cnot_ori[n] += depth_cnot.count(m)\n",
    "            \n",
    "            \n",
    "print(f'number of original CNOTs = {num_cnot_ori}')\n",
    "x = np.arange(1, max_depth//width + 2)[:-1] # x = [1 2 3 4 5]\n",
    "y = num_cnot_ori[:-1]\n",
    "\n",
    "\n",
    "\n",
    "plt.plot(x, y, color = 'green')\n",
    "plt.scatter(x, y, marker = 'x', color = 'green')\n",
    "# plt.xlim(0.5, 4.5)\n",
    "plt.ylim(0)\n",
    "# plt.xticks(x , ['1-64', '65-128', '129-192', '195-256'])\n",
    "# plt.xticks(x , ['1-16', '17-32', '33-48', '49-64', '65-80', '81-96', '97-112', '113-128', '129-144', '145-160', '161-176', '177-192', '193-208', '209-224', '225-240', '240-256'], rotation = 45)\n",
    "#plt.yticks([0, 5, 10], ['c0', 'c6', 'c10])\n",
    "# plt.minorticks_on()\n",
    "# plt.xscale('log')\n",
    "# plt.yscale('log')\n",
    "plt.title('number of CNOTs in original circuit')\n",
    "plt.xlabel('depth')\n",
    "plt.ylabel('number of CNOTs in original circuit')\n",
    "# plt.grid()\n",
    "#plt.legend()\n",
    "#plt.savefig(\"figures/figure.pdf\")\n",
    "plt.show()"
   ]
  },
  {
   "cell_type": "code",
   "execution_count": null,
   "metadata": {},
   "outputs": [],
   "source": [
    "#########################################\n",
    "##### graph of rate of removed CNOT #####\n",
    "#########################################\n",
    "\n",
    "width = 16 # width of histogram\n",
    "\n",
    "# example:\n",
    "# >>> np.zeros(5)\n",
    "# array([ 0.,  0.,  0.,  0.,  0.])\n",
    "\n",
    "num_cnot_ori = np.zeros(max_depth//width + 1) # array of 6 zeros\n",
    "num_cnot_rem = np.zeros(max_depth//width + 1) # array of 6 zeros\n",
    "for n in range(max_depth): # n = 0 - 5\n",
    "    if n == (max_depth//width + 1): # max_depth//width + 1 = 256//50 + 1 =  6\n",
    "        break\n",
    "    else:\n",
    "        for m in range(width*n + 1 , width*(n+1) + 1):\n",
    "            num_cnot_ori[n] += depth_cnot.count(m)\n",
    "            num_cnot_rem[n] += depth_ls.count(m)\n",
    "            \n",
    "            \n",
    "print(f'number of removed CNOTs = {num_cnot_rem}' )\n",
    "print(f'number of original CNOTs = {num_cnot_ori}')\n",
    "x = np.arange(1, max_depth//width + 2)[:-1] # x = [1 2 3 4 5]\n",
    "y = num_cnot_rem[:-1] / num_cnot_ori[:-1]\n",
    "\n",
    "\n",
    "\n",
    "plt.bar(x, y, color = 'green')\n",
    "# plt.xlim(0.5, max_depth + 0.5)\n",
    "# plt.ylim(0, 1)\n",
    "# plt.xticks(x , ['1-64', '65-128', '129-192', '195-256'])\n",
    "# plt.xticks(x , ['1-16', '17-32', '33-48', '49-64', '65-80', '81-96', '97-112', '113-128', '129-144', '145-160', '161-176', '177-192', '193-208', '209-224', '225-240', '240-256'], rotation = 45)\n",
    "#plt.yticks([0, 5, 10], ['c0', 'c6', 'c10])\n",
    "# plt.minorticks_on()\n",
    "# plt.xscale('log')\n",
    "# plt.yscale('log')\n",
    "plt.title('rate of the removed CNOT')\n",
    "plt.xlabel('depth')\n",
    "plt.ylabel('rate of the removed CNOT')\n",
    "# plt.grid()\n",
    "#plt.legend()\n",
    "#plt.savefig(\"figures/figure.pdf\")\n",
    "plt.show()"
   ]
  },
  {
   "cell_type": "code",
   "execution_count": null,
   "metadata": {},
   "outputs": [],
   "source": [
    "#########################################\n",
    "##### graph of rate of removed CNOT #####\n",
    "#########################################\n",
    "\n",
    "# 64,16\n",
    "width = 16  # width of histogram\n",
    "\n",
    "# example:\n",
    "# >>> np.zeros(5)\n",
    "# array([ 0.,  0.,  0.,  0.,  0.])\n",
    "\n",
    "num_cnot_ori = np.zeros(max_depth//width + 1) # array of 6 zeros\n",
    "num_cnot_rem = np.zeros(max_depth//width + 1) # array of 6 zeros\n",
    "for n in range(max_depth): # n = 0 - 5\n",
    "    if n == (max_depth//width + 1): # max_depth//width + 1 = 256//50 + 1 =  6\n",
    "        break\n",
    "    else:\n",
    "        for m in range(width*n + 1 , width*(n+1) + 1):\n",
    "            num_cnot_ori[n] += depth_cnot.count(m)\n",
    "            num_cnot_rem[n] += depth_ls.count(m)\n",
    "            \n",
    "            \n",
    "print(f'number of removed CNOTs = {num_cnot_rem}' )\n",
    "print(f'number of original CNOTs = {num_cnot_ori}')\n",
    "x = np.arange(1, max_depth//width + 2)[:-1] # x = [1 2 3 4 5]\n",
    "y = num_cnot_rem[:-1] / num_cnot_ori[:-1]\n",
    "\n",
    "\n",
    "\n",
    "plt.plot(x, y, color = 'green')\n",
    "plt.scatter(x, y, marker = 'x', color = 'green')\n",
    "# plt.xlim(0.5, 4.5)\n",
    "plt.ylim(0, 1)\n",
    "# plt.xticks(x , ['1-64', '65-128', '129-192', '195-256'])\n",
    "# plt.xticks(x , ['1-16', '17-32', '33-48', '49-64', '65-80', '81-96', '97-112', '113-128', '129-144', '145-160', '161-176', '177-192', '193-208', '209-224', '225-240', '240-256'], rotation = 45)\n",
    "#plt.yticks([0, 5, 10], ['c0', 'c6', 'c10])\n",
    "# plt.minorticks_on()\n",
    "# plt.xscale('log')\n",
    "# plt.yscale('log')\n",
    "plt.title('rate of the removed CNOT')\n",
    "plt.xlabel('depth')\n",
    "plt.ylabel('rate of the removed CNOT')\n",
    "# plt.grid()\n",
    "#plt.legend()\n",
    "#plt.savefig(\"figures/figure.pdf\")\n",
    "plt.show()"
   ]
  },
  {
   "cell_type": "code",
   "execution_count": null,
   "metadata": {
    "tags": []
   },
   "outputs": [],
   "source": [
    "##############################################\n",
    "##### depth of removed Toffoli into CNOT #####\n",
    "##############################################\n",
    "depth_ls_tof = aqcel_results_cc[3]\n",
    "print(depth_ls_tof)"
   ]
  },
  {
   "cell_type": "code",
   "execution_count": null,
   "metadata": {
    "jupyter": {
     "source_hidden": true
    },
    "tags": []
   },
   "outputs": [],
   "source": [
    "#######################################################\n",
    "##### graph of depth of removed Toffoli into CNOT #####\n",
    "#######################################################\n",
    "##########################################\n",
    "##### graph of depth of removed CNOT #####\n",
    "##########################################\n",
    "max_depth =  test.depth()\n",
    "x = np.arange(max_depth + 1) # 1 to maximum depth\n",
    "y = np.zeros(max_depth + 1) # initial count is zero\n",
    "for n in depth_ls_tof:\n",
    "    y[n] += 1\n",
    "\n",
    "\n",
    "plt.bar(x, y)\n",
    "plt.xlim(0.5, max_depth + 0.5)\n",
    "plt.ylim(0, 3)\n",
    "#plt.xticks([0, 5, 10], ['c0', 'c6', 'c10])\n",
    "#plt.yticks([0, 5, 10], ['c0', 'c6', 'c10])\n",
    "# plt.minorticks_on()\n",
    "# plt.xscale('log')\n",
    "# plt.yscale('log')\n",
    "plt.title('depth of the removed CNOT')\n",
    "plt.xlabel('depth')\n",
    "plt.ylabel('the number of removed CNOTs')\n",
    "# plt.grid()\n",
    "#plt.legend()\n",
    "#plt.savefig(\"figures/figure.pdf\")\n",
    "plt.show()"
   ]
  },
  {
   "cell_type": "code",
   "execution_count": null,
   "metadata": {
    "tags": []
   },
   "outputs": [],
   "source": [
    "############################\n",
    "##### draw the circuit #####\n",
    "############################\n",
    "# aqcel_results_cc[0].draw('mpl', fold=100)"
   ]
  },
  {
   "cell_type": "code",
   "execution_count": null,
   "metadata": {},
   "outputs": [],
   "source": [
    "#####################################\n",
    "##### count the number of CNOTs #####\n",
    "#####################################\n",
    "aqcel_results_cc[0].count_ops()"
   ]
  },
  {
   "cell_type": "markdown",
   "metadata": {},
   "source": [
    "#### ④AQCEL circuit optimization decomposed"
   ]
  },
  {
   "cell_type": "code",
   "execution_count": null,
   "metadata": {
    "tags": []
   },
   "outputs": [],
   "source": [
    "#################################\n",
    "##### decompose the circuit #####\n",
    "#################################\n",
    "aqcel_results_cc_2 = aqcel_results_cc[0].decompose()\n",
    "# aqcel_results_cc_2.draw('mpl',fold=100)"
   ]
  },
  {
   "cell_type": "code",
   "execution_count": null,
   "metadata": {},
   "outputs": [],
   "source": [
    "#####################################\n",
    "##### count the number of CNOTs #####\n",
    "#####################################\n",
    "aqcel_results_cc_2.count_ops()"
   ]
  },
  {
   "cell_type": "code",
   "execution_count": null,
   "metadata": {
    "tags": []
   },
   "outputs": [],
   "source": []
  },
  {
   "cell_type": "code",
   "execution_count": null,
   "metadata": {},
   "outputs": [],
   "source": []
  },
  {
   "cell_type": "code",
   "execution_count": null,
   "metadata": {},
   "outputs": [],
   "source": []
  },
  {
   "cell_type": "code",
   "execution_count": null,
   "metadata": {},
   "outputs": [],
   "source": []
  },
  {
   "cell_type": "code",
   "execution_count": null,
   "metadata": {},
   "outputs": [],
   "source": []
  },
  {
   "cell_type": "code",
   "execution_count": null,
   "metadata": {},
   "outputs": [],
   "source": []
  },
  {
   "cell_type": "code",
   "execution_count": null,
   "metadata": {},
   "outputs": [],
   "source": []
  },
  {
   "cell_type": "code",
   "execution_count": null,
   "metadata": {},
   "outputs": [],
   "source": []
  },
  {
   "cell_type": "code",
   "execution_count": null,
   "metadata": {},
   "outputs": [],
   "source": []
  },
  {
   "cell_type": "code",
   "execution_count": null,
   "metadata": {},
   "outputs": [],
   "source": []
  },
  {
   "cell_type": "code",
   "execution_count": null,
   "metadata": {},
   "outputs": [],
   "source": []
  },
  {
   "cell_type": "code",
   "execution_count": null,
   "metadata": {},
   "outputs": [],
   "source": []
  },
  {
   "cell_type": "code",
   "execution_count": null,
   "metadata": {},
   "outputs": [],
   "source": []
  },
  {
   "cell_type": "code",
   "execution_count": null,
   "metadata": {},
   "outputs": [],
   "source": []
  },
  {
   "cell_type": "code",
   "execution_count": null,
   "metadata": {},
   "outputs": [],
   "source": []
  },
  {
   "cell_type": "code",
   "execution_count": null,
   "metadata": {},
   "outputs": [],
   "source": []
  },
  {
   "cell_type": "code",
   "execution_count": null,
   "metadata": {},
   "outputs": [],
   "source": []
  },
  {
   "cell_type": "code",
   "execution_count": null,
   "metadata": {},
   "outputs": [],
   "source": []
  },
  {
   "cell_type": "code",
   "execution_count": null,
   "metadata": {},
   "outputs": [],
   "source": []
  },
  {
   "cell_type": "code",
   "execution_count": null,
   "metadata": {},
   "outputs": [],
   "source": []
  },
  {
   "cell_type": "code",
   "execution_count": null,
   "metadata": {},
   "outputs": [],
   "source": []
  },
  {
   "cell_type": "code",
   "execution_count": null,
   "metadata": {},
   "outputs": [],
   "source": []
  }
 ],
 "metadata": {
  "kernelspec": {
   "display_name": "Python 3 (ipykernel)",
   "language": "python",
   "name": "python3"
  },
  "language_info": {
   "codemirror_mode": {
    "name": "ipython",
    "version": 3
   },
   "file_extension": ".py",
   "mimetype": "text/x-python",
   "name": "python",
   "nbconvert_exporter": "python",
   "pygments_lexer": "ipython3",
   "version": "3.8.10"
  }
 },
 "nbformat": 4,
 "nbformat_minor": 4
}
