{
 "cells": [
  {
   "cell_type": "code",
   "execution_count": 1,
   "id": "940855ba-e15b-4fc8-bfef-bb140be46a4d",
   "metadata": {},
   "outputs": [
    {
     "ename": "QasmError",
     "evalue": "\"Duplicate declaration for qreg 'p' at line 4, file .\\nPrevious occurrence at line 24, file /usr/local/lib/python3.8/dist-packages/qiskit/qasm/libs/qelib1.inc\"",
     "output_type": "error",
     "traceback": [
      "\u001b[0;31m---------------------------------------------------------------------------\u001b[0m",
      "\u001b[0;31mQasmError\u001b[0m                                 Traceback (most recent call last)",
      "Cell \u001b[0;32mIn [1], line 14\u001b[0m\n\u001b[1;32m     11\u001b[0m \u001b[38;5;28;01mwith\u001b[39;00m \u001b[38;5;28mopen\u001b[39m(\u001b[38;5;124m\"\u001b[39m\u001b[38;5;124mdata/circuit.qasm_NQPSA\u001b[39m\u001b[38;5;124m\"\u001b[39m, \u001b[38;5;124m\"\u001b[39m\u001b[38;5;124mr\u001b[39m\u001b[38;5;124m\"\u001b[39m) \u001b[38;5;28;01mas\u001b[39;00m f:\n\u001b[1;32m     12\u001b[0m     qasm_str_NQPSA \u001b[38;5;241m=\u001b[39m f\u001b[38;5;241m.\u001b[39mread()\n\u001b[0;32m---> 14\u001b[0m Nstep_before_AQCEL \u001b[38;5;241m=\u001b[39m \u001b[43mqiskit\u001b[49m\u001b[38;5;241;43m.\u001b[39;49m\u001b[43mQuantumCircuit\u001b[49m\u001b[38;5;241;43m.\u001b[39;49m\u001b[43mfrom_qasm_str\u001b[49m\u001b[43m(\u001b[49m\u001b[43mqasm_str_NQPSB\u001b[49m\u001b[43m)\u001b[49m\n\u001b[1;32m     15\u001b[0m Nstep_after_AQCEL  \u001b[38;5;241m=\u001b[39m qiskit\u001b[38;5;241m.\u001b[39mQuantumCircuit\u001b[38;5;241m.\u001b[39mfrom_qasm_str(qasm_str_NQPSA)\n\u001b[1;32m     17\u001b[0m \u001b[38;5;66;03m# QASM形式のファイルからQuantumCircuitを読み込む\u001b[39;00m\n",
      "File \u001b[0;32m/usr/local/lib/python3.8/dist-packages/qiskit/circuit/quantumcircuit.py:2040\u001b[0m, in \u001b[0;36mQuantumCircuit.from_qasm_str\u001b[0;34m(qasm_str)\u001b[0m\n\u001b[1;32m   2032\u001b[0m \u001b[38;5;124;03m\"\"\"Take in a QASM string and generate a QuantumCircuit object.\u001b[39;00m\n\u001b[1;32m   2033\u001b[0m \n\u001b[1;32m   2034\u001b[0m \u001b[38;5;124;03mArgs:\u001b[39;00m\n\u001b[0;32m   (...)\u001b[0m\n\u001b[1;32m   2037\u001b[0m \u001b[38;5;124;03m  QuantumCircuit: The QuantumCircuit object for the input QASM\u001b[39;00m\n\u001b[1;32m   2038\u001b[0m \u001b[38;5;124;03m\"\"\"\u001b[39;00m\n\u001b[1;32m   2039\u001b[0m qasm \u001b[38;5;241m=\u001b[39m Qasm(data\u001b[38;5;241m=\u001b[39mqasm_str)\n\u001b[0;32m-> 2040\u001b[0m \u001b[38;5;28;01mreturn\u001b[39;00m \u001b[43m_circuit_from_qasm\u001b[49m\u001b[43m(\u001b[49m\u001b[43mqasm\u001b[49m\u001b[43m)\u001b[49m\n",
      "File \u001b[0;32m/usr/local/lib/python3.8/dist-packages/qiskit/circuit/quantumcircuit.py:2985\u001b[0m, in \u001b[0;36m_circuit_from_qasm\u001b[0;34m(qasm)\u001b[0m\n\u001b[1;32m   2982\u001b[0m \u001b[38;5;28;01mfrom\u001b[39;00m \u001b[38;5;21;01mqiskit\u001b[39;00m\u001b[38;5;21;01m.\u001b[39;00m\u001b[38;5;21;01mconverters\u001b[39;00m \u001b[38;5;28;01mimport\u001b[39;00m ast_to_dag\n\u001b[1;32m   2983\u001b[0m \u001b[38;5;28;01mfrom\u001b[39;00m \u001b[38;5;21;01mqiskit\u001b[39;00m\u001b[38;5;21;01m.\u001b[39;00m\u001b[38;5;21;01mconverters\u001b[39;00m \u001b[38;5;28;01mimport\u001b[39;00m dag_to_circuit\n\u001b[0;32m-> 2985\u001b[0m ast \u001b[38;5;241m=\u001b[39m \u001b[43mqasm\u001b[49m\u001b[38;5;241;43m.\u001b[39;49m\u001b[43mparse\u001b[49m\u001b[43m(\u001b[49m\u001b[43m)\u001b[49m\n\u001b[1;32m   2986\u001b[0m dag \u001b[38;5;241m=\u001b[39m ast_to_dag(ast)\n\u001b[1;32m   2987\u001b[0m \u001b[38;5;28;01mreturn\u001b[39;00m dag_to_circuit(dag)\n",
      "File \u001b[0;32m/usr/local/lib/python3.8/dist-packages/qiskit/qasm/qasm.py:53\u001b[0m, in \u001b[0;36mQasm.parse\u001b[0;34m(self)\u001b[0m\n\u001b[1;32m     51\u001b[0m \u001b[38;5;28;01mwith\u001b[39;00m QasmParser(\u001b[38;5;28mself\u001b[39m\u001b[38;5;241m.\u001b[39m_filename) \u001b[38;5;28;01mas\u001b[39;00m qasm_p:\n\u001b[1;32m     52\u001b[0m     qasm_p\u001b[38;5;241m.\u001b[39mparse_debug(\u001b[38;5;28;01mFalse\u001b[39;00m)\n\u001b[0;32m---> 53\u001b[0m     \u001b[38;5;28;01mreturn\u001b[39;00m \u001b[43mqasm_p\u001b[49m\u001b[38;5;241;43m.\u001b[39;49m\u001b[43mparse\u001b[49m\u001b[43m(\u001b[49m\u001b[38;5;28;43mself\u001b[39;49m\u001b[38;5;241;43m.\u001b[39;49m\u001b[43m_data\u001b[49m\u001b[43m)\u001b[49m\n",
      "File \u001b[0;32m/usr/local/lib/python3.8/dist-packages/qiskit/qasm/qasmparser.py:1140\u001b[0m, in \u001b[0;36mQasmParser.parse\u001b[0;34m(self, data)\u001b[0m\n\u001b[1;32m   1138\u001b[0m \u001b[38;5;28;01mdef\u001b[39;00m \u001b[38;5;21mparse\u001b[39m(\u001b[38;5;28mself\u001b[39m, data):\n\u001b[1;32m   1139\u001b[0m     \u001b[38;5;124;03m\"\"\"Parse some data.\"\"\"\u001b[39;00m\n\u001b[0;32m-> 1140\u001b[0m     \u001b[38;5;28;43mself\u001b[39;49m\u001b[38;5;241;43m.\u001b[39;49m\u001b[43mparser\u001b[49m\u001b[38;5;241;43m.\u001b[39;49m\u001b[43mparse\u001b[49m\u001b[43m(\u001b[49m\u001b[43mdata\u001b[49m\u001b[43m,\u001b[49m\u001b[43m \u001b[49m\u001b[43mlexer\u001b[49m\u001b[38;5;241;43m=\u001b[39;49m\u001b[38;5;28;43mself\u001b[39;49m\u001b[38;5;241;43m.\u001b[39;49m\u001b[43mlexer\u001b[49m\u001b[43m,\u001b[49m\u001b[43m \u001b[49m\u001b[43mdebug\u001b[49m\u001b[38;5;241;43m=\u001b[39;49m\u001b[38;5;28;43mself\u001b[39;49m\u001b[38;5;241;43m.\u001b[39;49m\u001b[43mparse_deb\u001b[49m\u001b[43m)\u001b[49m\n\u001b[1;32m   1141\u001b[0m     \u001b[38;5;28;01mif\u001b[39;00m \u001b[38;5;28mself\u001b[39m\u001b[38;5;241m.\u001b[39mqasm \u001b[38;5;129;01mis\u001b[39;00m \u001b[38;5;28;01mNone\u001b[39;00m:\n\u001b[1;32m   1142\u001b[0m         \u001b[38;5;28;01mraise\u001b[39;00m QasmError(\u001b[38;5;124m\"\u001b[39m\u001b[38;5;124mUncaught exception in parser; \u001b[39m\u001b[38;5;124m\"\u001b[39m \u001b[38;5;241m+\u001b[39m \u001b[38;5;124m\"\u001b[39m\u001b[38;5;124msee previous messages for details.\u001b[39m\u001b[38;5;124m\"\u001b[39m)\n",
      "File \u001b[0;32m/usr/local/lib/python3.8/dist-packages/ply/yacc.py:333\u001b[0m, in \u001b[0;36mLRParser.parse\u001b[0;34m(self, input, lexer, debug, tracking, tokenfunc)\u001b[0m\n\u001b[1;32m    331\u001b[0m     \u001b[38;5;28;01mreturn\u001b[39;00m \u001b[38;5;28mself\u001b[39m\u001b[38;5;241m.\u001b[39mparseopt(\u001b[38;5;28minput\u001b[39m, lexer, debug, tracking, tokenfunc)\n\u001b[1;32m    332\u001b[0m \u001b[38;5;28;01melse\u001b[39;00m:\n\u001b[0;32m--> 333\u001b[0m     \u001b[38;5;28;01mreturn\u001b[39;00m \u001b[38;5;28;43mself\u001b[39;49m\u001b[38;5;241;43m.\u001b[39;49m\u001b[43mparseopt_notrack\u001b[49m\u001b[43m(\u001b[49m\u001b[38;5;28;43minput\u001b[39;49m\u001b[43m,\u001b[49m\u001b[43m \u001b[49m\u001b[43mlexer\u001b[49m\u001b[43m,\u001b[49m\u001b[43m \u001b[49m\u001b[43mdebug\u001b[49m\u001b[43m,\u001b[49m\u001b[43m \u001b[49m\u001b[43mtracking\u001b[49m\u001b[43m,\u001b[49m\u001b[43m \u001b[49m\u001b[43mtokenfunc\u001b[49m\u001b[43m)\u001b[49m\n",
      "File \u001b[0;32m/usr/local/lib/python3.8/dist-packages/ply/yacc.py:1120\u001b[0m, in \u001b[0;36mLRParser.parseopt_notrack\u001b[0;34m(self, input, lexer, debug, tracking, tokenfunc)\u001b[0m\n\u001b[1;32m   1118\u001b[0m \u001b[38;5;28;01mdel\u001b[39;00m symstack[\u001b[38;5;241m-\u001b[39mplen:]\n\u001b[1;32m   1119\u001b[0m \u001b[38;5;28mself\u001b[39m\u001b[38;5;241m.\u001b[39mstate \u001b[38;5;241m=\u001b[39m state\n\u001b[0;32m-> 1120\u001b[0m \u001b[43mp\u001b[49m\u001b[38;5;241;43m.\u001b[39;49m\u001b[43mcallable\u001b[49m\u001b[43m(\u001b[49m\u001b[43mpslice\u001b[49m\u001b[43m)\u001b[49m\n\u001b[1;32m   1121\u001b[0m \u001b[38;5;28;01mdel\u001b[39;00m statestack[\u001b[38;5;241m-\u001b[39mplen:]\n\u001b[1;32m   1122\u001b[0m symstack\u001b[38;5;241m.\u001b[39mappend(sym)\n",
      "File \u001b[0;32m/usr/local/lib/python3.8/dist-packages/qiskit/qasm/qasmparser.py:537\u001b[0m, in \u001b[0;36mQasmParser.p_qreg_decl\u001b[0;34m(self, program)\u001b[0m\n\u001b[1;32m    535\u001b[0m \u001b[38;5;28;01mif\u001b[39;00m program[\u001b[38;5;241m2\u001b[39m]\u001b[38;5;241m.\u001b[39mindex \u001b[38;5;241m==\u001b[39m \u001b[38;5;241m0\u001b[39m:\n\u001b[1;32m    536\u001b[0m     \u001b[38;5;28;01mraise\u001b[39;00m QasmError(\u001b[38;5;124m\"\u001b[39m\u001b[38;5;124mQREG size must be positive\u001b[39m\u001b[38;5;124m\"\u001b[39m)\n\u001b[0;32m--> 537\u001b[0m \u001b[38;5;28;43mself\u001b[39;49m\u001b[38;5;241;43m.\u001b[39;49m\u001b[43mupdate_symtab\u001b[49m\u001b[43m(\u001b[49m\u001b[43mprogram\u001b[49m\u001b[43m[\u001b[49m\u001b[38;5;241;43m0\u001b[39;49m\u001b[43m]\u001b[49m\u001b[43m)\u001b[49m\n",
      "File \u001b[0;32m/usr/local/lib/python3.8/dist-packages/qiskit/qasm/qasmparser.py:72\u001b[0m, in \u001b[0;36mQasmParser.update_symtab\u001b[0;34m(self, obj)\u001b[0m\n\u001b[1;32m     70\u001b[0m \u001b[38;5;28;01mif\u001b[39;00m obj\u001b[38;5;241m.\u001b[39mname \u001b[38;5;129;01min\u001b[39;00m \u001b[38;5;28mself\u001b[39m\u001b[38;5;241m.\u001b[39mcurrent_symtab:\n\u001b[1;32m     71\u001b[0m     prev \u001b[38;5;241m=\u001b[39m \u001b[38;5;28mself\u001b[39m\u001b[38;5;241m.\u001b[39mcurrent_symtab[obj\u001b[38;5;241m.\u001b[39mname]\n\u001b[0;32m---> 72\u001b[0m     \u001b[38;5;28;01mraise\u001b[39;00m QasmError(\n\u001b[1;32m     73\u001b[0m         \u001b[38;5;124m\"\u001b[39m\u001b[38;5;124mDuplicate declaration for\u001b[39m\u001b[38;5;124m\"\u001b[39m,\n\u001b[1;32m     74\u001b[0m         obj\u001b[38;5;241m.\u001b[39mtype \u001b[38;5;241m+\u001b[39m \u001b[38;5;124m\"\u001b[39m\u001b[38;5;124m \u001b[39m\u001b[38;5;124m'\u001b[39m\u001b[38;5;124m\"\u001b[39m \u001b[38;5;241m+\u001b[39m obj\u001b[38;5;241m.\u001b[39mname \u001b[38;5;241m+\u001b[39m \u001b[38;5;124m\"\u001b[39m\u001b[38;5;124m'\u001b[39m\u001b[38;5;124m at line\u001b[39m\u001b[38;5;124m\"\u001b[39m,\n\u001b[1;32m     75\u001b[0m         \u001b[38;5;28mstr\u001b[39m(obj\u001b[38;5;241m.\u001b[39mline) \u001b[38;5;241m+\u001b[39m \u001b[38;5;124m\"\u001b[39m\u001b[38;5;124m, file\u001b[39m\u001b[38;5;124m\"\u001b[39m,\n\u001b[1;32m     76\u001b[0m         obj\u001b[38;5;241m.\u001b[39mfile \u001b[38;5;241m+\u001b[39m \u001b[38;5;124m\"\u001b[39m\u001b[38;5;124m.\u001b[39m\u001b[38;5;130;01m\\n\u001b[39;00m\u001b[38;5;124mPrevious occurrence at line\u001b[39m\u001b[38;5;124m\"\u001b[39m,\n\u001b[1;32m     77\u001b[0m         \u001b[38;5;28mstr\u001b[39m(prev\u001b[38;5;241m.\u001b[39mline) \u001b[38;5;241m+\u001b[39m \u001b[38;5;124m\"\u001b[39m\u001b[38;5;124m, file\u001b[39m\u001b[38;5;124m\"\u001b[39m,\n\u001b[1;32m     78\u001b[0m         prev\u001b[38;5;241m.\u001b[39mfile,\n\u001b[1;32m     79\u001b[0m     )\n\u001b[1;32m     80\u001b[0m \u001b[38;5;28mself\u001b[39m\u001b[38;5;241m.\u001b[39mcurrent_symtab[obj\u001b[38;5;241m.\u001b[39mname] \u001b[38;5;241m=\u001b[39m obj\n",
      "\u001b[0;31mQasmError\u001b[0m: \"Duplicate declaration for qreg 'p' at line 4, file .\\nPrevious occurrence at line 24, file /usr/local/lib/python3.8/dist-packages/qiskit/qasm/libs/qelib1.inc\""
     ]
    }
   ],
   "source": [
    "import qiskit\n",
    "import sys\n",
    "sys.path.append('../../../aqcel_dev/aqcel_dev')\n",
    "import aqcel_dev as icepp\n",
    "import qiskit.quantum_info as qi\n",
    "\n",
    "# QASM形式のファイルからQuantumCircuitを読み込む\n",
    "with open(\"data/circuit.qasm_NQPSB\", \"r\") as f:\n",
    "    qasm_str_NQPSB = f.read()\n",
    "    # print(qasm_str_NQPSB)\n",
    "with open(\"data/circuit.qasm_NQPSA\", \"r\") as f:\n",
    "    qasm_str_NQPSA = f.read()\n",
    "\n",
    "Nstep_before_AQCEL = qiskit.QuantumCircuit.from_qasm_str(qasm_str_NQPSB)\n",
    "Nstep_after_AQCEL  = qiskit.QuantumCircuit.from_qasm_str(qasm_str_NQPSA)\n",
    "\n",
    "# QASM形式のファイルからQuantumCircuitを読み込む\n",
    "with open(\"data/circuit.qasm_OQPSB\", \"r\") as f:\n",
    "    qasm_str_OQPSB = f.r\n",
    "    ead()\n",
    "with open(\"data/circuit.qasm_OQPSA\", \"r\") as f:\n",
    "    qasm_str_OQPSA = f.read()\n",
    "\n",
    "Optimized_before_AQCEL = qiskit.QuantumCircuit.from_qasm_str(qasm_str_OQPSB)\n",
    "Optimized_after_AQCEL  = qiskit.QuantumCircuit.from_qasm_str(qasm_str_OQPSA)"
   ]
  },
  {
   "cell_type": "code",
   "execution_count": null,
   "id": "b157c754-3042-48cc-9fc2-8dfc59dba919",
   "metadata": {},
   "outputs": [],
   "source": [
    "# qc1←→qc1'\n",
    "\n",
    "statevector1 = icepp.simulator(Nstep_before_AQCEL).statevector_simulator(output='statevector')\n",
    "statevector2 = icepp.simulator(Nstep_after_AQCEL).statevector_simulator(output='statevector')\n",
    "dm1 = qi.partial_trace(statevector1,[0, 1, 2, 3, 4, 11, 12, 13, 14, 15, 16, 17, 18, 19])\n",
    "dm1.probabilities_dict()\n",
    "dm2 = qi.partial_trace(statevector2,[0, 1, 2, 3, 4, 11, 12, 13, 14, 15, 16, 17, 18, 19])\n",
    "dm2.probabilities_dict()\n",
    "\n",
    "print(f\"Fsim qc1←→qc1' = {qi.state_fidelity(dm1,dm2)}\")"
   ]
  },
  {
   "cell_type": "code",
   "execution_count": null,
   "id": "3d349843-26d6-4402-8b33-09077351acbd",
   "metadata": {},
   "outputs": [],
   "source": [
    "# qc2←→qc2'\n",
    "\n",
    "statevector1 = icepp.simulator(Optimized_before_AQCEL).statevector_simulator(output='statevector')\n",
    "statevector2 = icepp.simulator(Optimized_after_AQCEL).statevector_simulator(output='statevector')\n",
    "dm1 = qi.partial_trace(statevector1,[6, 7, 8, 9, 10])\n",
    "dm1.probabilities_dict()\n",
    "dm2 = qi.partial_trace(statevector2,[6, 7, 8, 9, 10])\n",
    "dm2.probabilities_dict()\n",
    "\n",
    "print(f\"Fsim qc2←→qc2' = {qi.state_fidelity(dm1,dm2)}\")"
   ]
  },
  {
   "cell_type": "code",
   "execution_count": null,
   "id": "646e687a-087c-4592-bbee-49856c7925ea",
   "metadata": {},
   "outputs": [],
   "source": [
    "# qc1←→qc2\n",
    "\n",
    "statevector1 = icepp.simulator(Nstep_before_AQCEL).statevector_simulator(output='statevector')\n",
    "statevector2 = icepp.simulator(Optimized_before_AQCEL).statevector_simulator(output='statevector')\n",
    "dm1 = qi.partial_trace(statevector1,[0, 1, 2, 3, 4, 11, 12, 13, 14, 15, 16, 17, 18, 19])\n",
    "dm1.probabilities_dict()\n",
    "dm2 = qi.partial_trace(statevector2,[6, 7, 8, 9, 10])\n",
    "dm2.probabilities_dict()\n",
    "\n",
    "print(f\"Fsim qc1←→qc2 = {qi.state_fidelity(dm1,dm2)}\")"
   ]
  },
  {
   "cell_type": "code",
   "execution_count": null,
   "id": "1098714d-631f-4871-ab05-54d253a98b9f",
   "metadata": {},
   "outputs": [],
   "source": [
    "# qc1'←→qc2'\n",
    "\n",
    "statevector1 = icepp.simulator(Nstep_after_AQCEL).statevector_simulator(output='statevector')\n",
    "statevector2 = icepp.simulator(Optimized_after_AQCEL).statevector_simulator(output='statevector')\n",
    "dm1 = qi.partial_trace(statevector1,[0, 1, 2, 3, 4, 11, 12, 13, 14, 15, 16, 17, 18, 19])\n",
    "dm1.probabilities_dict()\n",
    "dm2 = qi.partial_trace(statevector2,[6, 7, 8, 9, 10])\n",
    "dm2.probabilities_dict()\n",
    "\n",
    "print(f\"Fsim qc1'←→qc2' = {qi.state_fidelity(dm1,dm2)}\")"
   ]
  },
  {
   "cell_type": "code",
   "execution_count": 1,
   "id": "0bdbccc0-35a5-4a7f-91c2-a2b8df98327d",
   "metadata": {},
   "outputs": [
    {
     "ename": "NameError",
     "evalue": "name 'Nstep_before_AQCEL' is not defined",
     "output_type": "error",
     "traceback": [
      "\u001b[0;31m---------------------------------------------------------------------------\u001b[0m",
      "\u001b[0;31mNameError\u001b[0m                                 Traceback (most recent call last)",
      "Cell \u001b[0;32mIn [1], line 39\u001b[0m\n\u001b[1;32m     36\u001b[0m     \u001b[38;5;28;01mreturn\u001b[39;00m state_fidelity(rho1, rho2)\n\u001b[1;32m     38\u001b[0m \u001b[38;5;66;03m# 部分フィデリティのテーブルを作成\u001b[39;00m\n\u001b[0;32m---> 39\u001b[0m circuits \u001b[38;5;241m=\u001b[39m [\u001b[43mNstep_before_AQCEL\u001b[49m, Nstep_after_AQCEL, Optimized_before_AQCEL, Optimized_after_AQCEL]\n\u001b[1;32m     40\u001b[0m names \u001b[38;5;241m=\u001b[39m [\u001b[38;5;124m'\u001b[39m\u001b[38;5;124mNQPSB\u001b[39m\u001b[38;5;124m'\u001b[39m, \u001b[38;5;124m'\u001b[39m\u001b[38;5;124mNQPSA\u001b[39m\u001b[38;5;124m'\u001b[39m, \u001b[38;5;124m'\u001b[39m\u001b[38;5;124mOQPSB\u001b[39m\u001b[38;5;124m'\u001b[39m, \u001b[38;5;124m'\u001b[39m\u001b[38;5;124mOQPSA\u001b[39m\u001b[38;5;124m'\u001b[39m]\n\u001b[1;32m     41\u001b[0m num_qubits_list \u001b[38;5;241m=\u001b[39m [\u001b[38;5;241m5\u001b[39m, \u001b[38;5;241m7\u001b[39m, \u001b[38;5;241m8\u001b[39m, \u001b[38;5;241m2\u001b[39m]\n",
      "\u001b[0;31mNameError\u001b[0m: name 'Nstep_before_AQCEL' is not defined"
     ]
    }
   ],
   "source": [
    "from qiskit import Aer\n",
    "from qiskit.quantum_info import state_fidelity, DensityMatrix, partial_trace\n",
    "\n",
    "# QuantumCircuitの例\n",
    "qc1 = qiskit.QuantumCircuit(5)\n",
    "qc1.h(0)\n",
    "qc1.cx(0, 1)\n",
    "\n",
    "qc2 = qiskit.QuantumCircuit(7)\n",
    "qc2.x(0)\n",
    "qc2.h(1)\n",
    "\n",
    "qc3 = qiskit.QuantumCircuit(8)\n",
    "qc3.y(0)\n",
    "qc3.y(1)\n",
    "\n",
    "qc4 = qiskit.QuantumCircuit(2)\n",
    "qc4.z(0)\n",
    "qc4.h(1)\n",
    "\n",
    "# 与えられたQuantumCircuitから最終状態ベクトルを取得する関数\n",
    "def get_final_state(qc):\n",
    "    backend = Aer.get_backend('statevector_simulator')\n",
    "    job = qiskit.execute(qc, backend)\n",
    "    return job.result().get_statevector(qc)\n",
    "\n",
    "# 2番目のビットに対する部分フィデリティを計算する関数\n",
    "def partial_fidelity(state1, state2, num_qubits1, num_qubits2):\n",
    "    # 対象の量子ビット以外をトレースアウトする\n",
    "    trace_out_qubits1 = list(set(range(num_qubits1)) - {1})\n",
    "    trace_out_qubits2 = list(set(range(num_qubits2)) - {1})\n",
    "    \n",
    "    rho1 = partial_trace(DensityMatrix(state1), trace_out_qubits1)\n",
    "    rho2 = partial_trace(DensityMatrix(state2), trace_out_qubits2)\n",
    "    return state_fidelity(rho1, rho2)\n",
    "\n",
    "# 部分フィデリティのテーブルを作成\n",
    "circuits = [Nstep_before_AQCEL, Nstep_after_AQCEL, Optimized_before_AQCEL, Optimized_after_AQCEL]\n",
    "names = ['NQPSB', 'NQPSA', 'OQPSB', 'OQPSA']\n",
    "num_qubits_list = [5, 7, 8, 2]\n",
    "\n",
    "states = [get_final_state(qc) for qc in circuits]\n",
    "\n",
    "fidelities = [[partial_fidelity(states[i], states[j], num_qubits_list[i], num_qubits_list[j]) for j in range(4)] for i in range(4)]\n",
    "\n",
    "# テーブルを表示\n",
    "print(\"    \", end=\"\")\n",
    "for name in names:\n",
    "    print(name, end=\"    \")\n",
    "print()\n",
    "\n",
    "for i in range(4):\n",
    "    print(names[i], end=\" \")\n",
    "    for j in range(4):\n",
    "        print(\"{:.4f}\".format(fidelities[i][j]), end=\"  \")\n",
    "    print()\n"
   ]
  },
  {
   "cell_type": "code",
   "execution_count": null,
   "id": "21b031da-b858-4017-be34-5486debcd983",
   "metadata": {},
   "outputs": [],
   "source": []
  }
 ],
 "metadata": {
  "kernelspec": {
   "display_name": "Python 3 (ipykernel)",
   "language": "python",
   "name": "python3"
  },
  "language_info": {
   "codemirror_mode": {
    "name": "ipython",
    "version": 3
   },
   "file_extension": ".py",
   "mimetype": "text/x-python",
   "name": "python",
   "nbconvert_exporter": "python",
   "pygments_lexer": "ipython3",
   "version": "3.8.10"
  }
 },
 "nbformat": 4,
 "nbformat_minor": 5
}
